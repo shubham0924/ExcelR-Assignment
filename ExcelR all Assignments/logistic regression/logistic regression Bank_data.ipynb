{
 "cells": [
  {
   "cell_type": "code",
   "execution_count": 1,
   "id": "15f657f4",
   "metadata": {},
   "outputs": [],
   "source": [
    "import pandas  as pd\n",
    "import numpy as np \n",
    "import seaborn as  sns\n",
    "from sklearn.linear_model import LogisticRegression "
   ]
  },
  {
   "cell_type": "code",
   "execution_count": 6,
   "id": "734c0dac",
   "metadata": {},
   "outputs": [],
   "source": [
    "data = pd.read_csv(\"C:\\\\Users\\\\INDIA\\\\Downloads\\\\Assignment csv file\\\\bank_data.csv\")"
   ]
  },
  {
   "cell_type": "code",
   "execution_count": 7,
   "id": "a0f8d5a7",
   "metadata": {},
   "outputs": [
    {
     "data": {
      "text/html": [
       "<div>\n",
       "<style scoped>\n",
       "    .dataframe tbody tr th:only-of-type {\n",
       "        vertical-align: middle;\n",
       "    }\n",
       "\n",
       "    .dataframe tbody tr th {\n",
       "        vertical-align: top;\n",
       "    }\n",
       "\n",
       "    .dataframe thead th {\n",
       "        text-align: right;\n",
       "    }\n",
       "</style>\n",
       "<table border=\"1\" class=\"dataframe\">\n",
       "  <thead>\n",
       "    <tr style=\"text-align: right;\">\n",
       "      <th></th>\n",
       "      <th>age</th>\n",
       "      <th>default</th>\n",
       "      <th>balance</th>\n",
       "      <th>housing</th>\n",
       "      <th>loan</th>\n",
       "      <th>duration</th>\n",
       "      <th>campaign</th>\n",
       "      <th>pdays</th>\n",
       "      <th>previous</th>\n",
       "      <th>poutfailure</th>\n",
       "      <th>...</th>\n",
       "      <th>johousemaid</th>\n",
       "      <th>jomanagement</th>\n",
       "      <th>joretired</th>\n",
       "      <th>joself.employed</th>\n",
       "      <th>joservices</th>\n",
       "      <th>jostudent</th>\n",
       "      <th>jotechnician</th>\n",
       "      <th>jounemployed</th>\n",
       "      <th>jounknown</th>\n",
       "      <th>y</th>\n",
       "    </tr>\n",
       "  </thead>\n",
       "  <tbody>\n",
       "    <tr>\n",
       "      <th>0</th>\n",
       "      <td>58</td>\n",
       "      <td>0</td>\n",
       "      <td>2143</td>\n",
       "      <td>1</td>\n",
       "      <td>0</td>\n",
       "      <td>261</td>\n",
       "      <td>1</td>\n",
       "      <td>-1</td>\n",
       "      <td>0</td>\n",
       "      <td>0</td>\n",
       "      <td>...</td>\n",
       "      <td>0</td>\n",
       "      <td>1</td>\n",
       "      <td>0</td>\n",
       "      <td>0</td>\n",
       "      <td>0</td>\n",
       "      <td>0</td>\n",
       "      <td>0</td>\n",
       "      <td>0</td>\n",
       "      <td>0</td>\n",
       "      <td>0</td>\n",
       "    </tr>\n",
       "    <tr>\n",
       "      <th>1</th>\n",
       "      <td>44</td>\n",
       "      <td>0</td>\n",
       "      <td>29</td>\n",
       "      <td>1</td>\n",
       "      <td>0</td>\n",
       "      <td>151</td>\n",
       "      <td>1</td>\n",
       "      <td>-1</td>\n",
       "      <td>0</td>\n",
       "      <td>0</td>\n",
       "      <td>...</td>\n",
       "      <td>0</td>\n",
       "      <td>0</td>\n",
       "      <td>0</td>\n",
       "      <td>0</td>\n",
       "      <td>0</td>\n",
       "      <td>0</td>\n",
       "      <td>1</td>\n",
       "      <td>0</td>\n",
       "      <td>0</td>\n",
       "      <td>0</td>\n",
       "    </tr>\n",
       "    <tr>\n",
       "      <th>2</th>\n",
       "      <td>33</td>\n",
       "      <td>0</td>\n",
       "      <td>2</td>\n",
       "      <td>1</td>\n",
       "      <td>1</td>\n",
       "      <td>76</td>\n",
       "      <td>1</td>\n",
       "      <td>-1</td>\n",
       "      <td>0</td>\n",
       "      <td>0</td>\n",
       "      <td>...</td>\n",
       "      <td>0</td>\n",
       "      <td>0</td>\n",
       "      <td>0</td>\n",
       "      <td>0</td>\n",
       "      <td>0</td>\n",
       "      <td>0</td>\n",
       "      <td>0</td>\n",
       "      <td>0</td>\n",
       "      <td>0</td>\n",
       "      <td>0</td>\n",
       "    </tr>\n",
       "    <tr>\n",
       "      <th>3</th>\n",
       "      <td>47</td>\n",
       "      <td>0</td>\n",
       "      <td>1506</td>\n",
       "      <td>1</td>\n",
       "      <td>0</td>\n",
       "      <td>92</td>\n",
       "      <td>1</td>\n",
       "      <td>-1</td>\n",
       "      <td>0</td>\n",
       "      <td>0</td>\n",
       "      <td>...</td>\n",
       "      <td>0</td>\n",
       "      <td>0</td>\n",
       "      <td>0</td>\n",
       "      <td>0</td>\n",
       "      <td>0</td>\n",
       "      <td>0</td>\n",
       "      <td>0</td>\n",
       "      <td>0</td>\n",
       "      <td>0</td>\n",
       "      <td>0</td>\n",
       "    </tr>\n",
       "    <tr>\n",
       "      <th>4</th>\n",
       "      <td>33</td>\n",
       "      <td>0</td>\n",
       "      <td>1</td>\n",
       "      <td>0</td>\n",
       "      <td>0</td>\n",
       "      <td>198</td>\n",
       "      <td>1</td>\n",
       "      <td>-1</td>\n",
       "      <td>0</td>\n",
       "      <td>0</td>\n",
       "      <td>...</td>\n",
       "      <td>0</td>\n",
       "      <td>0</td>\n",
       "      <td>0</td>\n",
       "      <td>0</td>\n",
       "      <td>0</td>\n",
       "      <td>0</td>\n",
       "      <td>0</td>\n",
       "      <td>0</td>\n",
       "      <td>1</td>\n",
       "      <td>0</td>\n",
       "    </tr>\n",
       "    <tr>\n",
       "      <th>...</th>\n",
       "      <td>...</td>\n",
       "      <td>...</td>\n",
       "      <td>...</td>\n",
       "      <td>...</td>\n",
       "      <td>...</td>\n",
       "      <td>...</td>\n",
       "      <td>...</td>\n",
       "      <td>...</td>\n",
       "      <td>...</td>\n",
       "      <td>...</td>\n",
       "      <td>...</td>\n",
       "      <td>...</td>\n",
       "      <td>...</td>\n",
       "      <td>...</td>\n",
       "      <td>...</td>\n",
       "      <td>...</td>\n",
       "      <td>...</td>\n",
       "      <td>...</td>\n",
       "      <td>...</td>\n",
       "      <td>...</td>\n",
       "      <td>...</td>\n",
       "    </tr>\n",
       "    <tr>\n",
       "      <th>45206</th>\n",
       "      <td>51</td>\n",
       "      <td>0</td>\n",
       "      <td>825</td>\n",
       "      <td>0</td>\n",
       "      <td>0</td>\n",
       "      <td>977</td>\n",
       "      <td>3</td>\n",
       "      <td>-1</td>\n",
       "      <td>0</td>\n",
       "      <td>0</td>\n",
       "      <td>...</td>\n",
       "      <td>0</td>\n",
       "      <td>0</td>\n",
       "      <td>0</td>\n",
       "      <td>0</td>\n",
       "      <td>0</td>\n",
       "      <td>0</td>\n",
       "      <td>1</td>\n",
       "      <td>0</td>\n",
       "      <td>0</td>\n",
       "      <td>1</td>\n",
       "    </tr>\n",
       "    <tr>\n",
       "      <th>45207</th>\n",
       "      <td>71</td>\n",
       "      <td>0</td>\n",
       "      <td>1729</td>\n",
       "      <td>0</td>\n",
       "      <td>0</td>\n",
       "      <td>456</td>\n",
       "      <td>2</td>\n",
       "      <td>-1</td>\n",
       "      <td>0</td>\n",
       "      <td>0</td>\n",
       "      <td>...</td>\n",
       "      <td>0</td>\n",
       "      <td>0</td>\n",
       "      <td>1</td>\n",
       "      <td>0</td>\n",
       "      <td>0</td>\n",
       "      <td>0</td>\n",
       "      <td>0</td>\n",
       "      <td>0</td>\n",
       "      <td>0</td>\n",
       "      <td>1</td>\n",
       "    </tr>\n",
       "    <tr>\n",
       "      <th>45208</th>\n",
       "      <td>72</td>\n",
       "      <td>0</td>\n",
       "      <td>5715</td>\n",
       "      <td>0</td>\n",
       "      <td>0</td>\n",
       "      <td>1127</td>\n",
       "      <td>5</td>\n",
       "      <td>184</td>\n",
       "      <td>3</td>\n",
       "      <td>0</td>\n",
       "      <td>...</td>\n",
       "      <td>0</td>\n",
       "      <td>0</td>\n",
       "      <td>1</td>\n",
       "      <td>0</td>\n",
       "      <td>0</td>\n",
       "      <td>0</td>\n",
       "      <td>0</td>\n",
       "      <td>0</td>\n",
       "      <td>0</td>\n",
       "      <td>1</td>\n",
       "    </tr>\n",
       "    <tr>\n",
       "      <th>45209</th>\n",
       "      <td>57</td>\n",
       "      <td>0</td>\n",
       "      <td>668</td>\n",
       "      <td>0</td>\n",
       "      <td>0</td>\n",
       "      <td>508</td>\n",
       "      <td>4</td>\n",
       "      <td>-1</td>\n",
       "      <td>0</td>\n",
       "      <td>0</td>\n",
       "      <td>...</td>\n",
       "      <td>0</td>\n",
       "      <td>0</td>\n",
       "      <td>0</td>\n",
       "      <td>0</td>\n",
       "      <td>0</td>\n",
       "      <td>0</td>\n",
       "      <td>0</td>\n",
       "      <td>0</td>\n",
       "      <td>0</td>\n",
       "      <td>0</td>\n",
       "    </tr>\n",
       "    <tr>\n",
       "      <th>45210</th>\n",
       "      <td>37</td>\n",
       "      <td>0</td>\n",
       "      <td>2971</td>\n",
       "      <td>0</td>\n",
       "      <td>0</td>\n",
       "      <td>361</td>\n",
       "      <td>2</td>\n",
       "      <td>188</td>\n",
       "      <td>11</td>\n",
       "      <td>0</td>\n",
       "      <td>...</td>\n",
       "      <td>0</td>\n",
       "      <td>0</td>\n",
       "      <td>0</td>\n",
       "      <td>0</td>\n",
       "      <td>0</td>\n",
       "      <td>0</td>\n",
       "      <td>0</td>\n",
       "      <td>0</td>\n",
       "      <td>0</td>\n",
       "      <td>0</td>\n",
       "    </tr>\n",
       "  </tbody>\n",
       "</table>\n",
       "<p>45211 rows × 32 columns</p>\n",
       "</div>"
      ],
      "text/plain": [
       "       age  default  balance  housing  loan  duration  campaign  pdays  \\\n",
       "0       58        0     2143        1     0       261         1     -1   \n",
       "1       44        0       29        1     0       151         1     -1   \n",
       "2       33        0        2        1     1        76         1     -1   \n",
       "3       47        0     1506        1     0        92         1     -1   \n",
       "4       33        0        1        0     0       198         1     -1   \n",
       "...    ...      ...      ...      ...   ...       ...       ...    ...   \n",
       "45206   51        0      825        0     0       977         3     -1   \n",
       "45207   71        0     1729        0     0       456         2     -1   \n",
       "45208   72        0     5715        0     0      1127         5    184   \n",
       "45209   57        0      668        0     0       508         4     -1   \n",
       "45210   37        0     2971        0     0       361         2    188   \n",
       "\n",
       "       previous  poutfailure  ...  johousemaid  jomanagement  joretired  \\\n",
       "0             0            0  ...            0             1          0   \n",
       "1             0            0  ...            0             0          0   \n",
       "2             0            0  ...            0             0          0   \n",
       "3             0            0  ...            0             0          0   \n",
       "4             0            0  ...            0             0          0   \n",
       "...         ...          ...  ...          ...           ...        ...   \n",
       "45206         0            0  ...            0             0          0   \n",
       "45207         0            0  ...            0             0          1   \n",
       "45208         3            0  ...            0             0          1   \n",
       "45209         0            0  ...            0             0          0   \n",
       "45210        11            0  ...            0             0          0   \n",
       "\n",
       "       joself.employed  joservices  jostudent  jotechnician  jounemployed  \\\n",
       "0                    0           0          0             0             0   \n",
       "1                    0           0          0             1             0   \n",
       "2                    0           0          0             0             0   \n",
       "3                    0           0          0             0             0   \n",
       "4                    0           0          0             0             0   \n",
       "...                ...         ...        ...           ...           ...   \n",
       "45206                0           0          0             1             0   \n",
       "45207                0           0          0             0             0   \n",
       "45208                0           0          0             0             0   \n",
       "45209                0           0          0             0             0   \n",
       "45210                0           0          0             0             0   \n",
       "\n",
       "       jounknown  y  \n",
       "0              0  0  \n",
       "1              0  0  \n",
       "2              0  0  \n",
       "3              0  0  \n",
       "4              1  0  \n",
       "...          ... ..  \n",
       "45206          0  1  \n",
       "45207          0  1  \n",
       "45208          0  1  \n",
       "45209          0  0  \n",
       "45210          0  0  \n",
       "\n",
       "[45211 rows x 32 columns]"
      ]
     },
     "execution_count": 7,
     "metadata": {},
     "output_type": "execute_result"
    }
   ],
   "source": [
    "data"
   ]
  },
  {
   "cell_type": "code",
   "execution_count": 8,
   "id": "7bb26189",
   "metadata": {},
   "outputs": [
    {
     "data": {
      "text/plain": [
       "(45211, 32)"
      ]
     },
     "execution_count": 8,
     "metadata": {},
     "output_type": "execute_result"
    }
   ],
   "source": [
    "data.shape"
   ]
  },
  {
   "cell_type": "code",
   "execution_count": 10,
   "id": "805761be",
   "metadata": {},
   "outputs": [
    {
     "data": {
      "text/plain": [
       "Index(['age', 'default', 'balance', 'housing', 'loan', 'duration', 'campaign',\n",
       "       'pdays', 'previous', 'poutfailure', 'poutother', 'poutsuccess',\n",
       "       'poutunknown', 'con_cellular', 'con_telephone', 'con_unknown',\n",
       "       'divorced', 'married', 'single', 'joadmin.', 'joblue.collar',\n",
       "       'joentrepreneur', 'johousemaid', 'jomanagement', 'joretired',\n",
       "       'joself.employed', 'joservices', 'jostudent', 'jotechnician',\n",
       "       'jounemployed', 'jounknown', 'y'],\n",
       "      dtype='object')"
      ]
     },
     "execution_count": 10,
     "metadata": {},
     "output_type": "execute_result"
    }
   ],
   "source": [
    "data.columns"
   ]
  },
  {
   "cell_type": "code",
   "execution_count": 11,
   "id": "06b4fea9",
   "metadata": {},
   "outputs": [
    {
     "data": {
      "text/plain": [
       "age                int64\n",
       "default            int64\n",
       "balance            int64\n",
       "housing            int64\n",
       "loan               int64\n",
       "duration           int64\n",
       "campaign           int64\n",
       "pdays              int64\n",
       "previous           int64\n",
       "poutfailure        int64\n",
       "poutother          int64\n",
       "poutsuccess        int64\n",
       "poutunknown        int64\n",
       "con_cellular       int64\n",
       "con_telephone      int64\n",
       "con_unknown        int64\n",
       "divorced           int64\n",
       "married            int64\n",
       "single             int64\n",
       "joadmin.           int64\n",
       "joblue.collar      int64\n",
       "joentrepreneur     int64\n",
       "johousemaid        int64\n",
       "jomanagement       int64\n",
       "joretired          int64\n",
       "joself.employed    int64\n",
       "joservices         int64\n",
       "jostudent          int64\n",
       "jotechnician       int64\n",
       "jounemployed       int64\n",
       "jounknown          int64\n",
       "y                  int64\n",
       "dtype: object"
      ]
     },
     "execution_count": 11,
     "metadata": {},
     "output_type": "execute_result"
    }
   ],
   "source": [
    "data.dtypes"
   ]
  },
  {
   "cell_type": "code",
   "execution_count": 12,
   "id": "9e0aca6d",
   "metadata": {},
   "outputs": [
    {
     "data": {
      "text/plain": [
       "age                  40.936210\n",
       "default               0.018027\n",
       "balance            1362.272058\n",
       "housing               0.555838\n",
       "loan                  0.160226\n",
       "duration            258.163080\n",
       "campaign              2.763841\n",
       "pdays                40.197828\n",
       "previous              0.580323\n",
       "poutfailure           0.108403\n",
       "poutother             0.040698\n",
       "poutsuccess           0.033421\n",
       "poutunknown           0.817478\n",
       "con_cellular          0.647741\n",
       "con_telephone         0.064276\n",
       "con_unknown           0.287983\n",
       "divorced              0.115171\n",
       "married               0.601933\n",
       "single                0.282896\n",
       "joadmin.              0.114375\n",
       "joblue.collar         0.215257\n",
       "joentrepreneur        0.032890\n",
       "johousemaid           0.027427\n",
       "jomanagement          0.209197\n",
       "joretired             0.050076\n",
       "joself.employed       0.034925\n",
       "joservices            0.091880\n",
       "jostudent             0.020747\n",
       "jotechnician          0.168034\n",
       "jounemployed          0.028820\n",
       "jounknown             0.006370\n",
       "y                     0.116985\n",
       "dtype: float64"
      ]
     },
     "execution_count": 12,
     "metadata": {},
     "output_type": "execute_result"
    }
   ],
   "source": [
    "data.mean(\n",
    ")"
   ]
  },
  {
   "cell_type": "code",
   "execution_count": 13,
   "id": "89a1fc64",
   "metadata": {},
   "outputs": [
    {
     "data": {
      "text/plain": [
       "age                 39.0\n",
       "default              0.0\n",
       "balance            448.0\n",
       "housing              1.0\n",
       "loan                 0.0\n",
       "duration           180.0\n",
       "campaign             2.0\n",
       "pdays               -1.0\n",
       "previous             0.0\n",
       "poutfailure          0.0\n",
       "poutother            0.0\n",
       "poutsuccess          0.0\n",
       "poutunknown          1.0\n",
       "con_cellular         1.0\n",
       "con_telephone        0.0\n",
       "con_unknown          0.0\n",
       "divorced             0.0\n",
       "married              1.0\n",
       "single               0.0\n",
       "joadmin.             0.0\n",
       "joblue.collar        0.0\n",
       "joentrepreneur       0.0\n",
       "johousemaid          0.0\n",
       "jomanagement         0.0\n",
       "joretired            0.0\n",
       "joself.employed      0.0\n",
       "joservices           0.0\n",
       "jostudent            0.0\n",
       "jotechnician         0.0\n",
       "jounemployed         0.0\n",
       "jounknown            0.0\n",
       "y                    0.0\n",
       "dtype: float64"
      ]
     },
     "execution_count": 13,
     "metadata": {},
     "output_type": "execute_result"
    }
   ],
   "source": [
    "data.median()"
   ]
  },
  {
   "cell_type": "code",
   "execution_count": 14,
   "id": "e8aeb042",
   "metadata": {},
   "outputs": [
    {
     "data": {
      "text/plain": [
       "age                1.127581e+02\n",
       "default            1.770202e-02\n",
       "balance            9.270599e+06\n",
       "housing            2.468876e-01\n",
       "loan               1.345569e-01\n",
       "duration           6.632057e+04\n",
       "campaign           9.597733e+00\n",
       "pdays              1.002577e+04\n",
       "previous           5.305841e+00\n",
       "poutfailure        9.665379e-02\n",
       "poutother          3.904259e-02\n",
       "poutsuccess        3.230482e-02\n",
       "poutunknown        1.492110e-01\n",
       "con_cellular       2.281778e-01\n",
       "con_telephone      6.014627e-02\n",
       "con_unknown        2.050533e-01\n",
       "divorced           1.019090e-01\n",
       "married            2.396149e-01\n",
       "single             2.028702e-01\n",
       "joadmin.           1.012955e-01\n",
       "joblue.collar      1.689254e-01\n",
       "joentrepreneur     3.180916e-02\n",
       "johousemaid        2.667531e-02\n",
       "jomanagement       1.654372e-01\n",
       "joretired          4.756972e-02\n",
       "joself.employed    3.370611e-02\n",
       "joservices         8.344015e-02\n",
       "jostudent          2.031717e-02\n",
       "jotechnician       1.398019e-01\n",
       "jounemployed       2.799042e-02\n",
       "jounknown          6.329693e-03\n",
       "y                  1.033016e-01\n",
       "dtype: float64"
      ]
     },
     "execution_count": 14,
     "metadata": {},
     "output_type": "execute_result"
    }
   ],
   "source": [
    "data.var()"
   ]
  },
  {
   "cell_type": "code",
   "execution_count": 15,
   "id": "063c9573",
   "metadata": {},
   "outputs": [
    {
     "data": {
      "text/plain": [
       "age                  10.618762\n",
       "default               0.133049\n",
       "balance            3044.765829\n",
       "housing               0.496878\n",
       "loan                  0.366820\n",
       "duration            257.527812\n",
       "campaign              3.098021\n",
       "pdays               100.128746\n",
       "previous              2.303441\n",
       "poutfailure           0.310892\n",
       "poutother             0.197592\n",
       "poutsuccess           0.179735\n",
       "poutunknown           0.386278\n",
       "con_cellular          0.477680\n",
       "con_telephone         0.245247\n",
       "con_unknown           0.452828\n",
       "divorced              0.319232\n",
       "married               0.489505\n",
       "single                0.450411\n",
       "joadmin.              0.318269\n",
       "joblue.collar         0.411005\n",
       "joentrepreneur        0.178351\n",
       "johousemaid           0.163326\n",
       "jomanagement          0.406740\n",
       "joretired             0.218105\n",
       "joself.employed       0.183592\n",
       "joservices            0.288860\n",
       "jostudent             0.142538\n",
       "jotechnician          0.373901\n",
       "jounemployed          0.167303\n",
       "jounknown             0.079559\n",
       "y                     0.321406\n",
       "dtype: float64"
      ]
     },
     "execution_count": 15,
     "metadata": {},
     "output_type": "execute_result"
    }
   ],
   "source": [
    "data.std()"
   ]
  },
  {
   "cell_type": "code",
   "execution_count": 16,
   "id": "b54926bb",
   "metadata": {},
   "outputs": [
    {
     "data": {
      "text/plain": [
       "age                 0.684818\n",
       "default             7.245375\n",
       "balance             8.360308\n",
       "housing            -0.224766\n",
       "loan                1.852617\n",
       "duration            3.144318\n",
       "campaign            4.898650\n",
       "pdays               2.615715\n",
       "previous           41.846454\n",
       "poutfailure         2.519297\n",
       "poutother           4.649199\n",
       "poutsuccess         5.192072\n",
       "poutunknown        -1.643851\n",
       "con_cellular       -0.618604\n",
       "con_telephone       3.553497\n",
       "con_unknown         0.936454\n",
       "divorced            2.411075\n",
       "married            -0.416493\n",
       "single              0.964070\n",
       "joadmin.            2.423369\n",
       "joblue.collar       1.385652\n",
       "joentrepreneur      5.238320\n",
       "johousemaid         5.787133\n",
       "jomanagement        1.429986\n",
       "joretired           4.125939\n",
       "joself.employed     5.066613\n",
       "joservices          2.825851\n",
       "jostudent           6.724846\n",
       "jotechnician        1.775767\n",
       "jounemployed        5.632886\n",
       "jounknown          12.409644\n",
       "y                   2.383480\n",
       "dtype: float64"
      ]
     },
     "execution_count": 16,
     "metadata": {},
     "output_type": "execute_result"
    }
   ],
   "source": [
    "data.skew()"
   ]
  },
  {
   "cell_type": "code",
   "execution_count": 17,
   "id": "93dbb1d3",
   "metadata": {},
   "outputs": [
    {
     "data": {
      "text/plain": [
       "age                   0.319570\n",
       "default              50.497694\n",
       "balance             140.751547\n",
       "housing              -1.949566\n",
       "loan                  1.432253\n",
       "duration             18.153915\n",
       "campaign             39.249651\n",
       "pdays                 6.935195\n",
       "previous           4506.860660\n",
       "poutfailure           4.347048\n",
       "poutother            19.615922\n",
       "poutsuccess          24.958714\n",
       "poutunknown           0.702278\n",
       "con_cellular         -1.617401\n",
       "con_telephone        10.627811\n",
       "con_unknown          -1.123104\n",
       "divorced              3.813451\n",
       "married              -1.826614\n",
       "single               -1.070617\n",
       "joadmin.              3.872890\n",
       "joblue.collar        -0.079971\n",
       "joentrepreneur       25.441124\n",
       "johousemaid          31.492300\n",
       "jomanagement          0.044861\n",
       "joretired            15.024033\n",
       "joself.employed      23.671618\n",
       "joservices            5.985698\n",
       "jostudent            43.225460\n",
       "jotechnician          1.153398\n",
       "jounemployed         29.730717\n",
       "jounknown           152.005993\n",
       "y                     3.681142\n",
       "dtype: float64"
      ]
     },
     "execution_count": 17,
     "metadata": {},
     "output_type": "execute_result"
    }
   ],
   "source": [
    "data.kurt()"
   ]
  },
  {
   "cell_type": "code",
   "execution_count": 18,
   "id": "51618a88",
   "metadata": {},
   "outputs": [
    {
     "data": {
      "text/html": [
       "<div>\n",
       "<style scoped>\n",
       "    .dataframe tbody tr th:only-of-type {\n",
       "        vertical-align: middle;\n",
       "    }\n",
       "\n",
       "    .dataframe tbody tr th {\n",
       "        vertical-align: top;\n",
       "    }\n",
       "\n",
       "    .dataframe thead th {\n",
       "        text-align: right;\n",
       "    }\n",
       "</style>\n",
       "<table border=\"1\" class=\"dataframe\">\n",
       "  <thead>\n",
       "    <tr style=\"text-align: right;\">\n",
       "      <th></th>\n",
       "      <th>age</th>\n",
       "      <th>default</th>\n",
       "      <th>balance</th>\n",
       "      <th>housing</th>\n",
       "      <th>loan</th>\n",
       "      <th>duration</th>\n",
       "      <th>campaign</th>\n",
       "      <th>pdays</th>\n",
       "      <th>previous</th>\n",
       "      <th>poutfailure</th>\n",
       "      <th>...</th>\n",
       "      <th>johousemaid</th>\n",
       "      <th>jomanagement</th>\n",
       "      <th>joretired</th>\n",
       "      <th>joself.employed</th>\n",
       "      <th>joservices</th>\n",
       "      <th>jostudent</th>\n",
       "      <th>jotechnician</th>\n",
       "      <th>jounemployed</th>\n",
       "      <th>jounknown</th>\n",
       "      <th>y</th>\n",
       "    </tr>\n",
       "  </thead>\n",
       "  <tbody>\n",
       "    <tr>\n",
       "      <th>count</th>\n",
       "      <td>45211.000000</td>\n",
       "      <td>45211.000000</td>\n",
       "      <td>45211.000000</td>\n",
       "      <td>45211.000000</td>\n",
       "      <td>45211.000000</td>\n",
       "      <td>45211.000000</td>\n",
       "      <td>45211.000000</td>\n",
       "      <td>45211.000000</td>\n",
       "      <td>45211.000000</td>\n",
       "      <td>45211.000000</td>\n",
       "      <td>...</td>\n",
       "      <td>45211.000000</td>\n",
       "      <td>45211.000000</td>\n",
       "      <td>45211.000000</td>\n",
       "      <td>45211.000000</td>\n",
       "      <td>45211.00000</td>\n",
       "      <td>45211.000000</td>\n",
       "      <td>45211.000000</td>\n",
       "      <td>45211.000000</td>\n",
       "      <td>45211.000000</td>\n",
       "      <td>45211.000000</td>\n",
       "    </tr>\n",
       "    <tr>\n",
       "      <th>mean</th>\n",
       "      <td>40.936210</td>\n",
       "      <td>0.018027</td>\n",
       "      <td>1362.272058</td>\n",
       "      <td>0.555838</td>\n",
       "      <td>0.160226</td>\n",
       "      <td>258.163080</td>\n",
       "      <td>2.763841</td>\n",
       "      <td>40.197828</td>\n",
       "      <td>0.580323</td>\n",
       "      <td>0.108403</td>\n",
       "      <td>...</td>\n",
       "      <td>0.027427</td>\n",
       "      <td>0.209197</td>\n",
       "      <td>0.050076</td>\n",
       "      <td>0.034925</td>\n",
       "      <td>0.09188</td>\n",
       "      <td>0.020747</td>\n",
       "      <td>0.168034</td>\n",
       "      <td>0.028820</td>\n",
       "      <td>0.006370</td>\n",
       "      <td>0.116985</td>\n",
       "    </tr>\n",
       "    <tr>\n",
       "      <th>std</th>\n",
       "      <td>10.618762</td>\n",
       "      <td>0.133049</td>\n",
       "      <td>3044.765829</td>\n",
       "      <td>0.496878</td>\n",
       "      <td>0.366820</td>\n",
       "      <td>257.527812</td>\n",
       "      <td>3.098021</td>\n",
       "      <td>100.128746</td>\n",
       "      <td>2.303441</td>\n",
       "      <td>0.310892</td>\n",
       "      <td>...</td>\n",
       "      <td>0.163326</td>\n",
       "      <td>0.406740</td>\n",
       "      <td>0.218105</td>\n",
       "      <td>0.183592</td>\n",
       "      <td>0.28886</td>\n",
       "      <td>0.142538</td>\n",
       "      <td>0.373901</td>\n",
       "      <td>0.167303</td>\n",
       "      <td>0.079559</td>\n",
       "      <td>0.321406</td>\n",
       "    </tr>\n",
       "    <tr>\n",
       "      <th>min</th>\n",
       "      <td>18.000000</td>\n",
       "      <td>0.000000</td>\n",
       "      <td>-8019.000000</td>\n",
       "      <td>0.000000</td>\n",
       "      <td>0.000000</td>\n",
       "      <td>0.000000</td>\n",
       "      <td>1.000000</td>\n",
       "      <td>-1.000000</td>\n",
       "      <td>0.000000</td>\n",
       "      <td>0.000000</td>\n",
       "      <td>...</td>\n",
       "      <td>0.000000</td>\n",
       "      <td>0.000000</td>\n",
       "      <td>0.000000</td>\n",
       "      <td>0.000000</td>\n",
       "      <td>0.00000</td>\n",
       "      <td>0.000000</td>\n",
       "      <td>0.000000</td>\n",
       "      <td>0.000000</td>\n",
       "      <td>0.000000</td>\n",
       "      <td>0.000000</td>\n",
       "    </tr>\n",
       "    <tr>\n",
       "      <th>25%</th>\n",
       "      <td>33.000000</td>\n",
       "      <td>0.000000</td>\n",
       "      <td>72.000000</td>\n",
       "      <td>0.000000</td>\n",
       "      <td>0.000000</td>\n",
       "      <td>103.000000</td>\n",
       "      <td>1.000000</td>\n",
       "      <td>-1.000000</td>\n",
       "      <td>0.000000</td>\n",
       "      <td>0.000000</td>\n",
       "      <td>...</td>\n",
       "      <td>0.000000</td>\n",
       "      <td>0.000000</td>\n",
       "      <td>0.000000</td>\n",
       "      <td>0.000000</td>\n",
       "      <td>0.00000</td>\n",
       "      <td>0.000000</td>\n",
       "      <td>0.000000</td>\n",
       "      <td>0.000000</td>\n",
       "      <td>0.000000</td>\n",
       "      <td>0.000000</td>\n",
       "    </tr>\n",
       "    <tr>\n",
       "      <th>50%</th>\n",
       "      <td>39.000000</td>\n",
       "      <td>0.000000</td>\n",
       "      <td>448.000000</td>\n",
       "      <td>1.000000</td>\n",
       "      <td>0.000000</td>\n",
       "      <td>180.000000</td>\n",
       "      <td>2.000000</td>\n",
       "      <td>-1.000000</td>\n",
       "      <td>0.000000</td>\n",
       "      <td>0.000000</td>\n",
       "      <td>...</td>\n",
       "      <td>0.000000</td>\n",
       "      <td>0.000000</td>\n",
       "      <td>0.000000</td>\n",
       "      <td>0.000000</td>\n",
       "      <td>0.00000</td>\n",
       "      <td>0.000000</td>\n",
       "      <td>0.000000</td>\n",
       "      <td>0.000000</td>\n",
       "      <td>0.000000</td>\n",
       "      <td>0.000000</td>\n",
       "    </tr>\n",
       "    <tr>\n",
       "      <th>75%</th>\n",
       "      <td>48.000000</td>\n",
       "      <td>0.000000</td>\n",
       "      <td>1428.000000</td>\n",
       "      <td>1.000000</td>\n",
       "      <td>0.000000</td>\n",
       "      <td>319.000000</td>\n",
       "      <td>3.000000</td>\n",
       "      <td>-1.000000</td>\n",
       "      <td>0.000000</td>\n",
       "      <td>0.000000</td>\n",
       "      <td>...</td>\n",
       "      <td>0.000000</td>\n",
       "      <td>0.000000</td>\n",
       "      <td>0.000000</td>\n",
       "      <td>0.000000</td>\n",
       "      <td>0.00000</td>\n",
       "      <td>0.000000</td>\n",
       "      <td>0.000000</td>\n",
       "      <td>0.000000</td>\n",
       "      <td>0.000000</td>\n",
       "      <td>0.000000</td>\n",
       "    </tr>\n",
       "    <tr>\n",
       "      <th>max</th>\n",
       "      <td>95.000000</td>\n",
       "      <td>1.000000</td>\n",
       "      <td>102127.000000</td>\n",
       "      <td>1.000000</td>\n",
       "      <td>1.000000</td>\n",
       "      <td>4918.000000</td>\n",
       "      <td>63.000000</td>\n",
       "      <td>871.000000</td>\n",
       "      <td>275.000000</td>\n",
       "      <td>1.000000</td>\n",
       "      <td>...</td>\n",
       "      <td>1.000000</td>\n",
       "      <td>1.000000</td>\n",
       "      <td>1.000000</td>\n",
       "      <td>1.000000</td>\n",
       "      <td>1.00000</td>\n",
       "      <td>1.000000</td>\n",
       "      <td>1.000000</td>\n",
       "      <td>1.000000</td>\n",
       "      <td>1.000000</td>\n",
       "      <td>1.000000</td>\n",
       "    </tr>\n",
       "  </tbody>\n",
       "</table>\n",
       "<p>8 rows × 32 columns</p>\n",
       "</div>"
      ],
      "text/plain": [
       "                age       default        balance       housing          loan  \\\n",
       "count  45211.000000  45211.000000   45211.000000  45211.000000  45211.000000   \n",
       "mean      40.936210      0.018027    1362.272058      0.555838      0.160226   \n",
       "std       10.618762      0.133049    3044.765829      0.496878      0.366820   \n",
       "min       18.000000      0.000000   -8019.000000      0.000000      0.000000   \n",
       "25%       33.000000      0.000000      72.000000      0.000000      0.000000   \n",
       "50%       39.000000      0.000000     448.000000      1.000000      0.000000   \n",
       "75%       48.000000      0.000000    1428.000000      1.000000      0.000000   \n",
       "max       95.000000      1.000000  102127.000000      1.000000      1.000000   \n",
       "\n",
       "           duration      campaign         pdays      previous   poutfailure  \\\n",
       "count  45211.000000  45211.000000  45211.000000  45211.000000  45211.000000   \n",
       "mean     258.163080      2.763841     40.197828      0.580323      0.108403   \n",
       "std      257.527812      3.098021    100.128746      2.303441      0.310892   \n",
       "min        0.000000      1.000000     -1.000000      0.000000      0.000000   \n",
       "25%      103.000000      1.000000     -1.000000      0.000000      0.000000   \n",
       "50%      180.000000      2.000000     -1.000000      0.000000      0.000000   \n",
       "75%      319.000000      3.000000     -1.000000      0.000000      0.000000   \n",
       "max     4918.000000     63.000000    871.000000    275.000000      1.000000   \n",
       "\n",
       "       ...   johousemaid  jomanagement     joretired  joself.employed  \\\n",
       "count  ...  45211.000000  45211.000000  45211.000000     45211.000000   \n",
       "mean   ...      0.027427      0.209197      0.050076         0.034925   \n",
       "std    ...      0.163326      0.406740      0.218105         0.183592   \n",
       "min    ...      0.000000      0.000000      0.000000         0.000000   \n",
       "25%    ...      0.000000      0.000000      0.000000         0.000000   \n",
       "50%    ...      0.000000      0.000000      0.000000         0.000000   \n",
       "75%    ...      0.000000      0.000000      0.000000         0.000000   \n",
       "max    ...      1.000000      1.000000      1.000000         1.000000   \n",
       "\n",
       "        joservices     jostudent  jotechnician  jounemployed     jounknown  \\\n",
       "count  45211.00000  45211.000000  45211.000000  45211.000000  45211.000000   \n",
       "mean       0.09188      0.020747      0.168034      0.028820      0.006370   \n",
       "std        0.28886      0.142538      0.373901      0.167303      0.079559   \n",
       "min        0.00000      0.000000      0.000000      0.000000      0.000000   \n",
       "25%        0.00000      0.000000      0.000000      0.000000      0.000000   \n",
       "50%        0.00000      0.000000      0.000000      0.000000      0.000000   \n",
       "75%        0.00000      0.000000      0.000000      0.000000      0.000000   \n",
       "max        1.00000      1.000000      1.000000      1.000000      1.000000   \n",
       "\n",
       "                  y  \n",
       "count  45211.000000  \n",
       "mean       0.116985  \n",
       "std        0.321406  \n",
       "min        0.000000  \n",
       "25%        0.000000  \n",
       "50%        0.000000  \n",
       "75%        0.000000  \n",
       "max        1.000000  \n",
       "\n",
       "[8 rows x 32 columns]"
      ]
     },
     "execution_count": 18,
     "metadata": {},
     "output_type": "execute_result"
    }
   ],
   "source": [
    "data.describe()"
   ]
  },
  {
   "cell_type": "code",
   "execution_count": 19,
   "id": "09e4ca50",
   "metadata": {},
   "outputs": [
    {
     "name": "stdout",
     "output_type": "stream",
     "text": [
      "<class 'pandas.core.frame.DataFrame'>\n",
      "RangeIndex: 45211 entries, 0 to 45210\n",
      "Data columns (total 32 columns):\n",
      " #   Column           Non-Null Count  Dtype\n",
      "---  ------           --------------  -----\n",
      " 0   age              45211 non-null  int64\n",
      " 1   default          45211 non-null  int64\n",
      " 2   balance          45211 non-null  int64\n",
      " 3   housing          45211 non-null  int64\n",
      " 4   loan             45211 non-null  int64\n",
      " 5   duration         45211 non-null  int64\n",
      " 6   campaign         45211 non-null  int64\n",
      " 7   pdays            45211 non-null  int64\n",
      " 8   previous         45211 non-null  int64\n",
      " 9   poutfailure      45211 non-null  int64\n",
      " 10  poutother        45211 non-null  int64\n",
      " 11  poutsuccess      45211 non-null  int64\n",
      " 12  poutunknown      45211 non-null  int64\n",
      " 13  con_cellular     45211 non-null  int64\n",
      " 14  con_telephone    45211 non-null  int64\n",
      " 15  con_unknown      45211 non-null  int64\n",
      " 16  divorced         45211 non-null  int64\n",
      " 17  married          45211 non-null  int64\n",
      " 18  single           45211 non-null  int64\n",
      " 19  joadmin.         45211 non-null  int64\n",
      " 20  joblue.collar    45211 non-null  int64\n",
      " 21  joentrepreneur   45211 non-null  int64\n",
      " 22  johousemaid      45211 non-null  int64\n",
      " 23  jomanagement     45211 non-null  int64\n",
      " 24  joretired        45211 non-null  int64\n",
      " 25  joself.employed  45211 non-null  int64\n",
      " 26  joservices       45211 non-null  int64\n",
      " 27  jostudent        45211 non-null  int64\n",
      " 28  jotechnician     45211 non-null  int64\n",
      " 29  jounemployed     45211 non-null  int64\n",
      " 30  jounknown        45211 non-null  int64\n",
      " 31  y                45211 non-null  int64\n",
      "dtypes: int64(32)\n",
      "memory usage: 11.0 MB\n"
     ]
    }
   ],
   "source": [
    "data.info()"
   ]
  },
  {
   "cell_type": "code",
   "execution_count": 20,
   "id": "f4ea0943",
   "metadata": {},
   "outputs": [
    {
     "data": {
      "text/plain": [
       "age                0\n",
       "default            0\n",
       "balance            0\n",
       "housing            0\n",
       "loan               0\n",
       "duration           0\n",
       "campaign           0\n",
       "pdays              0\n",
       "previous           0\n",
       "poutfailure        0\n",
       "poutother          0\n",
       "poutsuccess        0\n",
       "poutunknown        0\n",
       "con_cellular       0\n",
       "con_telephone      0\n",
       "con_unknown        0\n",
       "divorced           0\n",
       "married            0\n",
       "single             0\n",
       "joadmin.           0\n",
       "joblue.collar      0\n",
       "joentrepreneur     0\n",
       "johousemaid        0\n",
       "jomanagement       0\n",
       "joretired          0\n",
       "joself.employed    0\n",
       "joservices         0\n",
       "jostudent          0\n",
       "jotechnician       0\n",
       "jounemployed       0\n",
       "jounknown          0\n",
       "y                  0\n",
       "dtype: int64"
      ]
     },
     "execution_count": 20,
     "metadata": {},
     "output_type": "execute_result"
    }
   ],
   "source": [
    "data.isnull().sum()"
   ]
  },
  {
   "cell_type": "code",
   "execution_count": 21,
   "id": "1cac57d7",
   "metadata": {},
   "outputs": [
    {
     "data": {
      "text/plain": [
       "<AxesSubplot:xlabel='y', ylabel='count'>"
      ]
     },
     "execution_count": 21,
     "metadata": {},
     "output_type": "execute_result"
    },
    {
     "data": {
      "image/png": "[encoded data removed]",
      "text/plain": [
       "<Figure size 432x288 with 1 Axes>"
      ]
     },
     "metadata": {
      "needs_background": "light"
     },
     "output_type": "display_data"
    }
   ],
   "source": [
    "#count plot : Shows the count of observations in Each Categorical bin using bars.\n",
    "import seaborn as sns\n",
    "sns.countplot(x='y',data=data,palette='hls')"
   ]
  },
  {
   "cell_type": "code",
   "execution_count": 22,
   "id": "026913f9",
   "metadata": {},
   "outputs": [
    {
     "data": {
      "text/plain": [
       "array([0, 1], dtype=int64)"
      ]
     },
     "execution_count": 22,
     "metadata": {},
     "output_type": "execute_result"
    }
   ],
   "source": [
    "data.y.unique()"
   ]
  },
  {
   "cell_type": "markdown",
   "id": "a6b0c6ad",
   "metadata": {},
   "source": [
    "The above plot is a variable of \"Y\" which was target variable which has 40 thousand of 0's and 5 thousand of 1'"
   ]
  },
  {
   "cell_type": "code",
   "execution_count": 23,
   "id": "b9254b33",
   "metadata": {},
   "outputs": [
    {
     "data": {
      "text/plain": [
       "<AxesSubplot:xlabel='age', ylabel='count'>"
      ]
     },
     "execution_count": 23,
     "metadata": {},
     "output_type": "execute_result"
    },
    {
     "data": {
      "image/png": "[encoded data removed]",
      "text/plain": [
       "<Figure size 432x288 with 1 Axes>"
      ]
     },
     "metadata": {
      "needs_background": "light"
     },
     "output_type": "display_data"
    }
   ],
   "source": [
    "sns.countplot(x='age',palette='hls',data=data)\n"
   ]
  },
  {
   "cell_type": "code",
   "execution_count": 25,
   "id": "91418d54",
   "metadata": {},
   "outputs": [
    {
     "data": {
      "text/plain": [
       "<AxesSubplot:xlabel='balance', ylabel='count'>"
      ]
     },
     "execution_count": 25,
     "metadata": {},
     "output_type": "execute_result"
    },
    {
     "data": {
      "image/png": "[encoded data removed]",
      "text/plain": [
       "<Figure size 432x288 with 1 Axes>"
      ]
     },
     "metadata": {
      "needs_background": "light"
     },
     "output_type": "display_data"
    }
   ],
   "source": [
    "sns.countplot(x='balance',palette='hls',data=data)"
   ]
  },
  {
   "cell_type": "code",
   "execution_count": 26,
   "id": "6f3f0ce2",
   "metadata": {},
   "outputs": [
    {
     "data": {
      "text/plain": [
       "<AxesSubplot:xlabel='single', ylabel='count'>"
      ]
     },
     "execution_count": 26,
     "metadata": {},
     "output_type": "execute_result"
    },
    {
     "data": {
      "image/png": "[encoded data removed]",
      "text/plain": [
       "<Figure size 432x288 with 1 Axes>"
      ]
     },
     "metadata": {
      "needs_background": "light"
     },
     "output_type": "display_data"
    }
   ],
   "source": [
    "sns.countplot(x='single',palette='hls',data=data)"
   ]
  },
  {
   "cell_type": "code",
   "execution_count": 27,
   "id": "292d44e0",
   "metadata": {},
   "outputs": [
    {
     "data": {
      "text/plain": [
       "<AxesSubplot:xlabel='married', ylabel='count'>"
      ]
     },
     "execution_count": 27,
     "metadata": {},
     "output_type": "execute_result"
    },
    {
     "data": {
      "image/png": "[encoded data removed]",
      "text/plain": [
       "<Figure size 432x288 with 1 Axes>"
      ]
     },
     "metadata": {
      "needs_background": "light"
     },
     "output_type": "display_data"
    }
   ],
   "source": [
    "sns.countplot(x='married',palette='hls',data=data)"
   ]
  },
  {
   "cell_type": "code",
   "execution_count": 28,
   "id": "0563f9f8",
   "metadata": {},
   "outputs": [
    {
     "data": {
      "text/plain": [
       "<AxesSubplot:xlabel='divorced', ylabel='count'>"
      ]
     },
     "execution_count": 28,
     "metadata": {},
     "output_type": "execute_result"
    },
    {
     "data": {
      "image/png": "[encoded data removed]",
      "text/plain": [
       "<Figure size 432x288 with 1 Axes>"
      ]
     },
     "metadata": {
      "needs_background": "light"
     },
     "output_type": "display_data"
    }
   ],
   "source": [
    "sns.countplot(x='divorced',palette='hls',data=data)"
   ]
  },
  {
   "cell_type": "code",
   "execution_count": 29,
   "id": "359ac22e",
   "metadata": {},
   "outputs": [
    {
     "data": {
      "text/plain": [
       "(45211, 1)"
      ]
     },
     "execution_count": 29,
     "metadata": {},
     "output_type": "execute_result"
    }
   ],
   "source": [
    "y=data.iloc[:,-1:]\n",
    "y.shape"
   ]
  },
  {
   "cell_type": "code",
   "execution_count": 30,
   "id": "92291c0d",
   "metadata": {},
   "outputs": [],
   "source": [
    "x=data.iloc[:,:-1]"
   ]
  },
  {
   "cell_type": "code",
   "execution_count": 31,
   "id": "bf480c3d",
   "metadata": {},
   "outputs": [
    {
     "data": {
      "text/html": [
       "<div>\n",
       "<style scoped>\n",
       "    .dataframe tbody tr th:only-of-type {\n",
       "        vertical-align: middle;\n",
       "    }\n",
       "\n",
       "    .dataframe tbody tr th {\n",
       "        vertical-align: top;\n",
       "    }\n",
       "\n",
       "    .dataframe thead th {\n",
       "        text-align: right;\n",
       "    }\n",
       "</style>\n",
       "<table border=\"1\" class=\"dataframe\">\n",
       "  <thead>\n",
       "    <tr style=\"text-align: right;\">\n",
       "      <th></th>\n",
       "      <th>age</th>\n",
       "      <th>default</th>\n",
       "      <th>balance</th>\n",
       "      <th>housing</th>\n",
       "      <th>loan</th>\n",
       "      <th>duration</th>\n",
       "      <th>campaign</th>\n",
       "      <th>pdays</th>\n",
       "      <th>previous</th>\n",
       "      <th>poutfailure</th>\n",
       "      <th>...</th>\n",
       "      <th>joentrepreneur</th>\n",
       "      <th>johousemaid</th>\n",
       "      <th>jomanagement</th>\n",
       "      <th>joretired</th>\n",
       "      <th>joself.employed</th>\n",
       "      <th>joservices</th>\n",
       "      <th>jostudent</th>\n",
       "      <th>jotechnician</th>\n",
       "      <th>jounemployed</th>\n",
       "      <th>jounknown</th>\n",
       "    </tr>\n",
       "  </thead>\n",
       "  <tbody>\n",
       "    <tr>\n",
       "      <th>0</th>\n",
       "      <td>58</td>\n",
       "      <td>0</td>\n",
       "      <td>2143</td>\n",
       "      <td>1</td>\n",
       "      <td>0</td>\n",
       "      <td>261</td>\n",
       "      <td>1</td>\n",
       "      <td>-1</td>\n",
       "      <td>0</td>\n",
       "      <td>0</td>\n",
       "      <td>...</td>\n",
       "      <td>0</td>\n",
       "      <td>0</td>\n",
       "      <td>1</td>\n",
       "      <td>0</td>\n",
       "      <td>0</td>\n",
       "      <td>0</td>\n",
       "      <td>0</td>\n",
       "      <td>0</td>\n",
       "      <td>0</td>\n",
       "      <td>0</td>\n",
       "    </tr>\n",
       "    <tr>\n",
       "      <th>1</th>\n",
       "      <td>44</td>\n",
       "      <td>0</td>\n",
       "      <td>29</td>\n",
       "      <td>1</td>\n",
       "      <td>0</td>\n",
       "      <td>151</td>\n",
       "      <td>1</td>\n",
       "      <td>-1</td>\n",
       "      <td>0</td>\n",
       "      <td>0</td>\n",
       "      <td>...</td>\n",
       "      <td>0</td>\n",
       "      <td>0</td>\n",
       "      <td>0</td>\n",
       "      <td>0</td>\n",
       "      <td>0</td>\n",
       "      <td>0</td>\n",
       "      <td>0</td>\n",
       "      <td>1</td>\n",
       "      <td>0</td>\n",
       "      <td>0</td>\n",
       "    </tr>\n",
       "    <tr>\n",
       "      <th>2</th>\n",
       "      <td>33</td>\n",
       "      <td>0</td>\n",
       "      <td>2</td>\n",
       "      <td>1</td>\n",
       "      <td>1</td>\n",
       "      <td>76</td>\n",
       "      <td>1</td>\n",
       "      <td>-1</td>\n",
       "      <td>0</td>\n",
       "      <td>0</td>\n",
       "      <td>...</td>\n",
       "      <td>1</td>\n",
       "      <td>0</td>\n",
       "      <td>0</td>\n",
       "      <td>0</td>\n",
       "      <td>0</td>\n",
       "      <td>0</td>\n",
       "      <td>0</td>\n",
       "      <td>0</td>\n",
       "      <td>0</td>\n",
       "      <td>0</td>\n",
       "    </tr>\n",
       "    <tr>\n",
       "      <th>3</th>\n",
       "      <td>47</td>\n",
       "      <td>0</td>\n",
       "      <td>1506</td>\n",
       "      <td>1</td>\n",
       "      <td>0</td>\n",
       "      <td>92</td>\n",
       "      <td>1</td>\n",
       "      <td>-1</td>\n",
       "      <td>0</td>\n",
       "      <td>0</td>\n",
       "      <td>...</td>\n",
       "      <td>0</td>\n",
       "      <td>0</td>\n",
       "      <td>0</td>\n",
       "      <td>0</td>\n",
       "      <td>0</td>\n",
       "      <td>0</td>\n",
       "      <td>0</td>\n",
       "      <td>0</td>\n",
       "      <td>0</td>\n",
       "      <td>0</td>\n",
       "    </tr>\n",
       "    <tr>\n",
       "      <th>4</th>\n",
       "      <td>33</td>\n",
       "      <td>0</td>\n",
       "      <td>1</td>\n",
       "      <td>0</td>\n",
       "      <td>0</td>\n",
       "      <td>198</td>\n",
       "      <td>1</td>\n",
       "      <td>-1</td>\n",
       "      <td>0</td>\n",
       "      <td>0</td>\n",
       "      <td>...</td>\n",
       "      <td>0</td>\n",
       "      <td>0</td>\n",
       "      <td>0</td>\n",
       "      <td>0</td>\n",
       "      <td>0</td>\n",
       "      <td>0</td>\n",
       "      <td>0</td>\n",
       "      <td>0</td>\n",
       "      <td>0</td>\n",
       "      <td>1</td>\n",
       "    </tr>\n",
       "    <tr>\n",
       "      <th>...</th>\n",
       "      <td>...</td>\n",
       "      <td>...</td>\n",
       "      <td>...</td>\n",
       "      <td>...</td>\n",
       "      <td>...</td>\n",
       "      <td>...</td>\n",
       "      <td>...</td>\n",
       "      <td>...</td>\n",
       "      <td>...</td>\n",
       "      <td>...</td>\n",
       "      <td>...</td>\n",
       "      <td>...</td>\n",
       "      <td>...</td>\n",
       "      <td>...</td>\n",
       "      <td>...</td>\n",
       "      <td>...</td>\n",
       "      <td>...</td>\n",
       "      <td>...</td>\n",
       "      <td>...</td>\n",
       "      <td>...</td>\n",
       "      <td>...</td>\n",
       "    </tr>\n",
       "    <tr>\n",
       "      <th>45206</th>\n",
       "      <td>51</td>\n",
       "      <td>0</td>\n",
       "      <td>825</td>\n",
       "      <td>0</td>\n",
       "      <td>0</td>\n",
       "      <td>977</td>\n",
       "      <td>3</td>\n",
       "      <td>-1</td>\n",
       "      <td>0</td>\n",
       "      <td>0</td>\n",
       "      <td>...</td>\n",
       "      <td>0</td>\n",
       "      <td>0</td>\n",
       "      <td>0</td>\n",
       "      <td>0</td>\n",
       "      <td>0</td>\n",
       "      <td>0</td>\n",
       "      <td>0</td>\n",
       "      <td>1</td>\n",
       "      <td>0</td>\n",
       "      <td>0</td>\n",
       "    </tr>\n",
       "    <tr>\n",
       "      <th>45207</th>\n",
       "      <td>71</td>\n",
       "      <td>0</td>\n",
       "      <td>1729</td>\n",
       "      <td>0</td>\n",
       "      <td>0</td>\n",
       "      <td>456</td>\n",
       "      <td>2</td>\n",
       "      <td>-1</td>\n",
       "      <td>0</td>\n",
       "      <td>0</td>\n",
       "      <td>...</td>\n",
       "      <td>0</td>\n",
       "      <td>0</td>\n",
       "      <td>0</td>\n",
       "      <td>1</td>\n",
       "      <td>0</td>\n",
       "      <td>0</td>\n",
       "      <td>0</td>\n",
       "      <td>0</td>\n",
       "      <td>0</td>\n",
       "      <td>0</td>\n",
       "    </tr>\n",
       "    <tr>\n",
       "      <th>45208</th>\n",
       "      <td>72</td>\n",
       "      <td>0</td>\n",
       "      <td>5715</td>\n",
       "      <td>0</td>\n",
       "      <td>0</td>\n",
       "      <td>1127</td>\n",
       "      <td>5</td>\n",
       "      <td>184</td>\n",
       "      <td>3</td>\n",
       "      <td>0</td>\n",
       "      <td>...</td>\n",
       "      <td>0</td>\n",
       "      <td>0</td>\n",
       "      <td>0</td>\n",
       "      <td>1</td>\n",
       "      <td>0</td>\n",
       "      <td>0</td>\n",
       "      <td>0</td>\n",
       "      <td>0</td>\n",
       "      <td>0</td>\n",
       "      <td>0</td>\n",
       "    </tr>\n",
       "    <tr>\n",
       "      <th>45209</th>\n",
       "      <td>57</td>\n",
       "      <td>0</td>\n",
       "      <td>668</td>\n",
       "      <td>0</td>\n",
       "      <td>0</td>\n",
       "      <td>508</td>\n",
       "      <td>4</td>\n",
       "      <td>-1</td>\n",
       "      <td>0</td>\n",
       "      <td>0</td>\n",
       "      <td>...</td>\n",
       "      <td>0</td>\n",
       "      <td>0</td>\n",
       "      <td>0</td>\n",
       "      <td>0</td>\n",
       "      <td>0</td>\n",
       "      <td>0</td>\n",
       "      <td>0</td>\n",
       "      <td>0</td>\n",
       "      <td>0</td>\n",
       "      <td>0</td>\n",
       "    </tr>\n",
       "    <tr>\n",
       "      <th>45210</th>\n",
       "      <td>37</td>\n",
       "      <td>0</td>\n",
       "      <td>2971</td>\n",
       "      <td>0</td>\n",
       "      <td>0</td>\n",
       "      <td>361</td>\n",
       "      <td>2</td>\n",
       "      <td>188</td>\n",
       "      <td>11</td>\n",
       "      <td>0</td>\n",
       "      <td>...</td>\n",
       "      <td>1</td>\n",
       "      <td>0</td>\n",
       "      <td>0</td>\n",
       "      <td>0</td>\n",
       "      <td>0</td>\n",
       "      <td>0</td>\n",
       "      <td>0</td>\n",
       "      <td>0</td>\n",
       "      <td>0</td>\n",
       "      <td>0</td>\n",
       "    </tr>\n",
       "  </tbody>\n",
       "</table>\n",
       "<p>45211 rows × 31 columns</p>\n",
       "</div>"
      ],
      "text/plain": [
       "       age  default  balance  housing  loan  duration  campaign  pdays  \\\n",
       "0       58        0     2143        1     0       261         1     -1   \n",
       "1       44        0       29        1     0       151         1     -1   \n",
       "2       33        0        2        1     1        76         1     -1   \n",
       "3       47        0     1506        1     0        92         1     -1   \n",
       "4       33        0        1        0     0       198         1     -1   \n",
       "...    ...      ...      ...      ...   ...       ...       ...    ...   \n",
       "45206   51        0      825        0     0       977         3     -1   \n",
       "45207   71        0     1729        0     0       456         2     -1   \n",
       "45208   72        0     5715        0     0      1127         5    184   \n",
       "45209   57        0      668        0     0       508         4     -1   \n",
       "45210   37        0     2971        0     0       361         2    188   \n",
       "\n",
       "       previous  poutfailure  ...  joentrepreneur  johousemaid  jomanagement  \\\n",
       "0             0            0  ...               0            0             1   \n",
       "1             0            0  ...               0            0             0   \n",
       "2             0            0  ...               1            0             0   \n",
       "3             0            0  ...               0            0             0   \n",
       "4             0            0  ...               0            0             0   \n",
       "...         ...          ...  ...             ...          ...           ...   \n",
       "45206         0            0  ...               0            0             0   \n",
       "45207         0            0  ...               0            0             0   \n",
       "45208         3            0  ...               0            0             0   \n",
       "45209         0            0  ...               0            0             0   \n",
       "45210        11            0  ...               1            0             0   \n",
       "\n",
       "       joretired  joself.employed  joservices  jostudent  jotechnician  \\\n",
       "0              0                0           0          0             0   \n",
       "1              0                0           0          0             1   \n",
       "2              0                0           0          0             0   \n",
       "3              0                0           0          0             0   \n",
       "4              0                0           0          0             0   \n",
       "...          ...              ...         ...        ...           ...   \n",
       "45206          0                0           0          0             1   \n",
       "45207          1                0           0          0             0   \n",
       "45208          1                0           0          0             0   \n",
       "45209          0                0           0          0             0   \n",
       "45210          0                0           0          0             0   \n",
       "\n",
       "       jounemployed  jounknown  \n",
       "0                 0          0  \n",
       "1                 0          0  \n",
       "2                 0          0  \n",
       "3                 0          0  \n",
       "4                 0          1  \n",
       "...             ...        ...  \n",
       "45206             0          0  \n",
       "45207             0          0  \n",
       "45208             0          0  \n",
       "45209             0          0  \n",
       "45210             0          0  \n",
       "\n",
       "[45211 rows x 31 columns]"
      ]
     },
     "execution_count": 31,
     "metadata": {},
     "output_type": "execute_result"
    }
   ],
   "source": [
    "x"
   ]
  },
  {
   "cell_type": "code",
   "execution_count": 32,
   "id": "fba9eacd",
   "metadata": {},
   "outputs": [],
   "source": [
    "from sklearn.linear_model import LogisticRegression"
   ]
  },
  {
   "cell_type": "code",
   "execution_count": 33,
   "id": "9af8e475",
   "metadata": {},
   "outputs": [
    {
     "name": "stderr",
     "output_type": "stream",
     "text": [
      "C:\\Users\\INDIA\\anaconda3\\lib\\site-packages\\sklearn\\utils\\validation.py:1111: DataConversionWarning: A column-vector y was passed when a 1d array was expected. Please change the shape of y to (n_samples, ), for example using ravel().\n",
      "  y = column_or_1d(y, warn=True)\n",
      "C:\\Users\\INDIA\\anaconda3\\lib\\site-packages\\sklearn\\linear_model\\_logistic.py:444: ConvergenceWarning: lbfgs failed to converge (status=1):\n",
      "STOP: TOTAL NO. of ITERATIONS REACHED LIMIT.\n",
      "\n",
      "Increase the number of iterations (max_iter) or scale the data as shown in:\n",
      "    https://scikit-learn.org/stable/modules/preprocessing.html\n",
      "Please also refer to the documentation for alternative solver options:\n",
      "    https://scikit-learn.org/stable/modules/linear_model.html#logistic-regression\n",
      "  n_iter_i = _check_optimize_result(\n"
     ]
    },
    {
     "data": {
      "text/html": [
       "<style>#sk-container-id-1 {color: black;background-color: white;}#sk-container-id-1 pre{padding: 0;}#sk-container-id-1 div.sk-toggleable {background-color: white;}#sk-container-id-1 label.sk-toggleable__label {cursor: pointer;display: block;width: 100%;margin-bottom: 0;padding: 0.3em;box-sizing: border-box;text-align: center;}#sk-container-id-1 label.sk-toggleable__label-arrow:before {content: \"▸\";float: left;margin-right: 0.25em;color: #696969;}#sk-container-id-1 label.sk-toggleable__label-arrow:hover:before {color: black;}#sk-container-id-1 div.sk-estimator:hover label.sk-toggleable__label-arrow:before {color: black;}#sk-container-id-1 div.sk-toggleable__content {max-height: 0;max-width: 0;overflow: hidden;text-align: left;background-color: #f0f8ff;}#sk-container-id-1 div.sk-toggleable__content pre {margin: 0.2em;color: black;border-radius: 0.25em;background-color: #f0f8ff;}#sk-container-id-1 input.sk-toggleable__control:checked~div.sk-toggleable__content {max-height: 200px;max-width: 100%;overflow: auto;}#sk-container-id-1 input.sk-toggleable__control:checked~label.sk-toggleable__label-arrow:before {content: \"▾\";}#sk-container-id-1 div.sk-estimator input.sk-toggleable__control:checked~label.sk-toggleable__label {background-color: #d4ebff;}#sk-container-id-1 div.sk-label input.sk-toggleable__control:checked~label.sk-toggleable__label {background-color: #d4ebff;}#sk-container-id-1 input.sk-hidden--visually {border: 0;clip: rect(1px 1px 1px 1px);clip: rect(1px, 1px, 1px, 1px);height: 1px;margin: -1px;overflow: hidden;padding: 0;position: absolute;width: 1px;}#sk-container-id-1 div.sk-estimator {font-family: monospace;background-color: #f0f8ff;border: 1px dotted black;border-radius: 0.25em;box-sizing: border-box;margin-bottom: 0.5em;}#sk-container-id-1 div.sk-estimator:hover {background-color: #d4ebff;}#sk-container-id-1 div.sk-parallel-item::after {content: \"\";width: 100%;border-bottom: 1px solid gray;flex-grow: 1;}#sk-container-id-1 div.sk-label:hover label.sk-toggleable__label {background-color: #d4ebff;}#sk-container-id-1 div.sk-serial::before {content: \"\";position: absolute;border-left: 1px solid gray;box-sizing: border-box;top: 0;bottom: 0;left: 50%;z-index: 0;}#sk-container-id-1 div.sk-serial {display: flex;flex-direction: column;align-items: center;background-color: white;padding-right: 0.2em;padding-left: 0.2em;position: relative;}#sk-container-id-1 div.sk-item {position: relative;z-index: 1;}#sk-container-id-1 div.sk-parallel {display: flex;align-items: stretch;justify-content: center;background-color: white;position: relative;}#sk-container-id-1 div.sk-item::before, #sk-container-id-1 div.sk-parallel-item::before {content: \"\";position: absolute;border-left: 1px solid gray;box-sizing: border-box;top: 0;bottom: 0;left: 50%;z-index: -1;}#sk-container-id-1 div.sk-parallel-item {display: flex;flex-direction: column;z-index: 1;position: relative;background-color: white;}#sk-container-id-1 div.sk-parallel-item:first-child::after {align-self: flex-end;width: 50%;}#sk-container-id-1 div.sk-parallel-item:last-child::after {align-self: flex-start;width: 50%;}#sk-container-id-1 div.sk-parallel-item:only-child::after {width: 0;}#sk-container-id-1 div.sk-dashed-wrapped {border: 1px dashed gray;margin: 0 0.4em 0.5em 0.4em;box-sizing: border-box;padding-bottom: 0.4em;background-color: white;}#sk-container-id-1 div.sk-label label {font-family: monospace;font-weight: bold;display: inline-block;line-height: 1.2em;}#sk-container-id-1 div.sk-label-container {text-align: center;}#sk-container-id-1 div.sk-container {/* jupyter's `normalize.less` sets `[hidden] { display: none; }` but bootstrap.min.css set `[hidden] { display: none !important; }` so we also need the `!important` here to be able to override the default hidden behavior on the sphinx rendered scikit-learn.org. See: https://github.com/scikit-learn/scikit-learn/issues/21755 */display: inline-block !important;position: relative;}#sk-container-id-1 div.sk-text-repr-fallback {display: none;}</style><div id=\"sk-container-id-1\" class=\"sk-top-container\"><div class=\"sk-text-repr-fallback\"><pre>LogisticRegression()</pre><b>In a Jupyter environment, please rerun this cell to show the HTML representation or trust the notebook. <br />On GitHub, the HTML representation is unable to render, please try loading this page with nbviewer.org.</b></div><div class=\"sk-container\" hidden><div class=\"sk-item\"><div class=\"sk-estimator sk-toggleable\"><input class=\"sk-toggleable__control sk-hidden--visually\" id=\"sk-estimator-id-1\" type=\"checkbox\" checked><label for=\"sk-estimator-id-1\" class=\"sk-toggleable__label sk-toggleable__label-arrow\">LogisticRegression</label><div class=\"sk-toggleable__content\"><pre>LogisticRegression()</pre></div></div></div></div></div>"
      ],
      "text/plain": [
       "LogisticRegression()"
      ]
     },
     "execution_count": 33,
     "metadata": {},
     "output_type": "execute_result"
    }
   ],
   "source": [
    "classifier=LogisticRegression()\n",
    "classifier.fit(x,y)"
   ]
  },
  {
   "cell_type": "code",
   "execution_count": 34,
   "id": "aa24ea6d",
   "metadata": {},
   "outputs": [
    {
     "data": {
      "text/plain": [
       "array([0, 0, 0, ..., 1, 0, 0], dtype=int64)"
      ]
     },
     "execution_count": 34,
     "metadata": {},
     "output_type": "execute_result"
    }
   ],
   "source": [
    "y_pred=classifier.predict(x)\n",
    "y_pred"
   ]
  },
  {
   "cell_type": "code",
   "execution_count": 35,
   "id": "ad4561d2",
   "metadata": {},
   "outputs": [],
   "source": [
    "from sklearn.metrics import classification_report\n",
    "from sklearn.metrics import confusion_matrix"
   ]
  },
  {
   "cell_type": "code",
   "execution_count": 36,
   "id": "82a0ac5a",
   "metadata": {},
   "outputs": [
    {
     "name": "stdout",
     "output_type": "stream",
     "text": [
      "[[39165   757]\n",
      " [ 4112  1177]]\n"
     ]
    }
   ],
   "source": [
    "confusion_matrix=confusion_matrix(y,y_pred)\n",
    "print(confusion_matrix)"
   ]
  },
  {
   "cell_type": "code",
   "execution_count": 37,
   "id": "39eb3d04",
   "metadata": {},
   "outputs": [
    {
     "data": {
      "text/plain": [
       "89.23049700294176"
      ]
     },
     "execution_count": 37,
     "metadata": {},
     "output_type": "execute_result"
    }
   ],
   "source": [
    "((39165+1177)/(39165+757+4112+1177))*100\n",
    "#This accuracy is useless because it Was Un- Balenced Data"
   ]
  },
  {
   "cell_type": "code",
   "execution_count": 38,
   "id": "a950cef2",
   "metadata": {},
   "outputs": [
    {
     "data": {
      "text/plain": [
       "array([[0.96506586, 0.03493414],\n",
       "       [0.97531904, 0.02468096],\n",
       "       [0.98136627, 0.01863373],\n",
       "       ...,\n",
       "       [0.2032742 , 0.7967258 ],\n",
       "       [0.88692196, 0.11307804],\n",
       "       [0.92879322, 0.07120678]])"
      ]
     },
     "execution_count": 38,
     "metadata": {},
     "output_type": "execute_result"
    }
   ],
   "source": [
    "y_proba=classifier.predict_proba(x)\n",
    "y_proba"
   ]
  },
  {
   "cell_type": "code",
   "execution_count": 39,
   "id": "fc170c05",
   "metadata": {},
   "outputs": [
    {
     "data": {
      "text/plain": [
       "array([[-1.78062528e-02, -2.81012246e-02,  2.37959927e-05,\n",
       "        -1.01059735e+00, -2.83817754e-01,  3.81391197e-03,\n",
       "        -3.30707747e-01,  2.61762874e-03, -2.25721280e-01,\n",
       "        -1.91431504e-01, -4.75991081e-02,  4.35992416e-01,\n",
       "        -6.62191305e-01,  8.90720604e-02,  7.58133882e-02,\n",
       "        -6.30114950e-01,  2.64785165e-02, -2.44106985e-01,\n",
       "        -2.47601033e-01, -5.65138330e-02, -3.76878265e-01,\n",
       "        -3.68438258e-02, -9.59737718e-03,  1.32145898e-02,\n",
       "         2.47107073e-01, -2.43623280e-02, -1.40143723e-01,\n",
       "         3.04355606e-02, -1.20744616e-01,  4.25373708e-03,\n",
       "         4.84350586e-03]])"
      ]
     },
     "execution_count": 39,
     "metadata": {},
     "output_type": "execute_result"
    }
   ],
   "source": [
    "classifier.coef_"
   ]
  },
  {
   "cell_type": "code",
   "execution_count": 40,
   "id": "a9693bb3",
   "metadata": {},
   "outputs": [
    {
     "data": {
      "text/plain": [
       "array([0, 0, 0, ..., 1, 0, 0], dtype=int64)"
      ]
     },
     "execution_count": 40,
     "metadata": {},
     "output_type": "execute_result"
    }
   ],
   "source": [
    "y_pred"
   ]
  },
  {
   "cell_type": "code",
   "execution_count": 41,
   "id": "0352bdf5",
   "metadata": {},
   "outputs": [
    {
     "name": "stdout",
     "output_type": "stream",
     "text": [
      "              precision    recall  f1-score   support\n",
      "\n",
      "           0       0.90      0.98      0.94     39922\n",
      "           1       0.61      0.22      0.33      5289\n",
      "\n",
      "    accuracy                           0.89     45211\n",
      "   macro avg       0.76      0.60      0.63     45211\n",
      "weighted avg       0.87      0.89      0.87     45211\n",
      "\n"
     ]
    }
   ],
   "source": [
    "from sklearn.metrics import classification_report\n",
    "print(classification_report(y,y_pred))"
   ]
  },
  {
   "cell_type": "markdown",
   "id": "1df322dd",
   "metadata": {},
   "source": [
    "Here we can see that Recall and f1-Score of 0 are high enough but when compared to 1 which is pretty less this is all because of Im-Balenced Data"
   ]
  },
  {
   "cell_type": "code",
   "execution_count": 42,
   "id": "ec35152e",
   "metadata": {},
   "outputs": [
    {
     "data": {
      "text/plain": [
       "0.6017876828997866"
      ]
     },
     "execution_count": 42,
     "metadata": {},
     "output_type": "execute_result"
    }
   ],
   "source": [
    "from sklearn.metrics import roc_auc_score\n",
    "from sklearn.metrics import roc_curve\n",
    "Logit_roc_score=roc_auc_score(y,y_pred)\n",
    "Logit_roc_score"
   ]
  },
  {
   "cell_type": "code",
   "execution_count": 43,
   "id": "3def8082",
   "metadata": {},
   "outputs": [
    {
     "data": {
      "text/plain": [
       "Text(0, 0.5, 'True Positive Rate')"
      ]
     },
     "execution_count": 43,
     "metadata": {},
     "output_type": "execute_result"
    },
    {
     "data": {
      "image/png": "[encoded data removed]",
      "text/plain": [
       "<Figure size 432x288 with 1 Axes>"
      ]
     },
     "metadata": {
      "needs_background": "light"
     },
     "output_type": "display_data"
    }
   ],
   "source": [
    "from sklearn.metrics import roc_curve\n",
    "from sklearn.metrics import roc_auc_score\n",
    "\n",
    "fpr, tpr, thresholds = roc_curve(y, y_proba[:,1])\n",
    "\n",
    "auc = roc_auc_score(y, y_pred)\n",
    "\n",
    "import matplotlib.pyplot as plt\n",
    "plt.plot(fpr, tpr, color='red', label='logit model ( area  = %0.2f)'%auc)\n",
    "plt.plot([0, 1], [0, 1], 'k--')\n",
    "plt.xlabel('False Positive Rate or [1 - True Negative Rate]')\n",
    "plt.ylabel('True Positive Rate')"
   ]
  },
  {
   "cell_type": "code",
   "execution_count": 44,
   "id": "a4fdcfa6",
   "metadata": {},
   "outputs": [
    {
     "data": {
      "text/plain": [
       "0.6017876828997866"
      ]
     },
     "execution_count": 44,
     "metadata": {},
     "output_type": "execute_result"
    }
   ],
   "source": [
    "auc"
   ]
  },
  {
   "cell_type": "markdown",
   "id": "a4b4f3b7",
   "metadata": {},
   "source": [
    "Now Check Every variable to if there is a balenced data set or not"
   ]
  },
  {
   "cell_type": "code",
   "execution_count": 45,
   "id": "91abd606",
   "metadata": {},
   "outputs": [
    {
     "data": {
      "text/plain": [
       "y\n",
       "0    39922\n",
       "1     5289\n",
       "dtype: int64"
      ]
     },
     "execution_count": 45,
     "metadata": {},
     "output_type": "execute_result"
    }
   ],
   "source": [
    "y.value_counts()##Strongly Imbalenced Data"
   ]
  },
  {
   "cell_type": "markdown",
   "id": "f28fd07d",
   "metadata": {},
   "source": [
    "# Dealing With The Imbalanced data\n"
   ]
  },
  {
   "cell_type": "code",
   "execution_count": 46,
   "id": "aac6b0e5",
   "metadata": {},
   "outputs": [],
   "source": [
    "#creation of New model with Imbalenced data"
   ]
  },
  {
   "cell_type": "code",
   "execution_count": 47,
   "id": "0592c826",
   "metadata": {},
   "outputs": [],
   "source": [
    "x=data.iloc[:,:-1]\n",
    "y=data.iloc[:,-1:]"
   ]
  },
  {
   "cell_type": "code",
   "execution_count": 48,
   "id": "61f6b6ae",
   "metadata": {},
   "outputs": [],
   "source": [
    "from sklearn.model_selection import train_test_split"
   ]
  },
  {
   "cell_type": "code",
   "execution_count": 49,
   "id": "3fd6f2b4",
   "metadata": {},
   "outputs": [],
   "source": [
    "x_train,x_test,y_train,y_test=train_test_split(x,y,test_size=0.2,random_state=4)"
   ]
  },
  {
   "cell_type": "code",
   "execution_count": 50,
   "id": "89e3044d",
   "metadata": {},
   "outputs": [
    {
     "data": {
      "text/plain": [
       "(9043, 31)"
      ]
     },
     "execution_count": 50,
     "metadata": {},
     "output_type": "execute_result"
    }
   ],
   "source": [
    "x_test.shape"
   ]
  },
  {
   "cell_type": "code",
   "execution_count": 51,
   "id": "0b3fe601",
   "metadata": {},
   "outputs": [
    {
     "data": {
      "text/plain": [
       "(36168, 31)"
      ]
     },
     "execution_count": 51,
     "metadata": {},
     "output_type": "execute_result"
    }
   ],
   "source": [
    "x_train.shape"
   ]
  },
  {
   "cell_type": "code",
   "execution_count": 52,
   "id": "9bda1c80",
   "metadata": {},
   "outputs": [
    {
     "data": {
      "text/plain": [
       "(36168, 1)"
      ]
     },
     "execution_count": 52,
     "metadata": {},
     "output_type": "execute_result"
    }
   ],
   "source": [
    "y_train.shape"
   ]
  },
  {
   "cell_type": "code",
   "execution_count": 53,
   "id": "a3fee3bc",
   "metadata": {},
   "outputs": [
    {
     "data": {
      "text/plain": [
       "(9043, 1)"
      ]
     },
     "execution_count": 53,
     "metadata": {},
     "output_type": "execute_result"
    }
   ],
   "source": [
    "y_test.shape"
   ]
  },
  {
   "cell_type": "code",
   "execution_count": 54,
   "id": "000a9336",
   "metadata": {},
   "outputs": [],
   "source": [
    "#1st Technique is  Under Sampling"
   ]
  },
  {
   "cell_type": "code",
   "execution_count": 55,
   "id": "f0bb2098",
   "metadata": {},
   "outputs": [
    {
     "data": {
      "text/plain": [
       "0    39922\n",
       "1     5289\n",
       "Name: y, dtype: int64"
      ]
     },
     "execution_count": 55,
     "metadata": {},
     "output_type": "execute_result"
    }
   ],
   "source": [
    "data.y.value_counts()"
   ]
  },
  {
   "cell_type": "code",
   "execution_count": 56,
   "id": "2a76fc24",
   "metadata": {},
   "outputs": [],
   "source": [
    "count_0=data['y'].value_counts()\n",
    "count_1 =data['y'].value_counts()"
   ]
  },
  {
   "cell_type": "code",
   "execution_count": 57,
   "id": "fb4fcedc",
   "metadata": {},
   "outputs": [],
   "source": [
    "df=pd.DataFrame()"
   ]
  },
  {
   "cell_type": "code",
   "execution_count": 58,
   "id": "bda999fc",
   "metadata": {},
   "outputs": [],
   "source": [
    "count_0 =data[data['y'] == 0]## \n",
    "count_1 =data[data['y'] == 1]"
   ]
  },
  {
   "cell_type": "code",
   "execution_count": 59,
   "id": "a5c8b09c",
   "metadata": {},
   "outputs": [
    {
     "data": {
      "text/plain": [
       "(39922, 32)"
      ]
     },
     "execution_count": 59,
     "metadata": {},
     "output_type": "execute_result"
    }
   ],
   "source": [
    "count_0.shape"
   ]
  },
  {
   "cell_type": "code",
   "execution_count": 60,
   "id": "51bb2d33",
   "metadata": {},
   "outputs": [
    {
     "data": {
      "text/plain": [
       "(5289, 32)"
      ]
     },
     "execution_count": 60,
     "metadata": {},
     "output_type": "execute_result"
    }
   ],
   "source": [
    "count_1.shape"
   ]
  },
  {
   "cell_type": "code",
   "execution_count": 61,
   "id": "e3c75924",
   "metadata": {},
   "outputs": [
    {
     "data": {
      "text/plain": [
       "(5289, 32)"
      ]
     },
     "execution_count": 61,
     "metadata": {},
     "output_type": "execute_result"
    }
   ],
   "source": [
    "under_count_0 =count_0.sample(5289)\n",
    "under_count_0.shape\n",
    "#count_1.shape"
   ]
  },
  {
   "cell_type": "code",
   "execution_count": 62,
   "id": "1955a7f8",
   "metadata": {},
   "outputs": [
    {
     "data": {
      "text/plain": [
       "(10578, 32)"
      ]
     },
     "execution_count": 62,
     "metadata": {},
     "output_type": "execute_result"
    }
   ],
   "source": [
    "under_test_data=pd.concat([count_1,under_count_0],axis=0)\n",
    "under_test_data.shape"
   ]
  },
  {
   "cell_type": "code",
   "execution_count": 63,
   "id": "ff21c946",
   "metadata": {},
   "outputs": [
    {
     "data": {
      "text/plain": [
       "1    5289\n",
       "0    5289\n",
       "Name: y, dtype: int64"
      ]
     },
     "execution_count": 63,
     "metadata": {},
     "output_type": "execute_result"
    }
   ],
   "source": [
    "under_test_data.y.value_counts()"
   ]
  },
  {
   "cell_type": "code",
   "execution_count": 64,
   "id": "9835a791",
   "metadata": {},
   "outputs": [],
   "source": [
    "x=under_test_data.drop('y',axis='columns')\n",
    "y=under_test_data[\"y\"]"
   ]
  },
  {
   "cell_type": "code",
   "execution_count": 65,
   "id": "2feebdcb",
   "metadata": {},
   "outputs": [],
   "source": [
    "classifier=LogisticRegression()"
   ]
  },
  {
   "cell_type": "code",
   "execution_count": 66,
   "id": "36f123dc",
   "metadata": {},
   "outputs": [],
   "source": [
    "x_train,x_test,y_train,y_test=train_test_split(x,y,test_size=0.2,random_state=20,stratify=y)"
   ]
  },
  {
   "cell_type": "code",
   "execution_count": 67,
   "id": "73462390",
   "metadata": {},
   "outputs": [
    {
     "data": {
      "text/plain": [
       "(8462,)"
      ]
     },
     "execution_count": 67,
     "metadata": {},
     "output_type": "execute_result"
    }
   ],
   "source": [
    "y_train.shape"
   ]
  },
  {
   "cell_type": "code",
   "execution_count": 68,
   "id": "6a7288b9",
   "metadata": {},
   "outputs": [
    {
     "data": {
      "text/plain": [
       "(2116,)"
      ]
     },
     "execution_count": 68,
     "metadata": {},
     "output_type": "execute_result"
    }
   ],
   "source": [
    "y_test.shape"
   ]
  },
  {
   "cell_type": "code",
   "execution_count": 69,
   "id": "555da2ea",
   "metadata": {},
   "outputs": [
    {
     "data": {
      "text/plain": [
       "(8462, 31)"
      ]
     },
     "execution_count": 69,
     "metadata": {},
     "output_type": "execute_result"
    }
   ],
   "source": [
    "x_train.shape"
   ]
  },
  {
   "cell_type": "code",
   "execution_count": 70,
   "id": "bb402416",
   "metadata": {},
   "outputs": [
    {
     "data": {
      "text/plain": [
       "(2116, 31)"
      ]
     },
     "execution_count": 70,
     "metadata": {},
     "output_type": "execute_result"
    }
   ],
   "source": [
    "x_test.shape"
   ]
  },
  {
   "cell_type": "code",
   "execution_count": 71,
   "id": "29b92749",
   "metadata": {},
   "outputs": [
    {
     "name": "stderr",
     "output_type": "stream",
     "text": [
      "C:\\Users\\INDIA\\anaconda3\\lib\\site-packages\\sklearn\\linear_model\\_logistic.py:444: ConvergenceWarning: lbfgs failed to converge (status=1):\n",
      "STOP: TOTAL NO. of ITERATIONS REACHED LIMIT.\n",
      "\n",
      "Increase the number of iterations (max_iter) or scale the data as shown in:\n",
      "    https://scikit-learn.org/stable/modules/preprocessing.html\n",
      "Please also refer to the documentation for alternative solver options:\n",
      "    https://scikit-learn.org/stable/modules/linear_model.html#logistic-regression\n",
      "  n_iter_i = _check_optimize_result(\n"
     ]
    },
    {
     "data": {
      "text/html": [
       "<style>#sk-container-id-2 {color: black;background-color: white;}#sk-container-id-2 pre{padding: 0;}#sk-container-id-2 div.sk-toggleable {background-color: white;}#sk-container-id-2 label.sk-toggleable__label {cursor: pointer;display: block;width: 100%;margin-bottom: 0;padding: 0.3em;box-sizing: border-box;text-align: center;}#sk-container-id-2 label.sk-toggleable__label-arrow:before {content: \"▸\";float: left;margin-right: 0.25em;color: #696969;}#sk-container-id-2 label.sk-toggleable__label-arrow:hover:before {color: black;}#sk-container-id-2 div.sk-estimator:hover label.sk-toggleable__label-arrow:before {color: black;}#sk-container-id-2 div.sk-toggleable__content {max-height: 0;max-width: 0;overflow: hidden;text-align: left;background-color: #f0f8ff;}#sk-container-id-2 div.sk-toggleable__content pre {margin: 0.2em;color: black;border-radius: 0.25em;background-color: #f0f8ff;}#sk-container-id-2 input.sk-toggleable__control:checked~div.sk-toggleable__content {max-height: 200px;max-width: 100%;overflow: auto;}#sk-container-id-2 input.sk-toggleable__control:checked~label.sk-toggleable__label-arrow:before {content: \"▾\";}#sk-container-id-2 div.sk-estimator input.sk-toggleable__control:checked~label.sk-toggleable__label {background-color: #d4ebff;}#sk-container-id-2 div.sk-label input.sk-toggleable__control:checked~label.sk-toggleable__label {background-color: #d4ebff;}#sk-container-id-2 input.sk-hidden--visually {border: 0;clip: rect(1px 1px 1px 1px);clip: rect(1px, 1px, 1px, 1px);height: 1px;margin: -1px;overflow: hidden;padding: 0;position: absolute;width: 1px;}#sk-container-id-2 div.sk-estimator {font-family: monospace;background-color: #f0f8ff;border: 1px dotted black;border-radius: 0.25em;box-sizing: border-box;margin-bottom: 0.5em;}#sk-container-id-2 div.sk-estimator:hover {background-color: #d4ebff;}#sk-container-id-2 div.sk-parallel-item::after {content: \"\";width: 100%;border-bottom: 1px solid gray;flex-grow: 1;}#sk-container-id-2 div.sk-label:hover label.sk-toggleable__label {background-color: #d4ebff;}#sk-container-id-2 div.sk-serial::before {content: \"\";position: absolute;border-left: 1px solid gray;box-sizing: border-box;top: 0;bottom: 0;left: 50%;z-index: 0;}#sk-container-id-2 div.sk-serial {display: flex;flex-direction: column;align-items: center;background-color: white;padding-right: 0.2em;padding-left: 0.2em;position: relative;}#sk-container-id-2 div.sk-item {position: relative;z-index: 1;}#sk-container-id-2 div.sk-parallel {display: flex;align-items: stretch;justify-content: center;background-color: white;position: relative;}#sk-container-id-2 div.sk-item::before, #sk-container-id-2 div.sk-parallel-item::before {content: \"\";position: absolute;border-left: 1px solid gray;box-sizing: border-box;top: 0;bottom: 0;left: 50%;z-index: -1;}#sk-container-id-2 div.sk-parallel-item {display: flex;flex-direction: column;z-index: 1;position: relative;background-color: white;}#sk-container-id-2 div.sk-parallel-item:first-child::after {align-self: flex-end;width: 50%;}#sk-container-id-2 div.sk-parallel-item:last-child::after {align-self: flex-start;width: 50%;}#sk-container-id-2 div.sk-parallel-item:only-child::after {width: 0;}#sk-container-id-2 div.sk-dashed-wrapped {border: 1px dashed gray;margin: 0 0.4em 0.5em 0.4em;box-sizing: border-box;padding-bottom: 0.4em;background-color: white;}#sk-container-id-2 div.sk-label label {font-family: monospace;font-weight: bold;display: inline-block;line-height: 1.2em;}#sk-container-id-2 div.sk-label-container {text-align: center;}#sk-container-id-2 div.sk-container {/* jupyter's `normalize.less` sets `[hidden] { display: none; }` but bootstrap.min.css set `[hidden] { display: none !important; }` so we also need the `!important` here to be able to override the default hidden behavior on the sphinx rendered scikit-learn.org. See: https://github.com/scikit-learn/scikit-learn/issues/21755 */display: inline-block !important;position: relative;}#sk-container-id-2 div.sk-text-repr-fallback {display: none;}</style><div id=\"sk-container-id-2\" class=\"sk-top-container\"><div class=\"sk-text-repr-fallback\"><pre>LogisticRegression()</pre><b>In a Jupyter environment, please rerun this cell to show the HTML representation or trust the notebook. <br />On GitHub, the HTML representation is unable to render, please try loading this page with nbviewer.org.</b></div><div class=\"sk-container\" hidden><div class=\"sk-item\"><div class=\"sk-estimator sk-toggleable\"><input class=\"sk-toggleable__control sk-hidden--visually\" id=\"sk-estimator-id-2\" type=\"checkbox\" checked><label for=\"sk-estimator-id-2\" class=\"sk-toggleable__label sk-toggleable__label-arrow\">LogisticRegression</label><div class=\"sk-toggleable__content\"><pre>LogisticRegression()</pre></div></div></div></div></div>"
      ],
      "text/plain": [
       "LogisticRegression()"
      ]
     },
     "execution_count": 71,
     "metadata": {},
     "output_type": "execute_result"
    }
   ],
   "source": [
    "classifier.fit(x_train,y_train)"
   ]
  },
  {
   "cell_type": "code",
   "execution_count": 72,
   "id": "71f5263b",
   "metadata": {},
   "outputs": [
    {
     "data": {
      "text/plain": [
       "array([1, 1, 1, ..., 1, 1, 0], dtype=int64)"
      ]
     },
     "execution_count": 72,
     "metadata": {},
     "output_type": "execute_result"
    }
   ],
   "source": [
    "y_pred1=classifier.predict(x_test)\n",
    "y_pred1"
   ]
  },
  {
   "cell_type": "code",
   "execution_count": 73,
   "id": "4e34506b",
   "metadata": {},
   "outputs": [
    {
     "name": "stdout",
     "output_type": "stream",
     "text": [
      "              precision    recall  f1-score   support\n",
      "\n",
      "           0       0.80      0.83      0.82      1058\n",
      "           1       0.83      0.79      0.81      1058\n",
      "\n",
      "    accuracy                           0.81      2116\n",
      "   macro avg       0.81      0.81      0.81      2116\n",
      "weighted avg       0.81      0.81      0.81      2116\n",
      "\n"
     ]
    }
   ],
   "source": [
    "print(classification_report(y_test,y_pred1))"
   ]
  },
  {
   "cell_type": "code",
   "execution_count": 74,
   "id": "15c37761",
   "metadata": {},
   "outputs": [
    {
     "data": {
      "text/plain": [
       "0.8109640831758034"
      ]
     },
     "execution_count": 74,
     "metadata": {},
     "output_type": "execute_result"
    }
   ],
   "source": [
    "from sklearn.metrics import roc_auc_score\n",
    "from sklearn.metrics import roc_curve\n",
    "Logit_roc_score=roc_auc_score(y_test,y_pred1)\n",
    "Logit_roc_score"
   ]
  },
  {
   "cell_type": "code",
   "execution_count": 75,
   "id": "583f5938",
   "metadata": {},
   "outputs": [
    {
     "data": {
      "text/plain": [
       "Text(0, 0.5, 'True Positive Rate')"
      ]
     },
     "execution_count": 75,
     "metadata": {},
     "output_type": "execute_result"
    },
    {
     "data": {
      "image/png": "[encoded data removed]",
      "text/plain": [
       "<Figure size 432x288 with 1 Axes>"
      ]
     },
     "metadata": {
      "needs_background": "light"
     },
     "output_type": "display_data"
    }
   ],
   "source": [
    "from sklearn.metrics import roc_curve\n",
    "from sklearn.metrics import roc_auc_score\n",
    "\n",
    "fpr, tpr, thresholds = roc_curve(y_test, y_pred1)\n",
    "\n",
    "auc = roc_auc_score(y_test, y_pred1)\n",
    "\n",
    "import matplotlib.pyplot as plt\n",
    "plt.plot(fpr, tpr, color='red', label='logit model ( area  = %0.2f)'%auc)\n",
    "plt.plot([0, 1], [0, 1], 'k--')\n",
    "plt.xlabel('False Positive Rate or [1 - True Negative Rate]')\n",
    "plt.ylabel('True Positive Rate')"
   ]
  },
  {
   "cell_type": "code",
   "execution_count": 76,
   "id": "ca8c7925",
   "metadata": {},
   "outputs": [
    {
     "data": {
      "text/plain": [
       "0.8109640831758034"
      ]
     },
     "execution_count": 76,
     "metadata": {},
     "output_type": "execute_result"
    }
   ],
   "source": [
    "auc"
   ]
  },
  {
   "cell_type": "markdown",
   "id": "0d7b9540",
   "metadata": {},
   "source": [
    "By using the Under Sampling Technique I Got the Accuracy ,Precision ,recall and f1-score very effective and efficient to the model"
   ]
  },
  {
   "cell_type": "markdown",
   "id": "4e02c1bf",
   "metadata": {},
   "source": [
    "# SMOTE"
   ]
  },
  {
   "cell_type": "markdown",
   "id": "f7186094",
   "metadata": {},
   "source": [
    "SMOTE Technique==> Synthetic Minority Over-sampling Technique"
   ]
  },
  {
   "cell_type": "code",
   "execution_count": 78,
   "id": "a68cc786",
   "metadata": {},
   "outputs": [],
   "source": [
    "x=data.drop('y',axis='columns')\n",
    "y=data[\"y\"]"
   ]
  },
  {
   "cell_type": "code",
   "execution_count": 79,
   "id": "125d2b24",
   "metadata": {},
   "outputs": [
    {
     "data": {
      "text/plain": [
       "0    39922\n",
       "1     5289\n",
       "Name: y, dtype: int64"
      ]
     },
     "execution_count": 79,
     "metadata": {},
     "output_type": "execute_result"
    }
   ],
   "source": [
    "y.value_counts()"
   ]
  },
  {
   "cell_type": "code",
   "execution_count": 80,
   "id": "abd1d15d",
   "metadata": {},
   "outputs": [],
   "source": [
    "from imblearn.over_sampling import SMOTE\n",
    "smote=SMOTE(sampling_strategy='minority',random_state=1)\n",
    "x_train_sm,y_train_sm=smote.fit_resample(x,y)"
   ]
  },
  {
   "cell_type": "code",
   "execution_count": 81,
   "id": "61fedf10",
   "metadata": {},
   "outputs": [
    {
     "name": "stdout",
     "output_type": "stream",
     "text": [
      "Before SMOTE : Counter({0: 39922, 1: 5289})\n",
      "After SMOTE : Counter({0: 39922, 1: 39922})\n"
     ]
    }
   ],
   "source": [
    "from collections import  Counter\n",
    "print(\"Before SMOTE :\",Counter(y))\n",
    "print(\"After SMOTE :\",Counter(y_train_sm))"
   ]
  },
  {
   "cell_type": "code",
   "execution_count": 82,
   "id": "41cd563c",
   "metadata": {},
   "outputs": [
    {
     "name": "stderr",
     "output_type": "stream",
     "text": [
      "C:\\Users\\INDIA\\anaconda3\\lib\\site-packages\\sklearn\\linear_model\\_logistic.py:444: ConvergenceWarning: lbfgs failed to converge (status=1):\n",
      "STOP: TOTAL NO. of ITERATIONS REACHED LIMIT.\n",
      "\n",
      "Increase the number of iterations (max_iter) or scale the data as shown in:\n",
      "    https://scikit-learn.org/stable/modules/preprocessing.html\n",
      "Please also refer to the documentation for alternative solver options:\n",
      "    https://scikit-learn.org/stable/modules/linear_model.html#logistic-regression\n",
      "  n_iter_i = _check_optimize_result(\n"
     ]
    }
   ],
   "source": [
    "from sklearn.metrics import accuracy_score\n",
    "classifier.fit(x_train_sm,y_train_sm)\n",
    "y_pred=classifier.predict(x_test)"
   ]
  },
  {
   "cell_type": "code",
   "execution_count": 83,
   "id": "7b154448",
   "metadata": {},
   "outputs": [
    {
     "name": "stdout",
     "output_type": "stream",
     "text": [
      "0.7585066162570888\n"
     ]
    },
    {
     "data": {
      "text/html": [
       "<div>\n",
       "<style scoped>\n",
       "    .dataframe tbody tr th:only-of-type {\n",
       "        vertical-align: middle;\n",
       "    }\n",
       "\n",
       "    .dataframe tbody tr th {\n",
       "        vertical-align: top;\n",
       "    }\n",
       "\n",
       "    .dataframe thead th {\n",
       "        text-align: right;\n",
       "    }\n",
       "</style>\n",
       "<table border=\"1\" class=\"dataframe\">\n",
       "  <thead>\n",
       "    <tr style=\"text-align: right;\">\n",
       "      <th>col_0</th>\n",
       "      <th>0</th>\n",
       "      <th>1</th>\n",
       "    </tr>\n",
       "    <tr>\n",
       "      <th>y</th>\n",
       "      <th></th>\n",
       "      <th></th>\n",
       "    </tr>\n",
       "  </thead>\n",
       "  <tbody>\n",
       "    <tr>\n",
       "      <th>0</th>\n",
       "      <td>933</td>\n",
       "      <td>125</td>\n",
       "    </tr>\n",
       "    <tr>\n",
       "      <th>1</th>\n",
       "      <td>386</td>\n",
       "      <td>672</td>\n",
       "    </tr>\n",
       "  </tbody>\n",
       "</table>\n",
       "</div>"
      ],
      "text/plain": [
       "col_0    0    1\n",
       "y              \n",
       "0      933  125\n",
       "1      386  672"
      ]
     },
     "execution_count": 83,
     "metadata": {},
     "output_type": "execute_result"
    }
   ],
   "source": [
    "print(accuracy_score(y_test,y_pred))\n",
    "pd.crosstab(y_test,y_pred)"
   ]
  },
  {
   "cell_type": "code",
   "execution_count": 84,
   "id": "0c050970",
   "metadata": {},
   "outputs": [
    {
     "data": {
      "text/plain": [
       "87.79510301208592"
      ]
     },
     "execution_count": 84,
     "metadata": {},
     "output_type": "execute_result"
    }
   ],
   "source": [
    "((7044+6976)/(7044+940+1009+6976))*100"
   ]
  },
  {
   "cell_type": "code",
   "execution_count": 85,
   "id": "99502c87",
   "metadata": {},
   "outputs": [
    {
     "name": "stdout",
     "output_type": "stream",
     "text": [
      "0.7585066162570888\n"
     ]
    }
   ],
   "source": [
    "print(accuracy_score(y_test,y_pred))"
   ]
  },
  {
   "cell_type": "code",
   "execution_count": 86,
   "id": "e9fdc961",
   "metadata": {},
   "outputs": [
    {
     "name": "stdout",
     "output_type": "stream",
     "text": [
      "              precision    recall  f1-score   support\n",
      "\n",
      "           0       0.71      0.88      0.79      1058\n",
      "           1       0.84      0.64      0.72      1058\n",
      "\n",
      "    accuracy                           0.76      2116\n",
      "   macro avg       0.78      0.76      0.75      2116\n",
      "weighted avg       0.78      0.76      0.75      2116\n",
      "\n"
     ]
    }
   ],
   "source": [
    "print(classification_report(y_test,y_pred))"
   ]
  },
  {
   "cell_type": "code",
   "execution_count": 87,
   "id": "65d98c50",
   "metadata": {},
   "outputs": [
    {
     "data": {
      "text/plain": [
       "0.7585066162570887"
      ]
     },
     "execution_count": 87,
     "metadata": {},
     "output_type": "execute_result"
    }
   ],
   "source": [
    "from sklearn.metrics import roc_auc_score\n",
    "from sklearn.metrics import roc_curve\n",
    "Logit_roc_score=roc_auc_score(y_test,y_pred)\n",
    "Logit_roc_score"
   ]
  },
  {
   "cell_type": "code",
   "execution_count": 88,
   "id": "08cda86d",
   "metadata": {},
   "outputs": [
    {
     "data": {
      "text/plain": [
       "Text(0, 0.5, 'True Positive Rate')"
      ]
     },
     "execution_count": 88,
     "metadata": {},
     "output_type": "execute_result"
    },
    {
     "data": {
      "image/png": "[encoded data removed]",
      "text/plain": [
       "<Figure size 432x288 with 1 Axes>"
      ]
     },
     "metadata": {
      "needs_background": "light"
     },
     "output_type": "display_data"
    }
   ],
   "source": [
    "from sklearn.metrics import roc_curve\n",
    "from sklearn.metrics import roc_auc_score\n",
    "\n",
    "fpr, tpr, thresholds = roc_curve(y_test, y_pred)\n",
    "\n",
    "auc = roc_auc_score(y_test, y_pred)\n",
    "\n",
    "import matplotlib.pyplot as plt\n",
    "plt.plot(fpr, tpr, color='red', label='logit model ( area  = %0.2f)'%auc)\n",
    "plt.plot([0, 1], [0, 1], 'k--')\n",
    "plt.xlabel('False Positive Rate or [1 - True Negative Rate]')\n",
    "plt.ylabel('True Positive Rate')"
   ]
  },
  {
   "cell_type": "code",
   "execution_count": 89,
   "id": "9a338cf6",
   "metadata": {},
   "outputs": [
    {
     "data": {
      "text/plain": [
       "0.7585066162570887"
      ]
     },
     "execution_count": 89,
     "metadata": {},
     "output_type": "execute_result"
    }
   ],
   "source": [
    "auc"
   ]
  },
  {
   "cell_type": "markdown",
   "id": "91b33831",
   "metadata": {},
   "source": [
    "# Over Sampling\n"
   ]
  },
  {
   "cell_type": "code",
   "execution_count": 90,
   "id": "96846522",
   "metadata": {},
   "outputs": [],
   "source": [
    "x=data.drop('y',axis='columns')\n",
    "y=data[\"y\"]"
   ]
  },
  {
   "cell_type": "code",
   "execution_count": 91,
   "id": "b756a851",
   "metadata": {},
   "outputs": [
    {
     "data": {
      "text/plain": [
       "0    39922\n",
       "1     5289\n",
       "Name: y, dtype: int64"
      ]
     },
     "execution_count": 91,
     "metadata": {},
     "output_type": "execute_result"
    }
   ],
   "source": [
    "y.value_counts()"
   ]
  },
  {
   "cell_type": "code",
   "execution_count": 92,
   "id": "ff1ef88f",
   "metadata": {},
   "outputs": [
    {
     "data": {
      "text/html": [
       "<div>\n",
       "<style scoped>\n",
       "    .dataframe tbody tr th:only-of-type {\n",
       "        vertical-align: middle;\n",
       "    }\n",
       "\n",
       "    .dataframe tbody tr th {\n",
       "        vertical-align: top;\n",
       "    }\n",
       "\n",
       "    .dataframe thead th {\n",
       "        text-align: right;\n",
       "    }\n",
       "</style>\n",
       "<table border=\"1\" class=\"dataframe\">\n",
       "  <thead>\n",
       "    <tr style=\"text-align: right;\">\n",
       "      <th></th>\n",
       "      <th>age</th>\n",
       "      <th>default</th>\n",
       "      <th>balance</th>\n",
       "      <th>housing</th>\n",
       "      <th>loan</th>\n",
       "      <th>duration</th>\n",
       "      <th>campaign</th>\n",
       "      <th>pdays</th>\n",
       "      <th>previous</th>\n",
       "      <th>poutfailure</th>\n",
       "      <th>...</th>\n",
       "      <th>johousemaid</th>\n",
       "      <th>jomanagement</th>\n",
       "      <th>joretired</th>\n",
       "      <th>joself.employed</th>\n",
       "      <th>joservices</th>\n",
       "      <th>jostudent</th>\n",
       "      <th>jotechnician</th>\n",
       "      <th>jounemployed</th>\n",
       "      <th>jounknown</th>\n",
       "      <th>y</th>\n",
       "    </tr>\n",
       "  </thead>\n",
       "  <tbody>\n",
       "    <tr>\n",
       "      <th>0</th>\n",
       "      <td>58</td>\n",
       "      <td>0</td>\n",
       "      <td>2143</td>\n",
       "      <td>1</td>\n",
       "      <td>0</td>\n",
       "      <td>261</td>\n",
       "      <td>1</td>\n",
       "      <td>-1</td>\n",
       "      <td>0</td>\n",
       "      <td>0</td>\n",
       "      <td>...</td>\n",
       "      <td>0</td>\n",
       "      <td>1</td>\n",
       "      <td>0</td>\n",
       "      <td>0</td>\n",
       "      <td>0</td>\n",
       "      <td>0</td>\n",
       "      <td>0</td>\n",
       "      <td>0</td>\n",
       "      <td>0</td>\n",
       "      <td>0</td>\n",
       "    </tr>\n",
       "    <tr>\n",
       "      <th>1</th>\n",
       "      <td>44</td>\n",
       "      <td>0</td>\n",
       "      <td>29</td>\n",
       "      <td>1</td>\n",
       "      <td>0</td>\n",
       "      <td>151</td>\n",
       "      <td>1</td>\n",
       "      <td>-1</td>\n",
       "      <td>0</td>\n",
       "      <td>0</td>\n",
       "      <td>...</td>\n",
       "      <td>0</td>\n",
       "      <td>0</td>\n",
       "      <td>0</td>\n",
       "      <td>0</td>\n",
       "      <td>0</td>\n",
       "      <td>0</td>\n",
       "      <td>1</td>\n",
       "      <td>0</td>\n",
       "      <td>0</td>\n",
       "      <td>0</td>\n",
       "    </tr>\n",
       "    <tr>\n",
       "      <th>2</th>\n",
       "      <td>33</td>\n",
       "      <td>0</td>\n",
       "      <td>2</td>\n",
       "      <td>1</td>\n",
       "      <td>1</td>\n",
       "      <td>76</td>\n",
       "      <td>1</td>\n",
       "      <td>-1</td>\n",
       "      <td>0</td>\n",
       "      <td>0</td>\n",
       "      <td>...</td>\n",
       "      <td>0</td>\n",
       "      <td>0</td>\n",
       "      <td>0</td>\n",
       "      <td>0</td>\n",
       "      <td>0</td>\n",
       "      <td>0</td>\n",
       "      <td>0</td>\n",
       "      <td>0</td>\n",
       "      <td>0</td>\n",
       "      <td>0</td>\n",
       "    </tr>\n",
       "    <tr>\n",
       "      <th>3</th>\n",
       "      <td>47</td>\n",
       "      <td>0</td>\n",
       "      <td>1506</td>\n",
       "      <td>1</td>\n",
       "      <td>0</td>\n",
       "      <td>92</td>\n",
       "      <td>1</td>\n",
       "      <td>-1</td>\n",
       "      <td>0</td>\n",
       "      <td>0</td>\n",
       "      <td>...</td>\n",
       "      <td>0</td>\n",
       "      <td>0</td>\n",
       "      <td>0</td>\n",
       "      <td>0</td>\n",
       "      <td>0</td>\n",
       "      <td>0</td>\n",
       "      <td>0</td>\n",
       "      <td>0</td>\n",
       "      <td>0</td>\n",
       "      <td>0</td>\n",
       "    </tr>\n",
       "    <tr>\n",
       "      <th>4</th>\n",
       "      <td>33</td>\n",
       "      <td>0</td>\n",
       "      <td>1</td>\n",
       "      <td>0</td>\n",
       "      <td>0</td>\n",
       "      <td>198</td>\n",
       "      <td>1</td>\n",
       "      <td>-1</td>\n",
       "      <td>0</td>\n",
       "      <td>0</td>\n",
       "      <td>...</td>\n",
       "      <td>0</td>\n",
       "      <td>0</td>\n",
       "      <td>0</td>\n",
       "      <td>0</td>\n",
       "      <td>0</td>\n",
       "      <td>0</td>\n",
       "      <td>0</td>\n",
       "      <td>0</td>\n",
       "      <td>1</td>\n",
       "      <td>0</td>\n",
       "    </tr>\n",
       "    <tr>\n",
       "      <th>...</th>\n",
       "      <td>...</td>\n",
       "      <td>...</td>\n",
       "      <td>...</td>\n",
       "      <td>...</td>\n",
       "      <td>...</td>\n",
       "      <td>...</td>\n",
       "      <td>...</td>\n",
       "      <td>...</td>\n",
       "      <td>...</td>\n",
       "      <td>...</td>\n",
       "      <td>...</td>\n",
       "      <td>...</td>\n",
       "      <td>...</td>\n",
       "      <td>...</td>\n",
       "      <td>...</td>\n",
       "      <td>...</td>\n",
       "      <td>...</td>\n",
       "      <td>...</td>\n",
       "      <td>...</td>\n",
       "      <td>...</td>\n",
       "      <td>...</td>\n",
       "    </tr>\n",
       "    <tr>\n",
       "      <th>45194</th>\n",
       "      <td>59</td>\n",
       "      <td>0</td>\n",
       "      <td>138</td>\n",
       "      <td>1</td>\n",
       "      <td>1</td>\n",
       "      <td>162</td>\n",
       "      <td>2</td>\n",
       "      <td>187</td>\n",
       "      <td>5</td>\n",
       "      <td>1</td>\n",
       "      <td>...</td>\n",
       "      <td>0</td>\n",
       "      <td>1</td>\n",
       "      <td>0</td>\n",
       "      <td>0</td>\n",
       "      <td>0</td>\n",
       "      <td>0</td>\n",
       "      <td>0</td>\n",
       "      <td>0</td>\n",
       "      <td>0</td>\n",
       "      <td>0</td>\n",
       "    </tr>\n",
       "    <tr>\n",
       "      <th>45198</th>\n",
       "      <td>37</td>\n",
       "      <td>0</td>\n",
       "      <td>1428</td>\n",
       "      <td>0</td>\n",
       "      <td>0</td>\n",
       "      <td>333</td>\n",
       "      <td>2</td>\n",
       "      <td>-1</td>\n",
       "      <td>0</td>\n",
       "      <td>0</td>\n",
       "      <td>...</td>\n",
       "      <td>0</td>\n",
       "      <td>1</td>\n",
       "      <td>0</td>\n",
       "      <td>0</td>\n",
       "      <td>0</td>\n",
       "      <td>0</td>\n",
       "      <td>0</td>\n",
       "      <td>0</td>\n",
       "      <td>0</td>\n",
       "      <td>0</td>\n",
       "    </tr>\n",
       "    <tr>\n",
       "      <th>45199</th>\n",
       "      <td>34</td>\n",
       "      <td>0</td>\n",
       "      <td>1475</td>\n",
       "      <td>1</td>\n",
       "      <td>0</td>\n",
       "      <td>1166</td>\n",
       "      <td>3</td>\n",
       "      <td>530</td>\n",
       "      <td>12</td>\n",
       "      <td>0</td>\n",
       "      <td>...</td>\n",
       "      <td>0</td>\n",
       "      <td>0</td>\n",
       "      <td>0</td>\n",
       "      <td>0</td>\n",
       "      <td>0</td>\n",
       "      <td>0</td>\n",
       "      <td>0</td>\n",
       "      <td>0</td>\n",
       "      <td>0</td>\n",
       "      <td>0</td>\n",
       "    </tr>\n",
       "    <tr>\n",
       "      <th>45209</th>\n",
       "      <td>57</td>\n",
       "      <td>0</td>\n",
       "      <td>668</td>\n",
       "      <td>0</td>\n",
       "      <td>0</td>\n",
       "      <td>508</td>\n",
       "      <td>4</td>\n",
       "      <td>-1</td>\n",
       "      <td>0</td>\n",
       "      <td>0</td>\n",
       "      <td>...</td>\n",
       "      <td>0</td>\n",
       "      <td>0</td>\n",
       "      <td>0</td>\n",
       "      <td>0</td>\n",
       "      <td>0</td>\n",
       "      <td>0</td>\n",
       "      <td>0</td>\n",
       "      <td>0</td>\n",
       "      <td>0</td>\n",
       "      <td>0</td>\n",
       "    </tr>\n",
       "    <tr>\n",
       "      <th>45210</th>\n",
       "      <td>37</td>\n",
       "      <td>0</td>\n",
       "      <td>2971</td>\n",
       "      <td>0</td>\n",
       "      <td>0</td>\n",
       "      <td>361</td>\n",
       "      <td>2</td>\n",
       "      <td>188</td>\n",
       "      <td>11</td>\n",
       "      <td>0</td>\n",
       "      <td>...</td>\n",
       "      <td>0</td>\n",
       "      <td>0</td>\n",
       "      <td>0</td>\n",
       "      <td>0</td>\n",
       "      <td>0</td>\n",
       "      <td>0</td>\n",
       "      <td>0</td>\n",
       "      <td>0</td>\n",
       "      <td>0</td>\n",
       "      <td>0</td>\n",
       "    </tr>\n",
       "  </tbody>\n",
       "</table>\n",
       "<p>39922 rows × 32 columns</p>\n",
       "</div>"
      ],
      "text/plain": [
       "       age  default  balance  housing  loan  duration  campaign  pdays  \\\n",
       "0       58        0     2143        1     0       261         1     -1   \n",
       "1       44        0       29        1     0       151         1     -1   \n",
       "2       33        0        2        1     1        76         1     -1   \n",
       "3       47        0     1506        1     0        92         1     -1   \n",
       "4       33        0        1        0     0       198         1     -1   \n",
       "...    ...      ...      ...      ...   ...       ...       ...    ...   \n",
       "45194   59        0      138        1     1       162         2    187   \n",
       "45198   37        0     1428        0     0       333         2     -1   \n",
       "45199   34        0     1475        1     0      1166         3    530   \n",
       "45209   57        0      668        0     0       508         4     -1   \n",
       "45210   37        0     2971        0     0       361         2    188   \n",
       "\n",
       "       previous  poutfailure  ...  johousemaid  jomanagement  joretired  \\\n",
       "0             0            0  ...            0             1          0   \n",
       "1             0            0  ...            0             0          0   \n",
       "2             0            0  ...            0             0          0   \n",
       "3             0            0  ...            0             0          0   \n",
       "4             0            0  ...            0             0          0   \n",
       "...         ...          ...  ...          ...           ...        ...   \n",
       "45194         5            1  ...            0             1          0   \n",
       "45198         0            0  ...            0             1          0   \n",
       "45199        12            0  ...            0             0          0   \n",
       "45209         0            0  ...            0             0          0   \n",
       "45210        11            0  ...            0             0          0   \n",
       "\n",
       "       joself.employed  joservices  jostudent  jotechnician  jounemployed  \\\n",
       "0                    0           0          0             0             0   \n",
       "1                    0           0          0             1             0   \n",
       "2                    0           0          0             0             0   \n",
       "3                    0           0          0             0             0   \n",
       "4                    0           0          0             0             0   \n",
       "...                ...         ...        ...           ...           ...   \n",
       "45194                0           0          0             0             0   \n",
       "45198                0           0          0             0             0   \n",
       "45199                0           0          0             0             0   \n",
       "45209                0           0          0             0             0   \n",
       "45210                0           0          0             0             0   \n",
       "\n",
       "       jounknown  y  \n",
       "0              0  0  \n",
       "1              0  0  \n",
       "2              0  0  \n",
       "3              0  0  \n",
       "4              1  0  \n",
       "...          ... ..  \n",
       "45194          0  0  \n",
       "45198          0  0  \n",
       "45199          0  0  \n",
       "45209          0  0  \n",
       "45210          0  0  \n",
       "\n",
       "[39922 rows x 32 columns]"
      ]
     },
     "execution_count": 92,
     "metadata": {},
     "output_type": "execute_result"
    }
   ],
   "source": [
    "new_Df=pd.DataFrame(count_0)\n",
    "new_Df"
   ]
  },
  {
   "cell_type": "code",
   "execution_count": 94,
   "id": "215153e8",
   "metadata": {},
   "outputs": [
    {
     "data": {
      "text/html": [
       "<div>\n",
       "<style scoped>\n",
       "    .dataframe tbody tr th:only-of-type {\n",
       "        vertical-align: middle;\n",
       "    }\n",
       "\n",
       "    .dataframe tbody tr th {\n",
       "        vertical-align: top;\n",
       "    }\n",
       "\n",
       "    .dataframe thead th {\n",
       "        text-align: right;\n",
       "    }\n",
       "</style>\n",
       "<table border=\"1\" class=\"dataframe\">\n",
       "  <thead>\n",
       "    <tr style=\"text-align: right;\">\n",
       "      <th></th>\n",
       "      <th>age</th>\n",
       "      <th>default</th>\n",
       "      <th>balance</th>\n",
       "      <th>housing</th>\n",
       "      <th>loan</th>\n",
       "      <th>duration</th>\n",
       "      <th>campaign</th>\n",
       "      <th>pdays</th>\n",
       "      <th>previous</th>\n",
       "      <th>poutfailure</th>\n",
       "      <th>...</th>\n",
       "      <th>johousemaid</th>\n",
       "      <th>jomanagement</th>\n",
       "      <th>joretired</th>\n",
       "      <th>joself.employed</th>\n",
       "      <th>joservices</th>\n",
       "      <th>jostudent</th>\n",
       "      <th>jotechnician</th>\n",
       "      <th>jounemployed</th>\n",
       "      <th>jounknown</th>\n",
       "      <th>y</th>\n",
       "    </tr>\n",
       "  </thead>\n",
       "  <tbody>\n",
       "    <tr>\n",
       "      <th>22457</th>\n",
       "      <td>44</td>\n",
       "      <td>1</td>\n",
       "      <td>-26</td>\n",
       "      <td>0</td>\n",
       "      <td>0</td>\n",
       "      <td>92</td>\n",
       "      <td>4</td>\n",
       "      <td>-1</td>\n",
       "      <td>0</td>\n",
       "      <td>0</td>\n",
       "      <td>...</td>\n",
       "      <td>0</td>\n",
       "      <td>1</td>\n",
       "      <td>0</td>\n",
       "      <td>0</td>\n",
       "      <td>0</td>\n",
       "      <td>0</td>\n",
       "      <td>0</td>\n",
       "      <td>0</td>\n",
       "      <td>0</td>\n",
       "      <td>0</td>\n",
       "    </tr>\n",
       "  </tbody>\n",
       "</table>\n",
       "<p>1 rows × 32 columns</p>\n",
       "</div>"
      ],
      "text/plain": [
       "       age  default  balance  housing  loan  duration  campaign  pdays  \\\n",
       "22457   44        1      -26        0     0        92         4     -1   \n",
       "\n",
       "       previous  poutfailure  ...  johousemaid  jomanagement  joretired  \\\n",
       "22457         0            0  ...            0             1          0   \n",
       "\n",
       "       joself.employed  joservices  jostudent  jotechnician  jounemployed  \\\n",
       "22457                0           0          0             0             0   \n",
       "\n",
       "       jounknown  y  \n",
       "22457          0  0  \n",
       "\n",
       "[1 rows x 32 columns]"
      ]
     },
     "execution_count": 94,
     "metadata": {},
     "output_type": "execute_result"
    }
   ],
   "source": [
    "over_count_1=new_Df.sample()\n",
    "over_count_1"
   ]
  },
  {
   "cell_type": "code",
   "execution_count": 95,
   "id": "91da6507",
   "metadata": {},
   "outputs": [
    {
     "data": {
      "text/plain": [
       "34633"
      ]
     },
     "execution_count": 95,
     "metadata": {},
     "output_type": "execute_result"
    }
   ],
   "source": [
    "39922-5289"
   ]
  },
  {
   "cell_type": "markdown",
   "id": "74ea8ab6",
   "metadata": {},
   "source": [
    "---------------------------------------------------------------------END---------------------------------------------------"
   ]
  },
  {
   "cell_type": "code",
   "execution_count": null,
   "id": "5020ef2e",
   "metadata": {},
   "outputs": [],
   "source": []
  }
 ],
 "metadata": {
  "kernelspec": {
   "display_name": "Python 3 (ipykernel)",
   "language": "python",
   "name": "python3"
  },
  "language_info": {
   "codemirror_mode": {
    "name": "ipython",
    "version": 3
   },
   "file_extension": ".py",
   "mimetype": "text/x-python",
   "name": "python",
   "nbconvert_exporter": "python",
   "pygments_lexer": "ipython3",
   "version": "3.9.7"
  }
 },
 "nbformat": 4,
 "nbformat_minor": 5
}
