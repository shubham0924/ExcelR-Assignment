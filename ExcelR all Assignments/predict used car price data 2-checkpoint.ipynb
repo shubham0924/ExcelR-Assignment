{
 "cells": [
  {
   "cell_type": "code",
   "execution_count": 1,
   "id": "70cff541",
   "metadata": {},
   "outputs": [],
   "source": [
    "import pandas as pd \n",
    "import numpy as np\n",
    "import matplotlib.pyplot as plt\n",
    "%matplotlib inline\n",
    "import seaborn as sns \n",
    "import warnings\n",
    "warnings.filterwarnings('ignore')\n",
    "from sklearn.metrics import mean_squared_error,r2_score,mean_absolute_error\n",
    "from sklearn import linear_model\n",
    "from sklearn.preprocessing import MinMaxScaler\n",
    "from sklearn.tree import DecisionTreeRegressor\n"
   ]
  },
  {
   "cell_type": "code",
   "execution_count": 2,
   "id": "edcc4df4",
   "metadata": {},
   "outputs": [],
   "source": [
    "data = pd.read_csv(\"D:\\\\excelR\\\\csvfiles\\\\true_car_listings.csv\")\n",
    "data1=pd.read_csv(\"D:\\\\excelR\\\\csvfiles\\\\tc20171021.csv\",on_bad_lines='skip')"
   ]
  },
  {
   "cell_type": "code",
   "execution_count": 3,
   "id": "fd23ea86",
   "metadata": {},
   "outputs": [
    {
     "data": {
      "text/html": [
       "<div>\n",
       "<style scoped>\n",
       "    .dataframe tbody tr th:only-of-type {\n",
       "        vertical-align: middle;\n",
       "    }\n",
       "\n",
       "    .dataframe tbody tr th {\n",
       "        vertical-align: top;\n",
       "    }\n",
       "\n",
       "    .dataframe thead th {\n",
       "        text-align: right;\n",
       "    }\n",
       "</style>\n",
       "<table border=\"1\" class=\"dataframe\">\n",
       "  <thead>\n",
       "    <tr style=\"text-align: right;\">\n",
       "      <th></th>\n",
       "      <th>Price</th>\n",
       "      <th>Year</th>\n",
       "      <th>Mileage</th>\n",
       "      <th>City</th>\n",
       "      <th>State</th>\n",
       "      <th>Vin</th>\n",
       "      <th>Make</th>\n",
       "      <th>Model</th>\n",
       "    </tr>\n",
       "  </thead>\n",
       "  <tbody>\n",
       "    <tr>\n",
       "      <th>0</th>\n",
       "      <td>8995</td>\n",
       "      <td>2014</td>\n",
       "      <td>35725</td>\n",
       "      <td>El Paso</td>\n",
       "      <td>TX</td>\n",
       "      <td>19VDE2E53EE000083</td>\n",
       "      <td>Acura</td>\n",
       "      <td>ILX6-Speed</td>\n",
       "    </tr>\n",
       "    <tr>\n",
       "      <th>1</th>\n",
       "      <td>10888</td>\n",
       "      <td>2013</td>\n",
       "      <td>19606</td>\n",
       "      <td>Long Island City</td>\n",
       "      <td>NY</td>\n",
       "      <td>19VDE1F52DE012636</td>\n",
       "      <td>Acura</td>\n",
       "      <td>ILX5-Speed</td>\n",
       "    </tr>\n",
       "    <tr>\n",
       "      <th>2</th>\n",
       "      <td>8995</td>\n",
       "      <td>2013</td>\n",
       "      <td>48851</td>\n",
       "      <td>El Paso</td>\n",
       "      <td>TX</td>\n",
       "      <td>19VDE2E52DE000025</td>\n",
       "      <td>Acura</td>\n",
       "      <td>ILX6-Speed</td>\n",
       "    </tr>\n",
       "    <tr>\n",
       "      <th>3</th>\n",
       "      <td>10999</td>\n",
       "      <td>2014</td>\n",
       "      <td>39922</td>\n",
       "      <td>Windsor</td>\n",
       "      <td>CO</td>\n",
       "      <td>19VDE1F71EE003817</td>\n",
       "      <td>Acura</td>\n",
       "      <td>ILX5-Speed</td>\n",
       "    </tr>\n",
       "    <tr>\n",
       "      <th>4</th>\n",
       "      <td>14799</td>\n",
       "      <td>2016</td>\n",
       "      <td>22142</td>\n",
       "      <td>Lindon</td>\n",
       "      <td>UT</td>\n",
       "      <td>19UDE2F32GA001284</td>\n",
       "      <td>Acura</td>\n",
       "      <td>ILXAutomatic</td>\n",
       "    </tr>\n",
       "    <tr>\n",
       "      <th>...</th>\n",
       "      <td>...</td>\n",
       "      <td>...</td>\n",
       "      <td>...</td>\n",
       "      <td>...</td>\n",
       "      <td>...</td>\n",
       "      <td>...</td>\n",
       "      <td>...</td>\n",
       "      <td>...</td>\n",
       "    </tr>\n",
       "    <tr>\n",
       "      <th>852117</th>\n",
       "      <td>63215</td>\n",
       "      <td>2017</td>\n",
       "      <td>9</td>\n",
       "      <td>Culver City</td>\n",
       "      <td>CA</td>\n",
       "      <td>YV1A22MK9H1013237</td>\n",
       "      <td>Volvo</td>\n",
       "      <td>S90T6</td>\n",
       "    </tr>\n",
       "    <tr>\n",
       "      <th>852118</th>\n",
       "      <td>72260</td>\n",
       "      <td>2017</td>\n",
       "      <td>3201</td>\n",
       "      <td>Englewood</td>\n",
       "      <td>NJ</td>\n",
       "      <td>YV4A22PL3H1186162</td>\n",
       "      <td>Volvo</td>\n",
       "      <td>XC90T6</td>\n",
       "    </tr>\n",
       "    <tr>\n",
       "      <th>852119</th>\n",
       "      <td>55999</td>\n",
       "      <td>2016</td>\n",
       "      <td>28941</td>\n",
       "      <td>Fort Collins</td>\n",
       "      <td>CO</td>\n",
       "      <td>YV4A22PL4G1000868</td>\n",
       "      <td>Volvo</td>\n",
       "      <td>XC90AWD</td>\n",
       "    </tr>\n",
       "    <tr>\n",
       "      <th>852120</th>\n",
       "      <td>60240</td>\n",
       "      <td>2017</td>\n",
       "      <td>3005</td>\n",
       "      <td>San Leandro</td>\n",
       "      <td>CA</td>\n",
       "      <td>YV4A22NLXH1006162</td>\n",
       "      <td>Volvo</td>\n",
       "      <td>V90</td>\n",
       "    </tr>\n",
       "    <tr>\n",
       "      <th>852121</th>\n",
       "      <td>76995</td>\n",
       "      <td>2017</td>\n",
       "      <td>2502</td>\n",
       "      <td>New York</td>\n",
       "      <td>NY</td>\n",
       "      <td>YV4BC0ZX1H1109845</td>\n",
       "      <td>Volvo</td>\n",
       "      <td>XC90T8</td>\n",
       "    </tr>\n",
       "  </tbody>\n",
       "</table>\n",
       "<p>852122 rows × 8 columns</p>\n",
       "</div>"
      ],
      "text/plain": [
       "        Price  Year  Mileage              City State                Vin  \\\n",
       "0        8995  2014    35725           El Paso    TX  19VDE2E53EE000083   \n",
       "1       10888  2013    19606  Long Island City    NY  19VDE1F52DE012636   \n",
       "2        8995  2013    48851           El Paso    TX  19VDE2E52DE000025   \n",
       "3       10999  2014    39922           Windsor    CO  19VDE1F71EE003817   \n",
       "4       14799  2016    22142            Lindon    UT  19UDE2F32GA001284   \n",
       "...       ...   ...      ...               ...   ...                ...   \n",
       "852117  63215  2017        9       Culver City    CA  YV1A22MK9H1013237   \n",
       "852118  72260  2017     3201         Englewood    NJ  YV4A22PL3H1186162   \n",
       "852119  55999  2016    28941      Fort Collins    CO  YV4A22PL4G1000868   \n",
       "852120  60240  2017     3005       San Leandro    CA  YV4A22NLXH1006162   \n",
       "852121  76995  2017     2502          New York    NY  YV4BC0ZX1H1109845   \n",
       "\n",
       "         Make         Model  \n",
       "0       Acura    ILX6-Speed  \n",
       "1       Acura    ILX5-Speed  \n",
       "2       Acura    ILX6-Speed  \n",
       "3       Acura    ILX5-Speed  \n",
       "4       Acura  ILXAutomatic  \n",
       "...       ...           ...  \n",
       "852117  Volvo         S90T6  \n",
       "852118  Volvo        XC90T6  \n",
       "852119  Volvo       XC90AWD  \n",
       "852120  Volvo           V90  \n",
       "852121  Volvo        XC90T8  \n",
       "\n",
       "[852122 rows x 8 columns]"
      ]
     },
     "execution_count": 3,
     "metadata": {},
     "output_type": "execute_result"
    }
   ],
   "source": [
    "data"
   ]
  },
  {
   "cell_type": "code",
   "execution_count": 4,
   "id": "a8bffdb1",
   "metadata": {},
   "outputs": [
    {
     "data": {
      "text/html": [
       "<div>\n",
       "<style scoped>\n",
       "    .dataframe tbody tr th:only-of-type {\n",
       "        vertical-align: middle;\n",
       "    }\n",
       "\n",
       "    .dataframe tbody tr th {\n",
       "        vertical-align: top;\n",
       "    }\n",
       "\n",
       "    .dataframe thead th {\n",
       "        text-align: right;\n",
       "    }\n",
       "</style>\n",
       "<table border=\"1\" class=\"dataframe\">\n",
       "  <thead>\n",
       "    <tr style=\"text-align: right;\">\n",
       "      <th></th>\n",
       "      <th>Id</th>\n",
       "      <th>Price</th>\n",
       "      <th>Year</th>\n",
       "      <th>Mileage</th>\n",
       "      <th>City</th>\n",
       "      <th>State</th>\n",
       "      <th>Vin</th>\n",
       "      <th>Make</th>\n",
       "      <th>Model</th>\n",
       "    </tr>\n",
       "  </thead>\n",
       "  <tbody>\n",
       "    <tr>\n",
       "      <th>0</th>\n",
       "      <td>1</td>\n",
       "      <td>16472</td>\n",
       "      <td>2015</td>\n",
       "      <td>18681</td>\n",
       "      <td>Jefferson City</td>\n",
       "      <td>MO</td>\n",
       "      <td>KL4CJBSBXFB267643</td>\n",
       "      <td>Buick</td>\n",
       "      <td>EncoreConvenience</td>\n",
       "    </tr>\n",
       "    <tr>\n",
       "      <th>1</th>\n",
       "      <td>2</td>\n",
       "      <td>15749</td>\n",
       "      <td>2015</td>\n",
       "      <td>27592</td>\n",
       "      <td>Highland</td>\n",
       "      <td>IN</td>\n",
       "      <td>KL4CJASB5FB245057</td>\n",
       "      <td>Buick</td>\n",
       "      <td>EncoreFWD</td>\n",
       "    </tr>\n",
       "    <tr>\n",
       "      <th>2</th>\n",
       "      <td>3</td>\n",
       "      <td>16998</td>\n",
       "      <td>2015</td>\n",
       "      <td>13650</td>\n",
       "      <td>Boone</td>\n",
       "      <td>NC</td>\n",
       "      <td>KL4CJCSB0FB264921</td>\n",
       "      <td>Buick</td>\n",
       "      <td>EncoreLeather</td>\n",
       "    </tr>\n",
       "    <tr>\n",
       "      <th>3</th>\n",
       "      <td>4</td>\n",
       "      <td>15777</td>\n",
       "      <td>2015</td>\n",
       "      <td>25195</td>\n",
       "      <td>New Orleans</td>\n",
       "      <td>LA</td>\n",
       "      <td>KL4CJASB4FB217542</td>\n",
       "      <td>Buick</td>\n",
       "      <td>EncoreFWD</td>\n",
       "    </tr>\n",
       "    <tr>\n",
       "      <th>4</th>\n",
       "      <td>5</td>\n",
       "      <td>16784</td>\n",
       "      <td>2015</td>\n",
       "      <td>22800</td>\n",
       "      <td>Las Vegas</td>\n",
       "      <td>NV</td>\n",
       "      <td>KL4CJBSB3FB166881</td>\n",
       "      <td>Buick</td>\n",
       "      <td>EncoreConvenience</td>\n",
       "    </tr>\n",
       "  </tbody>\n",
       "</table>\n",
       "</div>"
      ],
      "text/plain": [
       "   Id  Price  Year  Mileage            City State                Vin   Make  \\\n",
       "0   1  16472  2015    18681  Jefferson City    MO  KL4CJBSBXFB267643  Buick   \n",
       "1   2  15749  2015    27592        Highland    IN  KL4CJASB5FB245057  Buick   \n",
       "2   3  16998  2015    13650           Boone    NC  KL4CJCSB0FB264921  Buick   \n",
       "3   4  15777  2015    25195     New Orleans    LA  KL4CJASB4FB217542  Buick   \n",
       "4   5  16784  2015    22800       Las Vegas    NV  KL4CJBSB3FB166881  Buick   \n",
       "\n",
       "               Model  \n",
       "0  EncoreConvenience  \n",
       "1          EncoreFWD  \n",
       "2      EncoreLeather  \n",
       "3          EncoreFWD  \n",
       "4  EncoreConvenience  "
      ]
     },
     "execution_count": 4,
     "metadata": {},
     "output_type": "execute_result"
    }
   ],
   "source": [
    "data1\n",
    "data1.head()"
   ]
  },
  {
   "cell_type": "code",
   "execution_count": 5,
   "id": "d54fd896",
   "metadata": {},
   "outputs": [
    {
     "data": {
      "text/html": [
       "<div>\n",
       "<style scoped>\n",
       "    .dataframe tbody tr th:only-of-type {\n",
       "        vertical-align: middle;\n",
       "    }\n",
       "\n",
       "    .dataframe tbody tr th {\n",
       "        vertical-align: top;\n",
       "    }\n",
       "\n",
       "    .dataframe thead th {\n",
       "        text-align: right;\n",
       "    }\n",
       "</style>\n",
       "<table border=\"1\" class=\"dataframe\">\n",
       "  <thead>\n",
       "    <tr style=\"text-align: right;\">\n",
       "      <th></th>\n",
       "      <th>Price</th>\n",
       "      <th>Year</th>\n",
       "      <th>Mileage</th>\n",
       "      <th>City</th>\n",
       "      <th>State</th>\n",
       "      <th>Vin</th>\n",
       "      <th>Make</th>\n",
       "      <th>Model</th>\n",
       "      <th>Id</th>\n",
       "    </tr>\n",
       "  </thead>\n",
       "  <tbody>\n",
       "    <tr>\n",
       "      <th>0</th>\n",
       "      <td>8995</td>\n",
       "      <td>2014</td>\n",
       "      <td>35725</td>\n",
       "      <td>El Paso</td>\n",
       "      <td>TX</td>\n",
       "      <td>19VDE2E53EE000083</td>\n",
       "      <td>Acura</td>\n",
       "      <td>ILX6-Speed</td>\n",
       "      <td>NaN</td>\n",
       "    </tr>\n",
       "    <tr>\n",
       "      <th>1</th>\n",
       "      <td>10888</td>\n",
       "      <td>2013</td>\n",
       "      <td>19606</td>\n",
       "      <td>Long Island City</td>\n",
       "      <td>NY</td>\n",
       "      <td>19VDE1F52DE012636</td>\n",
       "      <td>Acura</td>\n",
       "      <td>ILX5-Speed</td>\n",
       "      <td>NaN</td>\n",
       "    </tr>\n",
       "    <tr>\n",
       "      <th>2</th>\n",
       "      <td>8995</td>\n",
       "      <td>2013</td>\n",
       "      <td>48851</td>\n",
       "      <td>El Paso</td>\n",
       "      <td>TX</td>\n",
       "      <td>19VDE2E52DE000025</td>\n",
       "      <td>Acura</td>\n",
       "      <td>ILX6-Speed</td>\n",
       "      <td>NaN</td>\n",
       "    </tr>\n",
       "    <tr>\n",
       "      <th>3</th>\n",
       "      <td>10999</td>\n",
       "      <td>2014</td>\n",
       "      <td>39922</td>\n",
       "      <td>Windsor</td>\n",
       "      <td>CO</td>\n",
       "      <td>19VDE1F71EE003817</td>\n",
       "      <td>Acura</td>\n",
       "      <td>ILX5-Speed</td>\n",
       "      <td>NaN</td>\n",
       "    </tr>\n",
       "    <tr>\n",
       "      <th>4</th>\n",
       "      <td>14799</td>\n",
       "      <td>2016</td>\n",
       "      <td>22142</td>\n",
       "      <td>Lindon</td>\n",
       "      <td>UT</td>\n",
       "      <td>19UDE2F32GA001284</td>\n",
       "      <td>Acura</td>\n",
       "      <td>ILXAutomatic</td>\n",
       "      <td>NaN</td>\n",
       "    </tr>\n",
       "    <tr>\n",
       "      <th>...</th>\n",
       "      <td>...</td>\n",
       "      <td>...</td>\n",
       "      <td>...</td>\n",
       "      <td>...</td>\n",
       "      <td>...</td>\n",
       "      <td>...</td>\n",
       "      <td>...</td>\n",
       "      <td>...</td>\n",
       "      <td>...</td>\n",
       "    </tr>\n",
       "    <tr>\n",
       "      <th>2068367</th>\n",
       "      <td>79900</td>\n",
       "      <td>2017</td>\n",
       "      <td>25</td>\n",
       "      <td>East Hanover</td>\n",
       "      <td>NJ</td>\n",
       "      <td>YV4BC0ZX0H1128239</td>\n",
       "      <td>Volvo</td>\n",
       "      <td>XC90T8</td>\n",
       "      <td>1233038.0</td>\n",
       "    </tr>\n",
       "    <tr>\n",
       "      <th>2068368</th>\n",
       "      <td>80895</td>\n",
       "      <td>2017</td>\n",
       "      <td>10</td>\n",
       "      <td>Corte Madera</td>\n",
       "      <td>CA</td>\n",
       "      <td>YV4BC0ZX0H1124188</td>\n",
       "      <td>Volvo</td>\n",
       "      <td>XC90T8</td>\n",
       "      <td>1233039.0</td>\n",
       "    </tr>\n",
       "    <tr>\n",
       "      <th>2068369</th>\n",
       "      <td>68755</td>\n",
       "      <td>2018</td>\n",
       "      <td>2500</td>\n",
       "      <td>Englewood</td>\n",
       "      <td>NJ</td>\n",
       "      <td>YV4A22PL4J1212676</td>\n",
       "      <td>Volvo</td>\n",
       "      <td>XC90T6</td>\n",
       "      <td>1233040.0</td>\n",
       "    </tr>\n",
       "    <tr>\n",
       "      <th>2068370</th>\n",
       "      <td>72260</td>\n",
       "      <td>2017</td>\n",
       "      <td>3201</td>\n",
       "      <td>Englewood</td>\n",
       "      <td>NJ</td>\n",
       "      <td>YV4A22PL3H1186162</td>\n",
       "      <td>Volvo</td>\n",
       "      <td>XC90T6</td>\n",
       "      <td>1233041.0</td>\n",
       "    </tr>\n",
       "    <tr>\n",
       "      <th>2068371</th>\n",
       "      <td>60240</td>\n",
       "      <td>2017</td>\n",
       "      <td>8342</td>\n",
       "      <td>San Leandro</td>\n",
       "      <td>CA</td>\n",
       "      <td>YV4A22NLXH1006162</td>\n",
       "      <td>Volvo</td>\n",
       "      <td>V90</td>\n",
       "      <td>1233042.0</td>\n",
       "    </tr>\n",
       "  </tbody>\n",
       "</table>\n",
       "<p>2068372 rows × 9 columns</p>\n",
       "</div>"
      ],
      "text/plain": [
       "         Price  Year  Mileage              City State                Vin  \\\n",
       "0         8995  2014    35725           El Paso    TX  19VDE2E53EE000083   \n",
       "1        10888  2013    19606  Long Island City    NY  19VDE1F52DE012636   \n",
       "2         8995  2013    48851           El Paso    TX  19VDE2E52DE000025   \n",
       "3        10999  2014    39922           Windsor    CO  19VDE1F71EE003817   \n",
       "4        14799  2016    22142            Lindon    UT  19UDE2F32GA001284   \n",
       "...        ...   ...      ...               ...   ...                ...   \n",
       "2068367  79900  2017       25      East Hanover    NJ  YV4BC0ZX0H1128239   \n",
       "2068368  80895  2017       10      Corte Madera    CA  YV4BC0ZX0H1124188   \n",
       "2068369  68755  2018     2500         Englewood    NJ  YV4A22PL4J1212676   \n",
       "2068370  72260  2017     3201         Englewood    NJ  YV4A22PL3H1186162   \n",
       "2068371  60240  2017     8342       San Leandro    CA  YV4A22NLXH1006162   \n",
       "\n",
       "          Make         Model         Id  \n",
       "0        Acura    ILX6-Speed        NaN  \n",
       "1        Acura    ILX5-Speed        NaN  \n",
       "2        Acura    ILX6-Speed        NaN  \n",
       "3        Acura    ILX5-Speed        NaN  \n",
       "4        Acura  ILXAutomatic        NaN  \n",
       "...        ...           ...        ...  \n",
       "2068367  Volvo        XC90T8  1233038.0  \n",
       "2068368  Volvo        XC90T8  1233039.0  \n",
       "2068369  Volvo        XC90T6  1233040.0  \n",
       "2068370  Volvo        XC90T6  1233041.0  \n",
       "2068371  Volvo           V90  1233042.0  \n",
       "\n",
       "[2068372 rows x 9 columns]"
      ]
     },
     "execution_count": 5,
     "metadata": {},
     "output_type": "execute_result"
    }
   ],
   "source": [
    "data2= pd.concat([data, data1], ignore_index=True)\n",
    "data2"
   ]
  },
  {
   "cell_type": "code",
   "execution_count": 6,
   "id": "74ac8027",
   "metadata": {},
   "outputs": [
    {
     "data": {
      "text/html": [
       "<div>\n",
       "<style scoped>\n",
       "    .dataframe tbody tr th:only-of-type {\n",
       "        vertical-align: middle;\n",
       "    }\n",
       "\n",
       "    .dataframe tbody tr th {\n",
       "        vertical-align: top;\n",
       "    }\n",
       "\n",
       "    .dataframe thead th {\n",
       "        text-align: right;\n",
       "    }\n",
       "</style>\n",
       "<table border=\"1\" class=\"dataframe\">\n",
       "  <thead>\n",
       "    <tr style=\"text-align: right;\">\n",
       "      <th></th>\n",
       "      <th>Price</th>\n",
       "      <th>Year</th>\n",
       "      <th>Mileage</th>\n",
       "      <th>City</th>\n",
       "      <th>State</th>\n",
       "      <th>Vin</th>\n",
       "      <th>Make</th>\n",
       "      <th>Model</th>\n",
       "    </tr>\n",
       "  </thead>\n",
       "  <tbody>\n",
       "    <tr>\n",
       "      <th>0</th>\n",
       "      <td>8995</td>\n",
       "      <td>2014</td>\n",
       "      <td>35725</td>\n",
       "      <td>El Paso</td>\n",
       "      <td>TX</td>\n",
       "      <td>19VDE2E53EE000083</td>\n",
       "      <td>Acura</td>\n",
       "      <td>ILX6-Speed</td>\n",
       "    </tr>\n",
       "    <tr>\n",
       "      <th>1</th>\n",
       "      <td>10888</td>\n",
       "      <td>2013</td>\n",
       "      <td>19606</td>\n",
       "      <td>Long Island City</td>\n",
       "      <td>NY</td>\n",
       "      <td>19VDE1F52DE012636</td>\n",
       "      <td>Acura</td>\n",
       "      <td>ILX5-Speed</td>\n",
       "    </tr>\n",
       "    <tr>\n",
       "      <th>2</th>\n",
       "      <td>8995</td>\n",
       "      <td>2013</td>\n",
       "      <td>48851</td>\n",
       "      <td>El Paso</td>\n",
       "      <td>TX</td>\n",
       "      <td>19VDE2E52DE000025</td>\n",
       "      <td>Acura</td>\n",
       "      <td>ILX6-Speed</td>\n",
       "    </tr>\n",
       "    <tr>\n",
       "      <th>3</th>\n",
       "      <td>10999</td>\n",
       "      <td>2014</td>\n",
       "      <td>39922</td>\n",
       "      <td>Windsor</td>\n",
       "      <td>CO</td>\n",
       "      <td>19VDE1F71EE003817</td>\n",
       "      <td>Acura</td>\n",
       "      <td>ILX5-Speed</td>\n",
       "    </tr>\n",
       "    <tr>\n",
       "      <th>4</th>\n",
       "      <td>14799</td>\n",
       "      <td>2016</td>\n",
       "      <td>22142</td>\n",
       "      <td>Lindon</td>\n",
       "      <td>UT</td>\n",
       "      <td>19UDE2F32GA001284</td>\n",
       "      <td>Acura</td>\n",
       "      <td>ILXAutomatic</td>\n",
       "    </tr>\n",
       "    <tr>\n",
       "      <th>...</th>\n",
       "      <td>...</td>\n",
       "      <td>...</td>\n",
       "      <td>...</td>\n",
       "      <td>...</td>\n",
       "      <td>...</td>\n",
       "      <td>...</td>\n",
       "      <td>...</td>\n",
       "      <td>...</td>\n",
       "    </tr>\n",
       "    <tr>\n",
       "      <th>2068367</th>\n",
       "      <td>79900</td>\n",
       "      <td>2017</td>\n",
       "      <td>25</td>\n",
       "      <td>East Hanover</td>\n",
       "      <td>NJ</td>\n",
       "      <td>YV4BC0ZX0H1128239</td>\n",
       "      <td>Volvo</td>\n",
       "      <td>XC90T8</td>\n",
       "    </tr>\n",
       "    <tr>\n",
       "      <th>2068368</th>\n",
       "      <td>80895</td>\n",
       "      <td>2017</td>\n",
       "      <td>10</td>\n",
       "      <td>Corte Madera</td>\n",
       "      <td>CA</td>\n",
       "      <td>YV4BC0ZX0H1124188</td>\n",
       "      <td>Volvo</td>\n",
       "      <td>XC90T8</td>\n",
       "    </tr>\n",
       "    <tr>\n",
       "      <th>2068369</th>\n",
       "      <td>68755</td>\n",
       "      <td>2018</td>\n",
       "      <td>2500</td>\n",
       "      <td>Englewood</td>\n",
       "      <td>NJ</td>\n",
       "      <td>YV4A22PL4J1212676</td>\n",
       "      <td>Volvo</td>\n",
       "      <td>XC90T6</td>\n",
       "    </tr>\n",
       "    <tr>\n",
       "      <th>2068370</th>\n",
       "      <td>72260</td>\n",
       "      <td>2017</td>\n",
       "      <td>3201</td>\n",
       "      <td>Englewood</td>\n",
       "      <td>NJ</td>\n",
       "      <td>YV4A22PL3H1186162</td>\n",
       "      <td>Volvo</td>\n",
       "      <td>XC90T6</td>\n",
       "    </tr>\n",
       "    <tr>\n",
       "      <th>2068371</th>\n",
       "      <td>60240</td>\n",
       "      <td>2017</td>\n",
       "      <td>8342</td>\n",
       "      <td>San Leandro</td>\n",
       "      <td>CA</td>\n",
       "      <td>YV4A22NLXH1006162</td>\n",
       "      <td>Volvo</td>\n",
       "      <td>V90</td>\n",
       "    </tr>\n",
       "  </tbody>\n",
       "</table>\n",
       "<p>2068372 rows × 8 columns</p>\n",
       "</div>"
      ],
      "text/plain": [
       "         Price  Year  Mileage              City State                Vin  \\\n",
       "0         8995  2014    35725           El Paso    TX  19VDE2E53EE000083   \n",
       "1        10888  2013    19606  Long Island City    NY  19VDE1F52DE012636   \n",
       "2         8995  2013    48851           El Paso    TX  19VDE2E52DE000025   \n",
       "3        10999  2014    39922           Windsor    CO  19VDE1F71EE003817   \n",
       "4        14799  2016    22142            Lindon    UT  19UDE2F32GA001284   \n",
       "...        ...   ...      ...               ...   ...                ...   \n",
       "2068367  79900  2017       25      East Hanover    NJ  YV4BC0ZX0H1128239   \n",
       "2068368  80895  2017       10      Corte Madera    CA  YV4BC0ZX0H1124188   \n",
       "2068369  68755  2018     2500         Englewood    NJ  YV4A22PL4J1212676   \n",
       "2068370  72260  2017     3201         Englewood    NJ  YV4A22PL3H1186162   \n",
       "2068371  60240  2017     8342       San Leandro    CA  YV4A22NLXH1006162   \n",
       "\n",
       "          Make         Model  \n",
       "0        Acura    ILX6-Speed  \n",
       "1        Acura    ILX5-Speed  \n",
       "2        Acura    ILX6-Speed  \n",
       "3        Acura    ILX5-Speed  \n",
       "4        Acura  ILXAutomatic  \n",
       "...        ...           ...  \n",
       "2068367  Volvo        XC90T8  \n",
       "2068368  Volvo        XC90T8  \n",
       "2068369  Volvo        XC90T6  \n",
       "2068370  Volvo        XC90T6  \n",
       "2068371  Volvo           V90  \n",
       "\n",
       "[2068372 rows x 8 columns]"
      ]
     },
     "execution_count": 6,
     "metadata": {},
     "output_type": "execute_result"
    }
   ],
   "source": [
    "data2=data2.dropna(axis=1)\n",
    "data2"
   ]
  },
  {
   "cell_type": "code",
   "execution_count": 7,
   "id": "a488b77a",
   "metadata": {},
   "outputs": [
    {
     "name": "stdout",
     "output_type": "stream",
     "text": [
      "<class 'pandas.core.frame.DataFrame'>\n",
      "RangeIndex: 2068372 entries, 0 to 2068371\n",
      "Data columns (total 8 columns):\n",
      " #   Column   Dtype \n",
      "---  ------   ----- \n",
      " 0   Price    int64 \n",
      " 1   Year     int64 \n",
      " 2   Mileage  int64 \n",
      " 3   City     object\n",
      " 4   State    object\n",
      " 5   Vin      object\n",
      " 6   Make     object\n",
      " 7   Model    object\n",
      "dtypes: int64(3), object(5)\n",
      "memory usage: 126.2+ MB\n"
     ]
    }
   ],
   "source": [
    "data2.info()"
   ]
  },
  {
   "cell_type": "code",
   "execution_count": 8,
   "id": "69ad10f4",
   "metadata": {},
   "outputs": [
    {
     "data": {
      "text/plain": [
       "Price      0\n",
       "Year       0\n",
       "Mileage    0\n",
       "City       0\n",
       "State      0\n",
       "Vin        0\n",
       "Make       0\n",
       "Model      0\n",
       "dtype: int64"
      ]
     },
     "execution_count": 8,
     "metadata": {},
     "output_type": "execute_result"
    }
   ],
   "source": [
    "data2.isnull().sum()"
   ]
  },
  {
   "cell_type": "code",
   "execution_count": 9,
   "id": "c907e6ce",
   "metadata": {},
   "outputs": [
    {
     "data": {
      "text/html": [
       "<div>\n",
       "<style scoped>\n",
       "    .dataframe tbody tr th:only-of-type {\n",
       "        vertical-align: middle;\n",
       "    }\n",
       "\n",
       "    .dataframe tbody tr th {\n",
       "        vertical-align: top;\n",
       "    }\n",
       "\n",
       "    .dataframe thead th {\n",
       "        text-align: right;\n",
       "    }\n",
       "</style>\n",
       "<table border=\"1\" class=\"dataframe\">\n",
       "  <thead>\n",
       "    <tr style=\"text-align: right;\">\n",
       "      <th></th>\n",
       "      <th>Price</th>\n",
       "      <th>Year</th>\n",
       "      <th>Mileage</th>\n",
       "    </tr>\n",
       "  </thead>\n",
       "  <tbody>\n",
       "    <tr>\n",
       "      <th>count</th>\n",
       "      <td>2.068372e+06</td>\n",
       "      <td>2.068372e+06</td>\n",
       "      <td>2.068372e+06</td>\n",
       "    </tr>\n",
       "    <tr>\n",
       "      <th>mean</th>\n",
       "      <td>2.117289e+04</td>\n",
       "      <td>2.013300e+03</td>\n",
       "      <td>5.274318e+04</td>\n",
       "    </tr>\n",
       "    <tr>\n",
       "      <th>std</th>\n",
       "      <td>1.334331e+04</td>\n",
       "      <td>3.430814e+00</td>\n",
       "      <td>6.836142e+04</td>\n",
       "    </tr>\n",
       "    <tr>\n",
       "      <th>min</th>\n",
       "      <td>1.500000e+03</td>\n",
       "      <td>1.997000e+03</td>\n",
       "      <td>5.000000e+00</td>\n",
       "    </tr>\n",
       "    <tr>\n",
       "      <th>25%</th>\n",
       "      <td>1.299500e+04</td>\n",
       "      <td>2.012000e+03</td>\n",
       "      <td>2.391000e+04</td>\n",
       "    </tr>\n",
       "    <tr>\n",
       "      <th>50%</th>\n",
       "      <td>1.800000e+04</td>\n",
       "      <td>2.014000e+03</td>\n",
       "      <td>4.042300e+04</td>\n",
       "    </tr>\n",
       "    <tr>\n",
       "      <th>75%</th>\n",
       "      <td>2.681700e+04</td>\n",
       "      <td>2.016000e+03</td>\n",
       "      <td>7.250400e+04</td>\n",
       "    </tr>\n",
       "    <tr>\n",
       "      <th>max</th>\n",
       "      <td>4.995000e+05</td>\n",
       "      <td>2.018000e+03</td>\n",
       "      <td>7.758776e+07</td>\n",
       "    </tr>\n",
       "  </tbody>\n",
       "</table>\n",
       "</div>"
      ],
      "text/plain": [
       "              Price          Year       Mileage\n",
       "count  2.068372e+06  2.068372e+06  2.068372e+06\n",
       "mean   2.117289e+04  2.013300e+03  5.274318e+04\n",
       "std    1.334331e+04  3.430814e+00  6.836142e+04\n",
       "min    1.500000e+03  1.997000e+03  5.000000e+00\n",
       "25%    1.299500e+04  2.012000e+03  2.391000e+04\n",
       "50%    1.800000e+04  2.014000e+03  4.042300e+04\n",
       "75%    2.681700e+04  2.016000e+03  7.250400e+04\n",
       "max    4.995000e+05  2.018000e+03  7.758776e+07"
      ]
     },
     "execution_count": 9,
     "metadata": {},
     "output_type": "execute_result"
    }
   ],
   "source": [
    "data2.describe()"
   ]
  },
  {
   "cell_type": "code",
   "execution_count": 10,
   "id": "79fdd972",
   "metadata": {},
   "outputs": [
    {
     "data": {
      "image/png": "[encoded data removed]",
      "text/plain": [
       "<Figure size 432x288 with 1 Axes>"
      ]
     },
     "metadata": {
      "needs_background": "light"
     },
     "output_type": "display_data"
    }
   ],
   "source": [
    "plt.hist(data2['Price'])\n",
    "plt.show()"
   ]
  },
  {
   "cell_type": "code",
   "execution_count": 11,
   "id": "17952f36",
   "metadata": {},
   "outputs": [
    {
     "data": {
      "text/plain": [
       "<AxesSubplot:xlabel='Price'>"
      ]
     },
     "execution_count": 11,
     "metadata": {},
     "output_type": "execute_result"
    },
    {
     "data": {
      "image/png": "[encoded data removed]",
      "text/plain": [
       "<Figure size 432x288 with 1 Axes>"
      ]
     },
     "metadata": {
      "needs_background": "light"
     },
     "output_type": "display_data"
    }
   ],
   "source": [
    "sns.boxplot(data2['Price'])"
   ]
  },
  {
   "cell_type": "code",
   "execution_count": 12,
   "id": "7d471dda",
   "metadata": {},
   "outputs": [
    {
     "data": {
      "text/plain": [
       "<AxesSubplot:xlabel='Year'>"
      ]
     },
     "execution_count": 12,
     "metadata": {},
     "output_type": "execute_result"
    },
    {
     "data": {
      "image/png": "[encoded data removed]",
      "text/plain": [
       "<Figure size 432x288 with 1 Axes>"
      ]
     },
     "metadata": {
      "needs_background": "light"
     },
     "output_type": "display_data"
    }
   ],
   "source": [
    "sns.boxplot(data2['Year'])"
   ]
  },
  {
   "cell_type": "code",
   "execution_count": 13,
   "id": "b84f97b0",
   "metadata": {},
   "outputs": [
    {
     "data": {
      "image/png": "[encoded data removed]",
      "text/plain": [
       "<Figure size 432x288 with 1 Axes>"
      ]
     },
     "metadata": {
      "needs_background": "light"
     },
     "output_type": "display_data"
    }
   ],
   "source": [
    "plt.hist(data2['Mileage'])\n",
    "plt.show()"
   ]
  },
  {
   "cell_type": "code",
   "execution_count": 14,
   "id": "6007b1f9",
   "metadata": {},
   "outputs": [
    {
     "data": {
      "text/plain": [
       "<AxesSubplot:xlabel='Mileage'>"
      ]
     },
     "execution_count": 14,
     "metadata": {},
     "output_type": "execute_result"
    },
    {
     "data": {
      "image/png": "[encoded data removed]",
      "text/plain": [
       "<Figure size 432x288 with 1 Axes>"
      ]
     },
     "metadata": {
      "needs_background": "light"
     },
     "output_type": "display_data"
    }
   ],
   "source": [
    "sns.boxplot(data2['Mileage'])"
   ]
  },
  {
   "cell_type": "markdown",
   "id": "e17c1cd5",
   "metadata": {},
   "source": [
    "removing outliers from mileage columns through IQR"
   ]
  },
  {
   "cell_type": "code",
   "execution_count": 15,
   "id": "4106004a",
   "metadata": {},
   "outputs": [
    {
     "name": "stdout",
     "output_type": "stream",
     "text": [
      "48594.0\n"
     ]
    }
   ],
   "source": [
    "Q1 = data2['Mileage'].quantile(0.25)\n",
    "Q3 = data2['Mileage'].quantile(0.75)\n",
    "IQR = Q3 - Q1\n",
    "print(IQR)"
   ]
  },
  {
   "cell_type": "code",
   "execution_count": 16,
   "id": "4cc24cf0",
   "metadata": {},
   "outputs": [
    {
     "data": {
      "text/plain": [
       "(array([   1179,    1240,    1328, ..., 2068050, 2068177, 2068315],\n",
       "       dtype=int64),)"
      ]
     },
     "execution_count": 16,
     "metadata": {},
     "output_type": "execute_result"
    }
   ],
   "source": [
    "data2_out= np.where((data2['Mileage'] < (Q1 - 1.5 * IQR)) | (data2['Mileage'] > (Q3 + 1.5 * IQR)))\n",
    "data2_out"
   ]
  },
  {
   "cell_type": "code",
   "execution_count": 17,
   "id": "137b0e22",
   "metadata": {},
   "outputs": [
    {
     "data": {
      "text/html": [
       "<div>\n",
       "<style scoped>\n",
       "    .dataframe tbody tr th:only-of-type {\n",
       "        vertical-align: middle;\n",
       "    }\n",
       "\n",
       "    .dataframe tbody tr th {\n",
       "        vertical-align: top;\n",
       "    }\n",
       "\n",
       "    .dataframe thead th {\n",
       "        text-align: right;\n",
       "    }\n",
       "</style>\n",
       "<table border=\"1\" class=\"dataframe\">\n",
       "  <thead>\n",
       "    <tr style=\"text-align: right;\">\n",
       "      <th></th>\n",
       "      <th>Price</th>\n",
       "      <th>Year</th>\n",
       "      <th>Mileage</th>\n",
       "      <th>City</th>\n",
       "      <th>State</th>\n",
       "      <th>Vin</th>\n",
       "      <th>Make</th>\n",
       "      <th>Model</th>\n",
       "    </tr>\n",
       "  </thead>\n",
       "  <tbody>\n",
       "    <tr>\n",
       "      <th>0</th>\n",
       "      <td>8995</td>\n",
       "      <td>2014</td>\n",
       "      <td>35725</td>\n",
       "      <td>El Paso</td>\n",
       "      <td>TX</td>\n",
       "      <td>19VDE2E53EE000083</td>\n",
       "      <td>Acura</td>\n",
       "      <td>ILX6-Speed</td>\n",
       "    </tr>\n",
       "    <tr>\n",
       "      <th>1</th>\n",
       "      <td>10888</td>\n",
       "      <td>2013</td>\n",
       "      <td>19606</td>\n",
       "      <td>Long Island City</td>\n",
       "      <td>NY</td>\n",
       "      <td>19VDE1F52DE012636</td>\n",
       "      <td>Acura</td>\n",
       "      <td>ILX5-Speed</td>\n",
       "    </tr>\n",
       "    <tr>\n",
       "      <th>2</th>\n",
       "      <td>8995</td>\n",
       "      <td>2013</td>\n",
       "      <td>48851</td>\n",
       "      <td>El Paso</td>\n",
       "      <td>TX</td>\n",
       "      <td>19VDE2E52DE000025</td>\n",
       "      <td>Acura</td>\n",
       "      <td>ILX6-Speed</td>\n",
       "    </tr>\n",
       "    <tr>\n",
       "      <th>3</th>\n",
       "      <td>10999</td>\n",
       "      <td>2014</td>\n",
       "      <td>39922</td>\n",
       "      <td>Windsor</td>\n",
       "      <td>CO</td>\n",
       "      <td>19VDE1F71EE003817</td>\n",
       "      <td>Acura</td>\n",
       "      <td>ILX5-Speed</td>\n",
       "    </tr>\n",
       "    <tr>\n",
       "      <th>4</th>\n",
       "      <td>14799</td>\n",
       "      <td>2016</td>\n",
       "      <td>22142</td>\n",
       "      <td>Lindon</td>\n",
       "      <td>UT</td>\n",
       "      <td>19UDE2F32GA001284</td>\n",
       "      <td>Acura</td>\n",
       "      <td>ILXAutomatic</td>\n",
       "    </tr>\n",
       "    <tr>\n",
       "      <th>...</th>\n",
       "      <td>...</td>\n",
       "      <td>...</td>\n",
       "      <td>...</td>\n",
       "      <td>...</td>\n",
       "      <td>...</td>\n",
       "      <td>...</td>\n",
       "      <td>...</td>\n",
       "      <td>...</td>\n",
       "    </tr>\n",
       "    <tr>\n",
       "      <th>2068367</th>\n",
       "      <td>79900</td>\n",
       "      <td>2017</td>\n",
       "      <td>25</td>\n",
       "      <td>East Hanover</td>\n",
       "      <td>NJ</td>\n",
       "      <td>YV4BC0ZX0H1128239</td>\n",
       "      <td>Volvo</td>\n",
       "      <td>XC90T8</td>\n",
       "    </tr>\n",
       "    <tr>\n",
       "      <th>2068368</th>\n",
       "      <td>80895</td>\n",
       "      <td>2017</td>\n",
       "      <td>10</td>\n",
       "      <td>Corte Madera</td>\n",
       "      <td>CA</td>\n",
       "      <td>YV4BC0ZX0H1124188</td>\n",
       "      <td>Volvo</td>\n",
       "      <td>XC90T8</td>\n",
       "    </tr>\n",
       "    <tr>\n",
       "      <th>2068369</th>\n",
       "      <td>68755</td>\n",
       "      <td>2018</td>\n",
       "      <td>2500</td>\n",
       "      <td>Englewood</td>\n",
       "      <td>NJ</td>\n",
       "      <td>YV4A22PL4J1212676</td>\n",
       "      <td>Volvo</td>\n",
       "      <td>XC90T6</td>\n",
       "    </tr>\n",
       "    <tr>\n",
       "      <th>2068370</th>\n",
       "      <td>72260</td>\n",
       "      <td>2017</td>\n",
       "      <td>3201</td>\n",
       "      <td>Englewood</td>\n",
       "      <td>NJ</td>\n",
       "      <td>YV4A22PL3H1186162</td>\n",
       "      <td>Volvo</td>\n",
       "      <td>XC90T6</td>\n",
       "    </tr>\n",
       "    <tr>\n",
       "      <th>2068371</th>\n",
       "      <td>60240</td>\n",
       "      <td>2017</td>\n",
       "      <td>8342</td>\n",
       "      <td>San Leandro</td>\n",
       "      <td>CA</td>\n",
       "      <td>YV4A22NLXH1006162</td>\n",
       "      <td>Volvo</td>\n",
       "      <td>V90</td>\n",
       "    </tr>\n",
       "  </tbody>\n",
       "</table>\n",
       "<p>1992125 rows × 8 columns</p>\n",
       "</div>"
      ],
      "text/plain": [
       "         Price  Year  Mileage              City State                Vin  \\\n",
       "0         8995  2014    35725           El Paso    TX  19VDE2E53EE000083   \n",
       "1        10888  2013    19606  Long Island City    NY  19VDE1F52DE012636   \n",
       "2         8995  2013    48851           El Paso    TX  19VDE2E52DE000025   \n",
       "3        10999  2014    39922           Windsor    CO  19VDE1F71EE003817   \n",
       "4        14799  2016    22142            Lindon    UT  19UDE2F32GA001284   \n",
       "...        ...   ...      ...               ...   ...                ...   \n",
       "2068367  79900  2017       25      East Hanover    NJ  YV4BC0ZX0H1128239   \n",
       "2068368  80895  2017       10      Corte Madera    CA  YV4BC0ZX0H1124188   \n",
       "2068369  68755  2018     2500         Englewood    NJ  YV4A22PL4J1212676   \n",
       "2068370  72260  2017     3201         Englewood    NJ  YV4A22PL3H1186162   \n",
       "2068371  60240  2017     8342       San Leandro    CA  YV4A22NLXH1006162   \n",
       "\n",
       "          Make         Model  \n",
       "0        Acura    ILX6-Speed  \n",
       "1        Acura    ILX5-Speed  \n",
       "2        Acura    ILX6-Speed  \n",
       "3        Acura    ILX5-Speed  \n",
       "4        Acura  ILXAutomatic  \n",
       "...        ...           ...  \n",
       "2068367  Volvo        XC90T8  \n",
       "2068368  Volvo        XC90T8  \n",
       "2068369  Volvo        XC90T6  \n",
       "2068370  Volvo        XC90T6  \n",
       "2068371  Volvo           V90  \n",
       "\n",
       "[1992125 rows x 8 columns]"
      ]
     },
     "execution_count": 17,
     "metadata": {},
     "output_type": "execute_result"
    }
   ],
   "source": [
    "data3 = data2[~((data2['Mileage'] < (Q1 - 1.5 * IQR)) |(data2['Mileage']> (Q3 + 1.5 * IQR)))]\n",
    "data3"
   ]
  },
  {
   "cell_type": "code",
   "execution_count": 18,
   "id": "e36f0ef9",
   "metadata": {},
   "outputs": [
    {
     "data": {
      "text/plain": [
       "<AxesSubplot:xlabel='Mileage'>"
      ]
     },
     "execution_count": 18,
     "metadata": {},
     "output_type": "execute_result"
    },
    {
     "data": {
      "image/png": "[encoded data removed]",
      "text/plain": [
       "<Figure size 432x288 with 1 Axes>"
      ]
     },
     "metadata": {
      "needs_background": "light"
     },
     "output_type": "display_data"
    }
   ],
   "source": [
    "#Again plotting boxplot and histogram of Mileage\n",
    "sns.boxplot(data3['Mileage'])"
   ]
  },
  {
   "cell_type": "code",
   "execution_count": 19,
   "id": "3f717ce2",
   "metadata": {},
   "outputs": [
    {
     "data": {
      "image/png": "[encoded data removed]",
      "text/plain": [
       "<Figure size 864x360 with 1 Axes>"
      ]
     },
     "metadata": {
      "needs_background": "light"
     },
     "output_type": "display_data"
    }
   ],
   "source": [
    "plt.figure(figsize=(12,5))\n",
    "plt.hist(data3['Mileage'])\n",
    "plt.show()"
   ]
  },
  {
   "cell_type": "markdown",
   "id": "801a2daf",
   "metadata": {},
   "source": [
    "\n",
    "After removing the outliers we have seen that the data of mileage columns is range 0 to 140k. \n",
    "And the distribution of mileage is toward right side i.e right skewed "
   ]
  },
  {
   "cell_type": "markdown",
   "id": "9e8f79bd",
   "metadata": {},
   "source": [
    "Categorical columns"
   ]
  },
  {
   "cell_type": "code",
   "execution_count": 20,
   "id": "e79baa68",
   "metadata": {},
   "outputs": [
    {
     "data": {
      "text/plain": [
       "array(['Acura', 'Alfa', 'AM', 'Aston', 'Audi', 'Bentley', 'BMW', 'Buick',\n",
       "       'Cadillac', 'Chevrolet', 'Chrysler', 'Dodge', 'Ferrari', 'FIAT',\n",
       "       'Fisker', 'Ford', 'Freightliner', 'Genesis', 'Geo', 'GMC', 'Honda',\n",
       "       'HUMMER', 'Hyundai', 'INFINITI', 'Isuzu', 'Jaguar', 'Jeep', 'Kia',\n",
       "       'Lamborghini', 'Land', 'Lexus', 'Lincoln', 'Lotus', 'Maserati',\n",
       "       'Maybach', 'Mazda', 'McLaren', 'Mercedes-Benz', 'Mercury', 'MINI',\n",
       "       'Mitsubishi', 'Nissan', 'Oldsmobile', 'Plymouth', 'Pontiac',\n",
       "       'Porsche', 'Ram', 'Rolls-Royce', 'Saab', 'Saturn', 'Scion',\n",
       "       'smart', 'Subaru', 'Suzuki', 'Tesla', 'Toyota', 'Volkswagen',\n",
       "       'Volvo'], dtype=object)"
      ]
     },
     "execution_count": 20,
     "metadata": {},
     "output_type": "execute_result"
    }
   ],
   "source": [
    "data3['Make'].unique()"
   ]
  },
  {
   "cell_type": "code",
   "execution_count": 21,
   "id": "2e00bf01",
   "metadata": {},
   "outputs": [
    {
     "data": {
      "text/plain": [
       "Ford             259760\n",
       "Chevrolet        241013\n",
       "Toyota           182192\n",
       "Nissan           161262\n",
       "Honda            120160\n",
       "Jeep              98387\n",
       "Hyundai           89397\n",
       "Dodge             79998\n",
       "Kia               70832\n",
       "GMC               67735\n",
       "BMW               63954\n",
       "Mercedes-Benz     63508\n",
       "Volkswagen        55731\n",
       "Lexus             48050\n",
       "Subaru            39085\n",
       "Chrysler          39006\n",
       "Cadillac          36020\n",
       "Ram               34531\n",
       "Mazda             32367\n",
       "Buick             29905\n",
       "INFINITI          29116\n",
       "Audi              25000\n",
       "Acura             20962\n",
       "Lincoln           16670\n",
       "Volvo             11931\n",
       "MINI              10538\n",
       "Porsche            9826\n",
       "Land               9779\n",
       "Mitsubishi         9589\n",
       "Scion              7126\n",
       "Jaguar             5270\n",
       "FIAT               4391\n",
       "Pontiac            3498\n",
       "Maserati           2425\n",
       "Mercury            2251\n",
       "Saturn             1967\n",
       "HUMMER             1902\n",
       "smart              1695\n",
       "Ferrari             765\n",
       "Bentley             734\n",
       "Suzuki              719\n",
       "Tesla               583\n",
       "Saab                555\n",
       "Genesis             350\n",
       "Aston               298\n",
       "Lamborghini         262\n",
       "Rolls-Royce         200\n",
       "Oldsmobile          188\n",
       "Plymouth            114\n",
       "McLaren             111\n",
       "Isuzu               109\n",
       "Lotus                91\n",
       "Alfa                 88\n",
       "Fisker               44\n",
       "AM                   38\n",
       "Freightliner         22\n",
       "Maybach              21\n",
       "Geo                   4\n",
       "Name: Make, dtype: int64"
      ]
     },
     "execution_count": 21,
     "metadata": {},
     "output_type": "execute_result"
    }
   ],
   "source": [
    "data3['Make'].value_counts()"
   ]
  },
  {
   "cell_type": "code",
   "execution_count": 22,
   "id": "622d7403",
   "metadata": {},
   "outputs": [
    {
     "data": {
      "text/plain": [
       "array(['ILX6-Speed', 'ILX5-Speed', 'ILXAutomatic', ..., 'S70GLT',\n",
       "       'C70Incscription', '8504dr'], dtype=object)"
      ]
     },
     "execution_count": 22,
     "metadata": {},
     "output_type": "execute_result"
    }
   ],
   "source": [
    "data3['Model'].unique()"
   ]
  },
  {
   "cell_type": "code",
   "execution_count": 23,
   "id": "a19be7f9",
   "metadata": {},
   "outputs": [
    {
     "data": {
      "text/plain": [
       "Silverado    56960\n",
       "Grand        41069\n",
       "Altima2.5    28103\n",
       "Accord       28058\n",
       "Sierra       26007\n",
       "             ...  \n",
       "Endeavor         1\n",
       "RaiderExt        1\n",
       "Maxima           1\n",
       "RegalCXL         1\n",
       "8504dr           1\n",
       "Name: Model, Length: 3100, dtype: int64"
      ]
     },
     "execution_count": 23,
     "metadata": {},
     "output_type": "execute_result"
    }
   ],
   "source": [
    "data3['Model'].value_counts()"
   ]
  },
  {
   "cell_type": "code",
   "execution_count": 24,
   "id": "eded2094",
   "metadata": {},
   "outputs": [
    {
     "data": {
      "text/plain": [
       "array(['El Paso', 'Long Island City', 'Windsor', ..., 'Secaucus',\n",
       "       'Northfield', 'Huntington Valley'], dtype=object)"
      ]
     },
     "execution_count": 24,
     "metadata": {},
     "output_type": "execute_result"
    }
   ],
   "source": [
    "data3['City'].unique()"
   ]
  },
  {
   "cell_type": "code",
   "execution_count": 25,
   "id": "02a21e86",
   "metadata": {},
   "outputs": [
    {
     "data": {
      "text/plain": [
       "Houston         31921\n",
       "San Antonio     19339\n",
       "Louisville      14919\n",
       "Jacksonville    13124\n",
       "Miami           12802\n",
       "                ...  \n",
       "Ormond Beach        8\n",
       "Los Banos           6\n",
       "Port Jervis         4\n",
       "Royston             2\n",
       "Eminence            1\n",
       "Name: City, Length: 2599, dtype: int64"
      ]
     },
     "execution_count": 25,
     "metadata": {},
     "output_type": "execute_result"
    }
   ],
   "source": [
    "data3['City'].value_counts()"
   ]
  },
  {
   "cell_type": "code",
   "execution_count": 26,
   "id": "750246e9",
   "metadata": {},
   "outputs": [
    {
     "data": {
      "text/plain": [
       "array([' TX', ' NY', ' CO', ' UT', ' FL', ' CT', ' ID', ' ND', ' CA',\n",
       "       ' NJ', ' OH', ' VA', ' IN', ' AZ', ' OR', ' KS', ' NE', ' MA',\n",
       "       ' MD', ' GA', ' MN', ' HI', ' LA', ' NM', ' IL', ' AL', ' PA',\n",
       "       ' SC', ' NC', ' WA', ' WI', ' OK', ' KY', ' MS', ' MO', ' ME',\n",
       "       ' AR', ' MI', ' NV', ' TN', ' Fl', ' NH', ' DE', ' WV', ' Az',\n",
       "       ' VT', ' SD', ' IA', ' RI', ' ga', ' Oh', ' MT', ' DC', ' AK',\n",
       "       ' Va', ' WY', ' Md', ' Ca', ' Ga'], dtype=object)"
      ]
     },
     "execution_count": 26,
     "metadata": {},
     "output_type": "execute_result"
    }
   ],
   "source": [
    "data3['State'].unique() "
   ]
  },
  {
   "cell_type": "code",
   "execution_count": 27,
   "id": "0dbfc5c7",
   "metadata": {},
   "outputs": [
    {
     "data": {
      "text/plain": [
       "59"
      ]
     },
     "execution_count": 27,
     "metadata": {},
     "output_type": "execute_result"
    }
   ],
   "source": [
    "len(data3['State'].value_counts())"
   ]
  },
  {
   "cell_type": "code",
   "execution_count": 28,
   "id": "bb4388fe",
   "metadata": {},
   "outputs": [
    {
     "data": {
      "text/plain": [
       "array(['19VDE2E53EE000083', '19VDE1F52DE012636', '19VDE2E52DE000025', ...,\n",
       "       'YV4BC0PMXH1124644', 'YV4BC0ZX0H1128239', 'YV4A22PL4J1212676'],\n",
       "      dtype=object)"
      ]
     },
     "execution_count": 28,
     "metadata": {},
     "output_type": "execute_result"
    }
   ],
   "source": [
    "data3['Vin'].unique() "
   ]
  },
  {
   "cell_type": "code",
   "execution_count": 29,
   "id": "21776acb",
   "metadata": {},
   "outputs": [
    {
     "data": {
      "text/plain": [
       "1FADP3E24EL218186    3\n",
       "2GNFLGE38H6240856    3\n",
       "2G11Y5SL9E9265460    3\n",
       "2G11Y5SLXE9183558    3\n",
       "2G1FA1E37E9293949    3\n",
       "                    ..\n",
       "1FM5K8D87EGC43619    1\n",
       "1FM5K8D83FGA50174    1\n",
       "1FBZX2ZM0GKB25667    1\n",
       "1FTEW1E82FFB02348    1\n",
       "YV4A22PL4J1212676    1\n",
       "Name: Vin, Length: 1182587, dtype: int64"
      ]
     },
     "execution_count": 29,
     "metadata": {},
     "output_type": "execute_result"
    }
   ],
   "source": [
    "data3['Vin'].value_counts() "
   ]
  },
  {
   "cell_type": "markdown",
   "id": "c380611d",
   "metadata": {},
   "source": [
    "for city columns:- there are around 2600 cities in the dataset.but there are many of them has low occurences.\n",
    "\n",
    "for state columns:- there are 59 states are appeared in dataset but it is not ok because US has only 50 states. that means there some duplicate values which appears in mixure of upper and lower charachters. so we have to handle this to change all the state names in upper values.\n",
    "\n",
    "for VIN columns:- It seams that there are duplicate offering for the same car as there are duplicate Vins and this is not acceptable as the one car has only one unique Vehicle Identity Number, so we will remove these duplicates.\n"
   ]
  },
  {
   "cell_type": "markdown",
   "id": "f6412627",
   "metadata": {},
   "source": [
    "removing duplicates value from Vin columns"
   ]
  },
  {
   "cell_type": "code",
   "execution_count": 30,
   "id": "9a252a09",
   "metadata": {},
   "outputs": [],
   "source": [
    "repeated_vin = data3[\"Vin\"].value_counts()[data3[\"Vin\"].value_counts() > 1].index"
   ]
  },
  {
   "cell_type": "code",
   "execution_count": 31,
   "id": "93c9752c",
   "metadata": {},
   "outputs": [
    {
     "data": {
      "text/plain": [
       "809491"
      ]
     },
     "execution_count": 31,
     "metadata": {},
     "output_type": "execute_result"
    }
   ],
   "source": [
    "len(repeated_vin)"
   ]
  },
  {
   "cell_type": "code",
   "execution_count": 32,
   "id": "ebb8bdd2",
   "metadata": {},
   "outputs": [],
   "source": [
    "data3.drop_duplicates(subset = \"Vin\", inplace= True)"
   ]
  },
  {
   "cell_type": "code",
   "execution_count": 33,
   "id": "cfd45d32",
   "metadata": {},
   "outputs": [
    {
     "data": {
      "text/plain": [
       "19VDE2E53EE000083    1\n",
       "JTEBU5JR7F5226664    1\n",
       "5TDZT34A16S264689    1\n",
       "5TFHW5F1XEX383684    1\n",
       "5TFJU4GN1FX082421    1\n",
       "                    ..\n",
       "5FNYF3H5XBB001034    1\n",
       "5J6RM4H79DL009234    1\n",
       "1HGCT1B60HA000809    1\n",
       "JHMCR6F76HC014102    1\n",
       "YV4A22PL4J1212676    1\n",
       "Name: Vin, Length: 1182587, dtype: int64"
      ]
     },
     "execution_count": 33,
     "metadata": {},
     "output_type": "execute_result"
    }
   ],
   "source": [
    "data3[\"Vin\"].value_counts()"
   ]
  },
  {
   "cell_type": "code",
   "execution_count": 34,
   "id": "0547d572",
   "metadata": {},
   "outputs": [
    {
     "data": {
      "text/plain": [
       "Silverado          33695\n",
       "Grand              24425\n",
       "Accord             17534\n",
       "Altima2.5          16819\n",
       "F-1504WD           16350\n",
       "                   ...  \n",
       "Yaris4DR,              1\n",
       "DurangoCREW            1\n",
       "DurangoPolice          1\n",
       "allroadPrestige        1\n",
       "8504dr                 1\n",
       "Name: Model, Length: 3059, dtype: int64"
      ]
     },
     "execution_count": 34,
     "metadata": {},
     "output_type": "execute_result"
    }
   ],
   "source": [
    "data3[\"Model\"].value_counts()"
   ]
  },
  {
   "cell_type": "code",
   "execution_count": 35,
   "id": "ac2ca8f5",
   "metadata": {},
   "outputs": [
    {
     "data": {
      "text/plain": [
       "Ford             154438\n",
       "Chevrolet        143477\n",
       "Toyota           110903\n",
       "Nissan            96514\n",
       "Honda             72727\n",
       "Jeep              58941\n",
       "Hyundai           53998\n",
       "Dodge             47667\n",
       "Kia               42445\n",
       "GMC               40472\n",
       "Mercedes-Benz     37580\n",
       "Volkswagen        32797\n",
       "BMW               31977\n",
       "Lexus             28413\n",
       "Ram               24291\n",
       "Chrysler          23132\n",
       "Subaru            23099\n",
       "Cadillac          21353\n",
       "Mazda             19329\n",
       "Buick             17716\n",
       "INFINITI          17228\n",
       "Audi              12500\n",
       "Acura             10481\n",
       "Lincoln            9773\n",
       "Volvo              7030\n",
       "MINI               6190\n",
       "Land               5754\n",
       "Porsche            5748\n",
       "Mitsubishi         5681\n",
       "Scion              4206\n",
       "Jaguar             3086\n",
       "FIAT               2611\n",
       "Pontiac            2066\n",
       "Maserati           1379\n",
       "Mercury            1346\n",
       "Saturn             1177\n",
       "HUMMER             1115\n",
       "smart               982\n",
       "Suzuki              426\n",
       "Ferrari             420\n",
       "Bentley             367\n",
       "Tesla               352\n",
       "Saab                326\n",
       "Genesis             209\n",
       "Aston               149\n",
       "Lamborghini         141\n",
       "Oldsmobile          112\n",
       "Rolls-Royce         108\n",
       "Plymouth             66\n",
       "McLaren              64\n",
       "Isuzu                63\n",
       "Lotus                49\n",
       "Alfa                 44\n",
       "Fisker               25\n",
       "AM                   19\n",
       "Freightliner         12\n",
       "Maybach              11\n",
       "Geo                   2\n",
       "Name: Make, dtype: int64"
      ]
     },
     "execution_count": 35,
     "metadata": {},
     "output_type": "execute_result"
    }
   ],
   "source": [
    "data3['Make'].value_counts()"
   ]
  },
  {
   "cell_type": "code",
   "execution_count": 36,
   "id": "d4c9ae8f",
   "metadata": {},
   "outputs": [
    {
     "data": {
      "text/plain": [
       "Houston         19597\n",
       "San Antonio     11499\n",
       "Louisville       9185\n",
       "Jacksonville     7770\n",
       "Miami            7701\n",
       "                ...  \n",
       "Ormond Beach        4\n",
       "Los Banos           3\n",
       "Port Jervis         2\n",
       "Royston             1\n",
       "Eminence            1\n",
       "Name: City, Length: 2599, dtype: int64"
      ]
     },
     "execution_count": 36,
     "metadata": {},
     "output_type": "execute_result"
    }
   ],
   "source": [
    "data3['City'].value_counts()"
   ]
  },
  {
   "cell_type": "markdown",
   "id": "0e3eebac",
   "metadata": {},
   "source": [
    "dividing into new and old cars"
   ]
  },
  {
   "cell_type": "code",
   "execution_count": 37,
   "id": "b3a90efd",
   "metadata": {},
   "outputs": [
    {
     "data": {
      "text/plain": [
       "Whittier        99\n",
       "Rockmart        99\n",
       "Westville       99\n",
       "ALEXANDRIA      99\n",
       "Burkburnet      99\n",
       "                ..\n",
       "Ormond Beach     4\n",
       "Los Banos        3\n",
       "Port Jervis      2\n",
       "Royston          1\n",
       "Eminence         1\n",
       "Name: City, Length: 798, dtype: int64"
      ]
     },
     "execution_count": 37,
     "metadata": {},
     "output_type": "execute_result"
    }
   ],
   "source": [
    "data3[\"City\"].value_counts()[data3[\"City\"].value_counts() < 100]"
   ]
  },
  {
   "cell_type": "markdown",
   "id": "c468c2a7",
   "metadata": {},
   "source": [
    "It appers that there are 839 City that appears less than 100 times in the data set."
   ]
  },
  {
   "cell_type": "code",
   "execution_count": 38,
   "id": "de3856b7",
   "metadata": {},
   "outputs": [
    {
     "data": {
      "text/plain": [
       "(1182587, 8)"
      ]
     },
     "execution_count": 38,
     "metadata": {},
     "output_type": "execute_result"
    }
   ],
   "source": [
    "data3.shape"
   ]
  },
  {
   "cell_type": "code",
   "execution_count": 39,
   "id": "24abb6fe",
   "metadata": {},
   "outputs": [
    {
     "data": {
      "text/plain": [
       "(31919, 8)"
      ]
     },
     "execution_count": 39,
     "metadata": {},
     "output_type": "execute_result"
    }
   ],
   "source": [
    "data3[data3[\"Year\"] < 2006].shape"
   ]
  },
  {
   "cell_type": "code",
   "execution_count": 40,
   "id": "eb5c9f9a",
   "metadata": {},
   "outputs": [],
   "source": [
    "data3_old = data3[data3[\"Year\"] < 2006] # car that manufacture before 2006"
   ]
  },
  {
   "cell_type": "code",
   "execution_count": 41,
   "id": "80a04cfd",
   "metadata": {},
   "outputs": [],
   "source": [
    "data3_new = data3[data3[\"Year\"] >= 2006] # car that manufacture after 2006"
   ]
  },
  {
   "cell_type": "code",
   "execution_count": 42,
   "id": "1c8635b6",
   "metadata": {},
   "outputs": [
    {
     "data": {
      "text/plain": [
       "(31919, 8)"
      ]
     },
     "execution_count": 42,
     "metadata": {},
     "output_type": "execute_result"
    }
   ],
   "source": [
    "data3_old.shape"
   ]
  },
  {
   "cell_type": "code",
   "execution_count": 43,
   "id": "5dff906e",
   "metadata": {},
   "outputs": [
    {
     "data": {
      "text/plain": [
       "(1150668, 8)"
      ]
     },
     "execution_count": 43,
     "metadata": {},
     "output_type": "execute_result"
    }
   ],
   "source": [
    "data3_new.shape"
   ]
  },
  {
   "cell_type": "markdown",
   "id": "468db41e",
   "metadata": {},
   "source": [
    "It appears that the old cas represents a very small portion of the data.so we will divide them and study each one."
   ]
  },
  {
   "cell_type": "code",
   "execution_count": 44,
   "id": "f2ee2fef",
   "metadata": {},
   "outputs": [],
   "source": [
    "data3.drop(data3[data3[\"Mileage\"] < 10].index, inplace = True)#excluding all cars with usage very small as they cannot considered as used cars"
   ]
  },
  {
   "cell_type": "code",
   "execution_count": 45,
   "id": "cb5f87da",
   "metadata": {},
   "outputs": [],
   "source": [
    "data3 = data3.reset_index().drop(columns = [\"index\"])"
   ]
  },
  {
   "cell_type": "markdown",
   "id": "cc0d662f",
   "metadata": {},
   "source": [
    "removing Vin columns "
   ]
  },
  {
   "cell_type": "code",
   "execution_count": 46,
   "id": "e19a1b7d",
   "metadata": {},
   "outputs": [],
   "source": [
    "data3.drop(columns = [\"Vin\"],inplace=True)# it has a very high cardinality, so this will not affect the anlaysis"
   ]
  },
  {
   "cell_type": "code",
   "execution_count": 47,
   "id": "147b6649",
   "metadata": {},
   "outputs": [
    {
     "data": {
      "text/html": [
       "<div>\n",
       "<style scoped>\n",
       "    .dataframe tbody tr th:only-of-type {\n",
       "        vertical-align: middle;\n",
       "    }\n",
       "\n",
       "    .dataframe tbody tr th {\n",
       "        vertical-align: top;\n",
       "    }\n",
       "\n",
       "    .dataframe thead th {\n",
       "        text-align: right;\n",
       "    }\n",
       "</style>\n",
       "<table border=\"1\" class=\"dataframe\">\n",
       "  <thead>\n",
       "    <tr style=\"text-align: right;\">\n",
       "      <th></th>\n",
       "      <th>Price</th>\n",
       "      <th>Year</th>\n",
       "      <th>Mileage</th>\n",
       "      <th>City</th>\n",
       "      <th>State</th>\n",
       "      <th>Make</th>\n",
       "      <th>Model</th>\n",
       "    </tr>\n",
       "  </thead>\n",
       "  <tbody>\n",
       "    <tr>\n",
       "      <th>0</th>\n",
       "      <td>8995</td>\n",
       "      <td>2014</td>\n",
       "      <td>35725</td>\n",
       "      <td>El Paso</td>\n",
       "      <td>TX</td>\n",
       "      <td>Acura</td>\n",
       "      <td>ILX6-Speed</td>\n",
       "    </tr>\n",
       "    <tr>\n",
       "      <th>1</th>\n",
       "      <td>10888</td>\n",
       "      <td>2013</td>\n",
       "      <td>19606</td>\n",
       "      <td>Long Island City</td>\n",
       "      <td>NY</td>\n",
       "      <td>Acura</td>\n",
       "      <td>ILX5-Speed</td>\n",
       "    </tr>\n",
       "    <tr>\n",
       "      <th>2</th>\n",
       "      <td>8995</td>\n",
       "      <td>2013</td>\n",
       "      <td>48851</td>\n",
       "      <td>El Paso</td>\n",
       "      <td>TX</td>\n",
       "      <td>Acura</td>\n",
       "      <td>ILX6-Speed</td>\n",
       "    </tr>\n",
       "    <tr>\n",
       "      <th>3</th>\n",
       "      <td>10999</td>\n",
       "      <td>2014</td>\n",
       "      <td>39922</td>\n",
       "      <td>Windsor</td>\n",
       "      <td>CO</td>\n",
       "      <td>Acura</td>\n",
       "      <td>ILX5-Speed</td>\n",
       "    </tr>\n",
       "    <tr>\n",
       "      <th>4</th>\n",
       "      <td>14799</td>\n",
       "      <td>2016</td>\n",
       "      <td>22142</td>\n",
       "      <td>Lindon</td>\n",
       "      <td>UT</td>\n",
       "      <td>Acura</td>\n",
       "      <td>ILXAutomatic</td>\n",
       "    </tr>\n",
       "    <tr>\n",
       "      <th>...</th>\n",
       "      <td>...</td>\n",
       "      <td>...</td>\n",
       "      <td>...</td>\n",
       "      <td>...</td>\n",
       "      <td>...</td>\n",
       "      <td>...</td>\n",
       "      <td>...</td>\n",
       "    </tr>\n",
       "    <tr>\n",
       "      <th>1181250</th>\n",
       "      <td>59375</td>\n",
       "      <td>2017</td>\n",
       "      <td>17406</td>\n",
       "      <td>Berwyn</td>\n",
       "      <td>PA</td>\n",
       "      <td>Volvo</td>\n",
       "      <td>XC90T6</td>\n",
       "    </tr>\n",
       "    <tr>\n",
       "      <th>1181251</th>\n",
       "      <td>54900</td>\n",
       "      <td>2016</td>\n",
       "      <td>12637</td>\n",
       "      <td>Exeter</td>\n",
       "      <td>NH</td>\n",
       "      <td>Volvo</td>\n",
       "      <td>XC90</td>\n",
       "    </tr>\n",
       "    <tr>\n",
       "      <th>1181252</th>\n",
       "      <td>69882</td>\n",
       "      <td>2017</td>\n",
       "      <td>8370</td>\n",
       "      <td>Walnut Creek</td>\n",
       "      <td>CA</td>\n",
       "      <td>Volvo</td>\n",
       "      <td>XC90T8</td>\n",
       "    </tr>\n",
       "    <tr>\n",
       "      <th>1181253</th>\n",
       "      <td>79900</td>\n",
       "      <td>2017</td>\n",
       "      <td>25</td>\n",
       "      <td>East Hanover</td>\n",
       "      <td>NJ</td>\n",
       "      <td>Volvo</td>\n",
       "      <td>XC90T8</td>\n",
       "    </tr>\n",
       "    <tr>\n",
       "      <th>1181254</th>\n",
       "      <td>68755</td>\n",
       "      <td>2018</td>\n",
       "      <td>2500</td>\n",
       "      <td>Englewood</td>\n",
       "      <td>NJ</td>\n",
       "      <td>Volvo</td>\n",
       "      <td>XC90T6</td>\n",
       "    </tr>\n",
       "  </tbody>\n",
       "</table>\n",
       "<p>1181255 rows × 7 columns</p>\n",
       "</div>"
      ],
      "text/plain": [
       "         Price  Year  Mileage              City State   Make         Model\n",
       "0         8995  2014    35725           El Paso    TX  Acura    ILX6-Speed\n",
       "1        10888  2013    19606  Long Island City    NY  Acura    ILX5-Speed\n",
       "2         8995  2013    48851           El Paso    TX  Acura    ILX6-Speed\n",
       "3        10999  2014    39922           Windsor    CO  Acura    ILX5-Speed\n",
       "4        14799  2016    22142            Lindon    UT  Acura  ILXAutomatic\n",
       "...        ...   ...      ...               ...   ...    ...           ...\n",
       "1181250  59375  2017    17406            Berwyn    PA  Volvo        XC90T6\n",
       "1181251  54900  2016    12637            Exeter    NH  Volvo          XC90\n",
       "1181252  69882  2017     8370      Walnut Creek    CA  Volvo        XC90T8\n",
       "1181253  79900  2017       25      East Hanover    NJ  Volvo        XC90T8\n",
       "1181254  68755  2018     2500         Englewood    NJ  Volvo        XC90T6\n",
       "\n",
       "[1181255 rows x 7 columns]"
      ]
     },
     "execution_count": 47,
     "metadata": {},
     "output_type": "execute_result"
    }
   ],
   "source": [
    "data3"
   ]
  },
  {
   "cell_type": "markdown",
   "id": "d5300c8c",
   "metadata": {},
   "source": [
    "# feature engineering"
   ]
  },
  {
   "cell_type": "markdown",
   "id": "fd19e684",
   "metadata": {},
   "source": [
    "From the distribution of the mileage column, we can see that the first quantile is arround 25k Mile, and the third quantile is arround 80K Mile, so we can have a new feature that identifies the level of car usage as a function of mileage made by the car as follows:\n",
    "\n",
    "Mileage < 25K mile ==> Low usage\n",
    "\n",
    "Mileage between 25K and 80K ==> Moderate usage\n",
    "\n",
    "Mileage larger than that ==> High usage."
   ]
  },
  {
   "cell_type": "code",
   "execution_count": 48,
   "id": "039e0142",
   "metadata": {},
   "outputs": [],
   "source": [
    "def get_mile_range(mileage):\n",
    "    if mileage < 25000:\n",
    "        return \"Low\"\n",
    "    elif (25000 <= mileage) and (mileage < 80000 ):\n",
    "        return \"Medium\"\n",
    "    else:\n",
    "        return \"High\""
   ]
  },
  {
   "cell_type": "code",
   "execution_count": 49,
   "id": "dc688a03",
   "metadata": {},
   "outputs": [],
   "source": [
    "data3[\"Usage_level\"] = data3[\"Mileage\"].apply(get_mile_range)"
   ]
  },
  {
   "cell_type": "code",
   "execution_count": 50,
   "id": "2c8a1cbd",
   "metadata": {},
   "outputs": [
    {
     "data": {
      "text/html": [
       "<div>\n",
       "<style scoped>\n",
       "    .dataframe tbody tr th:only-of-type {\n",
       "        vertical-align: middle;\n",
       "    }\n",
       "\n",
       "    .dataframe tbody tr th {\n",
       "        vertical-align: top;\n",
       "    }\n",
       "\n",
       "    .dataframe thead th {\n",
       "        text-align: right;\n",
       "    }\n",
       "</style>\n",
       "<table border=\"1\" class=\"dataframe\">\n",
       "  <thead>\n",
       "    <tr style=\"text-align: right;\">\n",
       "      <th></th>\n",
       "      <th>Price</th>\n",
       "      <th>Year</th>\n",
       "      <th>Mileage</th>\n",
       "      <th>City</th>\n",
       "      <th>State</th>\n",
       "      <th>Make</th>\n",
       "      <th>Model</th>\n",
       "      <th>Usage_level</th>\n",
       "    </tr>\n",
       "  </thead>\n",
       "  <tbody>\n",
       "    <tr>\n",
       "      <th>0</th>\n",
       "      <td>8995</td>\n",
       "      <td>2014</td>\n",
       "      <td>35725</td>\n",
       "      <td>El Paso</td>\n",
       "      <td>TX</td>\n",
       "      <td>Acura</td>\n",
       "      <td>ILX6-Speed</td>\n",
       "      <td>Medium</td>\n",
       "    </tr>\n",
       "    <tr>\n",
       "      <th>1</th>\n",
       "      <td>10888</td>\n",
       "      <td>2013</td>\n",
       "      <td>19606</td>\n",
       "      <td>Long Island City</td>\n",
       "      <td>NY</td>\n",
       "      <td>Acura</td>\n",
       "      <td>ILX5-Speed</td>\n",
       "      <td>Low</td>\n",
       "    </tr>\n",
       "    <tr>\n",
       "      <th>2</th>\n",
       "      <td>8995</td>\n",
       "      <td>2013</td>\n",
       "      <td>48851</td>\n",
       "      <td>El Paso</td>\n",
       "      <td>TX</td>\n",
       "      <td>Acura</td>\n",
       "      <td>ILX6-Speed</td>\n",
       "      <td>Medium</td>\n",
       "    </tr>\n",
       "    <tr>\n",
       "      <th>3</th>\n",
       "      <td>10999</td>\n",
       "      <td>2014</td>\n",
       "      <td>39922</td>\n",
       "      <td>Windsor</td>\n",
       "      <td>CO</td>\n",
       "      <td>Acura</td>\n",
       "      <td>ILX5-Speed</td>\n",
       "      <td>Medium</td>\n",
       "    </tr>\n",
       "    <tr>\n",
       "      <th>4</th>\n",
       "      <td>14799</td>\n",
       "      <td>2016</td>\n",
       "      <td>22142</td>\n",
       "      <td>Lindon</td>\n",
       "      <td>UT</td>\n",
       "      <td>Acura</td>\n",
       "      <td>ILXAutomatic</td>\n",
       "      <td>Low</td>\n",
       "    </tr>\n",
       "    <tr>\n",
       "      <th>...</th>\n",
       "      <td>...</td>\n",
       "      <td>...</td>\n",
       "      <td>...</td>\n",
       "      <td>...</td>\n",
       "      <td>...</td>\n",
       "      <td>...</td>\n",
       "      <td>...</td>\n",
       "      <td>...</td>\n",
       "    </tr>\n",
       "    <tr>\n",
       "      <th>1181250</th>\n",
       "      <td>59375</td>\n",
       "      <td>2017</td>\n",
       "      <td>17406</td>\n",
       "      <td>Berwyn</td>\n",
       "      <td>PA</td>\n",
       "      <td>Volvo</td>\n",
       "      <td>XC90T6</td>\n",
       "      <td>Low</td>\n",
       "    </tr>\n",
       "    <tr>\n",
       "      <th>1181251</th>\n",
       "      <td>54900</td>\n",
       "      <td>2016</td>\n",
       "      <td>12637</td>\n",
       "      <td>Exeter</td>\n",
       "      <td>NH</td>\n",
       "      <td>Volvo</td>\n",
       "      <td>XC90</td>\n",
       "      <td>Low</td>\n",
       "    </tr>\n",
       "    <tr>\n",
       "      <th>1181252</th>\n",
       "      <td>69882</td>\n",
       "      <td>2017</td>\n",
       "      <td>8370</td>\n",
       "      <td>Walnut Creek</td>\n",
       "      <td>CA</td>\n",
       "      <td>Volvo</td>\n",
       "      <td>XC90T8</td>\n",
       "      <td>Low</td>\n",
       "    </tr>\n",
       "    <tr>\n",
       "      <th>1181253</th>\n",
       "      <td>79900</td>\n",
       "      <td>2017</td>\n",
       "      <td>25</td>\n",
       "      <td>East Hanover</td>\n",
       "      <td>NJ</td>\n",
       "      <td>Volvo</td>\n",
       "      <td>XC90T8</td>\n",
       "      <td>Low</td>\n",
       "    </tr>\n",
       "    <tr>\n",
       "      <th>1181254</th>\n",
       "      <td>68755</td>\n",
       "      <td>2018</td>\n",
       "      <td>2500</td>\n",
       "      <td>Englewood</td>\n",
       "      <td>NJ</td>\n",
       "      <td>Volvo</td>\n",
       "      <td>XC90T6</td>\n",
       "      <td>Low</td>\n",
       "    </tr>\n",
       "  </tbody>\n",
       "</table>\n",
       "<p>1181255 rows × 8 columns</p>\n",
       "</div>"
      ],
      "text/plain": [
       "         Price  Year  Mileage              City State   Make         Model  \\\n",
       "0         8995  2014    35725           El Paso    TX  Acura    ILX6-Speed   \n",
       "1        10888  2013    19606  Long Island City    NY  Acura    ILX5-Speed   \n",
       "2         8995  2013    48851           El Paso    TX  Acura    ILX6-Speed   \n",
       "3        10999  2014    39922           Windsor    CO  Acura    ILX5-Speed   \n",
       "4        14799  2016    22142            Lindon    UT  Acura  ILXAutomatic   \n",
       "...        ...   ...      ...               ...   ...    ...           ...   \n",
       "1181250  59375  2017    17406            Berwyn    PA  Volvo        XC90T6   \n",
       "1181251  54900  2016    12637            Exeter    NH  Volvo          XC90   \n",
       "1181252  69882  2017     8370      Walnut Creek    CA  Volvo        XC90T8   \n",
       "1181253  79900  2017       25      East Hanover    NJ  Volvo        XC90T8   \n",
       "1181254  68755  2018     2500         Englewood    NJ  Volvo        XC90T6   \n",
       "\n",
       "        Usage_level  \n",
       "0            Medium  \n",
       "1               Low  \n",
       "2            Medium  \n",
       "3            Medium  \n",
       "4               Low  \n",
       "...             ...  \n",
       "1181250         Low  \n",
       "1181251         Low  \n",
       "1181252         Low  \n",
       "1181253         Low  \n",
       "1181254         Low  \n",
       "\n",
       "[1181255 rows x 8 columns]"
      ]
     },
     "execution_count": 50,
     "metadata": {},
     "output_type": "execute_result"
    }
   ],
   "source": [
    "data3"
   ]
  },
  {
   "cell_type": "markdown",
   "id": "aca3db1d",
   "metadata": {},
   "source": [
    "# USA Main cities "
   ]
  },
  {
   "cell_type": "markdown",
   "id": "67e65743",
   "metadata": {},
   "source": [
    "As A result we can see effects of the cities in prices, so we will add one column to identifiy city importance, by importance here we mean the most crowded cities as follows:\n",
    "\n",
    "Cities > 1Million people in population with a high importance\n",
    "\n",
    "Cities between 700k and 1Million people with a Medium Importance\n",
    "\n",
    "Cities <700K People with low importance."
   ]
  },
  {
   "cell_type": "code",
   "execution_count": 51,
   "id": "3e29f900",
   "metadata": {},
   "outputs": [],
   "source": [
    "def city_importance(city):\n",
    "    important_cities = [\"New York\", \"Los Angeles\", \"Chicago\", \"Houston\", \"Phoenix\", \"Philadelphia\",\n",
    "                        \"San Antonio\", \"San Diego\", \"Dallas\", \"San Jose\"]\n",
    "    Medium_cities = [\"Austin\", \"Jacksonville\", \"Fort Worth\", \"Columbus\", \"Charlotte\", \"San Francisco\",\n",
    "                     \"Indianapolis\", \"Seattle\", \"Denver\", \"Washington\"]\n",
    "    important_cities = [c.upper() for c in important_cities]\n",
    "    Medium_cities = [c.upper() for c in Medium_cities]\n",
    "    if city in important_cities:\n",
    "        return \"High\"\n",
    "    elif city in Medium_cities:\n",
    "        return \"Medium\"\n",
    "    else:\n",
    "        return \"Low\"\n",
    "\n",
    "data3[\"City_importance\"] = data3[\"City\"].apply(city_importance)"
   ]
  },
  {
   "cell_type": "code",
   "execution_count": 52,
   "id": "23f88b7a",
   "metadata": {},
   "outputs": [
    {
     "data": {
      "text/html": [
       "<div>\n",
       "<style scoped>\n",
       "    .dataframe tbody tr th:only-of-type {\n",
       "        vertical-align: middle;\n",
       "    }\n",
       "\n",
       "    .dataframe tbody tr th {\n",
       "        vertical-align: top;\n",
       "    }\n",
       "\n",
       "    .dataframe thead th {\n",
       "        text-align: right;\n",
       "    }\n",
       "</style>\n",
       "<table border=\"1\" class=\"dataframe\">\n",
       "  <thead>\n",
       "    <tr style=\"text-align: right;\">\n",
       "      <th></th>\n",
       "      <th>Price</th>\n",
       "      <th>Year</th>\n",
       "      <th>Mileage</th>\n",
       "      <th>City</th>\n",
       "      <th>State</th>\n",
       "      <th>Make</th>\n",
       "      <th>Model</th>\n",
       "      <th>Usage_level</th>\n",
       "      <th>City_importance</th>\n",
       "    </tr>\n",
       "  </thead>\n",
       "  <tbody>\n",
       "    <tr>\n",
       "      <th>0</th>\n",
       "      <td>8995</td>\n",
       "      <td>2014</td>\n",
       "      <td>35725</td>\n",
       "      <td>El Paso</td>\n",
       "      <td>TX</td>\n",
       "      <td>Acura</td>\n",
       "      <td>ILX6-Speed</td>\n",
       "      <td>Medium</td>\n",
       "      <td>Low</td>\n",
       "    </tr>\n",
       "    <tr>\n",
       "      <th>1</th>\n",
       "      <td>10888</td>\n",
       "      <td>2013</td>\n",
       "      <td>19606</td>\n",
       "      <td>Long Island City</td>\n",
       "      <td>NY</td>\n",
       "      <td>Acura</td>\n",
       "      <td>ILX5-Speed</td>\n",
       "      <td>Low</td>\n",
       "      <td>Low</td>\n",
       "    </tr>\n",
       "    <tr>\n",
       "      <th>2</th>\n",
       "      <td>8995</td>\n",
       "      <td>2013</td>\n",
       "      <td>48851</td>\n",
       "      <td>El Paso</td>\n",
       "      <td>TX</td>\n",
       "      <td>Acura</td>\n",
       "      <td>ILX6-Speed</td>\n",
       "      <td>Medium</td>\n",
       "      <td>Low</td>\n",
       "    </tr>\n",
       "    <tr>\n",
       "      <th>3</th>\n",
       "      <td>10999</td>\n",
       "      <td>2014</td>\n",
       "      <td>39922</td>\n",
       "      <td>Windsor</td>\n",
       "      <td>CO</td>\n",
       "      <td>Acura</td>\n",
       "      <td>ILX5-Speed</td>\n",
       "      <td>Medium</td>\n",
       "      <td>Low</td>\n",
       "    </tr>\n",
       "    <tr>\n",
       "      <th>4</th>\n",
       "      <td>14799</td>\n",
       "      <td>2016</td>\n",
       "      <td>22142</td>\n",
       "      <td>Lindon</td>\n",
       "      <td>UT</td>\n",
       "      <td>Acura</td>\n",
       "      <td>ILXAutomatic</td>\n",
       "      <td>Low</td>\n",
       "      <td>Low</td>\n",
       "    </tr>\n",
       "    <tr>\n",
       "      <th>...</th>\n",
       "      <td>...</td>\n",
       "      <td>...</td>\n",
       "      <td>...</td>\n",
       "      <td>...</td>\n",
       "      <td>...</td>\n",
       "      <td>...</td>\n",
       "      <td>...</td>\n",
       "      <td>...</td>\n",
       "      <td>...</td>\n",
       "    </tr>\n",
       "    <tr>\n",
       "      <th>1181250</th>\n",
       "      <td>59375</td>\n",
       "      <td>2017</td>\n",
       "      <td>17406</td>\n",
       "      <td>Berwyn</td>\n",
       "      <td>PA</td>\n",
       "      <td>Volvo</td>\n",
       "      <td>XC90T6</td>\n",
       "      <td>Low</td>\n",
       "      <td>Low</td>\n",
       "    </tr>\n",
       "    <tr>\n",
       "      <th>1181251</th>\n",
       "      <td>54900</td>\n",
       "      <td>2016</td>\n",
       "      <td>12637</td>\n",
       "      <td>Exeter</td>\n",
       "      <td>NH</td>\n",
       "      <td>Volvo</td>\n",
       "      <td>XC90</td>\n",
       "      <td>Low</td>\n",
       "      <td>Low</td>\n",
       "    </tr>\n",
       "    <tr>\n",
       "      <th>1181252</th>\n",
       "      <td>69882</td>\n",
       "      <td>2017</td>\n",
       "      <td>8370</td>\n",
       "      <td>Walnut Creek</td>\n",
       "      <td>CA</td>\n",
       "      <td>Volvo</td>\n",
       "      <td>XC90T8</td>\n",
       "      <td>Low</td>\n",
       "      <td>Low</td>\n",
       "    </tr>\n",
       "    <tr>\n",
       "      <th>1181253</th>\n",
       "      <td>79900</td>\n",
       "      <td>2017</td>\n",
       "      <td>25</td>\n",
       "      <td>East Hanover</td>\n",
       "      <td>NJ</td>\n",
       "      <td>Volvo</td>\n",
       "      <td>XC90T8</td>\n",
       "      <td>Low</td>\n",
       "      <td>Low</td>\n",
       "    </tr>\n",
       "    <tr>\n",
       "      <th>1181254</th>\n",
       "      <td>68755</td>\n",
       "      <td>2018</td>\n",
       "      <td>2500</td>\n",
       "      <td>Englewood</td>\n",
       "      <td>NJ</td>\n",
       "      <td>Volvo</td>\n",
       "      <td>XC90T6</td>\n",
       "      <td>Low</td>\n",
       "      <td>Low</td>\n",
       "    </tr>\n",
       "  </tbody>\n",
       "</table>\n",
       "<p>1181255 rows × 9 columns</p>\n",
       "</div>"
      ],
      "text/plain": [
       "         Price  Year  Mileage              City State   Make         Model  \\\n",
       "0         8995  2014    35725           El Paso    TX  Acura    ILX6-Speed   \n",
       "1        10888  2013    19606  Long Island City    NY  Acura    ILX5-Speed   \n",
       "2         8995  2013    48851           El Paso    TX  Acura    ILX6-Speed   \n",
       "3        10999  2014    39922           Windsor    CO  Acura    ILX5-Speed   \n",
       "4        14799  2016    22142            Lindon    UT  Acura  ILXAutomatic   \n",
       "...        ...   ...      ...               ...   ...    ...           ...   \n",
       "1181250  59375  2017    17406            Berwyn    PA  Volvo        XC90T6   \n",
       "1181251  54900  2016    12637            Exeter    NH  Volvo          XC90   \n",
       "1181252  69882  2017     8370      Walnut Creek    CA  Volvo        XC90T8   \n",
       "1181253  79900  2017       25      East Hanover    NJ  Volvo        XC90T8   \n",
       "1181254  68755  2018     2500         Englewood    NJ  Volvo        XC90T6   \n",
       "\n",
       "        Usage_level City_importance  \n",
       "0            Medium             Low  \n",
       "1               Low             Low  \n",
       "2            Medium             Low  \n",
       "3            Medium             Low  \n",
       "4               Low             Low  \n",
       "...             ...             ...  \n",
       "1181250         Low             Low  \n",
       "1181251         Low             Low  \n",
       "1181252         Low             Low  \n",
       "1181253         Low             Low  \n",
       "1181254         Low             Low  \n",
       "\n",
       "[1181255 rows x 9 columns]"
      ]
     },
     "execution_count": 52,
     "metadata": {},
     "output_type": "execute_result"
    }
   ],
   "source": [
    "data3"
   ]
  },
  {
   "cell_type": "markdown",
   "id": "53e6c054",
   "metadata": {},
   "source": [
    "distribution of addded columns "
   ]
  },
  {
   "cell_type": "code",
   "execution_count": 53,
   "id": "c1f02cf7",
   "metadata": {},
   "outputs": [
    {
     "data": {
      "text/plain": [
       "Medium    640253\n",
       "Low       325536\n",
       "High      215466\n",
       "Name: Usage_level, dtype: int64"
      ]
     },
     "execution_count": 53,
     "metadata": {},
     "output_type": "execute_result"
    }
   ],
   "source": [
    "data3[\"Usage_level\"].value_counts()"
   ]
  },
  {
   "cell_type": "code",
   "execution_count": 54,
   "id": "227962fe",
   "metadata": {},
   "outputs": [
    {
     "data": {
      "text/plain": [
       "Text(0, 0.5, 'count')"
      ]
     },
     "execution_count": 54,
     "metadata": {},
     "output_type": "execute_result"
    },
    {
     "data": {
      "image/png": "[encoded data removed]",
      "text/plain": [
       "<Figure size 432x288 with 1 Axes>"
      ]
     },
     "metadata": {
      "needs_background": "light"
     },
     "output_type": "display_data"
    }
   ],
   "source": [
    "#plotting usage level\n",
    "sns.countplot(data3['Usage_level'])\n",
    "plt.title(' plot for usage level')\n",
    "plt.xlabel('Usage level')\n",
    "plt.ylabel('count')"
   ]
  },
  {
   "cell_type": "code",
   "execution_count": 55,
   "id": "971ba2ba",
   "metadata": {},
   "outputs": [
    {
     "data": {
      "text/plain": [
       "Low       1179688\n",
       "Medium       1071\n",
       "High          496\n",
       "Name: City_importance, dtype: int64"
      ]
     },
     "execution_count": 55,
     "metadata": {},
     "output_type": "execute_result"
    }
   ],
   "source": [
    "data3[\"City_importance\"].value_counts()\n"
   ]
  },
  {
   "cell_type": "code",
   "execution_count": 56,
   "id": "8d5d2b8c",
   "metadata": {},
   "outputs": [
    {
     "data": {
      "text/plain": [
       "Text(0, 0.5, 'count')"
      ]
     },
     "execution_count": 56,
     "metadata": {},
     "output_type": "execute_result"
    },
    {
     "data": {
      "image/png": "[encoded data removed]",
      "text/plain": [
       "<Figure size 432x288 with 1 Axes>"
      ]
     },
     "metadata": {
      "needs_background": "light"
     },
     "output_type": "display_data"
    }
   ],
   "source": [
    "# plotting city importance  \n",
    "sns.countplot(data3['City_importance'])\n",
    "plt.title(' plot for City_importance')\n",
    "plt.xlabel('City importance ')\n",
    "plt.ylabel('count')"
   ]
  },
  {
   "cell_type": "markdown",
   "id": "97642e07",
   "metadata": {},
   "source": [
    "# is There is any differences in the Price between the old and the new cars?"
   ]
  },
  {
   "cell_type": "code",
   "execution_count": 57,
   "id": "48892d41",
   "metadata": {},
   "outputs": [
    {
     "data": {
      "text/plain": [
       "9785.114571258498"
      ]
     },
     "execution_count": 57,
     "metadata": {},
     "output_type": "execute_result"
    }
   ],
   "source": [
    "data3_old.Price.mean()"
   ]
  },
  {
   "cell_type": "code",
   "execution_count": 58,
   "id": "39fbebd8",
   "metadata": {},
   "outputs": [
    {
     "data": {
      "text/plain": [
       "22048.618493779264"
      ]
     },
     "execution_count": 58,
     "metadata": {},
     "output_type": "execute_result"
    }
   ],
   "source": [
    "data3_new.Price.mean()"
   ]
  },
  {
   "cell_type": "markdown",
   "id": "4dca62ca",
   "metadata": {},
   "source": [
    " the new cars have more than 2.2X the old car prices on average"
   ]
  },
  {
   "cell_type": "markdown",
   "id": "5c7cdc0a",
   "metadata": {},
   "source": [
    "# Is there is any relationship between Mileage, Year and Price?"
   ]
  },
  {
   "cell_type": "code",
   "execution_count": 59,
   "id": "00f8110f",
   "metadata": {},
   "outputs": [
    {
     "data": {
      "text/html": [
       "<div>\n",
       "<style scoped>\n",
       "    .dataframe tbody tr th:only-of-type {\n",
       "        vertical-align: middle;\n",
       "    }\n",
       "\n",
       "    .dataframe tbody tr th {\n",
       "        vertical-align: top;\n",
       "    }\n",
       "\n",
       "    .dataframe thead th {\n",
       "        text-align: right;\n",
       "    }\n",
       "</style>\n",
       "<table border=\"1\" class=\"dataframe\">\n",
       "  <thead>\n",
       "    <tr style=\"text-align: right;\">\n",
       "      <th></th>\n",
       "      <th>Price</th>\n",
       "      <th>Year</th>\n",
       "      <th>Mileage</th>\n",
       "    </tr>\n",
       "  </thead>\n",
       "  <tbody>\n",
       "    <tr>\n",
       "      <th>Price</th>\n",
       "      <td>1.000000</td>\n",
       "      <td>0.353780</td>\n",
       "      <td>-0.392657</td>\n",
       "    </tr>\n",
       "    <tr>\n",
       "      <th>Year</th>\n",
       "      <td>0.353780</td>\n",
       "      <td>1.000000</td>\n",
       "      <td>-0.762151</td>\n",
       "    </tr>\n",
       "    <tr>\n",
       "      <th>Mileage</th>\n",
       "      <td>-0.392657</td>\n",
       "      <td>-0.762151</td>\n",
       "      <td>1.000000</td>\n",
       "    </tr>\n",
       "  </tbody>\n",
       "</table>\n",
       "</div>"
      ],
      "text/plain": [
       "            Price      Year   Mileage\n",
       "Price    1.000000  0.353780 -0.392657\n",
       "Year     0.353780  1.000000 -0.762151\n",
       "Mileage -0.392657 -0.762151  1.000000"
      ]
     },
     "execution_count": 59,
     "metadata": {},
     "output_type": "execute_result"
    }
   ],
   "source": [
    "data3_new.corr()"
   ]
  },
  {
   "cell_type": "code",
   "execution_count": 60,
   "id": "46cd42ba",
   "metadata": {},
   "outputs": [
    {
     "data": {
      "image/png": "[encoded data removed]",
      "text/plain": [
       "<Figure size 432x288 with 2 Axes>"
      ]
     },
     "metadata": {
      "needs_background": "light"
     },
     "output_type": "display_data"
    }
   ],
   "source": [
    "plt.title(\"Correlation for new cars\")\n",
    "dataplot = sns.heatmap(data3_new.corr(), cmap=\"YlGnBu\", annot=True)\n",
    "plt.show()"
   ]
  },
  {
   "cell_type": "markdown",
   "id": "ea7726f8",
   "metadata": {},
   "source": [
    "for new car :- its seems that there is positive correlation  between price and year of manufacturing. it means newer car has higher price.\n",
    "\n",
    "In between price and mileage there is negetively correlation which means higher mileage has lower price.\n",
    "\n",
    "And the correlation between year and mileage has also negetive i.e newer car has less uses than old car"
   ]
  },
  {
   "cell_type": "code",
   "execution_count": 61,
   "id": "fd7d1cbf",
   "metadata": {},
   "outputs": [
    {
     "data": {
      "text/html": [
       "<div>\n",
       "<style scoped>\n",
       "    .dataframe tbody tr th:only-of-type {\n",
       "        vertical-align: middle;\n",
       "    }\n",
       "\n",
       "    .dataframe tbody tr th {\n",
       "        vertical-align: top;\n",
       "    }\n",
       "\n",
       "    .dataframe thead th {\n",
       "        text-align: right;\n",
       "    }\n",
       "</style>\n",
       "<table border=\"1\" class=\"dataframe\">\n",
       "  <thead>\n",
       "    <tr style=\"text-align: right;\">\n",
       "      <th></th>\n",
       "      <th>Price</th>\n",
       "      <th>Year</th>\n",
       "      <th>Mileage</th>\n",
       "    </tr>\n",
       "  </thead>\n",
       "  <tbody>\n",
       "    <tr>\n",
       "      <th>Price</th>\n",
       "      <td>1.000000</td>\n",
       "      <td>0.042964</td>\n",
       "      <td>-0.389376</td>\n",
       "    </tr>\n",
       "    <tr>\n",
       "      <th>Year</th>\n",
       "      <td>0.042964</td>\n",
       "      <td>1.000000</td>\n",
       "      <td>0.049519</td>\n",
       "    </tr>\n",
       "    <tr>\n",
       "      <th>Mileage</th>\n",
       "      <td>-0.389376</td>\n",
       "      <td>0.049519</td>\n",
       "      <td>1.000000</td>\n",
       "    </tr>\n",
       "  </tbody>\n",
       "</table>\n",
       "</div>"
      ],
      "text/plain": [
       "            Price      Year   Mileage\n",
       "Price    1.000000  0.042964 -0.389376\n",
       "Year     0.042964  1.000000  0.049519\n",
       "Mileage -0.389376  0.049519  1.000000"
      ]
     },
     "execution_count": 61,
     "metadata": {},
     "output_type": "execute_result"
    }
   ],
   "source": [
    "data3_old.corr()"
   ]
  },
  {
   "cell_type": "code",
   "execution_count": 62,
   "id": "9e1b75df",
   "metadata": {},
   "outputs": [
    {
     "data": {
      "image/png": "[encoded data removed]",
      "text/plain": [
       "<Figure size 432x288 with 2 Axes>"
      ]
     },
     "metadata": {
      "needs_background": "light"
     },
     "output_type": "display_data"
    }
   ],
   "source": [
    "plt.title(\"Correlation for old cars\")\n",
    "dataplot = sns.heatmap(data3_old.corr(), cmap=\"YlGnBu\", annot=True)\n",
    "plt.show()"
   ]
  },
  {
   "cell_type": "markdown",
   "id": "bb5d4e20",
   "metadata": {},
   "source": [
    "for old car :- there is negetive correlation betn price and mileage is same \n",
    "\n",
    "but here the affect of the year is very small, so it is so effective "
   ]
  },
  {
   "cell_type": "code",
   "execution_count": 63,
   "id": "49df60c1",
   "metadata": {},
   "outputs": [
    {
     "data": {
      "text/html": [
       "<div>\n",
       "<style scoped>\n",
       "    .dataframe tbody tr th:only-of-type {\n",
       "        vertical-align: middle;\n",
       "    }\n",
       "\n",
       "    .dataframe tbody tr th {\n",
       "        vertical-align: top;\n",
       "    }\n",
       "\n",
       "    .dataframe thead th {\n",
       "        text-align: right;\n",
       "    }\n",
       "</style>\n",
       "<table border=\"1\" class=\"dataframe\">\n",
       "  <thead>\n",
       "    <tr style=\"text-align: right;\">\n",
       "      <th></th>\n",
       "      <th>Price</th>\n",
       "      <th>Year</th>\n",
       "      <th>Mileage</th>\n",
       "      <th>City</th>\n",
       "      <th>State</th>\n",
       "      <th>Make</th>\n",
       "      <th>Model</th>\n",
       "      <th>Usage_level</th>\n",
       "      <th>City_importance</th>\n",
       "    </tr>\n",
       "  </thead>\n",
       "  <tbody>\n",
       "    <tr>\n",
       "      <th>0</th>\n",
       "      <td>8995</td>\n",
       "      <td>2014</td>\n",
       "      <td>35725</td>\n",
       "      <td>El Paso</td>\n",
       "      <td>TX</td>\n",
       "      <td>Acura</td>\n",
       "      <td>ILX6-Speed</td>\n",
       "      <td>Medium</td>\n",
       "      <td>Low</td>\n",
       "    </tr>\n",
       "    <tr>\n",
       "      <th>1</th>\n",
       "      <td>10888</td>\n",
       "      <td>2013</td>\n",
       "      <td>19606</td>\n",
       "      <td>Long Island City</td>\n",
       "      <td>NY</td>\n",
       "      <td>Acura</td>\n",
       "      <td>ILX5-Speed</td>\n",
       "      <td>Low</td>\n",
       "      <td>Low</td>\n",
       "    </tr>\n",
       "    <tr>\n",
       "      <th>2</th>\n",
       "      <td>8995</td>\n",
       "      <td>2013</td>\n",
       "      <td>48851</td>\n",
       "      <td>El Paso</td>\n",
       "      <td>TX</td>\n",
       "      <td>Acura</td>\n",
       "      <td>ILX6-Speed</td>\n",
       "      <td>Medium</td>\n",
       "      <td>Low</td>\n",
       "    </tr>\n",
       "    <tr>\n",
       "      <th>3</th>\n",
       "      <td>10999</td>\n",
       "      <td>2014</td>\n",
       "      <td>39922</td>\n",
       "      <td>Windsor</td>\n",
       "      <td>CO</td>\n",
       "      <td>Acura</td>\n",
       "      <td>ILX5-Speed</td>\n",
       "      <td>Medium</td>\n",
       "      <td>Low</td>\n",
       "    </tr>\n",
       "    <tr>\n",
       "      <th>4</th>\n",
       "      <td>14799</td>\n",
       "      <td>2016</td>\n",
       "      <td>22142</td>\n",
       "      <td>Lindon</td>\n",
       "      <td>UT</td>\n",
       "      <td>Acura</td>\n",
       "      <td>ILXAutomatic</td>\n",
       "      <td>Low</td>\n",
       "      <td>Low</td>\n",
       "    </tr>\n",
       "    <tr>\n",
       "      <th>...</th>\n",
       "      <td>...</td>\n",
       "      <td>...</td>\n",
       "      <td>...</td>\n",
       "      <td>...</td>\n",
       "      <td>...</td>\n",
       "      <td>...</td>\n",
       "      <td>...</td>\n",
       "      <td>...</td>\n",
       "      <td>...</td>\n",
       "    </tr>\n",
       "    <tr>\n",
       "      <th>1181250</th>\n",
       "      <td>59375</td>\n",
       "      <td>2017</td>\n",
       "      <td>17406</td>\n",
       "      <td>Berwyn</td>\n",
       "      <td>PA</td>\n",
       "      <td>Volvo</td>\n",
       "      <td>XC90T6</td>\n",
       "      <td>Low</td>\n",
       "      <td>Low</td>\n",
       "    </tr>\n",
       "    <tr>\n",
       "      <th>1181251</th>\n",
       "      <td>54900</td>\n",
       "      <td>2016</td>\n",
       "      <td>12637</td>\n",
       "      <td>Exeter</td>\n",
       "      <td>NH</td>\n",
       "      <td>Volvo</td>\n",
       "      <td>XC90</td>\n",
       "      <td>Low</td>\n",
       "      <td>Low</td>\n",
       "    </tr>\n",
       "    <tr>\n",
       "      <th>1181252</th>\n",
       "      <td>69882</td>\n",
       "      <td>2017</td>\n",
       "      <td>8370</td>\n",
       "      <td>Walnut Creek</td>\n",
       "      <td>CA</td>\n",
       "      <td>Volvo</td>\n",
       "      <td>XC90T8</td>\n",
       "      <td>Low</td>\n",
       "      <td>Low</td>\n",
       "    </tr>\n",
       "    <tr>\n",
       "      <th>1181253</th>\n",
       "      <td>79900</td>\n",
       "      <td>2017</td>\n",
       "      <td>25</td>\n",
       "      <td>East Hanover</td>\n",
       "      <td>NJ</td>\n",
       "      <td>Volvo</td>\n",
       "      <td>XC90T8</td>\n",
       "      <td>Low</td>\n",
       "      <td>Low</td>\n",
       "    </tr>\n",
       "    <tr>\n",
       "      <th>1181254</th>\n",
       "      <td>68755</td>\n",
       "      <td>2018</td>\n",
       "      <td>2500</td>\n",
       "      <td>Englewood</td>\n",
       "      <td>NJ</td>\n",
       "      <td>Volvo</td>\n",
       "      <td>XC90T6</td>\n",
       "      <td>Low</td>\n",
       "      <td>Low</td>\n",
       "    </tr>\n",
       "  </tbody>\n",
       "</table>\n",
       "<p>1181255 rows × 9 columns</p>\n",
       "</div>"
      ],
      "text/plain": [
       "         Price  Year  Mileage              City State   Make         Model  \\\n",
       "0         8995  2014    35725           El Paso    TX  Acura    ILX6-Speed   \n",
       "1        10888  2013    19606  Long Island City    NY  Acura    ILX5-Speed   \n",
       "2         8995  2013    48851           El Paso    TX  Acura    ILX6-Speed   \n",
       "3        10999  2014    39922           Windsor    CO  Acura    ILX5-Speed   \n",
       "4        14799  2016    22142            Lindon    UT  Acura  ILXAutomatic   \n",
       "...        ...   ...      ...               ...   ...    ...           ...   \n",
       "1181250  59375  2017    17406            Berwyn    PA  Volvo        XC90T6   \n",
       "1181251  54900  2016    12637            Exeter    NH  Volvo          XC90   \n",
       "1181252  69882  2017     8370      Walnut Creek    CA  Volvo        XC90T8   \n",
       "1181253  79900  2017       25      East Hanover    NJ  Volvo        XC90T8   \n",
       "1181254  68755  2018     2500         Englewood    NJ  Volvo        XC90T6   \n",
       "\n",
       "        Usage_level City_importance  \n",
       "0            Medium             Low  \n",
       "1               Low             Low  \n",
       "2            Medium             Low  \n",
       "3            Medium             Low  \n",
       "4               Low             Low  \n",
       "...             ...             ...  \n",
       "1181250         Low             Low  \n",
       "1181251         Low             Low  \n",
       "1181252         Low             Low  \n",
       "1181253         Low             Low  \n",
       "1181254         Low             Low  \n",
       "\n",
       "[1181255 rows x 9 columns]"
      ]
     },
     "execution_count": 63,
     "metadata": {},
     "output_type": "execute_result"
    }
   ],
   "source": [
    "data3"
   ]
  },
  {
   "cell_type": "code",
   "execution_count": 64,
   "id": "db29e863",
   "metadata": {},
   "outputs": [],
   "source": [
    "data3_new = data3[data3[\"Year\"] >= 2006]\n",
    "data3_old = data3[data3[\"Year\"] < 2006]"
   ]
  },
  {
   "cell_type": "code",
   "execution_count": 65,
   "id": "e6ef1df6",
   "metadata": {},
   "outputs": [],
   "source": [
    "from sklearn.model_selection import train_test_split"
   ]
  },
  {
   "cell_type": "code",
   "execution_count": 66,
   "id": "c743ff43",
   "metadata": {},
   "outputs": [],
   "source": [
    "#For new Dataset:\n",
    "X = data3_new.drop(columns = [\"Price\"])\n",
    "Y = data3_new.Price\n",
    "train_new, test_new, y_train_new, y_test_new = train_test_split(X, Y, test_size = 0.1, shuffle= True)"
   ]
  },
  {
   "cell_type": "code",
   "execution_count": 67,
   "id": "485ec7b8",
   "metadata": {},
   "outputs": [],
   "source": [
    "train_new.to_csv('train_new.csv',index=False)\n",
    "test_new.to_csv('test_new.csv',index=False)"
   ]
  },
  {
   "cell_type": "code",
   "execution_count": null,
   "id": "576f83d9",
   "metadata": {},
   "outputs": [],
   "source": [
    "#For old Dataset:\n",
    "x = data3_old.drop(columns = [\"Price\"])\n",
    "y = data3_old.Price\n",
    "train_old, test_old, y_train_old, y_test_old = train_test_split(x, y, test_size = 0.1, shuffle= True)"
   ]
  },
  {
   "cell_type": "code",
   "execution_count": null,
   "id": "b3af6b59",
   "metadata": {},
   "outputs": [],
   "source": [
    "train_old.to_csv('train_old.csv',index=False)\n",
    "test_old.to_csv('test_new.old',index=False)"
   ]
  },
  {
   "cell_type": "code",
   "execution_count": 68,
   "id": "5f731dfd",
   "metadata": {},
   "outputs": [
    {
     "data": {
      "text/html": [
       "<div>\n",
       "<style scoped>\n",
       "    .dataframe tbody tr th:only-of-type {\n",
       "        vertical-align: middle;\n",
       "    }\n",
       "\n",
       "    .dataframe tbody tr th {\n",
       "        vertical-align: top;\n",
       "    }\n",
       "\n",
       "    .dataframe thead th {\n",
       "        text-align: right;\n",
       "    }\n",
       "</style>\n",
       "<table border=\"1\" class=\"dataframe\">\n",
       "  <thead>\n",
       "    <tr style=\"text-align: right;\">\n",
       "      <th></th>\n",
       "      <th>Year</th>\n",
       "      <th>Mileage</th>\n",
       "      <th>City</th>\n",
       "      <th>State</th>\n",
       "      <th>Make</th>\n",
       "      <th>Model</th>\n",
       "      <th>Usage_level</th>\n",
       "      <th>City_importance</th>\n",
       "    </tr>\n",
       "  </thead>\n",
       "  <tbody>\n",
       "    <tr>\n",
       "      <th>779264</th>\n",
       "      <td>2010</td>\n",
       "      <td>88505</td>\n",
       "      <td>Houston</td>\n",
       "      <td>TX</td>\n",
       "      <td>Toyota</td>\n",
       "      <td>Tundra</td>\n",
       "      <td>High</td>\n",
       "      <td>Low</td>\n",
       "    </tr>\n",
       "    <tr>\n",
       "      <th>928151</th>\n",
       "      <td>2013</td>\n",
       "      <td>3937</td>\n",
       "      <td>Hemet</td>\n",
       "      <td>CA</td>\n",
       "      <td>Ford</td>\n",
       "      <td>F-350XLT</td>\n",
       "      <td>Low</td>\n",
       "      <td>Low</td>\n",
       "    </tr>\n",
       "    <tr>\n",
       "      <th>576471</th>\n",
       "      <td>2014</td>\n",
       "      <td>38139</td>\n",
       "      <td>Paterson</td>\n",
       "      <td>NJ</td>\n",
       "      <td>Mercedes-Benz</td>\n",
       "      <td>CLA-ClassCLA250</td>\n",
       "      <td>Medium</td>\n",
       "      <td>Low</td>\n",
       "    </tr>\n",
       "    <tr>\n",
       "      <th>911508</th>\n",
       "      <td>2016</td>\n",
       "      <td>12592</td>\n",
       "      <td>Midlothian</td>\n",
       "      <td>IL</td>\n",
       "      <td>Ford</td>\n",
       "      <td>EscapeSE</td>\n",
       "      <td>Low</td>\n",
       "      <td>Low</td>\n",
       "    </tr>\n",
       "    <tr>\n",
       "      <th>172855</th>\n",
       "      <td>2015</td>\n",
       "      <td>54361</td>\n",
       "      <td>Hickory</td>\n",
       "      <td>NC</td>\n",
       "      <td>Chevrolet</td>\n",
       "      <td>Suburban4WD</td>\n",
       "      <td>Medium</td>\n",
       "      <td>Low</td>\n",
       "    </tr>\n",
       "    <tr>\n",
       "      <th>...</th>\n",
       "      <td>...</td>\n",
       "      <td>...</td>\n",
       "      <td>...</td>\n",
       "      <td>...</td>\n",
       "      <td>...</td>\n",
       "      <td>...</td>\n",
       "      <td>...</td>\n",
       "      <td>...</td>\n",
       "    </tr>\n",
       "    <tr>\n",
       "      <th>1096539</th>\n",
       "      <td>2016</td>\n",
       "      <td>15973</td>\n",
       "      <td>Downey</td>\n",
       "      <td>CA</td>\n",
       "      <td>Nissan</td>\n",
       "      <td>Versa</td>\n",
       "      <td>Low</td>\n",
       "      <td>Low</td>\n",
       "    </tr>\n",
       "    <tr>\n",
       "      <th>1127629</th>\n",
       "      <td>2010</td>\n",
       "      <td>113035</td>\n",
       "      <td>Olympia</td>\n",
       "      <td>WA</td>\n",
       "      <td>Subaru</td>\n",
       "      <td>Legacy4dr</td>\n",
       "      <td>High</td>\n",
       "      <td>Low</td>\n",
       "    </tr>\n",
       "    <tr>\n",
       "      <th>675168</th>\n",
       "      <td>2017</td>\n",
       "      <td>4543</td>\n",
       "      <td>Chandler</td>\n",
       "      <td>AZ</td>\n",
       "      <td>Porsche</td>\n",
       "      <td>MacanAWD</td>\n",
       "      <td>Low</td>\n",
       "      <td>Low</td>\n",
       "    </tr>\n",
       "    <tr>\n",
       "      <th>975121</th>\n",
       "      <td>2009</td>\n",
       "      <td>132182</td>\n",
       "      <td>Slidell</td>\n",
       "      <td>LA</td>\n",
       "      <td>Honda</td>\n",
       "      <td>FitSport</td>\n",
       "      <td>High</td>\n",
       "      <td>Low</td>\n",
       "    </tr>\n",
       "    <tr>\n",
       "      <th>800457</th>\n",
       "      <td>2015</td>\n",
       "      <td>27151</td>\n",
       "      <td>Burnsville</td>\n",
       "      <td>MN</td>\n",
       "      <td>Volkswagen</td>\n",
       "      <td>Jetta</td>\n",
       "      <td>Medium</td>\n",
       "      <td>Low</td>\n",
       "    </tr>\n",
       "  </tbody>\n",
       "</table>\n",
       "<p>1034404 rows × 8 columns</p>\n",
       "</div>"
      ],
      "text/plain": [
       "         Year  Mileage        City State           Make            Model  \\\n",
       "779264   2010    88505     Houston    TX         Toyota           Tundra   \n",
       "928151   2013     3937       Hemet    CA           Ford         F-350XLT   \n",
       "576471   2014    38139    Paterson    NJ  Mercedes-Benz  CLA-ClassCLA250   \n",
       "911508   2016    12592  Midlothian    IL           Ford         EscapeSE   \n",
       "172855   2015    54361     Hickory    NC      Chevrolet      Suburban4WD   \n",
       "...       ...      ...         ...   ...            ...              ...   \n",
       "1096539  2016    15973      Downey    CA         Nissan            Versa   \n",
       "1127629  2010   113035     Olympia    WA         Subaru        Legacy4dr   \n",
       "675168   2017     4543    Chandler    AZ        Porsche         MacanAWD   \n",
       "975121   2009   132182     Slidell    LA          Honda         FitSport   \n",
       "800457   2015    27151  Burnsville    MN     Volkswagen            Jetta   \n",
       "\n",
       "        Usage_level City_importance  \n",
       "779264         High             Low  \n",
       "928151          Low             Low  \n",
       "576471       Medium             Low  \n",
       "911508          Low             Low  \n",
       "172855       Medium             Low  \n",
       "...             ...             ...  \n",
       "1096539         Low             Low  \n",
       "1127629        High             Low  \n",
       "675168          Low             Low  \n",
       "975121         High             Low  \n",
       "800457       Medium             Low  \n",
       "\n",
       "[1034404 rows x 8 columns]"
      ]
     },
     "execution_count": 68,
     "metadata": {},
     "output_type": "execute_result"
    }
   ],
   "source": [
    "train_new"
   ]
  },
  {
   "cell_type": "code",
   "execution_count": 79,
   "id": "00ab63ac",
   "metadata": {},
   "outputs": [],
   "source": [
    "from sklearn.compose import make_column_transformer\n",
    "from sklearn.preprocessing import OneHotEncoder\n",
    "from sklearn.preprocessing import OrdinalEncoder"
   ]
  },
  {
   "cell_type": "code",
   "execution_count": 80,
   "id": "3c2dacc3",
   "metadata": {},
   "outputs": [],
   "source": [
    "column_trans = make_column_transformer((OneHotEncoder(handle_unknown='ignore'),\n",
    "                                        ['State','Make','Model','City']),\n",
    "                                      (OrdinalEncoder(),['Usage_level','City_importance']),\n",
    "                                      remainder='passthrough')"
   ]
  },
  {
   "cell_type": "code",
   "execution_count": 105,
   "id": "e52d90e3",
   "metadata": {},
   "outputs": [
    {
     "data": {
      "text/html": [
       "<div>\n",
       "<style scoped>\n",
       "    .dataframe tbody tr th:only-of-type {\n",
       "        vertical-align: middle;\n",
       "    }\n",
       "\n",
       "    .dataframe tbody tr th {\n",
       "        vertical-align: top;\n",
       "    }\n",
       "\n",
       "    .dataframe thead th {\n",
       "        text-align: right;\n",
       "    }\n",
       "</style>\n",
       "<table border=\"1\" class=\"dataframe\">\n",
       "  <thead>\n",
       "    <tr style=\"text-align: right;\">\n",
       "      <th></th>\n",
       "      <th>Year</th>\n",
       "      <th>Mileage</th>\n",
       "      <th>City</th>\n",
       "      <th>State</th>\n",
       "      <th>Make</th>\n",
       "      <th>Model</th>\n",
       "      <th>Usage_level</th>\n",
       "      <th>City_importance</th>\n",
       "    </tr>\n",
       "  </thead>\n",
       "  <tbody>\n",
       "    <tr>\n",
       "      <th>779264</th>\n",
       "      <td>2010</td>\n",
       "      <td>88505</td>\n",
       "      <td>1034</td>\n",
       "      <td>49</td>\n",
       "      <td>50</td>\n",
       "      <td>2329</td>\n",
       "      <td>0</td>\n",
       "      <td>1</td>\n",
       "    </tr>\n",
       "    <tr>\n",
       "      <th>928151</th>\n",
       "      <td>2013</td>\n",
       "      <td>3937</td>\n",
       "      <td>988</td>\n",
       "      <td>5</td>\n",
       "      <td>14</td>\n",
       "      <td>912</td>\n",
       "      <td>1</td>\n",
       "      <td>1</td>\n",
       "    </tr>\n",
       "    <tr>\n",
       "      <th>576471</th>\n",
       "      <td>2014</td>\n",
       "      <td>38139</td>\n",
       "      <td>1779</td>\n",
       "      <td>36</td>\n",
       "      <td>36</td>\n",
       "      <td>399</td>\n",
       "      <td>2</td>\n",
       "      <td>1</td>\n",
       "    </tr>\n",
       "    <tr>\n",
       "      <th>911508</th>\n",
       "      <td>2016</td>\n",
       "      <td>12592</td>\n",
       "      <td>1438</td>\n",
       "      <td>18</td>\n",
       "      <td>14</td>\n",
       "      <td>830</td>\n",
       "      <td>1</td>\n",
       "      <td>1</td>\n",
       "    </tr>\n",
       "    <tr>\n",
       "      <th>172855</th>\n",
       "      <td>2015</td>\n",
       "      <td>54361</td>\n",
       "      <td>1000</td>\n",
       "      <td>32</td>\n",
       "      <td>8</td>\n",
       "      <td>2188</td>\n",
       "      <td>2</td>\n",
       "      <td>1</td>\n",
       "    </tr>\n",
       "    <tr>\n",
       "      <th>...</th>\n",
       "      <td>...</td>\n",
       "      <td>...</td>\n",
       "      <td>...</td>\n",
       "      <td>...</td>\n",
       "      <td>...</td>\n",
       "      <td>...</td>\n",
       "      <td>...</td>\n",
       "      <td>...</td>\n",
       "    </tr>\n",
       "    <tr>\n",
       "      <th>1096539</th>\n",
       "      <td>2016</td>\n",
       "      <td>15973</td>\n",
       "      <td>593</td>\n",
       "      <td>5</td>\n",
       "      <td>39</td>\n",
       "      <td>2394</td>\n",
       "      <td>1</td>\n",
       "      <td>1</td>\n",
       "    </tr>\n",
       "    <tr>\n",
       "      <th>1127629</th>\n",
       "      <td>2010</td>\n",
       "      <td>113035</td>\n",
       "      <td>1703</td>\n",
       "      <td>54</td>\n",
       "      <td>47</td>\n",
       "      <td>1331</td>\n",
       "      <td>0</td>\n",
       "      <td>1</td>\n",
       "    </tr>\n",
       "    <tr>\n",
       "      <th>675168</th>\n",
       "      <td>2017</td>\n",
       "      <td>4543</td>\n",
       "      <td>382</td>\n",
       "      <td>3</td>\n",
       "      <td>41</td>\n",
       "      <td>1453</td>\n",
       "      <td>1</td>\n",
       "      <td>1</td>\n",
       "    </tr>\n",
       "    <tr>\n",
       "      <th>975121</th>\n",
       "      <td>2009</td>\n",
       "      <td>132182</td>\n",
       "      <td>2128</td>\n",
       "      <td>22</td>\n",
       "      <td>19</td>\n",
       "      <td>971</td>\n",
       "      <td>0</td>\n",
       "      <td>1</td>\n",
       "    </tr>\n",
       "    <tr>\n",
       "      <th>800457</th>\n",
       "      <td>2015</td>\n",
       "      <td>27151</td>\n",
       "      <td>300</td>\n",
       "      <td>27</td>\n",
       "      <td>51</td>\n",
       "      <td>1271</td>\n",
       "      <td>2</td>\n",
       "      <td>1</td>\n",
       "    </tr>\n",
       "  </tbody>\n",
       "</table>\n",
       "<p>1034404 rows × 8 columns</p>\n",
       "</div>"
      ],
      "text/plain": [
       "         Year  Mileage  City  State  Make  Model  Usage_level  City_importance\n",
       "779264   2010    88505  1034     49    50   2329            0                1\n",
       "928151   2013     3937   988      5    14    912            1                1\n",
       "576471   2014    38139  1779     36    36    399            2                1\n",
       "911508   2016    12592  1438     18    14    830            1                1\n",
       "172855   2015    54361  1000     32     8   2188            2                1\n",
       "...       ...      ...   ...    ...   ...    ...          ...              ...\n",
       "1096539  2016    15973   593      5    39   2394            1                1\n",
       "1127629  2010   113035  1703     54    47   1331            0                1\n",
       "675168   2017     4543   382      3    41   1453            1                1\n",
       "975121   2009   132182  2128     22    19    971            0                1\n",
       "800457   2015    27151   300     27    51   1271            2                1\n",
       "\n",
       "[1034404 rows x 8 columns]"
      ]
     },
     "execution_count": 105,
     "metadata": {},
     "output_type": "execute_result"
    }
   ],
   "source": [
    "train_new"
   ]
  },
  {
   "cell_type": "code",
   "execution_count": 96,
   "id": "31200055",
   "metadata": {},
   "outputs": [],
   "source": [
    "from sklearn.ensemble import RandomForestRegressor"
   ]
  },
  {
   "cell_type": "code",
   "execution_count": 91,
   "id": "1e6f648f",
   "metadata": {},
   "outputs": [],
   "source": [
    "model = RandomForestRegressor(n_estimators =30,random_state =30)"
   ]
  },
  {
   "cell_type": "code",
   "execution_count": 92,
   "id": "cb97f825",
   "metadata": {},
   "outputs": [],
   "source": [
    "ll_rf = model.fit(train_new,y_train_new)"
   ]
  },
  {
   "cell_type": "code",
   "execution_count": 93,
   "id": "24f55ced",
   "metadata": {},
   "outputs": [
    {
     "data": {
      "text/plain": [
       "0.9848003302679649"
      ]
     },
     "execution_count": 93,
     "metadata": {},
     "output_type": "execute_result"
    }
   ],
   "source": [
    "ll_rf.score(train_new,y_train_new)"
   ]
  },
  {
   "cell_type": "code",
   "execution_count": 94,
   "id": "5f66838c",
   "metadata": {},
   "outputs": [],
   "source": [
    "ytrain_pred = ll_rf.predict(train_new)"
   ]
  },
  {
   "cell_type": "code",
   "execution_count": 95,
   "id": "dca1b1ad",
   "metadata": {},
   "outputs": [
    {
     "data": {
      "text/plain": [
       "834.5705197669511"
      ]
     },
     "execution_count": 95,
     "metadata": {},
     "output_type": "execute_result"
    }
   ],
   "source": [
    "mean_absolute_error(y_train_new,ytrain_pred)"
   ]
  },
  {
   "cell_type": "code",
   "execution_count": null,
   "id": "209bb702",
   "metadata": {},
   "outputs": [],
   "source": []
  }
 ],
 "metadata": {
  "kernelspec": {
   "display_name": "Python 3 (ipykernel)",
   "language": "python",
   "name": "python3"
  },
  "language_info": {
   "codemirror_mode": {
    "name": "ipython",
    "version": 3
   },
   "file_extension": ".py",
   "mimetype": "text/x-python",
   "name": "python",
   "nbconvert_exporter": "python",
   "pygments_lexer": "ipython3",
   "version": "3.9.7"
  }
 },
 "nbformat": 4,
 "nbformat_minor": 5
}
