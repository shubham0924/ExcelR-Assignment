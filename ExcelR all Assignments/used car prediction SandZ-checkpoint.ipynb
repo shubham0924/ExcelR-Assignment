{
 "cells": [
  {
   "cell_type": "code",
   "execution_count": 1,
   "id": "1656678d",
   "metadata": {},
   "outputs": [],
   "source": [
    "import pandas as pd\n",
    "import numpy as np\n",
    "import pandas_profiling as pp\n",
    "import sweetviz as sv\n",
    "import matplotlib.pyplot as plt\n",
    "%matplotlib inline\n",
    "import seaborn as sns\n",
    "import statsmodels.api as sm\n",
    "import statsmodels.formula.api as smf \n",
    "from sklearn.model_selection import train_test_split\n",
    "import warnings\n",
    "warnings.filterwarnings('ignore')"
   ]
  },
  {
   "cell_type": "code",
   "execution_count": 2,
   "id": "68ab3bd3",
   "metadata": {},
   "outputs": [],
   "source": [
    "from sklearn.preprocessing import StandardScaler\n",
    "from sklearn.ensemble import GradientBoostingRegressor\n",
    "from sklearn.decomposition import PCA\n",
    "from sklearn.metrics import mean_squared_error"
   ]
  },
  {
   "cell_type": "code",
   "execution_count": 3,
   "id": "3259a5fe",
   "metadata": {},
   "outputs": [],
   "source": [
    "data1=pd.read_csv(\"D:\\\\excelR\\\\csvfiles\\\\true_car_listings.csv\") ##load the csv file 1\n"
   ]
  },
  {
   "cell_type": "code",
   "execution_count": 4,
   "id": "d8f10828",
   "metadata": {},
   "outputs": [
    {
     "data": {
      "text/html": [
       "<div>\n",
       "<style scoped>\n",
       "    .dataframe tbody tr th:only-of-type {\n",
       "        vertical-align: middle;\n",
       "    }\n",
       "\n",
       "    .dataframe tbody tr th {\n",
       "        vertical-align: top;\n",
       "    }\n",
       "\n",
       "    .dataframe thead th {\n",
       "        text-align: right;\n",
       "    }\n",
       "</style>\n",
       "<table border=\"1\" class=\"dataframe\">\n",
       "  <thead>\n",
       "    <tr style=\"text-align: right;\">\n",
       "      <th></th>\n",
       "      <th>Price</th>\n",
       "      <th>Year</th>\n",
       "      <th>Mileage</th>\n",
       "      <th>City</th>\n",
       "      <th>State</th>\n",
       "      <th>Vin</th>\n",
       "      <th>Make</th>\n",
       "      <th>Model</th>\n",
       "    </tr>\n",
       "  </thead>\n",
       "  <tbody>\n",
       "    <tr>\n",
       "      <th>0</th>\n",
       "      <td>8995</td>\n",
       "      <td>2014</td>\n",
       "      <td>35725</td>\n",
       "      <td>El Paso</td>\n",
       "      <td>TX</td>\n",
       "      <td>19VDE2E53EE000083</td>\n",
       "      <td>Acura</td>\n",
       "      <td>ILX6-Speed</td>\n",
       "    </tr>\n",
       "    <tr>\n",
       "      <th>1</th>\n",
       "      <td>10888</td>\n",
       "      <td>2013</td>\n",
       "      <td>19606</td>\n",
       "      <td>Long Island City</td>\n",
       "      <td>NY</td>\n",
       "      <td>19VDE1F52DE012636</td>\n",
       "      <td>Acura</td>\n",
       "      <td>ILX5-Speed</td>\n",
       "    </tr>\n",
       "    <tr>\n",
       "      <th>2</th>\n",
       "      <td>8995</td>\n",
       "      <td>2013</td>\n",
       "      <td>48851</td>\n",
       "      <td>El Paso</td>\n",
       "      <td>TX</td>\n",
       "      <td>19VDE2E52DE000025</td>\n",
       "      <td>Acura</td>\n",
       "      <td>ILX6-Speed</td>\n",
       "    </tr>\n",
       "    <tr>\n",
       "      <th>3</th>\n",
       "      <td>10999</td>\n",
       "      <td>2014</td>\n",
       "      <td>39922</td>\n",
       "      <td>Windsor</td>\n",
       "      <td>CO</td>\n",
       "      <td>19VDE1F71EE003817</td>\n",
       "      <td>Acura</td>\n",
       "      <td>ILX5-Speed</td>\n",
       "    </tr>\n",
       "    <tr>\n",
       "      <th>4</th>\n",
       "      <td>14799</td>\n",
       "      <td>2016</td>\n",
       "      <td>22142</td>\n",
       "      <td>Lindon</td>\n",
       "      <td>UT</td>\n",
       "      <td>19UDE2F32GA001284</td>\n",
       "      <td>Acura</td>\n",
       "      <td>ILXAutomatic</td>\n",
       "    </tr>\n",
       "    <tr>\n",
       "      <th>...</th>\n",
       "      <td>...</td>\n",
       "      <td>...</td>\n",
       "      <td>...</td>\n",
       "      <td>...</td>\n",
       "      <td>...</td>\n",
       "      <td>...</td>\n",
       "      <td>...</td>\n",
       "      <td>...</td>\n",
       "    </tr>\n",
       "    <tr>\n",
       "      <th>852117</th>\n",
       "      <td>63215</td>\n",
       "      <td>2017</td>\n",
       "      <td>9</td>\n",
       "      <td>Culver City</td>\n",
       "      <td>CA</td>\n",
       "      <td>YV1A22MK9H1013237</td>\n",
       "      <td>Volvo</td>\n",
       "      <td>S90T6</td>\n",
       "    </tr>\n",
       "    <tr>\n",
       "      <th>852118</th>\n",
       "      <td>72260</td>\n",
       "      <td>2017</td>\n",
       "      <td>3201</td>\n",
       "      <td>Englewood</td>\n",
       "      <td>NJ</td>\n",
       "      <td>YV4A22PL3H1186162</td>\n",
       "      <td>Volvo</td>\n",
       "      <td>XC90T6</td>\n",
       "    </tr>\n",
       "    <tr>\n",
       "      <th>852119</th>\n",
       "      <td>55999</td>\n",
       "      <td>2016</td>\n",
       "      <td>28941</td>\n",
       "      <td>Fort Collins</td>\n",
       "      <td>CO</td>\n",
       "      <td>YV4A22PL4G1000868</td>\n",
       "      <td>Volvo</td>\n",
       "      <td>XC90AWD</td>\n",
       "    </tr>\n",
       "    <tr>\n",
       "      <th>852120</th>\n",
       "      <td>60240</td>\n",
       "      <td>2017</td>\n",
       "      <td>3005</td>\n",
       "      <td>San Leandro</td>\n",
       "      <td>CA</td>\n",
       "      <td>YV4A22NLXH1006162</td>\n",
       "      <td>Volvo</td>\n",
       "      <td>V90</td>\n",
       "    </tr>\n",
       "    <tr>\n",
       "      <th>852121</th>\n",
       "      <td>76995</td>\n",
       "      <td>2017</td>\n",
       "      <td>2502</td>\n",
       "      <td>New York</td>\n",
       "      <td>NY</td>\n",
       "      <td>YV4BC0ZX1H1109845</td>\n",
       "      <td>Volvo</td>\n",
       "      <td>XC90T8</td>\n",
       "    </tr>\n",
       "  </tbody>\n",
       "</table>\n",
       "<p>852122 rows × 8 columns</p>\n",
       "</div>"
      ],
      "text/plain": [
       "        Price  Year  Mileage              City State                Vin  \\\n",
       "0        8995  2014    35725           El Paso    TX  19VDE2E53EE000083   \n",
       "1       10888  2013    19606  Long Island City    NY  19VDE1F52DE012636   \n",
       "2        8995  2013    48851           El Paso    TX  19VDE2E52DE000025   \n",
       "3       10999  2014    39922           Windsor    CO  19VDE1F71EE003817   \n",
       "4       14799  2016    22142            Lindon    UT  19UDE2F32GA001284   \n",
       "...       ...   ...      ...               ...   ...                ...   \n",
       "852117  63215  2017        9       Culver City    CA  YV1A22MK9H1013237   \n",
       "852118  72260  2017     3201         Englewood    NJ  YV4A22PL3H1186162   \n",
       "852119  55999  2016    28941      Fort Collins    CO  YV4A22PL4G1000868   \n",
       "852120  60240  2017     3005       San Leandro    CA  YV4A22NLXH1006162   \n",
       "852121  76995  2017     2502          New York    NY  YV4BC0ZX1H1109845   \n",
       "\n",
       "         Make         Model  \n",
       "0       Acura    ILX6-Speed  \n",
       "1       Acura    ILX5-Speed  \n",
       "2       Acura    ILX6-Speed  \n",
       "3       Acura    ILX5-Speed  \n",
       "4       Acura  ILXAutomatic  \n",
       "...       ...           ...  \n",
       "852117  Volvo         S90T6  \n",
       "852118  Volvo        XC90T6  \n",
       "852119  Volvo       XC90AWD  \n",
       "852120  Volvo           V90  \n",
       "852121  Volvo        XC90T8  \n",
       "\n",
       "[852122 rows x 8 columns]"
      ]
     },
     "execution_count": 4,
     "metadata": {},
     "output_type": "execute_result"
    }
   ],
   "source": [
    "data1"
   ]
  },
  {
   "cell_type": "code",
   "execution_count": 5,
   "id": "6c514d0b",
   "metadata": {},
   "outputs": [],
   "source": [
    "data2= pd.read_csv(\"D:\\\\excelR\\\\csvfiles\\\\tc20171021.csv\",on_bad_lines='skip')##load the csv file 2\n"
   ]
  },
  {
   "cell_type": "code",
   "execution_count": 6,
   "id": "cd6a08ad",
   "metadata": {},
   "outputs": [
    {
     "data": {
      "text/html": [
       "<div>\n",
       "<style scoped>\n",
       "    .dataframe tbody tr th:only-of-type {\n",
       "        vertical-align: middle;\n",
       "    }\n",
       "\n",
       "    .dataframe tbody tr th {\n",
       "        vertical-align: top;\n",
       "    }\n",
       "\n",
       "    .dataframe thead th {\n",
       "        text-align: right;\n",
       "    }\n",
       "</style>\n",
       "<table border=\"1\" class=\"dataframe\">\n",
       "  <thead>\n",
       "    <tr style=\"text-align: right;\">\n",
       "      <th></th>\n",
       "      <th>Id</th>\n",
       "      <th>Price</th>\n",
       "      <th>Year</th>\n",
       "      <th>Mileage</th>\n",
       "      <th>City</th>\n",
       "      <th>State</th>\n",
       "      <th>Vin</th>\n",
       "      <th>Make</th>\n",
       "      <th>Model</th>\n",
       "    </tr>\n",
       "  </thead>\n",
       "  <tbody>\n",
       "    <tr>\n",
       "      <th>0</th>\n",
       "      <td>1</td>\n",
       "      <td>16472</td>\n",
       "      <td>2015</td>\n",
       "      <td>18681</td>\n",
       "      <td>Jefferson City</td>\n",
       "      <td>MO</td>\n",
       "      <td>KL4CJBSBXFB267643</td>\n",
       "      <td>Buick</td>\n",
       "      <td>EncoreConvenience</td>\n",
       "    </tr>\n",
       "    <tr>\n",
       "      <th>1</th>\n",
       "      <td>2</td>\n",
       "      <td>15749</td>\n",
       "      <td>2015</td>\n",
       "      <td>27592</td>\n",
       "      <td>Highland</td>\n",
       "      <td>IN</td>\n",
       "      <td>KL4CJASB5FB245057</td>\n",
       "      <td>Buick</td>\n",
       "      <td>EncoreFWD</td>\n",
       "    </tr>\n",
       "    <tr>\n",
       "      <th>2</th>\n",
       "      <td>3</td>\n",
       "      <td>16998</td>\n",
       "      <td>2015</td>\n",
       "      <td>13650</td>\n",
       "      <td>Boone</td>\n",
       "      <td>NC</td>\n",
       "      <td>KL4CJCSB0FB264921</td>\n",
       "      <td>Buick</td>\n",
       "      <td>EncoreLeather</td>\n",
       "    </tr>\n",
       "    <tr>\n",
       "      <th>3</th>\n",
       "      <td>4</td>\n",
       "      <td>15777</td>\n",
       "      <td>2015</td>\n",
       "      <td>25195</td>\n",
       "      <td>New Orleans</td>\n",
       "      <td>LA</td>\n",
       "      <td>KL4CJASB4FB217542</td>\n",
       "      <td>Buick</td>\n",
       "      <td>EncoreFWD</td>\n",
       "    </tr>\n",
       "    <tr>\n",
       "      <th>4</th>\n",
       "      <td>5</td>\n",
       "      <td>16784</td>\n",
       "      <td>2015</td>\n",
       "      <td>22800</td>\n",
       "      <td>Las Vegas</td>\n",
       "      <td>NV</td>\n",
       "      <td>KL4CJBSB3FB166881</td>\n",
       "      <td>Buick</td>\n",
       "      <td>EncoreConvenience</td>\n",
       "    </tr>\n",
       "    <tr>\n",
       "      <th>...</th>\n",
       "      <td>...</td>\n",
       "      <td>...</td>\n",
       "      <td>...</td>\n",
       "      <td>...</td>\n",
       "      <td>...</td>\n",
       "      <td>...</td>\n",
       "      <td>...</td>\n",
       "      <td>...</td>\n",
       "      <td>...</td>\n",
       "    </tr>\n",
       "    <tr>\n",
       "      <th>1216245</th>\n",
       "      <td>1233038</td>\n",
       "      <td>79900</td>\n",
       "      <td>2017</td>\n",
       "      <td>25</td>\n",
       "      <td>East Hanover</td>\n",
       "      <td>NJ</td>\n",
       "      <td>YV4BC0ZX0H1128239</td>\n",
       "      <td>Volvo</td>\n",
       "      <td>XC90T8</td>\n",
       "    </tr>\n",
       "    <tr>\n",
       "      <th>1216246</th>\n",
       "      <td>1233039</td>\n",
       "      <td>80895</td>\n",
       "      <td>2017</td>\n",
       "      <td>10</td>\n",
       "      <td>Corte Madera</td>\n",
       "      <td>CA</td>\n",
       "      <td>YV4BC0ZX0H1124188</td>\n",
       "      <td>Volvo</td>\n",
       "      <td>XC90T8</td>\n",
       "    </tr>\n",
       "    <tr>\n",
       "      <th>1216247</th>\n",
       "      <td>1233040</td>\n",
       "      <td>68755</td>\n",
       "      <td>2018</td>\n",
       "      <td>2500</td>\n",
       "      <td>Englewood</td>\n",
       "      <td>NJ</td>\n",
       "      <td>YV4A22PL4J1212676</td>\n",
       "      <td>Volvo</td>\n",
       "      <td>XC90T6</td>\n",
       "    </tr>\n",
       "    <tr>\n",
       "      <th>1216248</th>\n",
       "      <td>1233041</td>\n",
       "      <td>72260</td>\n",
       "      <td>2017</td>\n",
       "      <td>3201</td>\n",
       "      <td>Englewood</td>\n",
       "      <td>NJ</td>\n",
       "      <td>YV4A22PL3H1186162</td>\n",
       "      <td>Volvo</td>\n",
       "      <td>XC90T6</td>\n",
       "    </tr>\n",
       "    <tr>\n",
       "      <th>1216249</th>\n",
       "      <td>1233042</td>\n",
       "      <td>60240</td>\n",
       "      <td>2017</td>\n",
       "      <td>8342</td>\n",
       "      <td>San Leandro</td>\n",
       "      <td>CA</td>\n",
       "      <td>YV4A22NLXH1006162</td>\n",
       "      <td>Volvo</td>\n",
       "      <td>V90</td>\n",
       "    </tr>\n",
       "  </tbody>\n",
       "</table>\n",
       "<p>1216250 rows × 9 columns</p>\n",
       "</div>"
      ],
      "text/plain": [
       "              Id  Price  Year  Mileage            City State  \\\n",
       "0              1  16472  2015    18681  Jefferson City    MO   \n",
       "1              2  15749  2015    27592        Highland    IN   \n",
       "2              3  16998  2015    13650           Boone    NC   \n",
       "3              4  15777  2015    25195     New Orleans    LA   \n",
       "4              5  16784  2015    22800       Las Vegas    NV   \n",
       "...          ...    ...   ...      ...             ...   ...   \n",
       "1216245  1233038  79900  2017       25    East Hanover    NJ   \n",
       "1216246  1233039  80895  2017       10    Corte Madera    CA   \n",
       "1216247  1233040  68755  2018     2500       Englewood    NJ   \n",
       "1216248  1233041  72260  2017     3201       Englewood    NJ   \n",
       "1216249  1233042  60240  2017     8342     San Leandro    CA   \n",
       "\n",
       "                       Vin   Make              Model  \n",
       "0        KL4CJBSBXFB267643  Buick  EncoreConvenience  \n",
       "1        KL4CJASB5FB245057  Buick          EncoreFWD  \n",
       "2        KL4CJCSB0FB264921  Buick      EncoreLeather  \n",
       "3        KL4CJASB4FB217542  Buick          EncoreFWD  \n",
       "4        KL4CJBSB3FB166881  Buick  EncoreConvenience  \n",
       "...                    ...    ...                ...  \n",
       "1216245  YV4BC0ZX0H1128239  Volvo             XC90T8  \n",
       "1216246  YV4BC0ZX0H1124188  Volvo             XC90T8  \n",
       "1216247  YV4A22PL4J1212676  Volvo             XC90T6  \n",
       "1216248  YV4A22PL3H1186162  Volvo             XC90T6  \n",
       "1216249  YV4A22NLXH1006162  Volvo                V90  \n",
       "\n",
       "[1216250 rows x 9 columns]"
      ]
     },
     "execution_count": 6,
     "metadata": {},
     "output_type": "execute_result"
    }
   ],
   "source": [
    "data2 ## In this this dataset column\"Id\" is requried  "
   ]
  },
  {
   "cell_type": "code",
   "execution_count": 7,
   "id": "3e48e157",
   "metadata": {},
   "outputs": [],
   "source": [
    "data2. drop([\"Id\"], axis=1, inplace=True)  ## drop the Id column"
   ]
  },
  {
   "cell_type": "code",
   "execution_count": 8,
   "id": "3d7dccba",
   "metadata": {},
   "outputs": [
    {
     "data": {
      "text/html": [
       "<div>\n",
       "<style scoped>\n",
       "    .dataframe tbody tr th:only-of-type {\n",
       "        vertical-align: middle;\n",
       "    }\n",
       "\n",
       "    .dataframe tbody tr th {\n",
       "        vertical-align: top;\n",
       "    }\n",
       "\n",
       "    .dataframe thead th {\n",
       "        text-align: right;\n",
       "    }\n",
       "</style>\n",
       "<table border=\"1\" class=\"dataframe\">\n",
       "  <thead>\n",
       "    <tr style=\"text-align: right;\">\n",
       "      <th></th>\n",
       "      <th>Price</th>\n",
       "      <th>Year</th>\n",
       "      <th>Mileage</th>\n",
       "      <th>City</th>\n",
       "      <th>State</th>\n",
       "      <th>Vin</th>\n",
       "      <th>Make</th>\n",
       "      <th>Model</th>\n",
       "    </tr>\n",
       "  </thead>\n",
       "  <tbody>\n",
       "    <tr>\n",
       "      <th>0</th>\n",
       "      <td>16472</td>\n",
       "      <td>2015</td>\n",
       "      <td>18681</td>\n",
       "      <td>Jefferson City</td>\n",
       "      <td>MO</td>\n",
       "      <td>KL4CJBSBXFB267643</td>\n",
       "      <td>Buick</td>\n",
       "      <td>EncoreConvenience</td>\n",
       "    </tr>\n",
       "    <tr>\n",
       "      <th>1</th>\n",
       "      <td>15749</td>\n",
       "      <td>2015</td>\n",
       "      <td>27592</td>\n",
       "      <td>Highland</td>\n",
       "      <td>IN</td>\n",
       "      <td>KL4CJASB5FB245057</td>\n",
       "      <td>Buick</td>\n",
       "      <td>EncoreFWD</td>\n",
       "    </tr>\n",
       "    <tr>\n",
       "      <th>2</th>\n",
       "      <td>16998</td>\n",
       "      <td>2015</td>\n",
       "      <td>13650</td>\n",
       "      <td>Boone</td>\n",
       "      <td>NC</td>\n",
       "      <td>KL4CJCSB0FB264921</td>\n",
       "      <td>Buick</td>\n",
       "      <td>EncoreLeather</td>\n",
       "    </tr>\n",
       "    <tr>\n",
       "      <th>3</th>\n",
       "      <td>15777</td>\n",
       "      <td>2015</td>\n",
       "      <td>25195</td>\n",
       "      <td>New Orleans</td>\n",
       "      <td>LA</td>\n",
       "      <td>KL4CJASB4FB217542</td>\n",
       "      <td>Buick</td>\n",
       "      <td>EncoreFWD</td>\n",
       "    </tr>\n",
       "    <tr>\n",
       "      <th>4</th>\n",
       "      <td>16784</td>\n",
       "      <td>2015</td>\n",
       "      <td>22800</td>\n",
       "      <td>Las Vegas</td>\n",
       "      <td>NV</td>\n",
       "      <td>KL4CJBSB3FB166881</td>\n",
       "      <td>Buick</td>\n",
       "      <td>EncoreConvenience</td>\n",
       "    </tr>\n",
       "    <tr>\n",
       "      <th>...</th>\n",
       "      <td>...</td>\n",
       "      <td>...</td>\n",
       "      <td>...</td>\n",
       "      <td>...</td>\n",
       "      <td>...</td>\n",
       "      <td>...</td>\n",
       "      <td>...</td>\n",
       "      <td>...</td>\n",
       "    </tr>\n",
       "    <tr>\n",
       "      <th>1216245</th>\n",
       "      <td>79900</td>\n",
       "      <td>2017</td>\n",
       "      <td>25</td>\n",
       "      <td>East Hanover</td>\n",
       "      <td>NJ</td>\n",
       "      <td>YV4BC0ZX0H1128239</td>\n",
       "      <td>Volvo</td>\n",
       "      <td>XC90T8</td>\n",
       "    </tr>\n",
       "    <tr>\n",
       "      <th>1216246</th>\n",
       "      <td>80895</td>\n",
       "      <td>2017</td>\n",
       "      <td>10</td>\n",
       "      <td>Corte Madera</td>\n",
       "      <td>CA</td>\n",
       "      <td>YV4BC0ZX0H1124188</td>\n",
       "      <td>Volvo</td>\n",
       "      <td>XC90T8</td>\n",
       "    </tr>\n",
       "    <tr>\n",
       "      <th>1216247</th>\n",
       "      <td>68755</td>\n",
       "      <td>2018</td>\n",
       "      <td>2500</td>\n",
       "      <td>Englewood</td>\n",
       "      <td>NJ</td>\n",
       "      <td>YV4A22PL4J1212676</td>\n",
       "      <td>Volvo</td>\n",
       "      <td>XC90T6</td>\n",
       "    </tr>\n",
       "    <tr>\n",
       "      <th>1216248</th>\n",
       "      <td>72260</td>\n",
       "      <td>2017</td>\n",
       "      <td>3201</td>\n",
       "      <td>Englewood</td>\n",
       "      <td>NJ</td>\n",
       "      <td>YV4A22PL3H1186162</td>\n",
       "      <td>Volvo</td>\n",
       "      <td>XC90T6</td>\n",
       "    </tr>\n",
       "    <tr>\n",
       "      <th>1216249</th>\n",
       "      <td>60240</td>\n",
       "      <td>2017</td>\n",
       "      <td>8342</td>\n",
       "      <td>San Leandro</td>\n",
       "      <td>CA</td>\n",
       "      <td>YV4A22NLXH1006162</td>\n",
       "      <td>Volvo</td>\n",
       "      <td>V90</td>\n",
       "    </tr>\n",
       "  </tbody>\n",
       "</table>\n",
       "<p>1216250 rows × 8 columns</p>\n",
       "</div>"
      ],
      "text/plain": [
       "         Price  Year  Mileage            City State                Vin   Make  \\\n",
       "0        16472  2015    18681  Jefferson City    MO  KL4CJBSBXFB267643  Buick   \n",
       "1        15749  2015    27592        Highland    IN  KL4CJASB5FB245057  Buick   \n",
       "2        16998  2015    13650           Boone    NC  KL4CJCSB0FB264921  Buick   \n",
       "3        15777  2015    25195     New Orleans    LA  KL4CJASB4FB217542  Buick   \n",
       "4        16784  2015    22800       Las Vegas    NV  KL4CJBSB3FB166881  Buick   \n",
       "...        ...   ...      ...             ...   ...                ...    ...   \n",
       "1216245  79900  2017       25    East Hanover    NJ  YV4BC0ZX0H1128239  Volvo   \n",
       "1216246  80895  2017       10    Corte Madera    CA  YV4BC0ZX0H1124188  Volvo   \n",
       "1216247  68755  2018     2500       Englewood    NJ  YV4A22PL4J1212676  Volvo   \n",
       "1216248  72260  2017     3201       Englewood    NJ  YV4A22PL3H1186162  Volvo   \n",
       "1216249  60240  2017     8342     San Leandro    CA  YV4A22NLXH1006162  Volvo   \n",
       "\n",
       "                     Model  \n",
       "0        EncoreConvenience  \n",
       "1                EncoreFWD  \n",
       "2            EncoreLeather  \n",
       "3                EncoreFWD  \n",
       "4        EncoreConvenience  \n",
       "...                    ...  \n",
       "1216245             XC90T8  \n",
       "1216246             XC90T8  \n",
       "1216247             XC90T6  \n",
       "1216248             XC90T6  \n",
       "1216249                V90  \n",
       "\n",
       "[1216250 rows x 8 columns]"
      ]
     },
     "execution_count": 8,
     "metadata": {},
     "output_type": "execute_result"
    }
   ],
   "source": [
    "data2"
   ]
  },
  {
   "cell_type": "code",
   "execution_count": 9,
   "id": "2c55cf7d",
   "metadata": {},
   "outputs": [],
   "source": [
    "data3 = pd.concat([data1, data2], ignore_index=True) ## merging the both dataset for further process"
   ]
  },
  {
   "cell_type": "code",
   "execution_count": 10,
   "id": "6face691",
   "metadata": {},
   "outputs": [
    {
     "data": {
      "text/html": [
       "<div>\n",
       "<style scoped>\n",
       "    .dataframe tbody tr th:only-of-type {\n",
       "        vertical-align: middle;\n",
       "    }\n",
       "\n",
       "    .dataframe tbody tr th {\n",
       "        vertical-align: top;\n",
       "    }\n",
       "\n",
       "    .dataframe thead th {\n",
       "        text-align: right;\n",
       "    }\n",
       "</style>\n",
       "<table border=\"1\" class=\"dataframe\">\n",
       "  <thead>\n",
       "    <tr style=\"text-align: right;\">\n",
       "      <th></th>\n",
       "      <th>Price</th>\n",
       "      <th>Year</th>\n",
       "      <th>Mileage</th>\n",
       "      <th>City</th>\n",
       "      <th>State</th>\n",
       "      <th>Vin</th>\n",
       "      <th>Make</th>\n",
       "      <th>Model</th>\n",
       "    </tr>\n",
       "  </thead>\n",
       "  <tbody>\n",
       "    <tr>\n",
       "      <th>0</th>\n",
       "      <td>8995</td>\n",
       "      <td>2014</td>\n",
       "      <td>35725</td>\n",
       "      <td>El Paso</td>\n",
       "      <td>TX</td>\n",
       "      <td>19VDE2E53EE000083</td>\n",
       "      <td>Acura</td>\n",
       "      <td>ILX6-Speed</td>\n",
       "    </tr>\n",
       "    <tr>\n",
       "      <th>1</th>\n",
       "      <td>10888</td>\n",
       "      <td>2013</td>\n",
       "      <td>19606</td>\n",
       "      <td>Long Island City</td>\n",
       "      <td>NY</td>\n",
       "      <td>19VDE1F52DE012636</td>\n",
       "      <td>Acura</td>\n",
       "      <td>ILX5-Speed</td>\n",
       "    </tr>\n",
       "    <tr>\n",
       "      <th>2</th>\n",
       "      <td>8995</td>\n",
       "      <td>2013</td>\n",
       "      <td>48851</td>\n",
       "      <td>El Paso</td>\n",
       "      <td>TX</td>\n",
       "      <td>19VDE2E52DE000025</td>\n",
       "      <td>Acura</td>\n",
       "      <td>ILX6-Speed</td>\n",
       "    </tr>\n",
       "    <tr>\n",
       "      <th>3</th>\n",
       "      <td>10999</td>\n",
       "      <td>2014</td>\n",
       "      <td>39922</td>\n",
       "      <td>Windsor</td>\n",
       "      <td>CO</td>\n",
       "      <td>19VDE1F71EE003817</td>\n",
       "      <td>Acura</td>\n",
       "      <td>ILX5-Speed</td>\n",
       "    </tr>\n",
       "    <tr>\n",
       "      <th>4</th>\n",
       "      <td>14799</td>\n",
       "      <td>2016</td>\n",
       "      <td>22142</td>\n",
       "      <td>Lindon</td>\n",
       "      <td>UT</td>\n",
       "      <td>19UDE2F32GA001284</td>\n",
       "      <td>Acura</td>\n",
       "      <td>ILXAutomatic</td>\n",
       "    </tr>\n",
       "    <tr>\n",
       "      <th>...</th>\n",
       "      <td>...</td>\n",
       "      <td>...</td>\n",
       "      <td>...</td>\n",
       "      <td>...</td>\n",
       "      <td>...</td>\n",
       "      <td>...</td>\n",
       "      <td>...</td>\n",
       "      <td>...</td>\n",
       "    </tr>\n",
       "    <tr>\n",
       "      <th>2068367</th>\n",
       "      <td>79900</td>\n",
       "      <td>2017</td>\n",
       "      <td>25</td>\n",
       "      <td>East Hanover</td>\n",
       "      <td>NJ</td>\n",
       "      <td>YV4BC0ZX0H1128239</td>\n",
       "      <td>Volvo</td>\n",
       "      <td>XC90T8</td>\n",
       "    </tr>\n",
       "    <tr>\n",
       "      <th>2068368</th>\n",
       "      <td>80895</td>\n",
       "      <td>2017</td>\n",
       "      <td>10</td>\n",
       "      <td>Corte Madera</td>\n",
       "      <td>CA</td>\n",
       "      <td>YV4BC0ZX0H1124188</td>\n",
       "      <td>Volvo</td>\n",
       "      <td>XC90T8</td>\n",
       "    </tr>\n",
       "    <tr>\n",
       "      <th>2068369</th>\n",
       "      <td>68755</td>\n",
       "      <td>2018</td>\n",
       "      <td>2500</td>\n",
       "      <td>Englewood</td>\n",
       "      <td>NJ</td>\n",
       "      <td>YV4A22PL4J1212676</td>\n",
       "      <td>Volvo</td>\n",
       "      <td>XC90T6</td>\n",
       "    </tr>\n",
       "    <tr>\n",
       "      <th>2068370</th>\n",
       "      <td>72260</td>\n",
       "      <td>2017</td>\n",
       "      <td>3201</td>\n",
       "      <td>Englewood</td>\n",
       "      <td>NJ</td>\n",
       "      <td>YV4A22PL3H1186162</td>\n",
       "      <td>Volvo</td>\n",
       "      <td>XC90T6</td>\n",
       "    </tr>\n",
       "    <tr>\n",
       "      <th>2068371</th>\n",
       "      <td>60240</td>\n",
       "      <td>2017</td>\n",
       "      <td>8342</td>\n",
       "      <td>San Leandro</td>\n",
       "      <td>CA</td>\n",
       "      <td>YV4A22NLXH1006162</td>\n",
       "      <td>Volvo</td>\n",
       "      <td>V90</td>\n",
       "    </tr>\n",
       "  </tbody>\n",
       "</table>\n",
       "<p>2068372 rows × 8 columns</p>\n",
       "</div>"
      ],
      "text/plain": [
       "         Price  Year  Mileage              City State                Vin  \\\n",
       "0         8995  2014    35725           El Paso    TX  19VDE2E53EE000083   \n",
       "1        10888  2013    19606  Long Island City    NY  19VDE1F52DE012636   \n",
       "2         8995  2013    48851           El Paso    TX  19VDE2E52DE000025   \n",
       "3        10999  2014    39922           Windsor    CO  19VDE1F71EE003817   \n",
       "4        14799  2016    22142            Lindon    UT  19UDE2F32GA001284   \n",
       "...        ...   ...      ...               ...   ...                ...   \n",
       "2068367  79900  2017       25      East Hanover    NJ  YV4BC0ZX0H1128239   \n",
       "2068368  80895  2017       10      Corte Madera    CA  YV4BC0ZX0H1124188   \n",
       "2068369  68755  2018     2500         Englewood    NJ  YV4A22PL4J1212676   \n",
       "2068370  72260  2017     3201         Englewood    NJ  YV4A22PL3H1186162   \n",
       "2068371  60240  2017     8342       San Leandro    CA  YV4A22NLXH1006162   \n",
       "\n",
       "          Make         Model  \n",
       "0        Acura    ILX6-Speed  \n",
       "1        Acura    ILX5-Speed  \n",
       "2        Acura    ILX6-Speed  \n",
       "3        Acura    ILX5-Speed  \n",
       "4        Acura  ILXAutomatic  \n",
       "...        ...           ...  \n",
       "2068367  Volvo        XC90T8  \n",
       "2068368  Volvo        XC90T8  \n",
       "2068369  Volvo        XC90T6  \n",
       "2068370  Volvo        XC90T6  \n",
       "2068371  Volvo           V90  \n",
       "\n",
       "[2068372 rows x 8 columns]"
      ]
     },
     "execution_count": 10,
     "metadata": {},
     "output_type": "execute_result"
    }
   ],
   "source": [
    "data3\n"
   ]
  },
  {
   "cell_type": "code",
   "execution_count": 11,
   "id": "4e116fba",
   "metadata": {},
   "outputs": [
    {
     "name": "stdout",
     "output_type": "stream",
     "text": [
      "<class 'pandas.core.frame.DataFrame'>\n",
      "RangeIndex: 2068372 entries, 0 to 2068371\n",
      "Data columns (total 8 columns):\n",
      " #   Column   Dtype \n",
      "---  ------   ----- \n",
      " 0   Price    int64 \n",
      " 1   Year     int64 \n",
      " 2   Mileage  int64 \n",
      " 3   City     object\n",
      " 4   State    object\n",
      " 5   Vin      object\n",
      " 6   Make     object\n",
      " 7   Model    object\n",
      "dtypes: int64(3), object(5)\n",
      "memory usage: 126.2+ MB\n"
     ]
    }
   ],
   "source": [
    "data3.info() ## checking the data type"
   ]
  },
  {
   "cell_type": "code",
   "execution_count": 12,
   "id": "11c5e754",
   "metadata": {},
   "outputs": [
    {
     "data": {
      "text/plain": [
       "Price      0\n",
       "Year       0\n",
       "Mileage    0\n",
       "City       0\n",
       "State      0\n",
       "Vin        0\n",
       "Make       0\n",
       "Model      0\n",
       "dtype: int64"
      ]
     },
     "execution_count": 12,
     "metadata": {},
     "output_type": "execute_result"
    }
   ],
   "source": [
    "data3. isnull().sum() ## checking the null value in the data"
   ]
  },
  {
   "cell_type": "code",
   "execution_count": 13,
   "id": "38f53dd8",
   "metadata": {},
   "outputs": [
    {
     "data": {
      "text/plain": [
       "count    2.068372e+06\n",
       "mean     2.117289e+04\n",
       "std      1.334331e+04\n",
       "min      1.500000e+03\n",
       "25%      1.299500e+04\n",
       "50%      1.800000e+04\n",
       "75%      2.681700e+04\n",
       "max      4.995000e+05\n",
       "Name: Price, dtype: float64"
      ]
     },
     "execution_count": 13,
     "metadata": {},
     "output_type": "execute_result"
    }
   ],
   "source": [
    "data3['Price'].describe()"
   ]
  },
  {
   "cell_type": "code",
   "execution_count": 14,
   "id": "7561c65d",
   "metadata": {},
   "outputs": [
    {
     "data": {
      "text/plain": [
       "count    2.068372e+06\n",
       "mean     5.274318e+04\n",
       "std      6.836142e+04\n",
       "min      5.000000e+00\n",
       "25%      2.391000e+04\n",
       "50%      4.042300e+04\n",
       "75%      7.250400e+04\n",
       "max      7.758776e+07\n",
       "Name: Mileage, dtype: float64"
      ]
     },
     "execution_count": 14,
     "metadata": {},
     "output_type": "execute_result"
    }
   ],
   "source": [
    "data3['Mileage'].describe()"
   ]
  },
  {
   "cell_type": "code",
   "execution_count": 15,
   "id": "423de610",
   "metadata": {},
   "outputs": [
    {
     "data": {
      "text/plain": [
       "count    2.068372e+06\n",
       "mean     2.013300e+03\n",
       "std      3.430814e+00\n",
       "min      1.997000e+03\n",
       "25%      2.012000e+03\n",
       "50%      2.014000e+03\n",
       "75%      2.016000e+03\n",
       "max      2.018000e+03\n",
       "Name: Year, dtype: float64"
      ]
     },
     "execution_count": 15,
     "metadata": {},
     "output_type": "execute_result"
    }
   ],
   "source": [
    "data3['Year'].describe()"
   ]
  },
  {
   "cell_type": "code",
   "execution_count": 16,
   "id": "d04278c6",
   "metadata": {},
   "outputs": [
    {
     "data": {
      "text/plain": [
       "<AxesSubplot:>"
      ]
     },
     "execution_count": 16,
     "metadata": {},
     "output_type": "execute_result"
    },
    {
     "data": {
      "image/png": "[encoded data removed]",
      "text/plain": [
       "<Figure size 432x288 with 1 Axes>"
      ]
     },
     "metadata": {
      "needs_background": "light"
     },
     "output_type": "display_data"
    }
   ],
   "source": [
    "data3['Price'].hist()\n"
   ]
  },
  {
   "cell_type": "code",
   "execution_count": 17,
   "id": "907b236b",
   "metadata": {},
   "outputs": [
    {
     "data": {
      "text/plain": [
       "<AxesSubplot:>"
      ]
     },
     "execution_count": 17,
     "metadata": {},
     "output_type": "execute_result"
    },
    {
     "data": {
      "image/png": "[encoded data removed]",
      "text/plain": [
       "<Figure size 432x288 with 1 Axes>"
      ]
     },
     "metadata": {
      "needs_background": "light"
     },
     "output_type": "display_data"
    }
   ],
   "source": [
    "data3['Mileage'].hist()"
   ]
  },
  {
   "cell_type": "code",
   "execution_count": 18,
   "id": "5aa59370",
   "metadata": {},
   "outputs": [
    {
     "data": {
      "text/plain": [
       "<AxesSubplot:>"
      ]
     },
     "execution_count": 18,
     "metadata": {},
     "output_type": "execute_result"
    },
    {
     "data": {
      "image/png": "[encoded data removed]",
      "text/plain": [
       "<Figure size 432x288 with 1 Axes>"
      ]
     },
     "metadata": {
      "needs_background": "light"
     },
     "output_type": "display_data"
    }
   ],
   "source": [
    "data3['Year'].hist()"
   ]
  },
  {
   "cell_type": "code",
   "execution_count": 19,
   "id": "4c2f021c",
   "metadata": {
    "scrolled": true
   },
   "outputs": [
    {
     "data": {
      "text/plain": [
       "<AxesSubplot:xlabel='Price'>"
      ]
     },
     "execution_count": 19,
     "metadata": {},
     "output_type": "execute_result"
    },
    {
     "data": {
      "image/png": "[encoded data removed]",
      "text/plain": [
       "<Figure size 432x288 with 1 Axes>"
      ]
     },
     "metadata": {
      "needs_background": "light"
     },
     "output_type": "display_data"
    }
   ],
   "source": [
    "sns.boxplot(data3['Price']) ##boxplot  for price\n",
    "#### observtion = as per observation seen in boxplot most of the range of  car prices is between 0-100k"
   ]
  },
  {
   "cell_type": "code",
   "execution_count": 20,
   "id": "5d09d5e4",
   "metadata": {},
   "outputs": [
    {
     "data": {
      "text/plain": [
       "<AxesSubplot:xlabel='Mileage'>"
      ]
     },
     "execution_count": 20,
     "metadata": {},
     "output_type": "execute_result"
    },
    {
     "data": {
      "image/png": "[encoded data removed]",
      "text/plain": [
       "<Figure size 432x288 with 1 Axes>"
      ]
     },
     "metadata": {
      "needs_background": "light"
     },
     "output_type": "display_data"
    }
   ],
   "source": [
    "sns.boxplot(data3['Mileage']) ##boxplot  for Mileage\n"
   ]
  },
  {
   "cell_type": "code",
   "execution_count": 21,
   "id": "5a7b7192",
   "metadata": {},
   "outputs": [
    {
     "data": {
      "text/plain": [
       "<AxesSubplot:xlabel='Year'>"
      ]
     },
     "execution_count": 21,
     "metadata": {},
     "output_type": "execute_result"
    },
    {
     "data": {
      "image/png": "[encoded data removed]",
      "text/plain": [
       "<Figure size 432x288 with 1 Axes>"
      ]
     },
     "metadata": {
      "needs_background": "light"
     },
     "output_type": "display_data"
    }
   ],
   "source": [
    "sns.boxplot(data3['Year']) ##boxplot  for Year\n",
    "###observation = as per the observation given in the boxplot that most of the cars is manufacture in 2006-2017,but there is outliers \n"
   ]
  },
  {
   "cell_type": "code",
   "execution_count": 22,
   "id": "979b845f",
   "metadata": {},
   "outputs": [
    {
     "name": "stdout",
     "output_type": "stream",
     "text": [
      "48594.0\n"
     ]
    }
   ],
   "source": [
    "##IQR method for treating the outliers\n",
    "Q1 = data3['Mileage'].quantile(0.25)\n",
    "Q3 = data3['Mileage'].quantile(0.75)\n",
    "IQR = Q3 - Q1\n",
    "print(IQR)"
   ]
  },
  {
   "cell_type": "code",
   "execution_count": 23,
   "id": "1b8de446",
   "metadata": {},
   "outputs": [
    {
     "data": {
      "text/plain": [
       "(array([   1179,    1240,    1328, ..., 2068050, 2068177, 2068315],\n",
       "       dtype=int64),)"
      ]
     },
     "execution_count": 23,
     "metadata": {},
     "output_type": "execute_result"
    }
   ],
   "source": [
    "\n",
    "data3_out = np.where((data3['Mileage'] < (Q1 - 1.5 * IQR)) |(data3['Mileage'] > (Q3 + 1.5 * IQR))) # rows without outliers\n",
    "data3_out"
   ]
  },
  {
   "cell_type": "code",
   "execution_count": 24,
   "id": "b8849af0",
   "metadata": {},
   "outputs": [
    {
     "data": {
      "text/html": [
       "<div>\n",
       "<style scoped>\n",
       "    .dataframe tbody tr th:only-of-type {\n",
       "        vertical-align: middle;\n",
       "    }\n",
       "\n",
       "    .dataframe tbody tr th {\n",
       "        vertical-align: top;\n",
       "    }\n",
       "\n",
       "    .dataframe thead th {\n",
       "        text-align: right;\n",
       "    }\n",
       "</style>\n",
       "<table border=\"1\" class=\"dataframe\">\n",
       "  <thead>\n",
       "    <tr style=\"text-align: right;\">\n",
       "      <th></th>\n",
       "      <th>Price</th>\n",
       "      <th>Year</th>\n",
       "      <th>Mileage</th>\n",
       "      <th>City</th>\n",
       "      <th>State</th>\n",
       "      <th>Vin</th>\n",
       "      <th>Make</th>\n",
       "      <th>Model</th>\n",
       "    </tr>\n",
       "  </thead>\n",
       "  <tbody>\n",
       "    <tr>\n",
       "      <th>0</th>\n",
       "      <td>8995</td>\n",
       "      <td>2014</td>\n",
       "      <td>35725</td>\n",
       "      <td>El Paso</td>\n",
       "      <td>TX</td>\n",
       "      <td>19VDE2E53EE000083</td>\n",
       "      <td>Acura</td>\n",
       "      <td>ILX6-Speed</td>\n",
       "    </tr>\n",
       "    <tr>\n",
       "      <th>1</th>\n",
       "      <td>10888</td>\n",
       "      <td>2013</td>\n",
       "      <td>19606</td>\n",
       "      <td>Long Island City</td>\n",
       "      <td>NY</td>\n",
       "      <td>19VDE1F52DE012636</td>\n",
       "      <td>Acura</td>\n",
       "      <td>ILX5-Speed</td>\n",
       "    </tr>\n",
       "    <tr>\n",
       "      <th>2</th>\n",
       "      <td>8995</td>\n",
       "      <td>2013</td>\n",
       "      <td>48851</td>\n",
       "      <td>El Paso</td>\n",
       "      <td>TX</td>\n",
       "      <td>19VDE2E52DE000025</td>\n",
       "      <td>Acura</td>\n",
       "      <td>ILX6-Speed</td>\n",
       "    </tr>\n",
       "    <tr>\n",
       "      <th>3</th>\n",
       "      <td>10999</td>\n",
       "      <td>2014</td>\n",
       "      <td>39922</td>\n",
       "      <td>Windsor</td>\n",
       "      <td>CO</td>\n",
       "      <td>19VDE1F71EE003817</td>\n",
       "      <td>Acura</td>\n",
       "      <td>ILX5-Speed</td>\n",
       "    </tr>\n",
       "    <tr>\n",
       "      <th>4</th>\n",
       "      <td>14799</td>\n",
       "      <td>2016</td>\n",
       "      <td>22142</td>\n",
       "      <td>Lindon</td>\n",
       "      <td>UT</td>\n",
       "      <td>19UDE2F32GA001284</td>\n",
       "      <td>Acura</td>\n",
       "      <td>ILXAutomatic</td>\n",
       "    </tr>\n",
       "    <tr>\n",
       "      <th>...</th>\n",
       "      <td>...</td>\n",
       "      <td>...</td>\n",
       "      <td>...</td>\n",
       "      <td>...</td>\n",
       "      <td>...</td>\n",
       "      <td>...</td>\n",
       "      <td>...</td>\n",
       "      <td>...</td>\n",
       "    </tr>\n",
       "    <tr>\n",
       "      <th>2068367</th>\n",
       "      <td>79900</td>\n",
       "      <td>2017</td>\n",
       "      <td>25</td>\n",
       "      <td>East Hanover</td>\n",
       "      <td>NJ</td>\n",
       "      <td>YV4BC0ZX0H1128239</td>\n",
       "      <td>Volvo</td>\n",
       "      <td>XC90T8</td>\n",
       "    </tr>\n",
       "    <tr>\n",
       "      <th>2068368</th>\n",
       "      <td>80895</td>\n",
       "      <td>2017</td>\n",
       "      <td>10</td>\n",
       "      <td>Corte Madera</td>\n",
       "      <td>CA</td>\n",
       "      <td>YV4BC0ZX0H1124188</td>\n",
       "      <td>Volvo</td>\n",
       "      <td>XC90T8</td>\n",
       "    </tr>\n",
       "    <tr>\n",
       "      <th>2068369</th>\n",
       "      <td>68755</td>\n",
       "      <td>2018</td>\n",
       "      <td>2500</td>\n",
       "      <td>Englewood</td>\n",
       "      <td>NJ</td>\n",
       "      <td>YV4A22PL4J1212676</td>\n",
       "      <td>Volvo</td>\n",
       "      <td>XC90T6</td>\n",
       "    </tr>\n",
       "    <tr>\n",
       "      <th>2068370</th>\n",
       "      <td>72260</td>\n",
       "      <td>2017</td>\n",
       "      <td>3201</td>\n",
       "      <td>Englewood</td>\n",
       "      <td>NJ</td>\n",
       "      <td>YV4A22PL3H1186162</td>\n",
       "      <td>Volvo</td>\n",
       "      <td>XC90T6</td>\n",
       "    </tr>\n",
       "    <tr>\n",
       "      <th>2068371</th>\n",
       "      <td>60240</td>\n",
       "      <td>2017</td>\n",
       "      <td>8342</td>\n",
       "      <td>San Leandro</td>\n",
       "      <td>CA</td>\n",
       "      <td>YV4A22NLXH1006162</td>\n",
       "      <td>Volvo</td>\n",
       "      <td>V90</td>\n",
       "    </tr>\n",
       "  </tbody>\n",
       "</table>\n",
       "<p>1992125 rows × 8 columns</p>\n",
       "</div>"
      ],
      "text/plain": [
       "         Price  Year  Mileage              City State                Vin  \\\n",
       "0         8995  2014    35725           El Paso    TX  19VDE2E53EE000083   \n",
       "1        10888  2013    19606  Long Island City    NY  19VDE1F52DE012636   \n",
       "2         8995  2013    48851           El Paso    TX  19VDE2E52DE000025   \n",
       "3        10999  2014    39922           Windsor    CO  19VDE1F71EE003817   \n",
       "4        14799  2016    22142            Lindon    UT  19UDE2F32GA001284   \n",
       "...        ...   ...      ...               ...   ...                ...   \n",
       "2068367  79900  2017       25      East Hanover    NJ  YV4BC0ZX0H1128239   \n",
       "2068368  80895  2017       10      Corte Madera    CA  YV4BC0ZX0H1124188   \n",
       "2068369  68755  2018     2500         Englewood    NJ  YV4A22PL4J1212676   \n",
       "2068370  72260  2017     3201         Englewood    NJ  YV4A22PL3H1186162   \n",
       "2068371  60240  2017     8342       San Leandro    CA  YV4A22NLXH1006162   \n",
       "\n",
       "          Make         Model  \n",
       "0        Acura    ILX6-Speed  \n",
       "1        Acura    ILX5-Speed  \n",
       "2        Acura    ILX6-Speed  \n",
       "3        Acura    ILX5-Speed  \n",
       "4        Acura  ILXAutomatic  \n",
       "...        ...           ...  \n",
       "2068367  Volvo        XC90T8  \n",
       "2068368  Volvo        XC90T8  \n",
       "2068369  Volvo        XC90T6  \n",
       "2068370  Volvo        XC90T6  \n",
       "2068371  Volvo           V90  \n",
       "\n",
       "[1992125 rows x 8 columns]"
      ]
     },
     "execution_count": 24,
     "metadata": {},
     "output_type": "execute_result"
    }
   ],
   "source": [
    "data4=data3[~((data3['Mileage'] < (Q1 - 1.5 * IQR)) |(data3['Mileage'] > (Q3 + 1.5 * IQR)))]\n",
    "data4"
   ]
  },
  {
   "cell_type": "code",
   "execution_count": 25,
   "id": "76372d95",
   "metadata": {},
   "outputs": [
    {
     "data": {
      "text/plain": [
       "<AxesSubplot:xlabel='Mileage'>"
      ]
     },
     "execution_count": 25,
     "metadata": {},
     "output_type": "execute_result"
    },
    {
     "data": {
      "image/png": "[encoded data removed]",
      "text/plain": [
       "<Figure size 432x288 with 1 Axes>"
      ]
     },
     "metadata": {
      "needs_background": "light"
     },
     "output_type": "display_data"
    }
   ],
   "source": [
    "sns.boxplot(data4['Mileage'])"
   ]
  },
  {
   "cell_type": "code",
   "execution_count": 26,
   "id": "ce1f675d",
   "metadata": {},
   "outputs": [
    {
     "data": {
      "text/plain": [
       "<AxesSubplot:>"
      ]
     },
     "execution_count": 26,
     "metadata": {},
     "output_type": "execute_result"
    },
    {
     "data": {
      "image/png": "[encoded data removed]",
      "text/plain": [
       "<Figure size 432x288 with 1 Axes>"
      ]
     },
     "metadata": {
      "needs_background": "light"
     },
     "output_type": "display_data"
    }
   ],
   "source": [
    "data4['Mileage'].hist()"
   ]
  },
  {
   "cell_type": "code",
   "execution_count": 27,
   "id": "787119ff",
   "metadata": {},
   "outputs": [
    {
     "data": {
      "text/plain": [
       "City\n",
       "Houston         31921\n",
       "San Antonio     19339\n",
       "Louisville      14919\n",
       "Jacksonville    13124\n",
       "Miami           12802\n",
       "                ...  \n",
       "Armona              8\n",
       "Los Banos           6\n",
       "Port Jervis         4\n",
       "Royston             2\n",
       "Eminence            1\n",
       "Length: 2599, dtype: int64"
      ]
     },
     "execution_count": 27,
     "metadata": {},
     "output_type": "execute_result"
    }
   ],
   "source": [
    "data4.value_counts('City')\n",
    "\n"
   ]
  },
  {
   "cell_type": "code",
   "execution_count": 28,
   "id": "d89391f1",
   "metadata": {},
   "outputs": [
    {
     "data": {
      "text/plain": [
       "State\n",
       " TX    225760\n",
       " CA    190467\n",
       " FL    174568\n",
       " GA     90785\n",
       " IL     90119\n",
       " NC     85876\n",
       " VA     79718\n",
       " PA     66655\n",
       " NY     65151\n",
       " NJ     64025\n",
       " OH     54392\n",
       " AZ     53488\n",
       " WA     52671\n",
       " CO     51469\n",
       " TN     43771\n",
       " MA     43711\n",
       " MD     42175\n",
       " MO     38201\n",
       " IN     37610\n",
       " KY     32022\n",
       " AL     30136\n",
       " WI     26425\n",
       " MN     25291\n",
       " CT     25225\n",
       " MI     24109\n",
       " UT     24026\n",
       " OR     23710\n",
       " OK     23190\n",
       " SC     22792\n",
       " LA     19276\n",
       " KS     17995\n",
       " NV     16831\n",
       " AR     15851\n",
       " MS     14012\n",
       " NH     13555\n",
       " NM     11450\n",
       " NE     11148\n",
       " IA     10865\n",
       " ID      7616\n",
       " HI      6450\n",
       " DE      6041\n",
       " ME      4464\n",
       " RI      4416\n",
       " MT      4202\n",
       " AK      3788\n",
       " WV      3459\n",
       " ND      2688\n",
       " SD      2640\n",
       " VT      2591\n",
       " Fl      1798\n",
       " WY      1463\n",
       " Va       622\n",
       " Md       374\n",
       " Ga       298\n",
       " ga       279\n",
       " Az       154\n",
       " Oh       139\n",
       " Ca        75\n",
       " DC        47\n",
       "dtype: int64"
      ]
     },
     "execution_count": 28,
     "metadata": {},
     "output_type": "execute_result"
    }
   ],
   "source": [
    "data4.value_counts('State') ### By the observation   in the 'state' there is total 59 states in US"
   ]
  },
  {
   "cell_type": "code",
   "execution_count": 29,
   "id": "5b549785",
   "metadata": {},
   "outputs": [
    {
     "data": {
      "text/plain": [
       "Vin\n",
       "1G1PC5SB7F7269381    3\n",
       "2G11Y5SLXE9183558    3\n",
       "1FADP3E24EL218186    3\n",
       "1FMCU0F75GUA44645    3\n",
       "2GNFLGE38H6240856    3\n",
       "                    ..\n",
       "3C6UR5FL0EG129968    1\n",
       "3C6UR5FL0EG129873    1\n",
       "3C6UR5FL0DG581594    1\n",
       "3C6UR5FL0DG525980    1\n",
       "3D73Y3CL7BG529740    1\n",
       "Length: 1182587, dtype: int64"
      ]
     },
     "execution_count": 29,
     "metadata": {},
     "output_type": "execute_result"
    }
   ],
   "source": [
    "data4.value_counts('Vin')"
   ]
  },
  {
   "cell_type": "code",
   "execution_count": 30,
   "id": "696644ee",
   "metadata": {},
   "outputs": [
    {
     "data": {
      "text/plain": [
       "Make\n",
       "Ford             259760\n",
       "Chevrolet        241013\n",
       "Toyota           182192\n",
       "Nissan           161262\n",
       "Honda            120160\n",
       "Jeep              98387\n",
       "Hyundai           89397\n",
       "Dodge             79998\n",
       "Kia               70832\n",
       "GMC               67735\n",
       "BMW               63954\n",
       "Mercedes-Benz     63508\n",
       "Volkswagen        55731\n",
       "Lexus             48050\n",
       "Subaru            39085\n",
       "Chrysler          39006\n",
       "Cadillac          36020\n",
       "Ram               34531\n",
       "Mazda             32367\n",
       "Buick             29905\n",
       "INFINITI          29116\n",
       "Audi              25000\n",
       "Acura             20962\n",
       "Lincoln           16670\n",
       "Volvo             11931\n",
       "MINI              10538\n",
       "Porsche            9826\n",
       "Land               9779\n",
       "Mitsubishi         9589\n",
       "Scion              7126\n",
       "Jaguar             5270\n",
       "FIAT               4391\n",
       "Pontiac            3498\n",
       "Maserati           2425\n",
       "Mercury            2251\n",
       "Saturn             1967\n",
       "HUMMER             1902\n",
       "smart              1695\n",
       "Ferrari             765\n",
       "Bentley             734\n",
       "Suzuki              719\n",
       "Tesla               583\n",
       "Saab                555\n",
       "Genesis             350\n",
       "Aston               298\n",
       "Lamborghini         262\n",
       "Rolls-Royce         200\n",
       "Oldsmobile          188\n",
       "Plymouth            114\n",
       "McLaren             111\n",
       "Isuzu               109\n",
       "Lotus                91\n",
       "Alfa                 88\n",
       "Fisker               44\n",
       "AM                   38\n",
       "Freightliner         22\n",
       "Maybach              21\n",
       "Geo                   4\n",
       "dtype: int64"
      ]
     },
     "execution_count": 30,
     "metadata": {},
     "output_type": "execute_result"
    }
   ],
   "source": [
    "data4.value_counts('Make')"
   ]
  },
  {
   "cell_type": "code",
   "execution_count": 31,
   "id": "a25cfe3a",
   "metadata": {},
   "outputs": [
    {
     "data": {
      "text/plain": [
       "Model\n",
       "Silverado         56960\n",
       "Grand             41069\n",
       "Altima2.5         28103\n",
       "Accord            28058\n",
       "Sierra            26007\n",
       "                  ...  \n",
       "F-2504X4              1\n",
       "Rodeo                 1\n",
       "XC90PREMIER           1\n",
       "F-250SuperCrew        1\n",
       "F-2504x2              1\n",
       "Length: 3100, dtype: int64"
      ]
     },
     "execution_count": 31,
     "metadata": {},
     "output_type": "execute_result"
    }
   ],
   "source": [
    "data4.value_counts('Model')"
   ]
  },
  {
   "cell_type": "code",
   "execution_count": 32,
   "id": "92da90fa",
   "metadata": {},
   "outputs": [],
   "source": [
    "def upper_states(state):\n",
    "    return state.upper()\n",
    "data4[\"State\"] = data4[\"State\"].apply(upper_states)\n",
    "## previously we seen that there is 59 states in our data but in practically there is only 50 states are present in US i.e there is some  duplicate values in state column hence we have to remove that in this step"
   ]
  },
  {
   "cell_type": "code",
   "execution_count": 33,
   "id": "8a7d47cc",
   "metadata": {},
   "outputs": [
    {
     "data": {
      "text/plain": [
       "51"
      ]
     },
     "execution_count": 33,
     "metadata": {},
     "output_type": "execute_result"
    }
   ],
   "source": [
    "len(data4[\"State\"].unique()) ## obtain near to target i.e 50 states in USA "
   ]
  },
  {
   "cell_type": "code",
   "execution_count": 34,
   "id": "86d6dd74",
   "metadata": {},
   "outputs": [
    {
     "data": {
      "text/plain": [
       "0          False\n",
       "1          False\n",
       "2          False\n",
       "3          False\n",
       "4          False\n",
       "           ...  \n",
       "2068367    False\n",
       "2068368     True\n",
       "2068369    False\n",
       "2068370     True\n",
       "2068371     True\n",
       "Name: Vin, Length: 1992125, dtype: bool"
      ]
     },
     "execution_count": 34,
     "metadata": {},
     "output_type": "execute_result"
    }
   ],
   "source": [
    "data4['Vin'].duplicated() ## checking the duplicate value in Vin column, hence there is some duplicate values "
   ]
  },
  {
   "cell_type": "code",
   "execution_count": 35,
   "id": "6c455772",
   "metadata": {},
   "outputs": [],
   "source": [
    "#Removing Duplicate VINs\n",
    "data4.drop_duplicates(subset = \"Vin\", inplace= True)"
   ]
  },
  {
   "cell_type": "code",
   "execution_count": 36,
   "id": "452cf39c",
   "metadata": {},
   "outputs": [
    {
     "data": {
      "text/plain": [
       "19VDE2E53EE000083    1\n",
       "JTEBU5JR7F5226664    1\n",
       "5TDZT34A16S264689    1\n",
       "5TFHW5F1XEX383684    1\n",
       "5TFJU4GN1FX082421    1\n",
       "                    ..\n",
       "5FNYF3H5XBB001034    1\n",
       "5J6RM4H79DL009234    1\n",
       "1HGCT1B60HA000809    1\n",
       "JHMCR6F76HC014102    1\n",
       "YV4A22PL4J1212676    1\n",
       "Name: Vin, Length: 1182587, dtype: int64"
      ]
     },
     "execution_count": 36,
     "metadata": {},
     "output_type": "execute_result"
    }
   ],
   "source": [
    "data4['Vin'].value_counts()"
   ]
  },
  {
   "cell_type": "code",
   "execution_count": 37,
   "id": "64f35398",
   "metadata": {},
   "outputs": [
    {
     "data": {
      "text/plain": [
       "0          False\n",
       "1           True\n",
       "2           True\n",
       "3           True\n",
       "4           True\n",
       "           ...  \n",
       "2068357     True\n",
       "2068358     True\n",
       "2068364     True\n",
       "2068367     True\n",
       "2068369     True\n",
       "Name: Make, Length: 1182587, dtype: bool"
      ]
     },
     "execution_count": 37,
     "metadata": {},
     "output_type": "execute_result"
    }
   ],
   "source": [
    "data4['Make'].duplicated()"
   ]
  },
  {
   "cell_type": "code",
   "execution_count": 38,
   "id": "edbc9ff0",
   "metadata": {},
   "outputs": [],
   "source": [
    "data4[\"Model\"] = data4[\"Model\"].apply(upper_states) ###Upper Case the other Columns"
   ]
  },
  {
   "cell_type": "code",
   "execution_count": 39,
   "id": "f02625eb",
   "metadata": {},
   "outputs": [
    {
     "data": {
      "text/plain": [
       "SILVERADO                 33695\n",
       "GRAND                     24425\n",
       "ACCORD                    17534\n",
       "ALTIMA2.5                 16819\n",
       "F-1504WD                  16350\n",
       "                          ...  \n",
       "DURANGOPOLICE                 1\n",
       "RAV4XLE/4WD/W/NAV/REAR        1\n",
       "RANGERXLT                     1\n",
       "DAKOTABIGHORN/LONESTAR        1\n",
       "8504DR                        1\n",
       "Name: Model, Length: 3007, dtype: int64"
      ]
     },
     "execution_count": 39,
     "metadata": {},
     "output_type": "execute_result"
    }
   ],
   "source": [
    "data4[\"Model\"].value_counts()##Asper the observation we can note that there was a duplicate model with the different representations in the data."
   ]
  },
  {
   "cell_type": "code",
   "execution_count": 40,
   "id": "dfa9e771",
   "metadata": {},
   "outputs": [
    {
     "data": {
      "text/plain": [
       "SILVERADO    33695\n",
       "GRAND        24425\n",
       "ACCORD       17534\n",
       "ALTIMA2.5    16819\n",
       "F-1504WD     16350\n",
       "SIERRA       15465\n",
       "CIVIC        14008\n",
       "WRANGLER     11663\n",
       "3            10942\n",
       "JETTA        10244\n",
       "Name: Model, dtype: int64"
      ]
     },
     "execution_count": 40,
     "metadata": {},
     "output_type": "execute_result"
    }
   ],
   "source": [
    "data4[\"Model\"].value_counts().head(10)"
   ]
  },
  {
   "cell_type": "code",
   "execution_count": 41,
   "id": "b0fe1a61",
   "metadata": {},
   "outputs": [],
   "source": [
    "data4[\"Make\"] = data4[\"Make\"].apply(upper_states)\n",
    "data4[\"City\"] = data4[\"City\"].apply(upper_states)"
   ]
  },
  {
   "cell_type": "code",
   "execution_count": 42,
   "id": "93d654bb",
   "metadata": {},
   "outputs": [
    {
     "data": {
      "text/plain": [
       "FORD             154438\n",
       "CHEVROLET        143477\n",
       "TOYOTA           110903\n",
       "NISSAN            96514\n",
       "HONDA             72727\n",
       "JEEP              58941\n",
       "HYUNDAI           53998\n",
       "DODGE             47667\n",
       "KIA               42445\n",
       "GMC               40472\n",
       "MERCEDES-BENZ     37580\n",
       "VOLKSWAGEN        32797\n",
       "BMW               31977\n",
       "LEXUS             28413\n",
       "RAM               24291\n",
       "CHRYSLER          23132\n",
       "SUBARU            23099\n",
       "CADILLAC          21353\n",
       "MAZDA             19329\n",
       "BUICK             17716\n",
       "INFINITI          17228\n",
       "AUDI              12500\n",
       "ACURA             10481\n",
       "LINCOLN            9773\n",
       "VOLVO              7030\n",
       "MINI               6190\n",
       "LAND               5754\n",
       "PORSCHE            5748\n",
       "MITSUBISHI         5681\n",
       "SCION              4206\n",
       "JAGUAR             3086\n",
       "FIAT               2611\n",
       "PONTIAC            2066\n",
       "MASERATI           1379\n",
       "MERCURY            1346\n",
       "SATURN             1177\n",
       "HUMMER             1115\n",
       "SMART               982\n",
       "SUZUKI              426\n",
       "FERRARI             420\n",
       "BENTLEY             367\n",
       "TESLA               352\n",
       "SAAB                326\n",
       "GENESIS             209\n",
       "ASTON               149\n",
       "LAMBORGHINI         141\n",
       "OLDSMOBILE          112\n",
       "ROLLS-ROYCE         108\n",
       "PLYMOUTH             66\n",
       "MCLAREN              64\n",
       "ISUZU                63\n",
       "LOTUS                49\n",
       "ALFA                 44\n",
       "FISKER               25\n",
       "AM                   19\n",
       "FREIGHTLINER         12\n",
       "MAYBACH              11\n",
       "GEO                   2\n",
       "Name: Make, dtype: int64"
      ]
     },
     "execution_count": 42,
     "metadata": {},
     "output_type": "execute_result"
    }
   ],
   "source": [
    "data4[\"Make\"].value_counts() ## there was some entries that was duplicated."
   ]
  },
  {
   "cell_type": "code",
   "execution_count": 43,
   "id": "057a7232",
   "metadata": {},
   "outputs": [
    {
     "data": {
      "text/plain": [
       "HOUSTON        19944\n",
       "SAN ANTONIO    11499\n",
       "LOUISVILLE      9185\n",
       "AUSTIN          8258\n",
       "MIAMI           7866\n",
       "               ...  \n",
       "MANHASSET          4\n",
       "LOS BANOS          3\n",
       "PORT JERVIS        2\n",
       "EMINENCE           1\n",
       "ROYSTON            1\n",
       "Name: City, Length: 2446, dtype: int64"
      ]
     },
     "execution_count": 43,
     "metadata": {},
     "output_type": "execute_result"
    }
   ],
   "source": [
    "data4[\"City\"].value_counts()"
   ]
  },
  {
   "cell_type": "markdown",
   "id": "b4bdde4e",
   "metadata": {},
   "source": [
    "Dividing into New and old car"
   ]
  },
  {
   "cell_type": "code",
   "execution_count": 44,
   "id": "1f639260",
   "metadata": {},
   "outputs": [
    {
     "data": {
      "text/plain": [
       "WESTVILLE      99\n",
       "WHITTIER       99\n",
       "ROCKMART       99\n",
       "BLACKSHEAR     99\n",
       "LIVERPOOL      99\n",
       "               ..\n",
       "MANHASSET       4\n",
       "LOS BANOS       3\n",
       "PORT JERVIS     2\n",
       "EMINENCE        1\n",
       "ROYSTON         1\n",
       "Name: City, Length: 700, dtype: int64"
      ]
     },
     "execution_count": 44,
     "metadata": {},
     "output_type": "execute_result"
    }
   ],
   "source": [
    "data4[\"City\"].value_counts()[data4[\"City\"].value_counts() < 100]"
   ]
  },
  {
   "cell_type": "code",
   "execution_count": 45,
   "id": "57f5b301",
   "metadata": {},
   "outputs": [
    {
     "data": {
      "text/plain": [
       "(31919, 8)"
      ]
     },
     "execution_count": 45,
     "metadata": {},
     "output_type": "execute_result"
    }
   ],
   "source": [
    "data4[data4[\"Year\"] < 2006].shape"
   ]
  },
  {
   "cell_type": "code",
   "execution_count": 46,
   "id": "c03dfbfe",
   "metadata": {},
   "outputs": [
    {
     "data": {
      "text/plain": [
       "(1182587, 8)"
      ]
     },
     "execution_count": 46,
     "metadata": {},
     "output_type": "execute_result"
    }
   ],
   "source": [
    "data4.shape"
   ]
  },
  {
   "cell_type": "code",
   "execution_count": 47,
   "id": "753c173c",
   "metadata": {},
   "outputs": [],
   "source": [
    "# Cars that manufacutred before 2006\n",
    "data4_old = data4[data4[\"Year\"] < 2006]"
   ]
  },
  {
   "cell_type": "code",
   "execution_count": 48,
   "id": "96390761",
   "metadata": {},
   "outputs": [],
   "source": [
    "# Cars that manufacutred bafter 2006\n",
    "data4_new = data4[data4[\"Year\"] >= 2006]"
   ]
  },
  {
   "cell_type": "code",
   "execution_count": 49,
   "id": "54d2a93f",
   "metadata": {},
   "outputs": [
    {
     "data": {
      "text/plain": [
       "(31919, 8)"
      ]
     },
     "execution_count": 49,
     "metadata": {},
     "output_type": "execute_result"
    }
   ],
   "source": [
    "data4_old.shape"
   ]
  },
  {
   "cell_type": "code",
   "execution_count": 50,
   "id": "f434f5f0",
   "metadata": {},
   "outputs": [
    {
     "data": {
      "text/plain": [
       "(1150668, 8)"
      ]
     },
     "execution_count": 50,
     "metadata": {},
     "output_type": "execute_result"
    }
   ],
   "source": [
    "data4_new.shape"
   ]
  },
  {
   "cell_type": "markdown",
   "id": "abff9f0b",
   "metadata": {},
   "source": [
    " Excluding all cars with useagevery small as they cannot considered as used cars\n",
    " "
   ]
  },
  {
   "cell_type": "code",
   "execution_count": 51,
   "id": "898c3ba2",
   "metadata": {},
   "outputs": [],
   "source": [
    "data4.drop(data4[data4[\"Mileage\"] < 10].index, inplace = True)"
   ]
  },
  {
   "cell_type": "code",
   "execution_count": 52,
   "id": "7195337c",
   "metadata": {},
   "outputs": [],
   "source": [
    "data4 = data4.reset_index().drop(columns = [\"index\"])"
   ]
  },
  {
   "cell_type": "code",
   "execution_count": 53,
   "id": "bc1ffdb2",
   "metadata": {},
   "outputs": [
    {
     "data": {
      "text/html": [
       "<div>\n",
       "<style scoped>\n",
       "    .dataframe tbody tr th:only-of-type {\n",
       "        vertical-align: middle;\n",
       "    }\n",
       "\n",
       "    .dataframe tbody tr th {\n",
       "        vertical-align: top;\n",
       "    }\n",
       "\n",
       "    .dataframe thead th {\n",
       "        text-align: right;\n",
       "    }\n",
       "</style>\n",
       "<table border=\"1\" class=\"dataframe\">\n",
       "  <thead>\n",
       "    <tr style=\"text-align: right;\">\n",
       "      <th></th>\n",
       "      <th>Price</th>\n",
       "      <th>Year</th>\n",
       "      <th>Mileage</th>\n",
       "      <th>City</th>\n",
       "      <th>State</th>\n",
       "      <th>Vin</th>\n",
       "      <th>Make</th>\n",
       "      <th>Model</th>\n",
       "    </tr>\n",
       "  </thead>\n",
       "  <tbody>\n",
       "    <tr>\n",
       "      <th>0</th>\n",
       "      <td>8995</td>\n",
       "      <td>2014</td>\n",
       "      <td>35725</td>\n",
       "      <td>EL PASO</td>\n",
       "      <td>TX</td>\n",
       "      <td>19VDE2E53EE000083</td>\n",
       "      <td>ACURA</td>\n",
       "      <td>ILX6-SPEED</td>\n",
       "    </tr>\n",
       "    <tr>\n",
       "      <th>1</th>\n",
       "      <td>10888</td>\n",
       "      <td>2013</td>\n",
       "      <td>19606</td>\n",
       "      <td>LONG ISLAND CITY</td>\n",
       "      <td>NY</td>\n",
       "      <td>19VDE1F52DE012636</td>\n",
       "      <td>ACURA</td>\n",
       "      <td>ILX5-SPEED</td>\n",
       "    </tr>\n",
       "    <tr>\n",
       "      <th>2</th>\n",
       "      <td>8995</td>\n",
       "      <td>2013</td>\n",
       "      <td>48851</td>\n",
       "      <td>EL PASO</td>\n",
       "      <td>TX</td>\n",
       "      <td>19VDE2E52DE000025</td>\n",
       "      <td>ACURA</td>\n",
       "      <td>ILX6-SPEED</td>\n",
       "    </tr>\n",
       "    <tr>\n",
       "      <th>3</th>\n",
       "      <td>10999</td>\n",
       "      <td>2014</td>\n",
       "      <td>39922</td>\n",
       "      <td>WINDSOR</td>\n",
       "      <td>CO</td>\n",
       "      <td>19VDE1F71EE003817</td>\n",
       "      <td>ACURA</td>\n",
       "      <td>ILX5-SPEED</td>\n",
       "    </tr>\n",
       "    <tr>\n",
       "      <th>4</th>\n",
       "      <td>14799</td>\n",
       "      <td>2016</td>\n",
       "      <td>22142</td>\n",
       "      <td>LINDON</td>\n",
       "      <td>UT</td>\n",
       "      <td>19UDE2F32GA001284</td>\n",
       "      <td>ACURA</td>\n",
       "      <td>ILXAUTOMATIC</td>\n",
       "    </tr>\n",
       "    <tr>\n",
       "      <th>...</th>\n",
       "      <td>...</td>\n",
       "      <td>...</td>\n",
       "      <td>...</td>\n",
       "      <td>...</td>\n",
       "      <td>...</td>\n",
       "      <td>...</td>\n",
       "      <td>...</td>\n",
       "      <td>...</td>\n",
       "    </tr>\n",
       "    <tr>\n",
       "      <th>1181250</th>\n",
       "      <td>59375</td>\n",
       "      <td>2017</td>\n",
       "      <td>17406</td>\n",
       "      <td>BERWYN</td>\n",
       "      <td>PA</td>\n",
       "      <td>YV4A22PKXH1125723</td>\n",
       "      <td>VOLVO</td>\n",
       "      <td>XC90T6</td>\n",
       "    </tr>\n",
       "    <tr>\n",
       "      <th>1181251</th>\n",
       "      <td>54900</td>\n",
       "      <td>2016</td>\n",
       "      <td>12637</td>\n",
       "      <td>EXETER</td>\n",
       "      <td>NH</td>\n",
       "      <td>YV4BC0PK1G1087660</td>\n",
       "      <td>VOLVO</td>\n",
       "      <td>XC90</td>\n",
       "    </tr>\n",
       "    <tr>\n",
       "      <th>1181252</th>\n",
       "      <td>69882</td>\n",
       "      <td>2017</td>\n",
       "      <td>8370</td>\n",
       "      <td>WALNUT CREEK</td>\n",
       "      <td>CA</td>\n",
       "      <td>YV4BC0PMXH1124644</td>\n",
       "      <td>VOLVO</td>\n",
       "      <td>XC90T8</td>\n",
       "    </tr>\n",
       "    <tr>\n",
       "      <th>1181253</th>\n",
       "      <td>79900</td>\n",
       "      <td>2017</td>\n",
       "      <td>25</td>\n",
       "      <td>EAST HANOVER</td>\n",
       "      <td>NJ</td>\n",
       "      <td>YV4BC0ZX0H1128239</td>\n",
       "      <td>VOLVO</td>\n",
       "      <td>XC90T8</td>\n",
       "    </tr>\n",
       "    <tr>\n",
       "      <th>1181254</th>\n",
       "      <td>68755</td>\n",
       "      <td>2018</td>\n",
       "      <td>2500</td>\n",
       "      <td>ENGLEWOOD</td>\n",
       "      <td>NJ</td>\n",
       "      <td>YV4A22PL4J1212676</td>\n",
       "      <td>VOLVO</td>\n",
       "      <td>XC90T6</td>\n",
       "    </tr>\n",
       "  </tbody>\n",
       "</table>\n",
       "<p>1181255 rows × 8 columns</p>\n",
       "</div>"
      ],
      "text/plain": [
       "         Price  Year  Mileage              City State                Vin  \\\n",
       "0         8995  2014    35725           EL PASO    TX  19VDE2E53EE000083   \n",
       "1        10888  2013    19606  LONG ISLAND CITY    NY  19VDE1F52DE012636   \n",
       "2         8995  2013    48851           EL PASO    TX  19VDE2E52DE000025   \n",
       "3        10999  2014    39922           WINDSOR    CO  19VDE1F71EE003817   \n",
       "4        14799  2016    22142            LINDON    UT  19UDE2F32GA001284   \n",
       "...        ...   ...      ...               ...   ...                ...   \n",
       "1181250  59375  2017    17406            BERWYN    PA  YV4A22PKXH1125723   \n",
       "1181251  54900  2016    12637            EXETER    NH  YV4BC0PK1G1087660   \n",
       "1181252  69882  2017     8370      WALNUT CREEK    CA  YV4BC0PMXH1124644   \n",
       "1181253  79900  2017       25      EAST HANOVER    NJ  YV4BC0ZX0H1128239   \n",
       "1181254  68755  2018     2500         ENGLEWOOD    NJ  YV4A22PL4J1212676   \n",
       "\n",
       "          Make         Model  \n",
       "0        ACURA    ILX6-SPEED  \n",
       "1        ACURA    ILX5-SPEED  \n",
       "2        ACURA    ILX6-SPEED  \n",
       "3        ACURA    ILX5-SPEED  \n",
       "4        ACURA  ILXAUTOMATIC  \n",
       "...        ...           ...  \n",
       "1181250  VOLVO        XC90T6  \n",
       "1181251  VOLVO          XC90  \n",
       "1181252  VOLVO        XC90T8  \n",
       "1181253  VOLVO        XC90T8  \n",
       "1181254  VOLVO        XC90T6  \n",
       "\n",
       "[1181255 rows x 8 columns]"
      ]
     },
     "execution_count": 53,
     "metadata": {},
     "output_type": "execute_result"
    }
   ],
   "source": [
    "data4"
   ]
  },
  {
   "cell_type": "code",
   "execution_count": 54,
   "id": "620fc737",
   "metadata": {},
   "outputs": [],
   "source": [
    "data4.drop(columns =[\"Vin\"], inplace = True)##Removing Vin column because it will not effect the analysis"
   ]
  },
  {
   "cell_type": "code",
   "execution_count": 55,
   "id": "f9b8e953",
   "metadata": {},
   "outputs": [
    {
     "data": {
      "text/html": [
       "<div>\n",
       "<style scoped>\n",
       "    .dataframe tbody tr th:only-of-type {\n",
       "        vertical-align: middle;\n",
       "    }\n",
       "\n",
       "    .dataframe tbody tr th {\n",
       "        vertical-align: top;\n",
       "    }\n",
       "\n",
       "    .dataframe thead th {\n",
       "        text-align: right;\n",
       "    }\n",
       "</style>\n",
       "<table border=\"1\" class=\"dataframe\">\n",
       "  <thead>\n",
       "    <tr style=\"text-align: right;\">\n",
       "      <th></th>\n",
       "      <th>Price</th>\n",
       "      <th>Year</th>\n",
       "      <th>Mileage</th>\n",
       "      <th>City</th>\n",
       "      <th>State</th>\n",
       "      <th>Make</th>\n",
       "      <th>Model</th>\n",
       "    </tr>\n",
       "  </thead>\n",
       "  <tbody>\n",
       "    <tr>\n",
       "      <th>0</th>\n",
       "      <td>8995</td>\n",
       "      <td>2014</td>\n",
       "      <td>35725</td>\n",
       "      <td>EL PASO</td>\n",
       "      <td>TX</td>\n",
       "      <td>ACURA</td>\n",
       "      <td>ILX6-SPEED</td>\n",
       "    </tr>\n",
       "    <tr>\n",
       "      <th>1</th>\n",
       "      <td>10888</td>\n",
       "      <td>2013</td>\n",
       "      <td>19606</td>\n",
       "      <td>LONG ISLAND CITY</td>\n",
       "      <td>NY</td>\n",
       "      <td>ACURA</td>\n",
       "      <td>ILX5-SPEED</td>\n",
       "    </tr>\n",
       "    <tr>\n",
       "      <th>2</th>\n",
       "      <td>8995</td>\n",
       "      <td>2013</td>\n",
       "      <td>48851</td>\n",
       "      <td>EL PASO</td>\n",
       "      <td>TX</td>\n",
       "      <td>ACURA</td>\n",
       "      <td>ILX6-SPEED</td>\n",
       "    </tr>\n",
       "    <tr>\n",
       "      <th>3</th>\n",
       "      <td>10999</td>\n",
       "      <td>2014</td>\n",
       "      <td>39922</td>\n",
       "      <td>WINDSOR</td>\n",
       "      <td>CO</td>\n",
       "      <td>ACURA</td>\n",
       "      <td>ILX5-SPEED</td>\n",
       "    </tr>\n",
       "    <tr>\n",
       "      <th>4</th>\n",
       "      <td>14799</td>\n",
       "      <td>2016</td>\n",
       "      <td>22142</td>\n",
       "      <td>LINDON</td>\n",
       "      <td>UT</td>\n",
       "      <td>ACURA</td>\n",
       "      <td>ILXAUTOMATIC</td>\n",
       "    </tr>\n",
       "    <tr>\n",
       "      <th>...</th>\n",
       "      <td>...</td>\n",
       "      <td>...</td>\n",
       "      <td>...</td>\n",
       "      <td>...</td>\n",
       "      <td>...</td>\n",
       "      <td>...</td>\n",
       "      <td>...</td>\n",
       "    </tr>\n",
       "    <tr>\n",
       "      <th>1181250</th>\n",
       "      <td>59375</td>\n",
       "      <td>2017</td>\n",
       "      <td>17406</td>\n",
       "      <td>BERWYN</td>\n",
       "      <td>PA</td>\n",
       "      <td>VOLVO</td>\n",
       "      <td>XC90T6</td>\n",
       "    </tr>\n",
       "    <tr>\n",
       "      <th>1181251</th>\n",
       "      <td>54900</td>\n",
       "      <td>2016</td>\n",
       "      <td>12637</td>\n",
       "      <td>EXETER</td>\n",
       "      <td>NH</td>\n",
       "      <td>VOLVO</td>\n",
       "      <td>XC90</td>\n",
       "    </tr>\n",
       "    <tr>\n",
       "      <th>1181252</th>\n",
       "      <td>69882</td>\n",
       "      <td>2017</td>\n",
       "      <td>8370</td>\n",
       "      <td>WALNUT CREEK</td>\n",
       "      <td>CA</td>\n",
       "      <td>VOLVO</td>\n",
       "      <td>XC90T8</td>\n",
       "    </tr>\n",
       "    <tr>\n",
       "      <th>1181253</th>\n",
       "      <td>79900</td>\n",
       "      <td>2017</td>\n",
       "      <td>25</td>\n",
       "      <td>EAST HANOVER</td>\n",
       "      <td>NJ</td>\n",
       "      <td>VOLVO</td>\n",
       "      <td>XC90T8</td>\n",
       "    </tr>\n",
       "    <tr>\n",
       "      <th>1181254</th>\n",
       "      <td>68755</td>\n",
       "      <td>2018</td>\n",
       "      <td>2500</td>\n",
       "      <td>ENGLEWOOD</td>\n",
       "      <td>NJ</td>\n",
       "      <td>VOLVO</td>\n",
       "      <td>XC90T6</td>\n",
       "    </tr>\n",
       "  </tbody>\n",
       "</table>\n",
       "<p>1181255 rows × 7 columns</p>\n",
       "</div>"
      ],
      "text/plain": [
       "         Price  Year  Mileage              City State   Make         Model\n",
       "0         8995  2014    35725           EL PASO    TX  ACURA    ILX6-SPEED\n",
       "1        10888  2013    19606  LONG ISLAND CITY    NY  ACURA    ILX5-SPEED\n",
       "2         8995  2013    48851           EL PASO    TX  ACURA    ILX6-SPEED\n",
       "3        10999  2014    39922           WINDSOR    CO  ACURA    ILX5-SPEED\n",
       "4        14799  2016    22142            LINDON    UT  ACURA  ILXAUTOMATIC\n",
       "...        ...   ...      ...               ...   ...    ...           ...\n",
       "1181250  59375  2017    17406            BERWYN    PA  VOLVO        XC90T6\n",
       "1181251  54900  2016    12637            EXETER    NH  VOLVO          XC90\n",
       "1181252  69882  2017     8370      WALNUT CREEK    CA  VOLVO        XC90T8\n",
       "1181253  79900  2017       25      EAST HANOVER    NJ  VOLVO        XC90T8\n",
       "1181254  68755  2018     2500         ENGLEWOOD    NJ  VOLVO        XC90T6\n",
       "\n",
       "[1181255 rows x 7 columns]"
      ]
     },
     "execution_count": 55,
     "metadata": {},
     "output_type": "execute_result"
    }
   ],
   "source": [
    "data4"
   ]
  },
  {
   "cell_type": "markdown",
   "id": "a2b87b5a",
   "metadata": {},
   "source": [
    "Feature Engineering:\n",
    "\n",
    "*) Usage Level:\n",
    "From the distribution of the mileage column, we can see that the first quantile is arround 25k Mile, and the third quantile is arround 80K Mile, so we can have a new feature that identifies the level of car usage as a function of mileage made by the car as follows:\n",
    "\n",
    "Mileage < 25K mile ==> Low usage\n",
    "Mileage between 25K and 80K ==> Moderate usage\n",
    "Mileage larger than that ==> High usage."
   ]
  },
  {
   "cell_type": "code",
   "execution_count": 56,
   "id": "e8a10cc2",
   "metadata": {},
   "outputs": [],
   "source": [
    "def get_mile_range(mileage):\n",
    "    if mileage < 25000:\n",
    "        return \"Low\"\n",
    "    elif (25000 <= mileage) and (mileage < 80000 ):\n",
    "        return \"Medium\"\n",
    "    else:\n",
    "        return \"High\""
   ]
  },
  {
   "cell_type": "code",
   "execution_count": 57,
   "id": "e9590043",
   "metadata": {},
   "outputs": [],
   "source": [
    "data4[\"Usage_level\"] = data4[\"Mileage\"].apply(get_mile_range)"
   ]
  },
  {
   "cell_type": "code",
   "execution_count": 58,
   "id": "42d283fe",
   "metadata": {},
   "outputs": [
    {
     "data": {
      "text/html": [
       "<div>\n",
       "<style scoped>\n",
       "    .dataframe tbody tr th:only-of-type {\n",
       "        vertical-align: middle;\n",
       "    }\n",
       "\n",
       "    .dataframe tbody tr th {\n",
       "        vertical-align: top;\n",
       "    }\n",
       "\n",
       "    .dataframe thead th {\n",
       "        text-align: right;\n",
       "    }\n",
       "</style>\n",
       "<table border=\"1\" class=\"dataframe\">\n",
       "  <thead>\n",
       "    <tr style=\"text-align: right;\">\n",
       "      <th></th>\n",
       "      <th>Price</th>\n",
       "      <th>Year</th>\n",
       "      <th>Mileage</th>\n",
       "      <th>City</th>\n",
       "      <th>State</th>\n",
       "      <th>Make</th>\n",
       "      <th>Model</th>\n",
       "      <th>Usage_level</th>\n",
       "    </tr>\n",
       "  </thead>\n",
       "  <tbody>\n",
       "    <tr>\n",
       "      <th>0</th>\n",
       "      <td>8995</td>\n",
       "      <td>2014</td>\n",
       "      <td>35725</td>\n",
       "      <td>EL PASO</td>\n",
       "      <td>TX</td>\n",
       "      <td>ACURA</td>\n",
       "      <td>ILX6-SPEED</td>\n",
       "      <td>Medium</td>\n",
       "    </tr>\n",
       "    <tr>\n",
       "      <th>1</th>\n",
       "      <td>10888</td>\n",
       "      <td>2013</td>\n",
       "      <td>19606</td>\n",
       "      <td>LONG ISLAND CITY</td>\n",
       "      <td>NY</td>\n",
       "      <td>ACURA</td>\n",
       "      <td>ILX5-SPEED</td>\n",
       "      <td>Low</td>\n",
       "    </tr>\n",
       "    <tr>\n",
       "      <th>2</th>\n",
       "      <td>8995</td>\n",
       "      <td>2013</td>\n",
       "      <td>48851</td>\n",
       "      <td>EL PASO</td>\n",
       "      <td>TX</td>\n",
       "      <td>ACURA</td>\n",
       "      <td>ILX6-SPEED</td>\n",
       "      <td>Medium</td>\n",
       "    </tr>\n",
       "    <tr>\n",
       "      <th>3</th>\n",
       "      <td>10999</td>\n",
       "      <td>2014</td>\n",
       "      <td>39922</td>\n",
       "      <td>WINDSOR</td>\n",
       "      <td>CO</td>\n",
       "      <td>ACURA</td>\n",
       "      <td>ILX5-SPEED</td>\n",
       "      <td>Medium</td>\n",
       "    </tr>\n",
       "    <tr>\n",
       "      <th>4</th>\n",
       "      <td>14799</td>\n",
       "      <td>2016</td>\n",
       "      <td>22142</td>\n",
       "      <td>LINDON</td>\n",
       "      <td>UT</td>\n",
       "      <td>ACURA</td>\n",
       "      <td>ILXAUTOMATIC</td>\n",
       "      <td>Low</td>\n",
       "    </tr>\n",
       "    <tr>\n",
       "      <th>...</th>\n",
       "      <td>...</td>\n",
       "      <td>...</td>\n",
       "      <td>...</td>\n",
       "      <td>...</td>\n",
       "      <td>...</td>\n",
       "      <td>...</td>\n",
       "      <td>...</td>\n",
       "      <td>...</td>\n",
       "    </tr>\n",
       "    <tr>\n",
       "      <th>1181250</th>\n",
       "      <td>59375</td>\n",
       "      <td>2017</td>\n",
       "      <td>17406</td>\n",
       "      <td>BERWYN</td>\n",
       "      <td>PA</td>\n",
       "      <td>VOLVO</td>\n",
       "      <td>XC90T6</td>\n",
       "      <td>Low</td>\n",
       "    </tr>\n",
       "    <tr>\n",
       "      <th>1181251</th>\n",
       "      <td>54900</td>\n",
       "      <td>2016</td>\n",
       "      <td>12637</td>\n",
       "      <td>EXETER</td>\n",
       "      <td>NH</td>\n",
       "      <td>VOLVO</td>\n",
       "      <td>XC90</td>\n",
       "      <td>Low</td>\n",
       "    </tr>\n",
       "    <tr>\n",
       "      <th>1181252</th>\n",
       "      <td>69882</td>\n",
       "      <td>2017</td>\n",
       "      <td>8370</td>\n",
       "      <td>WALNUT CREEK</td>\n",
       "      <td>CA</td>\n",
       "      <td>VOLVO</td>\n",
       "      <td>XC90T8</td>\n",
       "      <td>Low</td>\n",
       "    </tr>\n",
       "    <tr>\n",
       "      <th>1181253</th>\n",
       "      <td>79900</td>\n",
       "      <td>2017</td>\n",
       "      <td>25</td>\n",
       "      <td>EAST HANOVER</td>\n",
       "      <td>NJ</td>\n",
       "      <td>VOLVO</td>\n",
       "      <td>XC90T8</td>\n",
       "      <td>Low</td>\n",
       "    </tr>\n",
       "    <tr>\n",
       "      <th>1181254</th>\n",
       "      <td>68755</td>\n",
       "      <td>2018</td>\n",
       "      <td>2500</td>\n",
       "      <td>ENGLEWOOD</td>\n",
       "      <td>NJ</td>\n",
       "      <td>VOLVO</td>\n",
       "      <td>XC90T6</td>\n",
       "      <td>Low</td>\n",
       "    </tr>\n",
       "  </tbody>\n",
       "</table>\n",
       "<p>1181255 rows × 8 columns</p>\n",
       "</div>"
      ],
      "text/plain": [
       "         Price  Year  Mileage              City State   Make         Model  \\\n",
       "0         8995  2014    35725           EL PASO    TX  ACURA    ILX6-SPEED   \n",
       "1        10888  2013    19606  LONG ISLAND CITY    NY  ACURA    ILX5-SPEED   \n",
       "2         8995  2013    48851           EL PASO    TX  ACURA    ILX6-SPEED   \n",
       "3        10999  2014    39922           WINDSOR    CO  ACURA    ILX5-SPEED   \n",
       "4        14799  2016    22142            LINDON    UT  ACURA  ILXAUTOMATIC   \n",
       "...        ...   ...      ...               ...   ...    ...           ...   \n",
       "1181250  59375  2017    17406            BERWYN    PA  VOLVO        XC90T6   \n",
       "1181251  54900  2016    12637            EXETER    NH  VOLVO          XC90   \n",
       "1181252  69882  2017     8370      WALNUT CREEK    CA  VOLVO        XC90T8   \n",
       "1181253  79900  2017       25      EAST HANOVER    NJ  VOLVO        XC90T8   \n",
       "1181254  68755  2018     2500         ENGLEWOOD    NJ  VOLVO        XC90T6   \n",
       "\n",
       "        Usage_level  \n",
       "0            Medium  \n",
       "1               Low  \n",
       "2            Medium  \n",
       "3            Medium  \n",
       "4               Low  \n",
       "...             ...  \n",
       "1181250         Low  \n",
       "1181251         Low  \n",
       "1181252         Low  \n",
       "1181253         Low  \n",
       "1181254         Low  \n",
       "\n",
       "[1181255 rows x 8 columns]"
      ]
     },
     "execution_count": 58,
     "metadata": {},
     "output_type": "execute_result"
    }
   ],
   "source": [
    "data4"
   ]
  },
  {
   "cell_type": "markdown",
   "id": "0475fa82",
   "metadata": {},
   "source": [
    "USA Main Cities:\n",
    "\n",
    "As A result we can see effects of the cities in prices, so we will add one column to identifiy city importance, by importance here we mean the most crowded cities as follows:\n",
    "\n",
    "Cities > 1Million people in population with a high importance\n",
    "Cities between 700k and 1Million people with a Medium Importance\n",
    "Cities <700K People with low importance."
   ]
  },
  {
   "cell_type": "code",
   "execution_count": 59,
   "id": "2ffc7560",
   "metadata": {},
   "outputs": [],
   "source": [
    "def city_importance(city):\n",
    "    important_cities = [\"New York\", \"Los Angeles\", \"Chicago\", \"Houston\", \"Phoenix\", \"Philadelphia\",\n",
    "                        \"San Antonio\", \"San Diego\", \"Dallas\", \"San Jose\"]\n",
    "    Midium_cities = [\"Austin\", \"Jacksonville\", \"Fort Worth\", \"Columbus\", \"Charlotte\", \"San Francisco\",\n",
    "                     \"Indianapolis\", \"Seattle\", \"Denver\", \"Washington\"]\n",
    "    important_cities = [c.upper() for c in important_cities]\n",
    "    Midium_cities = [c.upper() for c in Midium_cities]\n",
    "    if city in important_cities:\n",
    "        return \"High\"\n",
    "    elif city in Midium_cities:\n",
    "        return \"Medium\"\n",
    "    else:\n",
    "        return \"Low\"\n",
    "\n",
    "data4[\"City_imporatnce\"] = data4[\"City\"].apply(city_importance)"
   ]
  },
  {
   "cell_type": "code",
   "execution_count": 60,
   "id": "58c13ef5",
   "metadata": {},
   "outputs": [
    {
     "data": {
      "text/html": [
       "<div>\n",
       "<style scoped>\n",
       "    .dataframe tbody tr th:only-of-type {\n",
       "        vertical-align: middle;\n",
       "    }\n",
       "\n",
       "    .dataframe tbody tr th {\n",
       "        vertical-align: top;\n",
       "    }\n",
       "\n",
       "    .dataframe thead th {\n",
       "        text-align: right;\n",
       "    }\n",
       "</style>\n",
       "<table border=\"1\" class=\"dataframe\">\n",
       "  <thead>\n",
       "    <tr style=\"text-align: right;\">\n",
       "      <th></th>\n",
       "      <th>Price</th>\n",
       "      <th>Year</th>\n",
       "      <th>Mileage</th>\n",
       "      <th>City</th>\n",
       "      <th>State</th>\n",
       "      <th>Make</th>\n",
       "      <th>Model</th>\n",
       "      <th>Usage_level</th>\n",
       "      <th>City_imporatnce</th>\n",
       "    </tr>\n",
       "  </thead>\n",
       "  <tbody>\n",
       "    <tr>\n",
       "      <th>0</th>\n",
       "      <td>8995</td>\n",
       "      <td>2014</td>\n",
       "      <td>35725</td>\n",
       "      <td>EL PASO</td>\n",
       "      <td>TX</td>\n",
       "      <td>ACURA</td>\n",
       "      <td>ILX6-SPEED</td>\n",
       "      <td>Medium</td>\n",
       "      <td>Low</td>\n",
       "    </tr>\n",
       "    <tr>\n",
       "      <th>1</th>\n",
       "      <td>10888</td>\n",
       "      <td>2013</td>\n",
       "      <td>19606</td>\n",
       "      <td>LONG ISLAND CITY</td>\n",
       "      <td>NY</td>\n",
       "      <td>ACURA</td>\n",
       "      <td>ILX5-SPEED</td>\n",
       "      <td>Low</td>\n",
       "      <td>Low</td>\n",
       "    </tr>\n",
       "    <tr>\n",
       "      <th>2</th>\n",
       "      <td>8995</td>\n",
       "      <td>2013</td>\n",
       "      <td>48851</td>\n",
       "      <td>EL PASO</td>\n",
       "      <td>TX</td>\n",
       "      <td>ACURA</td>\n",
       "      <td>ILX6-SPEED</td>\n",
       "      <td>Medium</td>\n",
       "      <td>Low</td>\n",
       "    </tr>\n",
       "    <tr>\n",
       "      <th>3</th>\n",
       "      <td>10999</td>\n",
       "      <td>2014</td>\n",
       "      <td>39922</td>\n",
       "      <td>WINDSOR</td>\n",
       "      <td>CO</td>\n",
       "      <td>ACURA</td>\n",
       "      <td>ILX5-SPEED</td>\n",
       "      <td>Medium</td>\n",
       "      <td>Low</td>\n",
       "    </tr>\n",
       "    <tr>\n",
       "      <th>4</th>\n",
       "      <td>14799</td>\n",
       "      <td>2016</td>\n",
       "      <td>22142</td>\n",
       "      <td>LINDON</td>\n",
       "      <td>UT</td>\n",
       "      <td>ACURA</td>\n",
       "      <td>ILXAUTOMATIC</td>\n",
       "      <td>Low</td>\n",
       "      <td>Low</td>\n",
       "    </tr>\n",
       "    <tr>\n",
       "      <th>...</th>\n",
       "      <td>...</td>\n",
       "      <td>...</td>\n",
       "      <td>...</td>\n",
       "      <td>...</td>\n",
       "      <td>...</td>\n",
       "      <td>...</td>\n",
       "      <td>...</td>\n",
       "      <td>...</td>\n",
       "      <td>...</td>\n",
       "    </tr>\n",
       "    <tr>\n",
       "      <th>1181250</th>\n",
       "      <td>59375</td>\n",
       "      <td>2017</td>\n",
       "      <td>17406</td>\n",
       "      <td>BERWYN</td>\n",
       "      <td>PA</td>\n",
       "      <td>VOLVO</td>\n",
       "      <td>XC90T6</td>\n",
       "      <td>Low</td>\n",
       "      <td>Low</td>\n",
       "    </tr>\n",
       "    <tr>\n",
       "      <th>1181251</th>\n",
       "      <td>54900</td>\n",
       "      <td>2016</td>\n",
       "      <td>12637</td>\n",
       "      <td>EXETER</td>\n",
       "      <td>NH</td>\n",
       "      <td>VOLVO</td>\n",
       "      <td>XC90</td>\n",
       "      <td>Low</td>\n",
       "      <td>Low</td>\n",
       "    </tr>\n",
       "    <tr>\n",
       "      <th>1181252</th>\n",
       "      <td>69882</td>\n",
       "      <td>2017</td>\n",
       "      <td>8370</td>\n",
       "      <td>WALNUT CREEK</td>\n",
       "      <td>CA</td>\n",
       "      <td>VOLVO</td>\n",
       "      <td>XC90T8</td>\n",
       "      <td>Low</td>\n",
       "      <td>Low</td>\n",
       "    </tr>\n",
       "    <tr>\n",
       "      <th>1181253</th>\n",
       "      <td>79900</td>\n",
       "      <td>2017</td>\n",
       "      <td>25</td>\n",
       "      <td>EAST HANOVER</td>\n",
       "      <td>NJ</td>\n",
       "      <td>VOLVO</td>\n",
       "      <td>XC90T8</td>\n",
       "      <td>Low</td>\n",
       "      <td>Low</td>\n",
       "    </tr>\n",
       "    <tr>\n",
       "      <th>1181254</th>\n",
       "      <td>68755</td>\n",
       "      <td>2018</td>\n",
       "      <td>2500</td>\n",
       "      <td>ENGLEWOOD</td>\n",
       "      <td>NJ</td>\n",
       "      <td>VOLVO</td>\n",
       "      <td>XC90T6</td>\n",
       "      <td>Low</td>\n",
       "      <td>Low</td>\n",
       "    </tr>\n",
       "  </tbody>\n",
       "</table>\n",
       "<p>1181255 rows × 9 columns</p>\n",
       "</div>"
      ],
      "text/plain": [
       "         Price  Year  Mileage              City State   Make         Model  \\\n",
       "0         8995  2014    35725           EL PASO    TX  ACURA    ILX6-SPEED   \n",
       "1        10888  2013    19606  LONG ISLAND CITY    NY  ACURA    ILX5-SPEED   \n",
       "2         8995  2013    48851           EL PASO    TX  ACURA    ILX6-SPEED   \n",
       "3        10999  2014    39922           WINDSOR    CO  ACURA    ILX5-SPEED   \n",
       "4        14799  2016    22142            LINDON    UT  ACURA  ILXAUTOMATIC   \n",
       "...        ...   ...      ...               ...   ...    ...           ...   \n",
       "1181250  59375  2017    17406            BERWYN    PA  VOLVO        XC90T6   \n",
       "1181251  54900  2016    12637            EXETER    NH  VOLVO          XC90   \n",
       "1181252  69882  2017     8370      WALNUT CREEK    CA  VOLVO        XC90T8   \n",
       "1181253  79900  2017       25      EAST HANOVER    NJ  VOLVO        XC90T8   \n",
       "1181254  68755  2018     2500         ENGLEWOOD    NJ  VOLVO        XC90T6   \n",
       "\n",
       "        Usage_level City_imporatnce  \n",
       "0            Medium             Low  \n",
       "1               Low             Low  \n",
       "2            Medium             Low  \n",
       "3            Medium             Low  \n",
       "4               Low             Low  \n",
       "...             ...             ...  \n",
       "1181250         Low             Low  \n",
       "1181251         Low             Low  \n",
       "1181252         Low             Low  \n",
       "1181253         Low             Low  \n",
       "1181254         Low             Low  \n",
       "\n",
       "[1181255 rows x 9 columns]"
      ]
     },
     "execution_count": 60,
     "metadata": {},
     "output_type": "execute_result"
    }
   ],
   "source": [
    "data4"
   ]
  },
  {
   "cell_type": "markdown",
   "id": "8ca00272",
   "metadata": {},
   "source": [
    " Distributions of the added columns:"
   ]
  },
  {
   "cell_type": "code",
   "execution_count": 61,
   "id": "1660d3f6",
   "metadata": {},
   "outputs": [
    {
     "data": {
      "text/plain": [
       "Medium    640253\n",
       "Low       325536\n",
       "High      215466\n",
       "Name: Usage_level, dtype: int64"
      ]
     },
     "execution_count": 61,
     "metadata": {},
     "output_type": "execute_result"
    }
   ],
   "source": [
    "data4[\"Usage_level\"].value_counts()"
   ]
  },
  {
   "cell_type": "code",
   "execution_count": 62,
   "id": "b3f16242",
   "metadata": {},
   "outputs": [
    {
     "data": {
      "text/plain": [
       "<AxesSubplot:xlabel='Usage_level', ylabel='count'>"
      ]
     },
     "execution_count": 62,
     "metadata": {},
     "output_type": "execute_result"
    },
    {
     "data": {
      "image/png": "[encoded data removed]",
      "text/plain": [
       "<Figure size 432x288 with 1 Axes>"
      ]
     },
     "metadata": {
      "needs_background": "light"
     },
     "output_type": "display_data"
    }
   ],
   "source": [
    "#Plotting Usage Level:\n",
    "\n",
    "sns.countplot(x= data4['Usage_level'])\n"
   ]
  },
  {
   "cell_type": "code",
   "execution_count": 63,
   "id": "61b973cf",
   "metadata": {},
   "outputs": [
    {
     "data": {
      "text/plain": [
       "<AxesSubplot:xlabel='City_imporatnce', ylabel='count'>"
      ]
     },
     "execution_count": 63,
     "metadata": {},
     "output_type": "execute_result"
    },
    {
     "data": {
      "image/png": "[encoded data removed]",
      "text/plain": [
       "<Figure size 432x288 with 1 Axes>"
      ]
     },
     "metadata": {
      "needs_background": "light"
     },
     "output_type": "display_data"
    }
   ],
   "source": [
    "#Plotting City_imporatnce:\n",
    "\n",
    "sns.countplot(x= data4['City_imporatnce'])"
   ]
  },
  {
   "cell_type": "markdown",
   "id": "05ada368",
   "metadata": {},
   "source": [
    " Checking the differences in the Price between the old and the new cars"
   ]
  },
  {
   "cell_type": "code",
   "execution_count": 64,
   "id": "f66f28ec",
   "metadata": {},
   "outputs": [
    {
     "data": {
      "text/plain": [
       "9785.114571258498"
      ]
     },
     "execution_count": 64,
     "metadata": {},
     "output_type": "execute_result"
    }
   ],
   "source": [
    "data4_old.Price.mean()"
   ]
  },
  {
   "cell_type": "code",
   "execution_count": 65,
   "id": "6ba31e91",
   "metadata": {},
   "outputs": [
    {
     "data": {
      "text/plain": [
       "22048.618493779264"
      ]
     },
     "execution_count": 65,
     "metadata": {},
     "output_type": "execute_result"
    }
   ],
   "source": [
    "data4_new.Price.mean()"
   ]
  },
  {
   "cell_type": "markdown",
   "id": "8f151f4a",
   "metadata": {},
   "source": [
    "hence there is highly differences between old and new cars"
   ]
  },
  {
   "cell_type": "markdown",
   "id": "2ac76051",
   "metadata": {},
   "source": [
    "# checking therelationship between Mileage, Year and Price"
   ]
  },
  {
   "cell_type": "code",
   "execution_count": 66,
   "id": "eed5050c",
   "metadata": {},
   "outputs": [
    {
     "data": {
      "image/png": "[encoded data removed]",
      "text/plain": [
       "<Figure size 432x288 with 2 Axes>"
      ]
     },
     "metadata": {
      "needs_background": "light"
     },
     "output_type": "display_data"
    }
   ],
   "source": [
    "plt.title(\"Correlation for new cars\")\n",
    "dataplot = sns.heatmap(data4_new.corr(), cmap=\"YlGnBu\", annot=True)\n",
    "plt.show()"
   ]
  },
  {
   "cell_type": "markdown",
   "id": "919009a2",
   "metadata": {},
   "source": [
    "for New cars\n",
    "\n",
    "1)There is a positive correlation between the price and the year.\n",
    "2)There is  a negative correlation with the Price and Mileage.\n",
    "3)There is   a negative correlation between Year and Milage."
   ]
  },
  {
   "cell_type": "code",
   "execution_count": 67,
   "id": "20607372",
   "metadata": {},
   "outputs": [
    {
     "data": {
      "image/png": "[encoded data removed]",
      "text/plain": [
       "<Figure size 432x288 with 2 Axes>"
      ]
     },
     "metadata": {
      "needs_background": "light"
     },
     "output_type": "display_data"
    }
   ],
   "source": [
    "plt.title(\"Correlation for old cars\")\n",
    "dataplot = sns.heatmap(data4_old.corr(), cmap=\"YlGnBu\", annot=True)\n",
    "plt.show()"
   ]
  },
  {
   "cell_type": "markdown",
   "id": "63c5fd4d",
   "metadata": {},
   "source": [
    "For old cars\n",
    "\n",
    "1)There is  negative correlation between mileage and price."
   ]
  },
  {
   "cell_type": "code",
   "execution_count": 68,
   "id": "47325ea2",
   "metadata": {},
   "outputs": [],
   "source": [
    "# Cars that manufacutred before 2006\n",
    "data4_old = data4[data4[\"Year\"] < 2006]\n",
    "# Cars that manufacutred bafter 2006\n",
    "data4_new = data4[data4[\"Year\"] >= 2006]"
   ]
  },
  {
   "cell_type": "code",
   "execution_count": 69,
   "id": "50dc0a88",
   "metadata": {},
   "outputs": [
    {
     "data": {
      "text/html": [
       "<div>\n",
       "<style scoped>\n",
       "    .dataframe tbody tr th:only-of-type {\n",
       "        vertical-align: middle;\n",
       "    }\n",
       "\n",
       "    .dataframe tbody tr th {\n",
       "        vertical-align: top;\n",
       "    }\n",
       "\n",
       "    .dataframe thead th {\n",
       "        text-align: right;\n",
       "    }\n",
       "</style>\n",
       "<table border=\"1\" class=\"dataframe\">\n",
       "  <thead>\n",
       "    <tr style=\"text-align: right;\">\n",
       "      <th></th>\n",
       "      <th>Price</th>\n",
       "      <th>Year</th>\n",
       "      <th>Mileage</th>\n",
       "      <th>City</th>\n",
       "      <th>State</th>\n",
       "      <th>Make</th>\n",
       "      <th>Model</th>\n",
       "      <th>Usage_level</th>\n",
       "      <th>City_imporatnce</th>\n",
       "    </tr>\n",
       "  </thead>\n",
       "  <tbody>\n",
       "    <tr>\n",
       "      <th>0</th>\n",
       "      <td>8995</td>\n",
       "      <td>2014</td>\n",
       "      <td>35725</td>\n",
       "      <td>EL PASO</td>\n",
       "      <td>TX</td>\n",
       "      <td>ACURA</td>\n",
       "      <td>ILX6-SPEED</td>\n",
       "      <td>Medium</td>\n",
       "      <td>Low</td>\n",
       "    </tr>\n",
       "    <tr>\n",
       "      <th>1</th>\n",
       "      <td>10888</td>\n",
       "      <td>2013</td>\n",
       "      <td>19606</td>\n",
       "      <td>LONG ISLAND CITY</td>\n",
       "      <td>NY</td>\n",
       "      <td>ACURA</td>\n",
       "      <td>ILX5-SPEED</td>\n",
       "      <td>Low</td>\n",
       "      <td>Low</td>\n",
       "    </tr>\n",
       "    <tr>\n",
       "      <th>2</th>\n",
       "      <td>8995</td>\n",
       "      <td>2013</td>\n",
       "      <td>48851</td>\n",
       "      <td>EL PASO</td>\n",
       "      <td>TX</td>\n",
       "      <td>ACURA</td>\n",
       "      <td>ILX6-SPEED</td>\n",
       "      <td>Medium</td>\n",
       "      <td>Low</td>\n",
       "    </tr>\n",
       "    <tr>\n",
       "      <th>3</th>\n",
       "      <td>10999</td>\n",
       "      <td>2014</td>\n",
       "      <td>39922</td>\n",
       "      <td>WINDSOR</td>\n",
       "      <td>CO</td>\n",
       "      <td>ACURA</td>\n",
       "      <td>ILX5-SPEED</td>\n",
       "      <td>Medium</td>\n",
       "      <td>Low</td>\n",
       "    </tr>\n",
       "    <tr>\n",
       "      <th>4</th>\n",
       "      <td>14799</td>\n",
       "      <td>2016</td>\n",
       "      <td>22142</td>\n",
       "      <td>LINDON</td>\n",
       "      <td>UT</td>\n",
       "      <td>ACURA</td>\n",
       "      <td>ILXAUTOMATIC</td>\n",
       "      <td>Low</td>\n",
       "      <td>Low</td>\n",
       "    </tr>\n",
       "    <tr>\n",
       "      <th>...</th>\n",
       "      <td>...</td>\n",
       "      <td>...</td>\n",
       "      <td>...</td>\n",
       "      <td>...</td>\n",
       "      <td>...</td>\n",
       "      <td>...</td>\n",
       "      <td>...</td>\n",
       "      <td>...</td>\n",
       "      <td>...</td>\n",
       "    </tr>\n",
       "    <tr>\n",
       "      <th>51532</th>\n",
       "      <td>27295</td>\n",
       "      <td>2009</td>\n",
       "      <td>83093</td>\n",
       "      <td>MARIETTA</td>\n",
       "      <td>GA</td>\n",
       "      <td>BMW</td>\n",
       "      <td>M34DR</td>\n",
       "      <td>High</td>\n",
       "      <td>Low</td>\n",
       "    </tr>\n",
       "    <tr>\n",
       "      <th>51533</th>\n",
       "      <td>36895</td>\n",
       "      <td>2014</td>\n",
       "      <td>35265</td>\n",
       "      <td>WINTER PARK</td>\n",
       "      <td>FL</td>\n",
       "      <td>BMW</td>\n",
       "      <td>Z4SDRIVE35I</td>\n",
       "      <td>Medium</td>\n",
       "      <td>Low</td>\n",
       "    </tr>\n",
       "    <tr>\n",
       "      <th>51534</th>\n",
       "      <td>14498</td>\n",
       "      <td>2006</td>\n",
       "      <td>82778</td>\n",
       "      <td>CARROLLTON</td>\n",
       "      <td>TX</td>\n",
       "      <td>BMW</td>\n",
       "      <td>6</td>\n",
       "      <td>High</td>\n",
       "      <td>Low</td>\n",
       "    </tr>\n",
       "    <tr>\n",
       "      <th>51535</th>\n",
       "      <td>42945</td>\n",
       "      <td>2017</td>\n",
       "      <td>6571</td>\n",
       "      <td>NORTH HOLLYWOOD</td>\n",
       "      <td>CA</td>\n",
       "      <td>BMW</td>\n",
       "      <td>4</td>\n",
       "      <td>Low</td>\n",
       "      <td>Low</td>\n",
       "    </tr>\n",
       "    <tr>\n",
       "      <th>51536</th>\n",
       "      <td>49575</td>\n",
       "      <td>2016</td>\n",
       "      <td>2109</td>\n",
       "      <td>SPRINGFIELD</td>\n",
       "      <td>NJ</td>\n",
       "      <td>BMW</td>\n",
       "      <td>5</td>\n",
       "      <td>Low</td>\n",
       "      <td>Low</td>\n",
       "    </tr>\n",
       "  </tbody>\n",
       "</table>\n",
       "<p>50000 rows × 9 columns</p>\n",
       "</div>"
      ],
      "text/plain": [
       "       Price  Year  Mileage              City State   Make         Model  \\\n",
       "0       8995  2014    35725           EL PASO    TX  ACURA    ILX6-SPEED   \n",
       "1      10888  2013    19606  LONG ISLAND CITY    NY  ACURA    ILX5-SPEED   \n",
       "2       8995  2013    48851           EL PASO    TX  ACURA    ILX6-SPEED   \n",
       "3      10999  2014    39922           WINDSOR    CO  ACURA    ILX5-SPEED   \n",
       "4      14799  2016    22142            LINDON    UT  ACURA  ILXAUTOMATIC   \n",
       "...      ...   ...      ...               ...   ...    ...           ...   \n",
       "51532  27295  2009    83093          MARIETTA    GA    BMW         M34DR   \n",
       "51533  36895  2014    35265       WINTER PARK    FL    BMW   Z4SDRIVE35I   \n",
       "51534  14498  2006    82778        CARROLLTON    TX    BMW             6   \n",
       "51535  42945  2017     6571   NORTH HOLLYWOOD    CA    BMW             4   \n",
       "51536  49575  2016     2109       SPRINGFIELD    NJ    BMW             5   \n",
       "\n",
       "      Usage_level City_imporatnce  \n",
       "0          Medium             Low  \n",
       "1             Low             Low  \n",
       "2          Medium             Low  \n",
       "3          Medium             Low  \n",
       "4             Low             Low  \n",
       "...           ...             ...  \n",
       "51532        High             Low  \n",
       "51533      Medium             Low  \n",
       "51534        High             Low  \n",
       "51535         Low             Low  \n",
       "51536         Low             Low  \n",
       "\n",
       "[50000 rows x 9 columns]"
      ]
     },
     "execution_count": 69,
     "metadata": {},
     "output_type": "execute_result"
    }
   ],
   "source": [
    "data5=data4_new.head(50000)\n",
    "data5"
   ]
  },
  {
   "cell_type": "code",
   "execution_count": 70,
   "id": "799c3f31",
   "metadata": {},
   "outputs": [
    {
     "name": "stdout",
     "output_type": "stream",
     "text": [
      "<class 'pandas.core.frame.DataFrame'>\n",
      "Int64Index: 50000 entries, 0 to 51536\n",
      "Data columns (total 9 columns):\n",
      " #   Column           Non-Null Count  Dtype \n",
      "---  ------           --------------  ----- \n",
      " 0   Price            50000 non-null  int64 \n",
      " 1   Year             50000 non-null  int64 \n",
      " 2   Mileage          50000 non-null  int64 \n",
      " 3   City             50000 non-null  object\n",
      " 4   State            50000 non-null  object\n",
      " 5   Make             50000 non-null  object\n",
      " 6   Model            50000 non-null  object\n",
      " 7   Usage_level      50000 non-null  object\n",
      " 8   City_imporatnce  50000 non-null  object\n",
      "dtypes: int64(3), object(6)\n",
      "memory usage: 3.8+ MB\n"
     ]
    }
   ],
   "source": [
    "data5.info()"
   ]
  },
  {
   "cell_type": "markdown",
   "id": "b8e9aaf9",
   "metadata": {},
   "source": [
    "# Converting categorical data in numeric by label encoder method\n"
   ]
  },
  {
   "cell_type": "code",
   "execution_count": 71,
   "id": "b1258587",
   "metadata": {},
   "outputs": [],
   "source": [
    "from sklearn.preprocessing import LabelEncoder"
   ]
  },
  {
   "cell_type": "code",
   "execution_count": 72,
   "id": "c4a81a90",
   "metadata": {},
   "outputs": [],
   "source": [
    "le=LabelEncoder()\n"
   ]
  },
  {
   "cell_type": "code",
   "execution_count": 73,
   "id": "908fb68d",
   "metadata": {},
   "outputs": [],
   "source": [
    "df1 = data5[['Price','Year','Mileage']]"
   ]
  },
  {
   "cell_type": "code",
   "execution_count": 74,
   "id": "c0dd1e25",
   "metadata": {},
   "outputs": [],
   "source": [
    "df = data5[['City','State','Make','Model','Usage_level','City_imporatnce']].apply(le.fit_transform)"
   ]
  },
  {
   "cell_type": "code",
   "execution_count": 75,
   "id": "d4dcb38d",
   "metadata": {},
   "outputs": [],
   "source": [
    "data6_new = pd.concat([df1,df],axis=1)\n"
   ]
  },
  {
   "cell_type": "markdown",
   "id": "4f99ea24",
   "metadata": {},
   "source": [
    "now applying train test split "
   ]
  },
  {
   "cell_type": "code",
   "execution_count": 76,
   "id": "ba5b79f8",
   "metadata": {},
   "outputs": [],
   "source": [
    "#for new dataset\n",
    "X = data6_new.drop(columns = [\"Price\"])\n",
    "Y = data6_new.Price\n",
    "train_new, test_new, y_train_new, y_test_new = train_test_split(X, Y, test_size = 0.20, shuffle= True)"
   ]
  },
  {
   "cell_type": "markdown",
   "id": "5886dde0",
   "metadata": {},
   "source": [
    "## Linear regression model for new cars  "
   ]
  },
  {
   "cell_type": "code",
   "execution_count": 77,
   "id": "962a4f18",
   "metadata": {},
   "outputs": [],
   "source": [
    "from sklearn.metrics import mean_squared_error,r2_score\n",
    "from sklearn import linear_model\n"
   ]
  },
  {
   "cell_type": "code",
   "execution_count": 78,
   "id": "a28d5c52",
   "metadata": {},
   "outputs": [],
   "source": [
    "import sklearn\n",
    "from sklearn.linear_model import LinearRegression\n",
    "from sklearn.preprocessing import scale\n",
    "from collections import Counter"
   ]
  },
  {
   "cell_type": "markdown",
   "id": "3a973a0c",
   "metadata": {},
   "source": [
    "# gradient boost regression for new cars "
   ]
  },
  {
   "cell_type": "code",
   "execution_count": 79,
   "id": "0d00c784",
   "metadata": {},
   "outputs": [
    {
     "name": "stdout",
     "output_type": "stream",
     "text": [
      "R^2: 0.832\n",
      "The mean squared error (MSE) on test set: 37480785.1547\n"
     ]
    }
   ],
   "source": [
    "sc = StandardScaler()\n",
    "X_train_std = sc.fit_transform(train_new)\n",
    "X_test_std = sc.transform(test_new)\n",
    "#\n",
    "# Hyperparameters for GradientBoostingRegressor\n",
    "#\n",
    "gbr_params = {'n_estimators': 1000,\n",
    "          'max_depth': 3,\n",
    "          'min_samples_split': 5,\n",
    "          'learning_rate': 0.01,\n",
    "          'loss': 'ls'}\n",
    "#\n",
    "# Create an instance of gradient boosting regressor\n",
    "#\n",
    "gbr = GradientBoostingRegressor(**gbr_params)\n",
    "#\n",
    "# Fit the model\n",
    "#\n",
    "gbr.fit(X_train_std, y_train_new)\n",
    "#\n",
    "# Print Coefficient of determination R^2\n",
    "#\n",
    "print(\"R^2: %.3f\" % gbr.score(X_test_std, y_test_new))\n",
    "#\n",
    "# Create the mean squared error\n",
    "#\n",
    "mse = mean_squared_error(y_test_new, gbr.predict(X_test_std))\n",
    "print(\"The mean squared error (MSE) on test set: {:.4f}\".format(mse))"
   ]
  },
  {
   "cell_type": "code",
   "execution_count": null,
   "id": "57dbdea1",
   "metadata": {},
   "outputs": [],
   "source": []
  },
  {
   "cell_type": "code",
   "execution_count": 80,
   "id": "58f46649",
   "metadata": {},
   "outputs": [
    {
     "data": {
      "text/html": [
       "<div>\n",
       "<style scoped>\n",
       "    .dataframe tbody tr th:only-of-type {\n",
       "        vertical-align: middle;\n",
       "    }\n",
       "\n",
       "    .dataframe tbody tr th {\n",
       "        vertical-align: top;\n",
       "    }\n",
       "\n",
       "    .dataframe thead th {\n",
       "        text-align: right;\n",
       "    }\n",
       "</style>\n",
       "<table border=\"1\" class=\"dataframe\">\n",
       "  <thead>\n",
       "    <tr style=\"text-align: right;\">\n",
       "      <th></th>\n",
       "      <th>Price</th>\n",
       "      <th>Year</th>\n",
       "      <th>Mileage</th>\n",
       "      <th>City</th>\n",
       "      <th>State</th>\n",
       "      <th>Make</th>\n",
       "      <th>Model</th>\n",
       "      <th>Usage_level</th>\n",
       "      <th>City_imporatnce</th>\n",
       "    </tr>\n",
       "  </thead>\n",
       "  <tbody>\n",
       "    <tr>\n",
       "      <th>97</th>\n",
       "      <td>8572</td>\n",
       "      <td>2004</td>\n",
       "      <td>51293</td>\n",
       "      <td>FAIRFAX</td>\n",
       "      <td>VA</td>\n",
       "      <td>ACURA</td>\n",
       "      <td>TSXAUTOMATIC</td>\n",
       "      <td>Medium</td>\n",
       "      <td>Low</td>\n",
       "    </tr>\n",
       "    <tr>\n",
       "      <th>590</th>\n",
       "      <td>8998</td>\n",
       "      <td>2005</td>\n",
       "      <td>73406</td>\n",
       "      <td>BURLINGTON</td>\n",
       "      <td>MA</td>\n",
       "      <td>ACURA</td>\n",
       "      <td>TSXAUTOMATIC</td>\n",
       "      <td>Medium</td>\n",
       "      <td>Low</td>\n",
       "    </tr>\n",
       "    <tr>\n",
       "      <th>694</th>\n",
       "      <td>7488</td>\n",
       "      <td>2005</td>\n",
       "      <td>93940</td>\n",
       "      <td>LAKE PARK</td>\n",
       "      <td>FL</td>\n",
       "      <td>ACURA</td>\n",
       "      <td>TSXAUTOMATIC</td>\n",
       "      <td>High</td>\n",
       "      <td>Low</td>\n",
       "    </tr>\n",
       "    <tr>\n",
       "      <th>781</th>\n",
       "      <td>5995</td>\n",
       "      <td>2005</td>\n",
       "      <td>105743</td>\n",
       "      <td>RIVERDALE</td>\n",
       "      <td>NJ</td>\n",
       "      <td>ACURA</td>\n",
       "      <td>TSXAUTOMATIC</td>\n",
       "      <td>High</td>\n",
       "      <td>Low</td>\n",
       "    </tr>\n",
       "    <tr>\n",
       "      <th>816</th>\n",
       "      <td>7990</td>\n",
       "      <td>2005</td>\n",
       "      <td>82451</td>\n",
       "      <td>DOWNTINGTOWN</td>\n",
       "      <td>PA</td>\n",
       "      <td>ACURA</td>\n",
       "      <td>TSXAUTOMATIC</td>\n",
       "      <td>High</td>\n",
       "      <td>Low</td>\n",
       "    </tr>\n",
       "    <tr>\n",
       "      <th>...</th>\n",
       "      <td>...</td>\n",
       "      <td>...</td>\n",
       "      <td>...</td>\n",
       "      <td>...</td>\n",
       "      <td>...</td>\n",
       "      <td>...</td>\n",
       "      <td>...</td>\n",
       "      <td>...</td>\n",
       "      <td>...</td>\n",
       "    </tr>\n",
       "    <tr>\n",
       "      <th>1180942</th>\n",
       "      <td>2999</td>\n",
       "      <td>1997</td>\n",
       "      <td>127233</td>\n",
       "      <td>TUCSON</td>\n",
       "      <td>AZ</td>\n",
       "      <td>VOLVO</td>\n",
       "      <td>8504DR</td>\n",
       "      <td>High</td>\n",
       "      <td>Low</td>\n",
       "    </tr>\n",
       "    <tr>\n",
       "      <th>1180943</th>\n",
       "      <td>4950</td>\n",
       "      <td>2004</td>\n",
       "      <td>108042</td>\n",
       "      <td>SWANNANOA</td>\n",
       "      <td>NC</td>\n",
       "      <td>VOLVO</td>\n",
       "      <td>V702.5L</td>\n",
       "      <td>High</td>\n",
       "      <td>Low</td>\n",
       "    </tr>\n",
       "    <tr>\n",
       "      <th>1180988</th>\n",
       "      <td>3900</td>\n",
       "      <td>1998</td>\n",
       "      <td>125031</td>\n",
       "      <td>CASSELBERRY</td>\n",
       "      <td>FL</td>\n",
       "      <td>VOLVO</td>\n",
       "      <td>S704DR</td>\n",
       "      <td>High</td>\n",
       "      <td>Low</td>\n",
       "    </tr>\n",
       "    <tr>\n",
       "      <th>1181000</th>\n",
       "      <td>5811</td>\n",
       "      <td>2004</td>\n",
       "      <td>134126</td>\n",
       "      <td>NEW BERN</td>\n",
       "      <td>NC</td>\n",
       "      <td>VOLVO</td>\n",
       "      <td>V70XC70</td>\n",
       "      <td>High</td>\n",
       "      <td>Low</td>\n",
       "    </tr>\n",
       "    <tr>\n",
       "      <th>1181035</th>\n",
       "      <td>4995</td>\n",
       "      <td>1999</td>\n",
       "      <td>104690</td>\n",
       "      <td>NEWPORT NEWS</td>\n",
       "      <td>VA</td>\n",
       "      <td>VOLVO</td>\n",
       "      <td>V70XC</td>\n",
       "      <td>High</td>\n",
       "      <td>Low</td>\n",
       "    </tr>\n",
       "  </tbody>\n",
       "</table>\n",
       "<p>31917 rows × 9 columns</p>\n",
       "</div>"
      ],
      "text/plain": [
       "         Price  Year  Mileage          City State   Make         Model  \\\n",
       "97        8572  2004    51293       FAIRFAX    VA  ACURA  TSXAUTOMATIC   \n",
       "590       8998  2005    73406    BURLINGTON    MA  ACURA  TSXAUTOMATIC   \n",
       "694       7488  2005    93940     LAKE PARK    FL  ACURA  TSXAUTOMATIC   \n",
       "781       5995  2005   105743     RIVERDALE    NJ  ACURA  TSXAUTOMATIC   \n",
       "816       7990  2005    82451  DOWNTINGTOWN    PA  ACURA  TSXAUTOMATIC   \n",
       "...        ...   ...      ...           ...   ...    ...           ...   \n",
       "1180942   2999  1997   127233        TUCSON    AZ  VOLVO        8504DR   \n",
       "1180943   4950  2004   108042     SWANNANOA    NC  VOLVO       V702.5L   \n",
       "1180988   3900  1998   125031   CASSELBERRY    FL  VOLVO        S704DR   \n",
       "1181000   5811  2004   134126      NEW BERN    NC  VOLVO       V70XC70   \n",
       "1181035   4995  1999   104690  NEWPORT NEWS    VA  VOLVO         V70XC   \n",
       "\n",
       "        Usage_level City_imporatnce  \n",
       "97           Medium             Low  \n",
       "590          Medium             Low  \n",
       "694            High             Low  \n",
       "781            High             Low  \n",
       "816            High             Low  \n",
       "...             ...             ...  \n",
       "1180942        High             Low  \n",
       "1180943        High             Low  \n",
       "1180988        High             Low  \n",
       "1181000        High             Low  \n",
       "1181035        High             Low  \n",
       "\n",
       "[31917 rows x 9 columns]"
      ]
     },
     "execution_count": 80,
     "metadata": {},
     "output_type": "execute_result"
    }
   ],
   "source": [
    "data4_old"
   ]
  },
  {
   "cell_type": "code",
   "execution_count": 81,
   "id": "8467dd57",
   "metadata": {},
   "outputs": [],
   "source": [
    "df2 = data4_old[['Price','Year','Mileage']]"
   ]
  },
  {
   "cell_type": "code",
   "execution_count": 82,
   "id": "1417e2bf",
   "metadata": {},
   "outputs": [],
   "source": [
    "df3 = data4_old[['City','State','Make','Model','Usage_level','City_imporatnce']].apply(le.fit_transform)"
   ]
  },
  {
   "cell_type": "code",
   "execution_count": 83,
   "id": "ff4d074f",
   "metadata": {},
   "outputs": [],
   "source": [
    "data6_old = pd.concat([df2,df3],axis=1)"
   ]
  },
  {
   "cell_type": "code",
   "execution_count": 84,
   "id": "3af6a566",
   "metadata": {},
   "outputs": [],
   "source": [
    "#for old dataset\n",
    "X = data6_old.drop(columns = [\"Price\"])\n",
    "Y = data6_old.Price\n",
    "train_old, test_old, y_train_old, y_test_old = train_test_split(X, Y, test_size = 0.20, shuffle= True)"
   ]
  },
  {
   "cell_type": "markdown",
   "id": "dd362e55",
   "metadata": {},
   "source": [
    "# gradient boost regression for old cars "
   ]
  },
  {
   "cell_type": "code",
   "execution_count": 85,
   "id": "f44a3002",
   "metadata": {},
   "outputs": [
    {
     "name": "stdout",
     "output_type": "stream",
     "text": [
      "R^2: 0.549\n",
      "The mean squared error (MSE) on test set: 38783657.2233\n"
     ]
    }
   ],
   "source": [
    "sc = StandardScaler()\n",
    "X_train_std1 = sc.fit_transform(train_old)\n",
    "X_test_std1 = sc.transform(test_old)\n",
    "#\n",
    "# Hyperparameters for GradientBoostingRegressor\n",
    "#\n",
    "gbr_params = {'n_estimators': 1000,\n",
    "          'max_depth': 3,\n",
    "          'min_samples_split': 5,\n",
    "          'learning_rate': 0.01,\n",
    "          'loss': 'ls'}\n",
    "#\n",
    "# Create an instance of gradient boosting regressor\n",
    "#\n",
    "gbr = GradientBoostingRegressor(**gbr_params)\n",
    "#\n",
    "# Fit the model\n",
    "#\n",
    "gbr.fit(X_train_std1, y_train_old)\n",
    "#\n",
    "# Print Coefficient of determination R^2\n",
    "#\n",
    "print(\"R^2: %.3f\" % gbr.score(X_test_std1, y_test_old))\n",
    "#\n",
    "# Create the mean squared error\n",
    "#\n",
    "mse = mean_squared_error(y_test_old, gbr.predict(X_test_std1))\n",
    "print(\"The mean squared error (MSE) on test set: {:.4f}\".format(mse))"
   ]
  },
  {
   "cell_type": "code",
   "execution_count": 86,
   "id": "efa4c27d",
   "metadata": {},
   "outputs": [],
   "source": [
    "### saving the model\n",
    "import pickle \n",
    "pickle_out = open(\"classifier.pkl\", mode = \"wb\") \n",
    "pickle.dump(gbr, pickle_out) \n",
    "pickle_out.close()"
   ]
  },
  {
   "cell_type": "code",
   "execution_count": 87,
   "id": "d3d6b55d",
   "metadata": {},
   "outputs": [
    {
     "name": "stdout",
     "output_type": "stream",
     "text": [
      "Requirement already satisfied: streamlit in c:\\users\\india\\anaconda3\\lib\\site-packages (1.9.0)\n",
      "Requirement already satisfied: requests in c:\\users\\india\\anaconda3\\lib\\site-packages (from streamlit) (2.26.0)\n",
      "Requirement already satisfied: protobuf!=3.11,>=3.6.0 in c:\\users\\india\\anaconda3\\lib\\site-packages (from streamlit) (3.19.4)\n",
      "Requirement already satisfied: python-dateutil in c:\\users\\india\\anaconda3\\lib\\site-packages (from streamlit) (2.8.2)\n",
      "Requirement already satisfied: pyarrow in c:\\users\\india\\anaconda3\\lib\\site-packages (from streamlit) (7.0.0)\n",
      "Requirement already satisfied: packaging in c:\\users\\india\\anaconda3\\lib\\site-packages (from streamlit) (21.0)\n",
      "Requirement already satisfied: pillow>=6.2.0 in c:\\users\\india\\anaconda3\\lib\\site-packages (from streamlit) (8.4.0)\n",
      "Requirement already satisfied: blinker in c:\\users\\india\\anaconda3\\lib\\site-packages (from streamlit) (1.4)\n",
      "Requirement already satisfied: pympler>=0.9 in c:\\users\\india\\anaconda3\\lib\\site-packages (from streamlit) (1.0.1)\n",
      "Requirement already satisfied: gitpython!=3.1.19 in c:\\users\\india\\anaconda3\\lib\\site-packages (from streamlit) (3.1.27)\n",
      "Requirement already satisfied: pandas>=0.21.0 in c:\\users\\india\\anaconda3\\lib\\site-packages (from streamlit) (1.3.4)\n",
      "Requirement already satisfied: tzlocal in c:\\users\\india\\anaconda3\\lib\\site-packages (from streamlit) (4.2)\n",
      "Requirement already satisfied: tornado>=5.0 in c:\\users\\india\\anaconda3\\lib\\site-packages (from streamlit) (6.1)\n",
      "Requirement already satisfied: altair>=3.2.0 in c:\\users\\india\\anaconda3\\lib\\site-packages (from streamlit) (4.2.0)\n",
      "Requirement already satisfied: pydeck>=0.1.dev5 in c:\\users\\india\\anaconda3\\lib\\site-packages (from streamlit) (0.7.1)\n",
      "Requirement already satisfied: watchdog in c:\\users\\india\\anaconda3\\lib\\site-packages (from streamlit) (2.1.3)\n",
      "Requirement already satisfied: click<8.1,>=7.0 in c:\\users\\india\\anaconda3\\lib\\site-packages (from streamlit) (8.0.3)\n",
      "Requirement already satisfied: semver in c:\\users\\india\\anaconda3\\lib\\site-packages (from streamlit) (2.13.0)\n",
      "Requirement already satisfied: importlib-metadata>=1.4 in c:\\users\\india\\anaconda3\\lib\\site-packages (from streamlit) (4.8.1)\n",
      "Requirement already satisfied: toml in c:\\users\\india\\anaconda3\\lib\\site-packages (from streamlit) (0.10.2)\n",
      "Requirement already satisfied: numpy in c:\\users\\india\\anaconda3\\lib\\site-packages (from streamlit) (1.20.3)\n",
      "Requirement already satisfied: attrs in c:\\users\\india\\anaconda3\\lib\\site-packages (from streamlit) (21.2.0)\n",
      "Requirement already satisfied: validators in c:\\users\\india\\anaconda3\\lib\\site-packages (from streamlit) (0.19.0)\n",
      "Requirement already satisfied: cachetools>=4.0 in c:\\users\\india\\anaconda3\\lib\\site-packages (from streamlit) (5.0.0)\n",
      "Requirement already satisfied: entrypoints in c:\\users\\india\\anaconda3\\lib\\site-packages (from altair>=3.2.0->streamlit) (0.3)\n",
      "Requirement already satisfied: jsonschema>=3.0 in c:\\users\\india\\anaconda3\\lib\\site-packages (from altair>=3.2.0->streamlit) (3.2.0)\n",
      "Requirement already satisfied: toolz in c:\\users\\india\\anaconda3\\lib\\site-packages (from altair>=3.2.0->streamlit) (0.11.1)\n",
      "Requirement already satisfied: jinja2 in c:\\users\\india\\anaconda3\\lib\\site-packages (from altair>=3.2.0->streamlit) (2.11.3)\n",
      "Requirement already satisfied: colorama in c:\\users\\india\\anaconda3\\lib\\site-packages (from click<8.1,>=7.0->streamlit) (0.4.4)Note: you may need to restart the kernel to use updated packages.\n",
      "Requirement already satisfied: gitdb<5,>=4.0.1 in c:\\users\\india\\anaconda3\\lib\\site-packages (from gitpython!=3.1.19->streamlit) (4.0.9)\n",
      "Requirement already satisfied: smmap<6,>=3.0.1 in c:\\users\\india\\anaconda3\\lib\\site-packages (from gitdb<5,>=4.0.1->gitpython!=3.1.19->streamlit) (5.0.0)\n",
      "Requirement already satisfied: zipp>=0.5 in c:\\users\\india\\anaconda3\\lib\\site-packages (from importlib-metadata>=1.4->streamlit) (3.6.0)\n",
      "Requirement already satisfied: pyrsistent>=0.14.0 in c:\\users\\india\\anaconda3\\lib\\site-packages (from jsonschema>=3.0->altair>=3.2.0->streamlit) (0.18.0)\n",
      "Requirement already satisfied: setuptools in c:\\users\\india\\anaconda3\\lib\\site-packages (from jsonschema>=3.0->altair>=3.2.0->streamlit) (58.0.4)\n",
      "Requirement already satisfied: six>=1.11.0 in c:\\users\\india\\anaconda3\\lib\\site-packages (from jsonschema>=3.0->altair>=3.2.0->streamlit) (1.16.0)\n",
      "Requirement already satisfied: pytz>=2017.3 in c:\\users\\india\\anaconda3\\lib\\site-packages (from pandas>=0.21.0->streamlit) (2021.3)\n",
      "Requirement already satisfied: traitlets>=4.3.2 in c:\\users\\india\\anaconda3\\lib\\site-packages (from pydeck>=0.1.dev5->streamlit) (5.1.0)\n",
      "Requirement already satisfied: ipywidgets>=7.0.0 in c:\\users\\india\\anaconda3\\lib\\site-packages (from pydeck>=0.1.dev5->streamlit) (7.6.5)\n",
      "Requirement already satisfied: ipykernel>=5.1.2 in c:\\users\\india\\anaconda3\\lib\\site-packages (from pydeck>=0.1.dev5->streamlit) (6.4.1)\n",
      "Requirement already satisfied: matplotlib-inline<0.2.0,>=0.1.0 in c:\\users\\india\\anaconda3\\lib\\site-packages (from ipykernel>=5.1.2->pydeck>=0.1.dev5->streamlit) (0.1.2)\n",
      "Requirement already satisfied: debugpy<2.0,>=1.0.0 in c:\\users\\india\\anaconda3\\lib\\site-packages (from ipykernel>=5.1.2->pydeck>=0.1.dev5->streamlit) (1.4.1)\n",
      "Requirement already satisfied: jupyter-client<8.0 in c:\\users\\india\\anaconda3\\lib\\site-packages (from ipykernel>=5.1.2->pydeck>=0.1.dev5->streamlit) (6.1.12)\n",
      "Requirement already satisfied: ipython<8.0,>=7.23.1 in c:\\users\\india\\anaconda3\\lib\\site-packages (from ipykernel>=5.1.2->pydeck>=0.1.dev5->streamlit) (7.29.0)\n",
      "Requirement already satisfied: ipython-genutils in c:\\users\\india\\anaconda3\\lib\\site-packages (from ipykernel>=5.1.2->pydeck>=0.1.dev5->streamlit) (0.2.0)\n",
      "Requirement already satisfied: prompt-toolkit!=3.0.0,!=3.0.1,<3.1.0,>=2.0.0 in c:\\users\\india\\anaconda3\\lib\\site-packages (from ipython<8.0,>=7.23.1->ipykernel>=5.1.2->pydeck>=0.1.dev5->streamlit) (3.0.20)\n",
      "Requirement already satisfied: decorator in c:\\users\\india\\anaconda3\\lib\\site-packages (from ipython<8.0,>=7.23.1->ipykernel>=5.1.2->pydeck>=0.1.dev5->streamlit) (5.1.0)\n",
      "Requirement already satisfied: pickleshare in c:\\users\\india\\anaconda3\\lib\\site-packages (from ipython<8.0,>=7.23.1->ipykernel>=5.1.2->pydeck>=0.1.dev5->streamlit) (0.7.5)\n",
      "Requirement already satisfied: backcall in c:\\users\\india\\anaconda3\\lib\\site-packages (from ipython<8.0,>=7.23.1->ipykernel>=5.1.2->pydeck>=0.1.dev5->streamlit) (0.2.0)\n",
      "Requirement already satisfied: jedi>=0.16 in c:\\users\\india\\anaconda3\\lib\\site-packages (from ipython<8.0,>=7.23.1->ipykernel>=5.1.2->pydeck>=0.1.dev5->streamlit) (0.18.0)\n",
      "Requirement already satisfied: pygments in c:\\users\\india\\anaconda3\\lib\\site-packages (from ipython<8.0,>=7.23.1->ipykernel>=5.1.2->pydeck>=0.1.dev5->streamlit) (2.10.0)\n",
      "Requirement already satisfied: jupyterlab-widgets>=1.0.0 in c:\\users\\india\\anaconda3\\lib\\site-packages (from ipywidgets>=7.0.0->pydeck>=0.1.dev5->streamlit) (1.0.0)\n",
      "Requirement already satisfied: nbformat>=4.2.0 in c:\\users\\india\\anaconda3\\lib\\site-packages (from ipywidgets>=7.0.0->pydeck>=0.1.dev5->streamlit) (5.1.3)\n",
      "Requirement already satisfied: widgetsnbextension~=3.5.0 in c:\\users\\india\\anaconda3\\lib\\site-packages (from ipywidgets>=7.0.0->pydeck>=0.1.dev5->streamlit) (3.5.1)\n",
      "Requirement already satisfied: parso<0.9.0,>=0.8.0 in c:\\users\\india\\anaconda3\\lib\\site-packages (from jedi>=0.16->ipython<8.0,>=7.23.1->ipykernel>=5.1.2->pydeck>=0.1.dev5->streamlit) (0.8.2)\n",
      "Requirement already satisfied: MarkupSafe>=0.23 in c:\\users\\india\\anaconda3\\lib\\site-packages (from jinja2->altair>=3.2.0->streamlit) (2.0.1)\n",
      "Requirement already satisfied: pyzmq>=13 in c:\\users\\india\\anaconda3\\lib\\site-packages (from jupyter-client<8.0->ipykernel>=5.1.2->pydeck>=0.1.dev5->streamlit) (22.2.1)\n",
      "Requirement already satisfied: jupyter-core>=4.6.0 in c:\\users\\india\\anaconda3\\lib\\site-packages (from jupyter-client<8.0->ipykernel>=5.1.2->pydeck>=0.1.dev5->streamlit) (4.8.1)\n",
      "Requirement already satisfied: pywin32>=1.0 in c:\\users\\india\\anaconda3\\lib\\site-packages (from jupyter-core>=4.6.0->jupyter-client<8.0->ipykernel>=5.1.2->pydeck>=0.1.dev5->streamlit) (228)\n",
      "Requirement already satisfied: wcwidth in c:\\users\\india\\anaconda3\\lib\\site-packages (from prompt-toolkit!=3.0.0,!=3.0.1,<3.1.0,>=2.0.0->ipython<8.0,>=7.23.1->ipykernel>=5.1.2->pydeck>=0.1.dev5->streamlit) (0.2.5)\n",
      "Requirement already satisfied: notebook>=4.4.1 in c:\\users\\india\\anaconda3\\lib\\site-packages (from widgetsnbextension~=3.5.0->ipywidgets>=7.0.0->pydeck>=0.1.dev5->streamlit) (6.4.5)\n",
      "\n"
     ]
    },
    {
     "name": "stdout",
     "output_type": "stream",
     "text": [
      "Requirement already satisfied: terminado>=0.8.3 in c:\\users\\india\\anaconda3\\lib\\site-packages (from notebook>=4.4.1->widgetsnbextension~=3.5.0->ipywidgets>=7.0.0->pydeck>=0.1.dev5->streamlit) (0.9.4)\n",
      "Requirement already satisfied: argon2-cffi in c:\\users\\india\\anaconda3\\lib\\site-packages (from notebook>=4.4.1->widgetsnbextension~=3.5.0->ipywidgets>=7.0.0->pydeck>=0.1.dev5->streamlit) (20.1.0)\n",
      "Requirement already satisfied: nbconvert in c:\\users\\india\\anaconda3\\lib\\site-packages (from notebook>=4.4.1->widgetsnbextension~=3.5.0->ipywidgets>=7.0.0->pydeck>=0.1.dev5->streamlit) (6.1.0)\n",
      "Requirement already satisfied: Send2Trash>=1.5.0 in c:\\users\\india\\anaconda3\\lib\\site-packages (from notebook>=4.4.1->widgetsnbextension~=3.5.0->ipywidgets>=7.0.0->pydeck>=0.1.dev5->streamlit) (1.8.0)\n",
      "Requirement already satisfied: prometheus-client in c:\\users\\india\\anaconda3\\lib\\site-packages (from notebook>=4.4.1->widgetsnbextension~=3.5.0->ipywidgets>=7.0.0->pydeck>=0.1.dev5->streamlit) (0.11.0)\n",
      "Requirement already satisfied: pywinpty>=0.5 in c:\\users\\india\\anaconda3\\lib\\site-packages (from terminado>=0.8.3->notebook>=4.4.1->widgetsnbextension~=3.5.0->ipywidgets>=7.0.0->pydeck>=0.1.dev5->streamlit) (0.5.7)\n",
      "Requirement already satisfied: cffi>=1.0.0 in c:\\users\\india\\anaconda3\\lib\\site-packages (from argon2-cffi->notebook>=4.4.1->widgetsnbextension~=3.5.0->ipywidgets>=7.0.0->pydeck>=0.1.dev5->streamlit) (1.14.6)\n",
      "Requirement already satisfied: pycparser in c:\\users\\india\\anaconda3\\lib\\site-packages (from cffi>=1.0.0->argon2-cffi->notebook>=4.4.1->widgetsnbextension~=3.5.0->ipywidgets>=7.0.0->pydeck>=0.1.dev5->streamlit) (2.20)\n",
      "Requirement already satisfied: defusedxml in c:\\users\\india\\anaconda3\\lib\\site-packages (from nbconvert->notebook>=4.4.1->widgetsnbextension~=3.5.0->ipywidgets>=7.0.0->pydeck>=0.1.dev5->streamlit) (0.7.1)\n",
      "Requirement already satisfied: nbclient<0.6.0,>=0.5.0 in c:\\users\\india\\anaconda3\\lib\\site-packages (from nbconvert->notebook>=4.4.1->widgetsnbextension~=3.5.0->ipywidgets>=7.0.0->pydeck>=0.1.dev5->streamlit) (0.5.3)\n",
      "Requirement already satisfied: mistune<2,>=0.8.1 in c:\\users\\india\\anaconda3\\lib\\site-packages (from nbconvert->notebook>=4.4.1->widgetsnbextension~=3.5.0->ipywidgets>=7.0.0->pydeck>=0.1.dev5->streamlit) (0.8.4)\n",
      "Requirement already satisfied: testpath in c:\\users\\india\\anaconda3\\lib\\site-packages (from nbconvert->notebook>=4.4.1->widgetsnbextension~=3.5.0->ipywidgets>=7.0.0->pydeck>=0.1.dev5->streamlit) (0.5.0)\n",
      "Requirement already satisfied: pandocfilters>=1.4.1 in c:\\users\\india\\anaconda3\\lib\\site-packages (from nbconvert->notebook>=4.4.1->widgetsnbextension~=3.5.0->ipywidgets>=7.0.0->pydeck>=0.1.dev5->streamlit) (1.4.3)\n",
      "Requirement already satisfied: jupyterlab-pygments in c:\\users\\india\\anaconda3\\lib\\site-packages (from nbconvert->notebook>=4.4.1->widgetsnbextension~=3.5.0->ipywidgets>=7.0.0->pydeck>=0.1.dev5->streamlit) (0.1.2)\n",
      "Requirement already satisfied: bleach in c:\\users\\india\\anaconda3\\lib\\site-packages (from nbconvert->notebook>=4.4.1->widgetsnbextension~=3.5.0->ipywidgets>=7.0.0->pydeck>=0.1.dev5->streamlit) (4.0.0)\n",
      "Requirement already satisfied: nest-asyncio in c:\\users\\india\\anaconda3\\lib\\site-packages (from nbclient<0.6.0,>=0.5.0->nbconvert->notebook>=4.4.1->widgetsnbextension~=3.5.0->ipywidgets>=7.0.0->pydeck>=0.1.dev5->streamlit) (1.5.1)\n",
      "Requirement already satisfied: async-generator in c:\\users\\india\\anaconda3\\lib\\site-packages (from nbclient<0.6.0,>=0.5.0->nbconvert->notebook>=4.4.1->widgetsnbextension~=3.5.0->ipywidgets>=7.0.0->pydeck>=0.1.dev5->streamlit) (1.10)\n",
      "Requirement already satisfied: webencodings in c:\\users\\india\\anaconda3\\lib\\site-packages (from bleach->nbconvert->notebook>=4.4.1->widgetsnbextension~=3.5.0->ipywidgets>=7.0.0->pydeck>=0.1.dev5->streamlit) (0.5.1)\n",
      "Requirement already satisfied: pyparsing>=2.0.2 in c:\\users\\india\\anaconda3\\lib\\site-packages (from packaging->streamlit) (3.0.4)\n",
      "Requirement already satisfied: certifi>=2017.4.17 in c:\\users\\india\\anaconda3\\lib\\site-packages (from requests->streamlit) (2022.5.18.1)\n",
      "Requirement already satisfied: urllib3<1.27,>=1.21.1 in c:\\users\\india\\anaconda3\\lib\\site-packages (from requests->streamlit) (1.26.7)\n",
      "Requirement already satisfied: idna<4,>=2.5 in c:\\users\\india\\anaconda3\\lib\\site-packages (from requests->streamlit) (3.2)\n",
      "Requirement already satisfied: charset-normalizer~=2.0.0 in c:\\users\\india\\anaconda3\\lib\\site-packages (from requests->streamlit) (2.0.4)\n",
      "Requirement already satisfied: tzdata in c:\\users\\india\\anaconda3\\lib\\site-packages (from tzlocal->streamlit) (2022.1)\n",
      "Requirement already satisfied: pytz-deprecation-shim in c:\\users\\india\\anaconda3\\lib\\site-packages (from tzlocal->streamlit) (0.1.0.post0)\n"
     ]
    }
   ],
   "source": [
    "pip install streamlit"
   ]
  },
  {
   "cell_type": "code",
   "execution_count": null,
   "id": "584d9af0",
   "metadata": {},
   "outputs": [],
   "source": []
  },
  {
   "cell_type": "code",
   "execution_count": 88,
   "id": "90d1ad1c",
   "metadata": {},
   "outputs": [
    {
     "name": "stdout",
     "output_type": "stream",
     "text": [
      "Overwriting app.py\n"
     ]
    }
   ],
   "source": [
    "%%writefile app.py\n",
    " \n",
    "import pickle\n",
    "import streamlit as st\n",
    " \n",
    "# loading the trained model\n",
    "pickle_in = open('classifier.pkl', 'rb') \n",
    "classifier = pickle.load(pickle_in)\n",
    " \n",
    "@st.cache(suppress_st_warning=True)\n",
    "\n",
    "# defining the function which will make the prediction using the data which the user inputs\n",
    "\n",
    "  \n",
    "         \n",
    "# this is the main function in which we define our webpage  \n",
    "def main():       \n",
    "    # front end elements of the web page \n",
    "    html_temp = \"\"\" \n",
    "    <div style =\"background-color:yellow;padding:13px\"> \n",
    "    <h1 style =\"color:black;text-align:center;\">Streamlit Car price prediction App</h1> \n",
    "    </div> \n",
    "    \"\"\"\n",
    "      \n",
    "    # display the front end aspect\n",
    "    st.markdown(html_temp, unsafe_allow_html = True) \n",
    "      \n",
    "    # following lines create boxes in which user can enter data required to make prediction \n",
    "         \n",
    "    Year = st.number_input('In which year car was purchased ?',2006, 2020, step=1, key =\"Year\")\n",
    "    Years_old = 2020-Year        \n",
    "    Mileage = st.number_input(\"Mileage\")\n",
    "    Make = st.selectbox('What is the make of the car ?',( 'FORD','CHEVROLET','TOYOTA','NISSAN','HONDA','JEEP','HYUNDAI','DODGE','KIA','GMC','MERCEDES-BENZ','VOLKSWAGEN','BMW,LEXUS'), key='Make')\n",
    "    Model = st.selectbox(\"Model of the car\",('SILVERADO','GRAND','ACCORD','ALTIMA2.S','F-1504\\DJ','SIERRA','CIVIC','WRANGLER','ZETTA'),key=\"Model\")\n",
    "    City = st.selectbox(\"Select city\",('HOUSTAN','SANANEONIO','LOUIS VILLE','AUSTIN','MIAMY','JACKSON VILLE','ORLANDO'),key =\"City\")\n",
    "    State = st.selectbox(\"select State\",('TX','CA','FL','GA','IL','NC','VA','PA','NY','NJ','OH','AZ','WA','CO','TN','MA','MD','MO','IN','KY'),key =\"State\")\n",
    "    result =\"\"\n",
    "      \n",
    "    # when 'Predict' is clicked, make the prediction and store it \n",
    "    if st.button(\"Predict Price\"): \n",
    "        result = prediction(Year,Mileage,City,State,Make,Model,Usage_level,City_imporatnce)\n",
    "         \n",
    "             \n",
    "if __name__=='__main__': \n",
    "    main()         "
   ]
  },
  {
   "cell_type": "code",
   "execution_count": null,
   "id": "c604af57",
   "metadata": {},
   "outputs": [],
   "source": []
  },
  {
   "cell_type": "code",
   "execution_count": null,
   "id": "c0f28aa2",
   "metadata": {},
   "outputs": [],
   "source": []
  },
  {
   "cell_type": "code",
   "execution_count": null,
   "id": "2a62315f",
   "metadata": {},
   "outputs": [],
   "source": []
  },
  {
   "cell_type": "code",
   "execution_count": null,
   "id": "f06e63d0",
   "metadata": {},
   "outputs": [],
   "source": []
  },
  {
   "cell_type": "code",
   "execution_count": null,
   "id": "9f48d404",
   "metadata": {},
   "outputs": [],
   "source": []
  },
  {
   "cell_type": "code",
   "execution_count": null,
   "id": "6d447456",
   "metadata": {},
   "outputs": [],
   "source": []
  },
  {
   "cell_type": "code",
   "execution_count": null,
   "id": "4ed38be3",
   "metadata": {},
   "outputs": [],
   "source": []
  },
  {
   "cell_type": "code",
   "execution_count": null,
   "id": "c42cf32c",
   "metadata": {},
   "outputs": [],
   "source": []
  }
 ],
 "metadata": {
  "kernelspec": {
   "display_name": "Python 3 (ipykernel)",
   "language": "python",
   "name": "python3"
  },
  "language_info": {
   "codemirror_mode": {
    "name": "ipython",
    "version": 3
   },
   "file_extension": ".py",
   "mimetype": "text/x-python",
   "name": "python",
   "nbconvert_exporter": "python",
   "pygments_lexer": "ipython3",
   "version": "3.9.7"
  }
 },
 "nbformat": 4,
 "nbformat_minor": 5
}
